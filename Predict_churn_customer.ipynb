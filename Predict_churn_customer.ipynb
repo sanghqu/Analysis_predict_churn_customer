{
 "cells": [
  {
   "cell_type": "code",
   "execution_count": null,
   "metadata": {},
   "outputs": [],
   "source": [
    "import pandas as pd\n",
    "import numpy as np\n",
    "import matplotlib.pyplot as plt\n",
    "%matplotlib inline\n",
    "import seaborn as sns\n",
    "import warnings\n",
    "warnings.filterwarnings('ignore')"
   ]
  },
  {
   "cell_type": "code",
   "execution_count": 2,
   "metadata": {},
   "outputs": [],
   "source": [
    "df1= pd.read_excel('ThinkRobots_2019.xlsx', sheet_name='Customer Segments')\n",
    "df2= pd.read_excel('ThinkRobots_2019.xlsx', sheet_name='Customer Names')\n",
    "df3= pd.read_excel('ThinkRobots_2019.xlsx', sheet_name='Billing Status')\n",
    "df4= pd.read_excel('ThinkRobots_2019.xlsx',sheet_name='Major Product Changes')\n"
   ]
  },
  {
   "cell_type": "code",
   "execution_count": 3,
   "metadata": {},
   "outputs": [
    {
     "data": {
      "text/html": [
       "<div>\n",
       "<style scoped>\n",
       "    .dataframe tbody tr th:only-of-type {\n",
       "        vertical-align: middle;\n",
       "    }\n",
       "\n",
       "    .dataframe tbody tr th {\n",
       "        vertical-align: top;\n",
       "    }\n",
       "\n",
       "    .dataframe thead th {\n",
       "        text-align: right;\n",
       "    }\n",
       "</style>\n",
       "<table border=\"1\" class=\"dataframe\">\n",
       "  <thead>\n",
       "    <tr style=\"text-align: right;\">\n",
       "      <th></th>\n",
       "      <th>Customer ID</th>\n",
       "      <th>Free Account Created Date</th>\n",
       "      <th>Last Seen</th>\n",
       "      <th>Session Count</th>\n",
       "      <th>Segment</th>\n",
       "      <th>Billing Account #</th>\n",
       "    </tr>\n",
       "  </thead>\n",
       "  <tbody>\n",
       "    <tr>\n",
       "      <th>0</th>\n",
       "      <td>1</td>\n",
       "      <td>2017-05-29</td>\n",
       "      <td>2019-04-05 08:02:32</td>\n",
       "      <td>1379</td>\n",
       "      <td>Marketing Segment 2</td>\n",
       "      <td>AX#93195</td>\n",
       "    </tr>\n",
       "    <tr>\n",
       "      <th>1</th>\n",
       "      <td>2</td>\n",
       "      <td>2017-12-17</td>\n",
       "      <td>2019-04-27 13:23:56</td>\n",
       "      <td>531</td>\n",
       "      <td>Marketing Segment 1</td>\n",
       "      <td>AX#20438</td>\n",
       "    </tr>\n",
       "    <tr>\n",
       "      <th>2</th>\n",
       "      <td>3</td>\n",
       "      <td>2017-01-30</td>\n",
       "      <td>2019-04-22 15:38:09</td>\n",
       "      <td>317</td>\n",
       "      <td>Marketing Segment 1</td>\n",
       "      <td>AX#60779</td>\n",
       "    </tr>\n",
       "    <tr>\n",
       "      <th>3</th>\n",
       "      <td>4</td>\n",
       "      <td>2017-02-03</td>\n",
       "      <td>2019-04-23 16:30:46</td>\n",
       "      <td>349</td>\n",
       "      <td>Marketing Segment 1</td>\n",
       "      <td>AX#91209</td>\n",
       "    </tr>\n",
       "    <tr>\n",
       "      <th>4</th>\n",
       "      <td>5</td>\n",
       "      <td>2017-03-18</td>\n",
       "      <td>2019-04-05 13:16:33</td>\n",
       "      <td>1158</td>\n",
       "      <td>Marketing Segment 2</td>\n",
       "      <td>AX#57000</td>\n",
       "    </tr>\n",
       "  </tbody>\n",
       "</table>\n",
       "</div>"
      ],
      "text/plain": [
       "   Customer ID Free Account Created Date           Last Seen  Session Count  \\\n",
       "0            1                2017-05-29 2019-04-05 08:02:32           1379   \n",
       "1            2                2017-12-17 2019-04-27 13:23:56            531   \n",
       "2            3                2017-01-30 2019-04-22 15:38:09            317   \n",
       "3            4                2017-02-03 2019-04-23 16:30:46            349   \n",
       "4            5                2017-03-18 2019-04-05 13:16:33           1158   \n",
       "\n",
       "               Segment Billing Account #  \n",
       "0  Marketing Segment 2          AX#93195  \n",
       "1  Marketing Segment 1          AX#20438  \n",
       "2  Marketing Segment 1          AX#60779  \n",
       "3  Marketing Segment 1          AX#91209  \n",
       "4  Marketing Segment 2          AX#57000  "
      ]
     },
     "metadata": {},
     "output_type": "display_data"
    },
    {
     "data": {
      "text/html": [
       "<div>\n",
       "<style scoped>\n",
       "    .dataframe tbody tr th:only-of-type {\n",
       "        vertical-align: middle;\n",
       "    }\n",
       "\n",
       "    .dataframe tbody tr th {\n",
       "        vertical-align: top;\n",
       "    }\n",
       "\n",
       "    .dataframe thead th {\n",
       "        text-align: right;\n",
       "    }\n",
       "</style>\n",
       "<table border=\"1\" class=\"dataframe\">\n",
       "  <thead>\n",
       "    <tr style=\"text-align: right;\">\n",
       "      <th></th>\n",
       "      <th>Billing Account</th>\n",
       "      <th>Account Status</th>\n",
       "      <th>Upgraded Account Created Date</th>\n",
       "      <th>Upgraded Account Cancelled Date</th>\n",
       "      <th>Total Charges</th>\n",
       "    </tr>\n",
       "  </thead>\n",
       "  <tbody>\n",
       "    <tr>\n",
       "      <th>0</th>\n",
       "      <td>AX#10042</td>\n",
       "      <td>paying</td>\n",
       "      <td>2019-03-20</td>\n",
       "      <td>NaT</td>\n",
       "      <td>332.800000</td>\n",
       "    </tr>\n",
       "    <tr>\n",
       "      <th>1</th>\n",
       "      <td>AX#10114</td>\n",
       "      <td>paying</td>\n",
       "      <td>2019-01-17</td>\n",
       "      <td>NaT</td>\n",
       "      <td>451.133333</td>\n",
       "    </tr>\n",
       "    <tr>\n",
       "      <th>2</th>\n",
       "      <td>AX#10259</td>\n",
       "      <td>paying</td>\n",
       "      <td>2018-09-28</td>\n",
       "      <td>NaT</td>\n",
       "      <td>1886.800000</td>\n",
       "    </tr>\n",
       "    <tr>\n",
       "      <th>3</th>\n",
       "      <td>AX#10695</td>\n",
       "      <td>paying</td>\n",
       "      <td>2018-12-21</td>\n",
       "      <td>NaT</td>\n",
       "      <td>797.866667</td>\n",
       "    </tr>\n",
       "    <tr>\n",
       "      <th>4</th>\n",
       "      <td>AX#10855</td>\n",
       "      <td>paying</td>\n",
       "      <td>2019-04-01</td>\n",
       "      <td>NaT</td>\n",
       "      <td>189.000000</td>\n",
       "    </tr>\n",
       "  </tbody>\n",
       "</table>\n",
       "</div>"
      ],
      "text/plain": [
       "  Billing Account Account Status Upgraded Account Created Date  \\\n",
       "0        AX#10042         paying                    2019-03-20   \n",
       "1        AX#10114         paying                    2019-01-17   \n",
       "2        AX#10259         paying                    2018-09-28   \n",
       "3        AX#10695         paying                    2018-12-21   \n",
       "4        AX#10855         paying                    2019-04-01   \n",
       "\n",
       "  Upgraded Account Cancelled Date  Total Charges  \n",
       "0                             NaT     332.800000  \n",
       "1                             NaT     451.133333  \n",
       "2                             NaT    1886.800000  \n",
       "3                             NaT     797.866667  \n",
       "4                             NaT     189.000000  "
      ]
     },
     "metadata": {},
     "output_type": "display_data"
    },
    {
     "data": {
      "text/html": [
       "<div>\n",
       "<style scoped>\n",
       "    .dataframe tbody tr th:only-of-type {\n",
       "        vertical-align: middle;\n",
       "    }\n",
       "\n",
       "    .dataframe tbody tr th {\n",
       "        vertical-align: top;\n",
       "    }\n",
       "\n",
       "    .dataframe thead th {\n",
       "        text-align: right;\n",
       "    }\n",
       "</style>\n",
       "<table border=\"1\" class=\"dataframe\">\n",
       "  <thead>\n",
       "    <tr style=\"text-align: right;\">\n",
       "      <th></th>\n",
       "      <th>Customer ID</th>\n",
       "      <th>First Name</th>\n",
       "    </tr>\n",
       "  </thead>\n",
       "  <tbody>\n",
       "    <tr>\n",
       "      <th>0</th>\n",
       "      <td>1</td>\n",
       "      <td>Joshua</td>\n",
       "    </tr>\n",
       "    <tr>\n",
       "      <th>1</th>\n",
       "      <td>2</td>\n",
       "      <td>Ka</td>\n",
       "    </tr>\n",
       "    <tr>\n",
       "      <th>2</th>\n",
       "      <td>3</td>\n",
       "      <td>Clint</td>\n",
       "    </tr>\n",
       "    <tr>\n",
       "      <th>3</th>\n",
       "      <td>4</td>\n",
       "      <td>Hong</td>\n",
       "    </tr>\n",
       "    <tr>\n",
       "      <th>4</th>\n",
       "      <td>5</td>\n",
       "      <td>Kate</td>\n",
       "    </tr>\n",
       "  </tbody>\n",
       "</table>\n",
       "</div>"
      ],
      "text/plain": [
       "   Customer ID First Name\n",
       "0            1     Joshua\n",
       "1            2         Ka\n",
       "2            3      Clint\n",
       "3            4       Hong\n",
       "4            5       Kate"
      ]
     },
     "metadata": {},
     "output_type": "display_data"
    },
    {
     "data": {
      "text/html": [
       "<div>\n",
       "<style scoped>\n",
       "    .dataframe tbody tr th:only-of-type {\n",
       "        vertical-align: middle;\n",
       "    }\n",
       "\n",
       "    .dataframe tbody tr th {\n",
       "        vertical-align: top;\n",
       "    }\n",
       "\n",
       "    .dataframe thead th {\n",
       "        text-align: right;\n",
       "    }\n",
       "</style>\n",
       "<table border=\"1\" class=\"dataframe\">\n",
       "  <thead>\n",
       "    <tr style=\"text-align: right;\">\n",
       "      <th></th>\n",
       "      <th>Release Date</th>\n",
       "      <th>Release Description</th>\n",
       "    </tr>\n",
       "  </thead>\n",
       "  <tbody>\n",
       "    <tr>\n",
       "      <th>0</th>\n",
       "      <td>2017-06-28</td>\n",
       "      <td>V2 released</td>\n",
       "    </tr>\n",
       "    <tr>\n",
       "      <th>1</th>\n",
       "      <td>2018-11-13</td>\n",
       "      <td>Product pricing changed</td>\n",
       "    </tr>\n",
       "    <tr>\n",
       "      <th>2</th>\n",
       "      <td>2018-11-14</td>\n",
       "      <td>V3 released</td>\n",
       "    </tr>\n",
       "  </tbody>\n",
       "</table>\n",
       "</div>"
      ],
      "text/plain": [
       "  Release Date      Release Description\n",
       "0   2017-06-28              V2 released\n",
       "1   2018-11-13  Product pricing changed\n",
       "2   2018-11-14              V3 released"
      ]
     },
     "metadata": {},
     "output_type": "display_data"
    }
   ],
   "source": [
    "display(df1.head(), df3.head(), df2.head(),df4)"
   ]
  },
  {
   "cell_type": "code",
   "execution_count": 4,
   "metadata": {},
   "outputs": [
    {
     "data": {
      "text/html": [
       "<div>\n",
       "<style scoped>\n",
       "    .dataframe tbody tr th:only-of-type {\n",
       "        vertical-align: middle;\n",
       "    }\n",
       "\n",
       "    .dataframe tbody tr th {\n",
       "        vertical-align: top;\n",
       "    }\n",
       "\n",
       "    .dataframe thead th {\n",
       "        text-align: right;\n",
       "    }\n",
       "</style>\n",
       "<table border=\"1\" class=\"dataframe\">\n",
       "  <thead>\n",
       "    <tr style=\"text-align: right;\">\n",
       "      <th></th>\n",
       "      <th>Customer ID</th>\n",
       "      <th>Free Account Created Date</th>\n",
       "      <th>Last Seen</th>\n",
       "      <th>Session Count</th>\n",
       "      <th>Segment</th>\n",
       "      <th>Billing Account #</th>\n",
       "      <th>First Name</th>\n",
       "      <th>Billing Account</th>\n",
       "      <th>Account Status</th>\n",
       "      <th>Upgraded Account Created Date</th>\n",
       "      <th>Upgraded Account Cancelled Date</th>\n",
       "      <th>Total Charges</th>\n",
       "    </tr>\n",
       "  </thead>\n",
       "  <tbody>\n",
       "    <tr>\n",
       "      <th>0</th>\n",
       "      <td>1</td>\n",
       "      <td>2017-05-29</td>\n",
       "      <td>2019-04-05 08:02:32</td>\n",
       "      <td>1379</td>\n",
       "      <td>Marketing Segment 2</td>\n",
       "      <td>AX#93195</td>\n",
       "      <td>Joshua</td>\n",
       "      <td>AX#93195</td>\n",
       "      <td>paying</td>\n",
       "      <td>2019-04-02</td>\n",
       "      <td>NaT</td>\n",
       "      <td>145.600000</td>\n",
       "    </tr>\n",
       "    <tr>\n",
       "      <th>1</th>\n",
       "      <td>2</td>\n",
       "      <td>2017-12-17</td>\n",
       "      <td>2019-04-27 13:23:56</td>\n",
       "      <td>531</td>\n",
       "      <td>Marketing Segment 1</td>\n",
       "      <td>AX#20438</td>\n",
       "      <td>Ka</td>\n",
       "      <td>AX#20438</td>\n",
       "      <td>paying</td>\n",
       "      <td>2018-11-11</td>\n",
       "      <td>NaT</td>\n",
       "      <td>728.000000</td>\n",
       "    </tr>\n",
       "    <tr>\n",
       "      <th>2</th>\n",
       "      <td>3</td>\n",
       "      <td>2017-01-30</td>\n",
       "      <td>2019-04-22 15:38:09</td>\n",
       "      <td>317</td>\n",
       "      <td>Marketing Segment 1</td>\n",
       "      <td>AX#60779</td>\n",
       "      <td>Clint</td>\n",
       "      <td>AX#60779</td>\n",
       "      <td>paying</td>\n",
       "      <td>2019-03-15</td>\n",
       "      <td>NaT</td>\n",
       "      <td>277.200000</td>\n",
       "    </tr>\n",
       "    <tr>\n",
       "      <th>3</th>\n",
       "      <td>4</td>\n",
       "      <td>2017-02-03</td>\n",
       "      <td>2019-04-23 16:30:46</td>\n",
       "      <td>349</td>\n",
       "      <td>Marketing Segment 1</td>\n",
       "      <td>AX#91209</td>\n",
       "      <td>Hong</td>\n",
       "      <td>AX#91209</td>\n",
       "      <td>paying</td>\n",
       "      <td>2019-03-24</td>\n",
       "      <td>NaT</td>\n",
       "      <td>292.833333</td>\n",
       "    </tr>\n",
       "    <tr>\n",
       "      <th>4</th>\n",
       "      <td>5</td>\n",
       "      <td>2017-03-18</td>\n",
       "      <td>2019-04-05 13:16:33</td>\n",
       "      <td>1158</td>\n",
       "      <td>Marketing Segment 2</td>\n",
       "      <td>AX#57000</td>\n",
       "      <td>Kate</td>\n",
       "      <td>AX#57000</td>\n",
       "      <td>paying</td>\n",
       "      <td>2018-10-12</td>\n",
       "      <td>NaT</td>\n",
       "      <td>462.000000</td>\n",
       "    </tr>\n",
       "  </tbody>\n",
       "</table>\n",
       "</div>"
      ],
      "text/plain": [
       "   Customer ID Free Account Created Date           Last Seen  Session Count  \\\n",
       "0            1                2017-05-29 2019-04-05 08:02:32           1379   \n",
       "1            2                2017-12-17 2019-04-27 13:23:56            531   \n",
       "2            3                2017-01-30 2019-04-22 15:38:09            317   \n",
       "3            4                2017-02-03 2019-04-23 16:30:46            349   \n",
       "4            5                2017-03-18 2019-04-05 13:16:33           1158   \n",
       "\n",
       "               Segment Billing Account # First Name Billing Account  \\\n",
       "0  Marketing Segment 2          AX#93195     Joshua        AX#93195   \n",
       "1  Marketing Segment 1          AX#20438         Ka        AX#20438   \n",
       "2  Marketing Segment 1          AX#60779      Clint        AX#60779   \n",
       "3  Marketing Segment 1          AX#91209       Hong        AX#91209   \n",
       "4  Marketing Segment 2          AX#57000       Kate        AX#57000   \n",
       "\n",
       "  Account Status Upgraded Account Created Date  \\\n",
       "0         paying                    2019-04-02   \n",
       "1         paying                    2018-11-11   \n",
       "2         paying                    2019-03-15   \n",
       "3         paying                    2019-03-24   \n",
       "4         paying                    2018-10-12   \n",
       "\n",
       "  Upgraded Account Cancelled Date  Total Charges  \n",
       "0                             NaT     145.600000  \n",
       "1                             NaT     728.000000  \n",
       "2                             NaT     277.200000  \n",
       "3                             NaT     292.833333  \n",
       "4                             NaT     462.000000  "
      ]
     },
     "execution_count": 4,
     "metadata": {},
     "output_type": "execute_result"
    }
   ],
   "source": [
    "df5= df1.merge(df2, how='inner',on='Customer ID')\n",
    "df6=df5.merge(df3, how='left',left_on='Billing Account #',right_on='Billing Account')\n",
    "df6.head()"
   ]
  },
  {
   "cell_type": "code",
   "execution_count": 5,
   "metadata": {},
   "outputs": [],
   "source": [
    "df=df6.drop('Billing Account #', axis=1)"
   ]
  },
  {
   "cell_type": "code",
   "execution_count": 6,
   "metadata": {},
   "outputs": [
    {
     "name": "stdout",
     "output_type": "stream",
     "text": [
      "<class 'pandas.core.frame.DataFrame'>\n",
      "RangeIndex: 3 entries, 0 to 2\n",
      "Data columns (total 2 columns):\n",
      " #   Column               Non-Null Count  Dtype         \n",
      "---  ------               --------------  -----         \n",
      " 0   Release Date         3 non-null      datetime64[ns]\n",
      " 1   Release Description  3 non-null      object        \n",
      "dtypes: datetime64[ns](1), object(1)\n",
      "memory usage: 176.0+ bytes\n"
     ]
    }
   ],
   "source": [
    "df4.info()"
   ]
  },
  {
   "cell_type": "code",
   "execution_count": 7,
   "metadata": {},
   "outputs": [],
   "source": [
    "df['Upgraded Time']=''\n",
    "for i in range(len(df)):\n",
    "    if df['Free Account Created Date'][i]<df4['Release Date'][0]:\n",
    "        df['Upgraded Time'][i]='V1 Released'\n",
    "    elif df['Free Account Created Date'][i]<df4['Release Date'][2]:\n",
    "        df['Upgraded Time'][i]='V2 Released'\n",
    "    else:\n",
    "        df['Upgraded Time'][i]='V3 Released'\n"
   ]
  },
  {
   "cell_type": "code",
   "execution_count": 8,
   "metadata": {},
   "outputs": [],
   "source": [
    "df['Price change']=''\n",
    "for i in range(len(df)):\n",
    "    if df['Free Account Created Date'][i]<df4['Release Date'][1]:\n",
    "        df['Price change'][i]=0\n",
    "    else:\n",
    "        df['Price change'][i]=1"
   ]
  },
  {
   "cell_type": "code",
   "execution_count": 9,
   "metadata": {},
   "outputs": [
    {
     "data": {
      "text/html": [
       "<div>\n",
       "<style scoped>\n",
       "    .dataframe tbody tr th:only-of-type {\n",
       "        vertical-align: middle;\n",
       "    }\n",
       "\n",
       "    .dataframe tbody tr th {\n",
       "        vertical-align: top;\n",
       "    }\n",
       "\n",
       "    .dataframe thead th {\n",
       "        text-align: right;\n",
       "    }\n",
       "</style>\n",
       "<table border=\"1\" class=\"dataframe\">\n",
       "  <thead>\n",
       "    <tr style=\"text-align: right;\">\n",
       "      <th></th>\n",
       "      <th>Customer ID</th>\n",
       "      <th>Free Account Created Date</th>\n",
       "      <th>Last Seen</th>\n",
       "      <th>Session Count</th>\n",
       "      <th>Segment</th>\n",
       "      <th>First Name</th>\n",
       "      <th>Billing Account</th>\n",
       "      <th>Account Status</th>\n",
       "      <th>Upgraded Account Created Date</th>\n",
       "      <th>Upgraded Account Cancelled Date</th>\n",
       "      <th>Total Charges</th>\n",
       "      <th>Upgraded Time</th>\n",
       "      <th>Price change</th>\n",
       "    </tr>\n",
       "  </thead>\n",
       "  <tbody>\n",
       "    <tr>\n",
       "      <th>0</th>\n",
       "      <td>1</td>\n",
       "      <td>2017-05-29</td>\n",
       "      <td>2019-04-05 08:02:32</td>\n",
       "      <td>1379</td>\n",
       "      <td>Marketing Segment 2</td>\n",
       "      <td>Joshua</td>\n",
       "      <td>AX#93195</td>\n",
       "      <td>paying</td>\n",
       "      <td>2019-04-02</td>\n",
       "      <td>NaT</td>\n",
       "      <td>145.600000</td>\n",
       "      <td>V1 Released</td>\n",
       "      <td>0</td>\n",
       "    </tr>\n",
       "    <tr>\n",
       "      <th>1</th>\n",
       "      <td>2</td>\n",
       "      <td>2017-12-17</td>\n",
       "      <td>2019-04-27 13:23:56</td>\n",
       "      <td>531</td>\n",
       "      <td>Marketing Segment 1</td>\n",
       "      <td>Ka</td>\n",
       "      <td>AX#20438</td>\n",
       "      <td>paying</td>\n",
       "      <td>2018-11-11</td>\n",
       "      <td>NaT</td>\n",
       "      <td>728.000000</td>\n",
       "      <td>V2 Released</td>\n",
       "      <td>0</td>\n",
       "    </tr>\n",
       "    <tr>\n",
       "      <th>2</th>\n",
       "      <td>3</td>\n",
       "      <td>2017-01-30</td>\n",
       "      <td>2019-04-22 15:38:09</td>\n",
       "      <td>317</td>\n",
       "      <td>Marketing Segment 1</td>\n",
       "      <td>Clint</td>\n",
       "      <td>AX#60779</td>\n",
       "      <td>paying</td>\n",
       "      <td>2019-03-15</td>\n",
       "      <td>NaT</td>\n",
       "      <td>277.200000</td>\n",
       "      <td>V1 Released</td>\n",
       "      <td>0</td>\n",
       "    </tr>\n",
       "    <tr>\n",
       "      <th>3</th>\n",
       "      <td>4</td>\n",
       "      <td>2017-02-03</td>\n",
       "      <td>2019-04-23 16:30:46</td>\n",
       "      <td>349</td>\n",
       "      <td>Marketing Segment 1</td>\n",
       "      <td>Hong</td>\n",
       "      <td>AX#91209</td>\n",
       "      <td>paying</td>\n",
       "      <td>2019-03-24</td>\n",
       "      <td>NaT</td>\n",
       "      <td>292.833333</td>\n",
       "      <td>V1 Released</td>\n",
       "      <td>0</td>\n",
       "    </tr>\n",
       "    <tr>\n",
       "      <th>4</th>\n",
       "      <td>5</td>\n",
       "      <td>2017-03-18</td>\n",
       "      <td>2019-04-05 13:16:33</td>\n",
       "      <td>1158</td>\n",
       "      <td>Marketing Segment 2</td>\n",
       "      <td>Kate</td>\n",
       "      <td>AX#57000</td>\n",
       "      <td>paying</td>\n",
       "      <td>2018-10-12</td>\n",
       "      <td>NaT</td>\n",
       "      <td>462.000000</td>\n",
       "      <td>V1 Released</td>\n",
       "      <td>0</td>\n",
       "    </tr>\n",
       "    <tr>\n",
       "      <th>...</th>\n",
       "      <td>...</td>\n",
       "      <td>...</td>\n",
       "      <td>...</td>\n",
       "      <td>...</td>\n",
       "      <td>...</td>\n",
       "      <td>...</td>\n",
       "      <td>...</td>\n",
       "      <td>...</td>\n",
       "      <td>...</td>\n",
       "      <td>...</td>\n",
       "      <td>...</td>\n",
       "      <td>...</td>\n",
       "      <td>...</td>\n",
       "    </tr>\n",
       "    <tr>\n",
       "      <th>1009</th>\n",
       "      <td>996</td>\n",
       "      <td>2019-04-25</td>\n",
       "      <td>2019-04-28 16:55:00</td>\n",
       "      <td>1</td>\n",
       "      <td>Marketing Segment 2</td>\n",
       "      <td>Garnet</td>\n",
       "      <td>AX#88630</td>\n",
       "      <td>paying</td>\n",
       "      <td>2019-04-25</td>\n",
       "      <td>NaT</td>\n",
       "      <td>21.200000</td>\n",
       "      <td>V3 Released</td>\n",
       "      <td>1</td>\n",
       "    </tr>\n",
       "    <tr>\n",
       "      <th>1010</th>\n",
       "      <td>997</td>\n",
       "      <td>2019-04-26</td>\n",
       "      <td>2019-04-26 20:09:02</td>\n",
       "      <td>0</td>\n",
       "      <td>Marketing Segment 2</td>\n",
       "      <td>Claribel</td>\n",
       "      <td>AX#53242</td>\n",
       "      <td>paying</td>\n",
       "      <td>2019-04-27</td>\n",
       "      <td>NaT</td>\n",
       "      <td>6.833333</td>\n",
       "      <td>V3 Released</td>\n",
       "      <td>1</td>\n",
       "    </tr>\n",
       "    <tr>\n",
       "      <th>1011</th>\n",
       "      <td>998</td>\n",
       "      <td>2019-04-27</td>\n",
       "      <td>2019-04-27 20:52:36</td>\n",
       "      <td>1</td>\n",
       "      <td>Marketing Segment 3</td>\n",
       "      <td>Porsha</td>\n",
       "      <td>AX#50772</td>\n",
       "      <td>paying</td>\n",
       "      <td>2019-04-27</td>\n",
       "      <td>NaT</td>\n",
       "      <td>4.733333</td>\n",
       "      <td>V3 Released</td>\n",
       "      <td>1</td>\n",
       "    </tr>\n",
       "    <tr>\n",
       "      <th>1012</th>\n",
       "      <td>999</td>\n",
       "      <td>2019-04-28</td>\n",
       "      <td>2019-04-28 15:56:51</td>\n",
       "      <td>0</td>\n",
       "      <td>Marketing Segment 1</td>\n",
       "      <td>Emma</td>\n",
       "      <td>AX#75078</td>\n",
       "      <td>paying</td>\n",
       "      <td>2019-04-28</td>\n",
       "      <td>NaT</td>\n",
       "      <td>0.000000</td>\n",
       "      <td>V3 Released</td>\n",
       "      <td>1</td>\n",
       "    </tr>\n",
       "    <tr>\n",
       "      <th>1013</th>\n",
       "      <td>1000</td>\n",
       "      <td>2019-04-28</td>\n",
       "      <td>2019-04-28 15:56:51</td>\n",
       "      <td>0</td>\n",
       "      <td>Marketing Segment 2</td>\n",
       "      <td>Kate</td>\n",
       "      <td>AX#89342</td>\n",
       "      <td>paying</td>\n",
       "      <td>2019-04-28</td>\n",
       "      <td>NaT</td>\n",
       "      <td>0.000000</td>\n",
       "      <td>V3 Released</td>\n",
       "      <td>1</td>\n",
       "    </tr>\n",
       "  </tbody>\n",
       "</table>\n",
       "<p>1014 rows × 13 columns</p>\n",
       "</div>"
      ],
      "text/plain": [
       "      Customer ID Free Account Created Date           Last Seen  \\\n",
       "0               1                2017-05-29 2019-04-05 08:02:32   \n",
       "1               2                2017-12-17 2019-04-27 13:23:56   \n",
       "2               3                2017-01-30 2019-04-22 15:38:09   \n",
       "3               4                2017-02-03 2019-04-23 16:30:46   \n",
       "4               5                2017-03-18 2019-04-05 13:16:33   \n",
       "...           ...                       ...                 ...   \n",
       "1009          996                2019-04-25 2019-04-28 16:55:00   \n",
       "1010          997                2019-04-26 2019-04-26 20:09:02   \n",
       "1011          998                2019-04-27 2019-04-27 20:52:36   \n",
       "1012          999                2019-04-28 2019-04-28 15:56:51   \n",
       "1013         1000                2019-04-28 2019-04-28 15:56:51   \n",
       "\n",
       "      Session Count              Segment First Name Billing Account  \\\n",
       "0              1379  Marketing Segment 2     Joshua        AX#93195   \n",
       "1               531  Marketing Segment 1         Ka        AX#20438   \n",
       "2               317  Marketing Segment 1      Clint        AX#60779   \n",
       "3               349  Marketing Segment 1       Hong        AX#91209   \n",
       "4              1158  Marketing Segment 2       Kate        AX#57000   \n",
       "...             ...                  ...        ...             ...   \n",
       "1009              1  Marketing Segment 2     Garnet        AX#88630   \n",
       "1010              0  Marketing Segment 2   Claribel        AX#53242   \n",
       "1011              1  Marketing Segment 3     Porsha        AX#50772   \n",
       "1012              0  Marketing Segment 1       Emma        AX#75078   \n",
       "1013              0  Marketing Segment 2       Kate        AX#89342   \n",
       "\n",
       "     Account Status Upgraded Account Created Date  \\\n",
       "0            paying                    2019-04-02   \n",
       "1            paying                    2018-11-11   \n",
       "2            paying                    2019-03-15   \n",
       "3            paying                    2019-03-24   \n",
       "4            paying                    2018-10-12   \n",
       "...             ...                           ...   \n",
       "1009         paying                    2019-04-25   \n",
       "1010         paying                    2019-04-27   \n",
       "1011         paying                    2019-04-27   \n",
       "1012         paying                    2019-04-28   \n",
       "1013         paying                    2019-04-28   \n",
       "\n",
       "     Upgraded Account Cancelled Date  Total Charges Upgraded Time Price change  \n",
       "0                                NaT     145.600000   V1 Released            0  \n",
       "1                                NaT     728.000000   V2 Released            0  \n",
       "2                                NaT     277.200000   V1 Released            0  \n",
       "3                                NaT     292.833333   V1 Released            0  \n",
       "4                                NaT     462.000000   V1 Released            0  \n",
       "...                              ...            ...           ...          ...  \n",
       "1009                             NaT      21.200000   V3 Released            1  \n",
       "1010                             NaT       6.833333   V3 Released            1  \n",
       "1011                             NaT       4.733333   V3 Released            1  \n",
       "1012                             NaT       0.000000   V3 Released            1  \n",
       "1013                             NaT       0.000000   V3 Released            1  \n",
       "\n",
       "[1014 rows x 13 columns]"
      ]
     },
     "execution_count": 9,
     "metadata": {},
     "output_type": "execute_result"
    }
   ],
   "source": [
    "df"
   ]
  },
  {
   "cell_type": "code",
   "execution_count": 10,
   "metadata": {},
   "outputs": [
    {
     "name": "stdout",
     "output_type": "stream",
     "text": [
      "<class 'pandas.core.frame.DataFrame'>\n",
      "Int64Index: 1014 entries, 0 to 1013\n",
      "Data columns (total 13 columns):\n",
      " #   Column                           Non-Null Count  Dtype         \n",
      "---  ------                           --------------  -----         \n",
      " 0   Customer ID                      1014 non-null   int64         \n",
      " 1   Free Account Created Date        1014 non-null   datetime64[ns]\n",
      " 2   Last Seen                        1014 non-null   datetime64[ns]\n",
      " 3   Session Count                    1014 non-null   int64         \n",
      " 4   Segment                          1014 non-null   object        \n",
      " 5   First Name                       1014 non-null   object        \n",
      " 6   Billing Account                  1014 non-null   object        \n",
      " 7   Account Status                   1014 non-null   object        \n",
      " 8   Upgraded Account Created Date    1014 non-null   datetime64[ns]\n",
      " 9   Upgraded Account Cancelled Date  123 non-null    datetime64[ns]\n",
      " 10  Total Charges                    1014 non-null   float64       \n",
      " 11  Upgraded Time                    1014 non-null   object        \n",
      " 12  Price change                     1014 non-null   object        \n",
      "dtypes: datetime64[ns](4), float64(1), int64(2), object(6)\n",
      "memory usage: 150.9+ KB\n"
     ]
    }
   ],
   "source": [
    "df.info()"
   ]
  },
  {
   "cell_type": "code",
   "execution_count": 11,
   "metadata": {},
   "outputs": [
    {
     "data": {
      "text/html": [
       "<div>\n",
       "<style scoped>\n",
       "    .dataframe tbody tr th:only-of-type {\n",
       "        vertical-align: middle;\n",
       "    }\n",
       "\n",
       "    .dataframe tbody tr th {\n",
       "        vertical-align: top;\n",
       "    }\n",
       "\n",
       "    .dataframe thead th {\n",
       "        text-align: right;\n",
       "    }\n",
       "</style>\n",
       "<table border=\"1\" class=\"dataframe\">\n",
       "  <thead>\n",
       "    <tr style=\"text-align: right;\">\n",
       "      <th></th>\n",
       "      <th>Customer ID</th>\n",
       "      <th>Session Count</th>\n",
       "      <th>Total Charges</th>\n",
       "    </tr>\n",
       "  </thead>\n",
       "  <tbody>\n",
       "    <tr>\n",
       "      <th>count</th>\n",
       "      <td>1014.000000</td>\n",
       "      <td>1014.000000</td>\n",
       "      <td>1014.000000</td>\n",
       "    </tr>\n",
       "    <tr>\n",
       "      <th>mean</th>\n",
       "      <td>499.017751</td>\n",
       "      <td>309.584813</td>\n",
       "      <td>560.846910</td>\n",
       "    </tr>\n",
       "    <tr>\n",
       "      <th>std</th>\n",
       "      <td>288.964581</td>\n",
       "      <td>2126.138216</td>\n",
       "      <td>705.709395</td>\n",
       "    </tr>\n",
       "    <tr>\n",
       "      <th>min</th>\n",
       "      <td>1.000000</td>\n",
       "      <td>0.000000</td>\n",
       "      <td>0.000000</td>\n",
       "    </tr>\n",
       "    <tr>\n",
       "      <th>25%</th>\n",
       "      <td>248.250000</td>\n",
       "      <td>2.000000</td>\n",
       "      <td>107.075000</td>\n",
       "    </tr>\n",
       "    <tr>\n",
       "      <th>50%</th>\n",
       "      <td>499.500000</td>\n",
       "      <td>11.000000</td>\n",
       "      <td>282.350000</td>\n",
       "    </tr>\n",
       "    <tr>\n",
       "      <th>75%</th>\n",
       "      <td>747.750000</td>\n",
       "      <td>56.250000</td>\n",
       "      <td>734.858333</td>\n",
       "    </tr>\n",
       "    <tr>\n",
       "      <th>max</th>\n",
       "      <td>1000.000000</td>\n",
       "      <td>51169.000000</td>\n",
       "      <td>4430.266667</td>\n",
       "    </tr>\n",
       "  </tbody>\n",
       "</table>\n",
       "</div>"
      ],
      "text/plain": [
       "       Customer ID  Session Count  Total Charges\n",
       "count  1014.000000    1014.000000    1014.000000\n",
       "mean    499.017751     309.584813     560.846910\n",
       "std     288.964581    2126.138216     705.709395\n",
       "min       1.000000       0.000000       0.000000\n",
       "25%     248.250000       2.000000     107.075000\n",
       "50%     499.500000      11.000000     282.350000\n",
       "75%     747.750000      56.250000     734.858333\n",
       "max    1000.000000   51169.000000    4430.266667"
      ]
     },
     "execution_count": 11,
     "metadata": {},
     "output_type": "execute_result"
    }
   ],
   "source": [
    "df.describe()"
   ]
  },
  {
   "cell_type": "code",
   "execution_count": 12,
   "metadata": {},
   "outputs": [
    {
     "data": {
      "text/plain": [
       "Customer ID                          0\n",
       "Free Account Created Date            0\n",
       "Last Seen                            0\n",
       "Session Count                        0\n",
       "Segment                              0\n",
       "First Name                           0\n",
       "Billing Account                      0\n",
       "Account Status                       0\n",
       "Upgraded Account Created Date        0\n",
       "Upgraded Account Cancelled Date    891\n",
       "Total Charges                        0\n",
       "Upgraded Time                        0\n",
       "Price change                         0\n",
       "dtype: int64"
      ]
     },
     "execution_count": 12,
     "metadata": {},
     "output_type": "execute_result"
    }
   ],
   "source": [
    "df.isnull().sum()"
   ]
  },
  {
   "cell_type": "code",
   "execution_count": 447,
   "metadata": {},
   "outputs": [
    {
     "data": {
      "text/html": [
       "<div>\n",
       "<style scoped>\n",
       "    .dataframe tbody tr th:only-of-type {\n",
       "        vertical-align: middle;\n",
       "    }\n",
       "\n",
       "    .dataframe tbody tr th {\n",
       "        vertical-align: top;\n",
       "    }\n",
       "\n",
       "    .dataframe thead th {\n",
       "        text-align: right;\n",
       "    }\n",
       "</style>\n",
       "<table border=\"1\" class=\"dataframe\">\n",
       "  <thead>\n",
       "    <tr style=\"text-align: right;\">\n",
       "      <th></th>\n",
       "      <th>Account Status</th>\n",
       "      <th>Total Charges</th>\n",
       "    </tr>\n",
       "  </thead>\n",
       "  <tbody>\n",
       "    <tr>\n",
       "      <th>0</th>\n",
       "      <td>cancelled</td>\n",
       "      <td>57064.100000</td>\n",
       "    </tr>\n",
       "    <tr>\n",
       "      <th>1</th>\n",
       "      <td>paying</td>\n",
       "      <td>511634.666667</td>\n",
       "    </tr>\n",
       "  </tbody>\n",
       "</table>\n",
       "</div>"
      ],
      "text/plain": [
       "  Account Status  Total Charges\n",
       "0      cancelled   57064.100000\n",
       "1         paying  511634.666667"
      ]
     },
     "execution_count": 447,
     "metadata": {},
     "output_type": "execute_result"
    }
   ],
   "source": [
    "df.groupby('Account Status')['Total Charges'].sum().reset_index()"
   ]
  },
  {
   "cell_type": "code",
   "execution_count": 16,
   "metadata": {},
   "outputs": [
    {
     "data": {
      "application/vnd.plotly.v1+json": {
       "config": {
        "plotlyServerURL": "https://plot.ly"
       },
       "data": [
        {
         "labels": [
          "Cancelled",
          "Paying"
         ],
         "textinfo": "label+percent",
         "type": "pie",
         "values": [
          57064.100000000006,
          511634.6666666672
         ]
        }
       ],
       "layout": {
        "template": {
         "data": {
          "bar": [
           {
            "error_x": {
             "color": "#2a3f5f"
            },
            "error_y": {
             "color": "#2a3f5f"
            },
            "marker": {
             "line": {
              "color": "#E5ECF6",
              "width": 0.5
             },
             "pattern": {
              "fillmode": "overlay",
              "size": 10,
              "solidity": 0.2
             }
            },
            "type": "bar"
           }
          ],
          "barpolar": [
           {
            "marker": {
             "line": {
              "color": "#E5ECF6",
              "width": 0.5
             },
             "pattern": {
              "fillmode": "overlay",
              "size": 10,
              "solidity": 0.2
             }
            },
            "type": "barpolar"
           }
          ],
          "carpet": [
           {
            "aaxis": {
             "endlinecolor": "#2a3f5f",
             "gridcolor": "white",
             "linecolor": "white",
             "minorgridcolor": "white",
             "startlinecolor": "#2a3f5f"
            },
            "baxis": {
             "endlinecolor": "#2a3f5f",
             "gridcolor": "white",
             "linecolor": "white",
             "minorgridcolor": "white",
             "startlinecolor": "#2a3f5f"
            },
            "type": "carpet"
           }
          ],
          "choropleth": [
           {
            "colorbar": {
             "outlinewidth": 0,
             "ticks": ""
            },
            "type": "choropleth"
           }
          ],
          "contour": [
           {
            "colorbar": {
             "outlinewidth": 0,
             "ticks": ""
            },
            "colorscale": [
             [
              0,
              "#0d0887"
             ],
             [
              0.1111111111111111,
              "#46039f"
             ],
             [
              0.2222222222222222,
              "#7201a8"
             ],
             [
              0.3333333333333333,
              "#9c179e"
             ],
             [
              0.4444444444444444,
              "#bd3786"
             ],
             [
              0.5555555555555556,
              "#d8576b"
             ],
             [
              0.6666666666666666,
              "#ed7953"
             ],
             [
              0.7777777777777778,
              "#fb9f3a"
             ],
             [
              0.8888888888888888,
              "#fdca26"
             ],
             [
              1,
              "#f0f921"
             ]
            ],
            "type": "contour"
           }
          ],
          "contourcarpet": [
           {
            "colorbar": {
             "outlinewidth": 0,
             "ticks": ""
            },
            "type": "contourcarpet"
           }
          ],
          "heatmap": [
           {
            "colorbar": {
             "outlinewidth": 0,
             "ticks": ""
            },
            "colorscale": [
             [
              0,
              "#0d0887"
             ],
             [
              0.1111111111111111,
              "#46039f"
             ],
             [
              0.2222222222222222,
              "#7201a8"
             ],
             [
              0.3333333333333333,
              "#9c179e"
             ],
             [
              0.4444444444444444,
              "#bd3786"
             ],
             [
              0.5555555555555556,
              "#d8576b"
             ],
             [
              0.6666666666666666,
              "#ed7953"
             ],
             [
              0.7777777777777778,
              "#fb9f3a"
             ],
             [
              0.8888888888888888,
              "#fdca26"
             ],
             [
              1,
              "#f0f921"
             ]
            ],
            "type": "heatmap"
           }
          ],
          "heatmapgl": [
           {
            "colorbar": {
             "outlinewidth": 0,
             "ticks": ""
            },
            "colorscale": [
             [
              0,
              "#0d0887"
             ],
             [
              0.1111111111111111,
              "#46039f"
             ],
             [
              0.2222222222222222,
              "#7201a8"
             ],
             [
              0.3333333333333333,
              "#9c179e"
             ],
             [
              0.4444444444444444,
              "#bd3786"
             ],
             [
              0.5555555555555556,
              "#d8576b"
             ],
             [
              0.6666666666666666,
              "#ed7953"
             ],
             [
              0.7777777777777778,
              "#fb9f3a"
             ],
             [
              0.8888888888888888,
              "#fdca26"
             ],
             [
              1,
              "#f0f921"
             ]
            ],
            "type": "heatmapgl"
           }
          ],
          "histogram": [
           {
            "marker": {
             "pattern": {
              "fillmode": "overlay",
              "size": 10,
              "solidity": 0.2
             }
            },
            "type": "histogram"
           }
          ],
          "histogram2d": [
           {
            "colorbar": {
             "outlinewidth": 0,
             "ticks": ""
            },
            "colorscale": [
             [
              0,
              "#0d0887"
             ],
             [
              0.1111111111111111,
              "#46039f"
             ],
             [
              0.2222222222222222,
              "#7201a8"
             ],
             [
              0.3333333333333333,
              "#9c179e"
             ],
             [
              0.4444444444444444,
              "#bd3786"
             ],
             [
              0.5555555555555556,
              "#d8576b"
             ],
             [
              0.6666666666666666,
              "#ed7953"
             ],
             [
              0.7777777777777778,
              "#fb9f3a"
             ],
             [
              0.8888888888888888,
              "#fdca26"
             ],
             [
              1,
              "#f0f921"
             ]
            ],
            "type": "histogram2d"
           }
          ],
          "histogram2dcontour": [
           {
            "colorbar": {
             "outlinewidth": 0,
             "ticks": ""
            },
            "colorscale": [
             [
              0,
              "#0d0887"
             ],
             [
              0.1111111111111111,
              "#46039f"
             ],
             [
              0.2222222222222222,
              "#7201a8"
             ],
             [
              0.3333333333333333,
              "#9c179e"
             ],
             [
              0.4444444444444444,
              "#bd3786"
             ],
             [
              0.5555555555555556,
              "#d8576b"
             ],
             [
              0.6666666666666666,
              "#ed7953"
             ],
             [
              0.7777777777777778,
              "#fb9f3a"
             ],
             [
              0.8888888888888888,
              "#fdca26"
             ],
             [
              1,
              "#f0f921"
             ]
            ],
            "type": "histogram2dcontour"
           }
          ],
          "mesh3d": [
           {
            "colorbar": {
             "outlinewidth": 0,
             "ticks": ""
            },
            "type": "mesh3d"
           }
          ],
          "parcoords": [
           {
            "line": {
             "colorbar": {
              "outlinewidth": 0,
              "ticks": ""
             }
            },
            "type": "parcoords"
           }
          ],
          "pie": [
           {
            "automargin": true,
            "type": "pie"
           }
          ],
          "scatter": [
           {
            "marker": {
             "colorbar": {
              "outlinewidth": 0,
              "ticks": ""
             }
            },
            "type": "scatter"
           }
          ],
          "scatter3d": [
           {
            "line": {
             "colorbar": {
              "outlinewidth": 0,
              "ticks": ""
             }
            },
            "marker": {
             "colorbar": {
              "outlinewidth": 0,
              "ticks": ""
             }
            },
            "type": "scatter3d"
           }
          ],
          "scattercarpet": [
           {
            "marker": {
             "colorbar": {
              "outlinewidth": 0,
              "ticks": ""
             }
            },
            "type": "scattercarpet"
           }
          ],
          "scattergeo": [
           {
            "marker": {
             "colorbar": {
              "outlinewidth": 0,
              "ticks": ""
             }
            },
            "type": "scattergeo"
           }
          ],
          "scattergl": [
           {
            "marker": {
             "colorbar": {
              "outlinewidth": 0,
              "ticks": ""
             }
            },
            "type": "scattergl"
           }
          ],
          "scattermapbox": [
           {
            "marker": {
             "colorbar": {
              "outlinewidth": 0,
              "ticks": ""
             }
            },
            "type": "scattermapbox"
           }
          ],
          "scatterpolar": [
           {
            "marker": {
             "colorbar": {
              "outlinewidth": 0,
              "ticks": ""
             }
            },
            "type": "scatterpolar"
           }
          ],
          "scatterpolargl": [
           {
            "marker": {
             "colorbar": {
              "outlinewidth": 0,
              "ticks": ""
             }
            },
            "type": "scatterpolargl"
           }
          ],
          "scatterternary": [
           {
            "marker": {
             "colorbar": {
              "outlinewidth": 0,
              "ticks": ""
             }
            },
            "type": "scatterternary"
           }
          ],
          "surface": [
           {
            "colorbar": {
             "outlinewidth": 0,
             "ticks": ""
            },
            "colorscale": [
             [
              0,
              "#0d0887"
             ],
             [
              0.1111111111111111,
              "#46039f"
             ],
             [
              0.2222222222222222,
              "#7201a8"
             ],
             [
              0.3333333333333333,
              "#9c179e"
             ],
             [
              0.4444444444444444,
              "#bd3786"
             ],
             [
              0.5555555555555556,
              "#d8576b"
             ],
             [
              0.6666666666666666,
              "#ed7953"
             ],
             [
              0.7777777777777778,
              "#fb9f3a"
             ],
             [
              0.8888888888888888,
              "#fdca26"
             ],
             [
              1,
              "#f0f921"
             ]
            ],
            "type": "surface"
           }
          ],
          "table": [
           {
            "cells": {
             "fill": {
              "color": "#EBF0F8"
             },
             "line": {
              "color": "white"
             }
            },
            "header": {
             "fill": {
              "color": "#C8D4E3"
             },
             "line": {
              "color": "white"
             }
            },
            "type": "table"
           }
          ]
         },
         "layout": {
          "annotationdefaults": {
           "arrowcolor": "#2a3f5f",
           "arrowhead": 0,
           "arrowwidth": 1
          },
          "autotypenumbers": "strict",
          "coloraxis": {
           "colorbar": {
            "outlinewidth": 0,
            "ticks": ""
           }
          },
          "colorscale": {
           "diverging": [
            [
             0,
             "#8e0152"
            ],
            [
             0.1,
             "#c51b7d"
            ],
            [
             0.2,
             "#de77ae"
            ],
            [
             0.3,
             "#f1b6da"
            ],
            [
             0.4,
             "#fde0ef"
            ],
            [
             0.5,
             "#f7f7f7"
            ],
            [
             0.6,
             "#e6f5d0"
            ],
            [
             0.7,
             "#b8e186"
            ],
            [
             0.8,
             "#7fbc41"
            ],
            [
             0.9,
             "#4d9221"
            ],
            [
             1,
             "#276419"
            ]
           ],
           "sequential": [
            [
             0,
             "#0d0887"
            ],
            [
             0.1111111111111111,
             "#46039f"
            ],
            [
             0.2222222222222222,
             "#7201a8"
            ],
            [
             0.3333333333333333,
             "#9c179e"
            ],
            [
             0.4444444444444444,
             "#bd3786"
            ],
            [
             0.5555555555555556,
             "#d8576b"
            ],
            [
             0.6666666666666666,
             "#ed7953"
            ],
            [
             0.7777777777777778,
             "#fb9f3a"
            ],
            [
             0.8888888888888888,
             "#fdca26"
            ],
            [
             1,
             "#f0f921"
            ]
           ],
           "sequentialminus": [
            [
             0,
             "#0d0887"
            ],
            [
             0.1111111111111111,
             "#46039f"
            ],
            [
             0.2222222222222222,
             "#7201a8"
            ],
            [
             0.3333333333333333,
             "#9c179e"
            ],
            [
             0.4444444444444444,
             "#bd3786"
            ],
            [
             0.5555555555555556,
             "#d8576b"
            ],
            [
             0.6666666666666666,
             "#ed7953"
            ],
            [
             0.7777777777777778,
             "#fb9f3a"
            ],
            [
             0.8888888888888888,
             "#fdca26"
            ],
            [
             1,
             "#f0f921"
            ]
           ]
          },
          "colorway": [
           "#636efa",
           "#EF553B",
           "#00cc96",
           "#ab63fa",
           "#FFA15A",
           "#19d3f3",
           "#FF6692",
           "#B6E880",
           "#FF97FF",
           "#FECB52"
          ],
          "font": {
           "color": "#2a3f5f"
          },
          "geo": {
           "bgcolor": "white",
           "lakecolor": "white",
           "landcolor": "#E5ECF6",
           "showlakes": true,
           "showland": true,
           "subunitcolor": "white"
          },
          "hoverlabel": {
           "align": "left"
          },
          "hovermode": "closest",
          "mapbox": {
           "style": "light"
          },
          "paper_bgcolor": "white",
          "plot_bgcolor": "#E5ECF6",
          "polar": {
           "angularaxis": {
            "gridcolor": "white",
            "linecolor": "white",
            "ticks": ""
           },
           "bgcolor": "#E5ECF6",
           "radialaxis": {
            "gridcolor": "white",
            "linecolor": "white",
            "ticks": ""
           }
          },
          "scene": {
           "xaxis": {
            "backgroundcolor": "#E5ECF6",
            "gridcolor": "white",
            "gridwidth": 2,
            "linecolor": "white",
            "showbackground": true,
            "ticks": "",
            "zerolinecolor": "white"
           },
           "yaxis": {
            "backgroundcolor": "#E5ECF6",
            "gridcolor": "white",
            "gridwidth": 2,
            "linecolor": "white",
            "showbackground": true,
            "ticks": "",
            "zerolinecolor": "white"
           },
           "zaxis": {
            "backgroundcolor": "#E5ECF6",
            "gridcolor": "white",
            "gridwidth": 2,
            "linecolor": "white",
            "showbackground": true,
            "ticks": "",
            "zerolinecolor": "white"
           }
          },
          "shapedefaults": {
           "line": {
            "color": "#2a3f5f"
           }
          },
          "ternary": {
           "aaxis": {
            "gridcolor": "white",
            "linecolor": "white",
            "ticks": ""
           },
           "baxis": {
            "gridcolor": "white",
            "linecolor": "white",
            "ticks": ""
           },
           "bgcolor": "#E5ECF6",
           "caxis": {
            "gridcolor": "white",
            "linecolor": "white",
            "ticks": ""
           }
          },
          "title": {
           "x": 0.05
          },
          "xaxis": {
           "automargin": true,
           "gridcolor": "white",
           "linecolor": "white",
           "ticks": "",
           "title": {
            "standoff": 15
           },
           "zerolinecolor": "white",
           "zerolinewidth": 2
          },
          "yaxis": {
           "automargin": true,
           "gridcolor": "white",
           "linecolor": "white",
           "ticks": "",
           "title": {
            "standoff": 15
           },
           "zerolinecolor": "white",
           "zerolinewidth": 2
          }
         }
        },
        "title": {
         "text": "Percent cancelled and paying in total charges"
        }
       }
      },
      "text/html": [
       "<div>                            <div id=\"b1e04a21-d8d8-45c9-9e97-bdda701a7cef\" class=\"plotly-graph-div\" style=\"height:525px; width:100%;\"></div>            <script type=\"text/javascript\">                require([\"plotly\"], function(Plotly) {                    window.PLOTLYENV=window.PLOTLYENV || {};                                    if (document.getElementById(\"b1e04a21-d8d8-45c9-9e97-bdda701a7cef\")) {                    Plotly.newPlot(                        \"b1e04a21-d8d8-45c9-9e97-bdda701a7cef\",                        [{\"labels\":[\"Cancelled\",\"Paying\"],\"textinfo\":\"label+percent\",\"type\":\"pie\",\"values\":[57064.100000000006,511634.6666666672]}],                        {\"template\":{\"data\":{\"bar\":[{\"error_x\":{\"color\":\"#2a3f5f\"},\"error_y\":{\"color\":\"#2a3f5f\"},\"marker\":{\"line\":{\"color\":\"#E5ECF6\",\"width\":0.5},\"pattern\":{\"fillmode\":\"overlay\",\"size\":10,\"solidity\":0.2}},\"type\":\"bar\"}],\"barpolar\":[{\"marker\":{\"line\":{\"color\":\"#E5ECF6\",\"width\":0.5},\"pattern\":{\"fillmode\":\"overlay\",\"size\":10,\"solidity\":0.2}},\"type\":\"barpolar\"}],\"carpet\":[{\"aaxis\":{\"endlinecolor\":\"#2a3f5f\",\"gridcolor\":\"white\",\"linecolor\":\"white\",\"minorgridcolor\":\"white\",\"startlinecolor\":\"#2a3f5f\"},\"baxis\":{\"endlinecolor\":\"#2a3f5f\",\"gridcolor\":\"white\",\"linecolor\":\"white\",\"minorgridcolor\":\"white\",\"startlinecolor\":\"#2a3f5f\"},\"type\":\"carpet\"}],\"choropleth\":[{\"colorbar\":{\"outlinewidth\":0,\"ticks\":\"\"},\"type\":\"choropleth\"}],\"contour\":[{\"colorbar\":{\"outlinewidth\":0,\"ticks\":\"\"},\"colorscale\":[[0.0,\"#0d0887\"],[0.1111111111111111,\"#46039f\"],[0.2222222222222222,\"#7201a8\"],[0.3333333333333333,\"#9c179e\"],[0.4444444444444444,\"#bd3786\"],[0.5555555555555556,\"#d8576b\"],[0.6666666666666666,\"#ed7953\"],[0.7777777777777778,\"#fb9f3a\"],[0.8888888888888888,\"#fdca26\"],[1.0,\"#f0f921\"]],\"type\":\"contour\"}],\"contourcarpet\":[{\"colorbar\":{\"outlinewidth\":0,\"ticks\":\"\"},\"type\":\"contourcarpet\"}],\"heatmap\":[{\"colorbar\":{\"outlinewidth\":0,\"ticks\":\"\"},\"colorscale\":[[0.0,\"#0d0887\"],[0.1111111111111111,\"#46039f\"],[0.2222222222222222,\"#7201a8\"],[0.3333333333333333,\"#9c179e\"],[0.4444444444444444,\"#bd3786\"],[0.5555555555555556,\"#d8576b\"],[0.6666666666666666,\"#ed7953\"],[0.7777777777777778,\"#fb9f3a\"],[0.8888888888888888,\"#fdca26\"],[1.0,\"#f0f921\"]],\"type\":\"heatmap\"}],\"heatmapgl\":[{\"colorbar\":{\"outlinewidth\":0,\"ticks\":\"\"},\"colorscale\":[[0.0,\"#0d0887\"],[0.1111111111111111,\"#46039f\"],[0.2222222222222222,\"#7201a8\"],[0.3333333333333333,\"#9c179e\"],[0.4444444444444444,\"#bd3786\"],[0.5555555555555556,\"#d8576b\"],[0.6666666666666666,\"#ed7953\"],[0.7777777777777778,\"#fb9f3a\"],[0.8888888888888888,\"#fdca26\"],[1.0,\"#f0f921\"]],\"type\":\"heatmapgl\"}],\"histogram\":[{\"marker\":{\"pattern\":{\"fillmode\":\"overlay\",\"size\":10,\"solidity\":0.2}},\"type\":\"histogram\"}],\"histogram2d\":[{\"colorbar\":{\"outlinewidth\":0,\"ticks\":\"\"},\"colorscale\":[[0.0,\"#0d0887\"],[0.1111111111111111,\"#46039f\"],[0.2222222222222222,\"#7201a8\"],[0.3333333333333333,\"#9c179e\"],[0.4444444444444444,\"#bd3786\"],[0.5555555555555556,\"#d8576b\"],[0.6666666666666666,\"#ed7953\"],[0.7777777777777778,\"#fb9f3a\"],[0.8888888888888888,\"#fdca26\"],[1.0,\"#f0f921\"]],\"type\":\"histogram2d\"}],\"histogram2dcontour\":[{\"colorbar\":{\"outlinewidth\":0,\"ticks\":\"\"},\"colorscale\":[[0.0,\"#0d0887\"],[0.1111111111111111,\"#46039f\"],[0.2222222222222222,\"#7201a8\"],[0.3333333333333333,\"#9c179e\"],[0.4444444444444444,\"#bd3786\"],[0.5555555555555556,\"#d8576b\"],[0.6666666666666666,\"#ed7953\"],[0.7777777777777778,\"#fb9f3a\"],[0.8888888888888888,\"#fdca26\"],[1.0,\"#f0f921\"]],\"type\":\"histogram2dcontour\"}],\"mesh3d\":[{\"colorbar\":{\"outlinewidth\":0,\"ticks\":\"\"},\"type\":\"mesh3d\"}],\"parcoords\":[{\"line\":{\"colorbar\":{\"outlinewidth\":0,\"ticks\":\"\"}},\"type\":\"parcoords\"}],\"pie\":[{\"automargin\":true,\"type\":\"pie\"}],\"scatter\":[{\"marker\":{\"colorbar\":{\"outlinewidth\":0,\"ticks\":\"\"}},\"type\":\"scatter\"}],\"scatter3d\":[{\"line\":{\"colorbar\":{\"outlinewidth\":0,\"ticks\":\"\"}},\"marker\":{\"colorbar\":{\"outlinewidth\":0,\"ticks\":\"\"}},\"type\":\"scatter3d\"}],\"scattercarpet\":[{\"marker\":{\"colorbar\":{\"outlinewidth\":0,\"ticks\":\"\"}},\"type\":\"scattercarpet\"}],\"scattergeo\":[{\"marker\":{\"colorbar\":{\"outlinewidth\":0,\"ticks\":\"\"}},\"type\":\"scattergeo\"}],\"scattergl\":[{\"marker\":{\"colorbar\":{\"outlinewidth\":0,\"ticks\":\"\"}},\"type\":\"scattergl\"}],\"scattermapbox\":[{\"marker\":{\"colorbar\":{\"outlinewidth\":0,\"ticks\":\"\"}},\"type\":\"scattermapbox\"}],\"scatterpolar\":[{\"marker\":{\"colorbar\":{\"outlinewidth\":0,\"ticks\":\"\"}},\"type\":\"scatterpolar\"}],\"scatterpolargl\":[{\"marker\":{\"colorbar\":{\"outlinewidth\":0,\"ticks\":\"\"}},\"type\":\"scatterpolargl\"}],\"scatterternary\":[{\"marker\":{\"colorbar\":{\"outlinewidth\":0,\"ticks\":\"\"}},\"type\":\"scatterternary\"}],\"surface\":[{\"colorbar\":{\"outlinewidth\":0,\"ticks\":\"\"},\"colorscale\":[[0.0,\"#0d0887\"],[0.1111111111111111,\"#46039f\"],[0.2222222222222222,\"#7201a8\"],[0.3333333333333333,\"#9c179e\"],[0.4444444444444444,\"#bd3786\"],[0.5555555555555556,\"#d8576b\"],[0.6666666666666666,\"#ed7953\"],[0.7777777777777778,\"#fb9f3a\"],[0.8888888888888888,\"#fdca26\"],[1.0,\"#f0f921\"]],\"type\":\"surface\"}],\"table\":[{\"cells\":{\"fill\":{\"color\":\"#EBF0F8\"},\"line\":{\"color\":\"white\"}},\"header\":{\"fill\":{\"color\":\"#C8D4E3\"},\"line\":{\"color\":\"white\"}},\"type\":\"table\"}]},\"layout\":{\"annotationdefaults\":{\"arrowcolor\":\"#2a3f5f\",\"arrowhead\":0,\"arrowwidth\":1},\"autotypenumbers\":\"strict\",\"coloraxis\":{\"colorbar\":{\"outlinewidth\":0,\"ticks\":\"\"}},\"colorscale\":{\"diverging\":[[0,\"#8e0152\"],[0.1,\"#c51b7d\"],[0.2,\"#de77ae\"],[0.3,\"#f1b6da\"],[0.4,\"#fde0ef\"],[0.5,\"#f7f7f7\"],[0.6,\"#e6f5d0\"],[0.7,\"#b8e186\"],[0.8,\"#7fbc41\"],[0.9,\"#4d9221\"],[1,\"#276419\"]],\"sequential\":[[0.0,\"#0d0887\"],[0.1111111111111111,\"#46039f\"],[0.2222222222222222,\"#7201a8\"],[0.3333333333333333,\"#9c179e\"],[0.4444444444444444,\"#bd3786\"],[0.5555555555555556,\"#d8576b\"],[0.6666666666666666,\"#ed7953\"],[0.7777777777777778,\"#fb9f3a\"],[0.8888888888888888,\"#fdca26\"],[1.0,\"#f0f921\"]],\"sequentialminus\":[[0.0,\"#0d0887\"],[0.1111111111111111,\"#46039f\"],[0.2222222222222222,\"#7201a8\"],[0.3333333333333333,\"#9c179e\"],[0.4444444444444444,\"#bd3786\"],[0.5555555555555556,\"#d8576b\"],[0.6666666666666666,\"#ed7953\"],[0.7777777777777778,\"#fb9f3a\"],[0.8888888888888888,\"#fdca26\"],[1.0,\"#f0f921\"]]},\"colorway\":[\"#636efa\",\"#EF553B\",\"#00cc96\",\"#ab63fa\",\"#FFA15A\",\"#19d3f3\",\"#FF6692\",\"#B6E880\",\"#FF97FF\",\"#FECB52\"],\"font\":{\"color\":\"#2a3f5f\"},\"geo\":{\"bgcolor\":\"white\",\"lakecolor\":\"white\",\"landcolor\":\"#E5ECF6\",\"showlakes\":true,\"showland\":true,\"subunitcolor\":\"white\"},\"hoverlabel\":{\"align\":\"left\"},\"hovermode\":\"closest\",\"mapbox\":{\"style\":\"light\"},\"paper_bgcolor\":\"white\",\"plot_bgcolor\":\"#E5ECF6\",\"polar\":{\"angularaxis\":{\"gridcolor\":\"white\",\"linecolor\":\"white\",\"ticks\":\"\"},\"bgcolor\":\"#E5ECF6\",\"radialaxis\":{\"gridcolor\":\"white\",\"linecolor\":\"white\",\"ticks\":\"\"}},\"scene\":{\"xaxis\":{\"backgroundcolor\":\"#E5ECF6\",\"gridcolor\":\"white\",\"gridwidth\":2,\"linecolor\":\"white\",\"showbackground\":true,\"ticks\":\"\",\"zerolinecolor\":\"white\"},\"yaxis\":{\"backgroundcolor\":\"#E5ECF6\",\"gridcolor\":\"white\",\"gridwidth\":2,\"linecolor\":\"white\",\"showbackground\":true,\"ticks\":\"\",\"zerolinecolor\":\"white\"},\"zaxis\":{\"backgroundcolor\":\"#E5ECF6\",\"gridcolor\":\"white\",\"gridwidth\":2,\"linecolor\":\"white\",\"showbackground\":true,\"ticks\":\"\",\"zerolinecolor\":\"white\"}},\"shapedefaults\":{\"line\":{\"color\":\"#2a3f5f\"}},\"ternary\":{\"aaxis\":{\"gridcolor\":\"white\",\"linecolor\":\"white\",\"ticks\":\"\"},\"baxis\":{\"gridcolor\":\"white\",\"linecolor\":\"white\",\"ticks\":\"\"},\"bgcolor\":\"#E5ECF6\",\"caxis\":{\"gridcolor\":\"white\",\"linecolor\":\"white\",\"ticks\":\"\"}},\"title\":{\"x\":0.05},\"xaxis\":{\"automargin\":true,\"gridcolor\":\"white\",\"linecolor\":\"white\",\"ticks\":\"\",\"title\":{\"standoff\":15},\"zerolinecolor\":\"white\",\"zerolinewidth\":2},\"yaxis\":{\"automargin\":true,\"gridcolor\":\"white\",\"linecolor\":\"white\",\"ticks\":\"\",\"title\":{\"standoff\":15},\"zerolinecolor\":\"white\",\"zerolinewidth\":2}}},\"title\":{\"text\":\"Percent cancelled and paying in total charges\"}},                        {\"responsive\": true}                    ).then(function(){\n",
       "                            \n",
       "var gd = document.getElementById('b1e04a21-d8d8-45c9-9e97-bdda701a7cef');\n",
       "var x = new MutationObserver(function (mutations, observer) {{\n",
       "        var display = window.getComputedStyle(gd).display;\n",
       "        if (!display || display === 'none') {{\n",
       "            console.log([gd, 'removed!']);\n",
       "            Plotly.purge(gd);\n",
       "            observer.disconnect();\n",
       "        }}\n",
       "}});\n",
       "\n",
       "// Listen for the removal of the full notebook cells\n",
       "var notebookContainer = gd.closest('#notebook-container');\n",
       "if (notebookContainer) {{\n",
       "    x.observe(notebookContainer, {childList: true});\n",
       "}}\n",
       "\n",
       "// Listen for the clearing of the current output cell\n",
       "var outputEl = gd.closest('.output');\n",
       "if (outputEl) {{\n",
       "    x.observe(outputEl, {childList: true});\n",
       "}}\n",
       "\n",
       "                        })                };                });            </script>        </div>"
      ]
     },
     "metadata": {},
     "output_type": "display_data"
    }
   ],
   "source": [
    "import plotly.graph_objects as go\n",
    "\n",
    "labels = ['Cancelled','Paying']\n",
    "values = df.groupby('Account Status')['Total Charges'].sum().values\n",
    "fig = go.Figure(data=[go.Pie(labels=labels, values=values, textinfo='label+percent'\n",
    "                            )])\n",
    "fig.update_layout(title_text='Percent cancelled and paying in total charges')\n",
    "fig.show()"
   ]
  },
  {
   "cell_type": "markdown",
   "metadata": {},
   "source": [
    "Cancelled chiếm 10% trên tổng số Total Chages."
   ]
  },
  {
   "cell_type": "code",
   "execution_count": 17,
   "metadata": {},
   "outputs": [
    {
     "data": {
      "text/html": [
       "<div>\n",
       "<style scoped>\n",
       "    .dataframe tbody tr th:only-of-type {\n",
       "        vertical-align: middle;\n",
       "    }\n",
       "\n",
       "    .dataframe tbody tr th {\n",
       "        vertical-align: top;\n",
       "    }\n",
       "\n",
       "    .dataframe thead th {\n",
       "        text-align: right;\n",
       "    }\n",
       "</style>\n",
       "<table border=\"1\" class=\"dataframe\">\n",
       "  <thead>\n",
       "    <tr style=\"text-align: right;\">\n",
       "      <th></th>\n",
       "      <th>Customer ID</th>\n",
       "      <th>Free Account Created Date</th>\n",
       "      <th>Last Seen</th>\n",
       "      <th>Session Count</th>\n",
       "      <th>Segment</th>\n",
       "      <th>First Name</th>\n",
       "      <th>Billing Account</th>\n",
       "      <th>Account Status</th>\n",
       "      <th>Upgraded Account Created Date</th>\n",
       "      <th>Upgraded Account Cancelled Date</th>\n",
       "      <th>Total Charges</th>\n",
       "      <th>Upgraded Time</th>\n",
       "      <th>Price change</th>\n",
       "    </tr>\n",
       "  </thead>\n",
       "  <tbody>\n",
       "    <tr>\n",
       "      <th>8</th>\n",
       "      <td>9</td>\n",
       "      <td>2017-05-28</td>\n",
       "      <td>2017-12-18 15:19:31</td>\n",
       "      <td>18</td>\n",
       "      <td>Marketing Segment 3</td>\n",
       "      <td>Garfield</td>\n",
       "      <td>AX#48539</td>\n",
       "      <td>cancelled</td>\n",
       "      <td>2018-04-09</td>\n",
       "      <td>2018-08-22</td>\n",
       "      <td>1107.000000</td>\n",
       "      <td>V1 Released</td>\n",
       "      <td>0</td>\n",
       "    </tr>\n",
       "    <tr>\n",
       "      <th>21</th>\n",
       "      <td>21</td>\n",
       "      <td>2017-08-15</td>\n",
       "      <td>2019-04-24 11:07:32</td>\n",
       "      <td>26</td>\n",
       "      <td>Marketing Segment 3</td>\n",
       "      <td>Jenny</td>\n",
       "      <td>AX#32025</td>\n",
       "      <td>cancelled</td>\n",
       "      <td>2018-04-24</td>\n",
       "      <td>2018-12-10</td>\n",
       "      <td>529.000000</td>\n",
       "      <td>V2 Released</td>\n",
       "      <td>0</td>\n",
       "    </tr>\n",
       "    <tr>\n",
       "      <th>26</th>\n",
       "      <td>26</td>\n",
       "      <td>2017-10-15</td>\n",
       "      <td>2018-12-29 12:04:00</td>\n",
       "      <td>85</td>\n",
       "      <td>Marketing Segment 2</td>\n",
       "      <td>Susanna</td>\n",
       "      <td>AX#47437</td>\n",
       "      <td>cancelled</td>\n",
       "      <td>2018-04-09</td>\n",
       "      <td>2018-10-30</td>\n",
       "      <td>1373.600000</td>\n",
       "      <td>V2 Released</td>\n",
       "      <td>0</td>\n",
       "    </tr>\n",
       "    <tr>\n",
       "      <th>28</th>\n",
       "      <td>28</td>\n",
       "      <td>2017-10-17</td>\n",
       "      <td>2018-02-04 13:07:56</td>\n",
       "      <td>0</td>\n",
       "      <td>Marketing Segment 3</td>\n",
       "      <td>Marlena</td>\n",
       "      <td>AX#63705</td>\n",
       "      <td>cancelled</td>\n",
       "      <td>2018-04-09</td>\n",
       "      <td>2018-08-29</td>\n",
       "      <td>923.000000</td>\n",
       "      <td>V2 Released</td>\n",
       "      <td>0</td>\n",
       "    </tr>\n",
       "    <tr>\n",
       "      <th>32</th>\n",
       "      <td>32</td>\n",
       "      <td>2017-10-21</td>\n",
       "      <td>2018-12-18 16:41:38</td>\n",
       "      <td>93</td>\n",
       "      <td>Marketing Segment 2</td>\n",
       "      <td>Desire</td>\n",
       "      <td>AX#23324</td>\n",
       "      <td>cancelled</td>\n",
       "      <td>2018-04-09</td>\n",
       "      <td>2018-12-19</td>\n",
       "      <td>499.533333</td>\n",
       "      <td>V2 Released</td>\n",
       "      <td>0</td>\n",
       "    </tr>\n",
       "  </tbody>\n",
       "</table>\n",
       "</div>"
      ],
      "text/plain": [
       "    Customer ID Free Account Created Date           Last Seen  Session Count  \\\n",
       "8             9                2017-05-28 2017-12-18 15:19:31             18   \n",
       "21           21                2017-08-15 2019-04-24 11:07:32             26   \n",
       "26           26                2017-10-15 2018-12-29 12:04:00             85   \n",
       "28           28                2017-10-17 2018-02-04 13:07:56              0   \n",
       "32           32                2017-10-21 2018-12-18 16:41:38             93   \n",
       "\n",
       "                Segment First Name Billing Account Account Status  \\\n",
       "8   Marketing Segment 3   Garfield        AX#48539      cancelled   \n",
       "21  Marketing Segment 3      Jenny        AX#32025      cancelled   \n",
       "26  Marketing Segment 2    Susanna        AX#47437      cancelled   \n",
       "28  Marketing Segment 3    Marlena        AX#63705      cancelled   \n",
       "32  Marketing Segment 2     Desire        AX#23324      cancelled   \n",
       "\n",
       "   Upgraded Account Created Date Upgraded Account Cancelled Date  \\\n",
       "8                     2018-04-09                      2018-08-22   \n",
       "21                    2018-04-24                      2018-12-10   \n",
       "26                    2018-04-09                      2018-10-30   \n",
       "28                    2018-04-09                      2018-08-29   \n",
       "32                    2018-04-09                      2018-12-19   \n",
       "\n",
       "    Total Charges Upgraded Time Price change  \n",
       "8     1107.000000   V1 Released            0  \n",
       "21     529.000000   V2 Released            0  \n",
       "26    1373.600000   V2 Released            0  \n",
       "28     923.000000   V2 Released            0  \n",
       "32     499.533333   V2 Released            0  "
      ]
     },
     "execution_count": 17,
     "metadata": {},
     "output_type": "execute_result"
    }
   ],
   "source": [
    "df_cancelled=df[df['Account Status']=='cancelled']\n",
    "df_cancelled.head()"
   ]
  },
  {
   "cell_type": "code",
   "execution_count": 18,
   "metadata": {},
   "outputs": [
    {
     "data": {
      "application/vnd.plotly.v1+json": {
       "config": {
        "plotlyServerURL": "https://plot.ly"
       },
       "data": [
        {
         "legendgroup": "paying",
         "line": {
          "color": "blue"
         },
         "name": "paying",
         "scalegroup": "paying",
         "type": "violin",
         "y": [
          145.6,
          728,
          277.2,
          292.83333333333337,
          462,
          1228.8000000000002,
          3020.8,
          597,
          1709.8,
          2457.6000000000004,
          3874.133333333333,
          1516.2,
          2844.2999999999997,
          435.20000000000005,
          786.5,
          3097.6000000000004,
          780.8000000000001,
          2634.9333333333334,
          3673.5999999999995,
          1244.8333333333335,
          1638.4,
          486.40000000000003,
          243.76666666666668,
          2956.8,
          766,
          3404.8,
          1888.9333333333332,
          1920,
          1728,
          1132.5333333333333,
          3094,
          487.2,
          3136,
          2725.3333333333335,
          1751.5666666666668,
          791.6666666666667,
          944.5333333333333,
          37.2,
          894.8666666666667,
          140,
          679.1666666666667,
          3855.2000000000003,
          735.1666666666667,
          588.8000000000001,
          2568,
          770,
          124.00000000000001,
          1638.4,
          9,
          2677.5,
          1104,
          1640.6666666666667,
          3028.666666666667,
          2468.666666666667,
          3497.3666666666663,
          160.79999999999998,
          873.6,
          2442.6666666666665,
          3345,
          625.1,
          1585.1333333333334,
          1018.6666666666666,
          2070.6,
          741,
          3126.6666666666665,
          1472,
          62.400000000000006,
          2878.866666666667,
          1498.3333333333333,
          2608.2000000000003,
          1833,
          759.6,
          4.9,
          2014,
          2403.333333333333,
          2293.5,
          3170.5,
          2513.2,
          3680.5333333333333,
          1205.1,
          629.3333333333334,
          2307.4333333333334,
          1694.2333333333333,
          293.3333333333333,
          844.8,
          695.8000000000001,
          2679.2999999999997,
          2756,
          2643.666666666667,
          735.1666666666667,
          2591.6,
          558.8,
          2165.6666666666665,
          1058.3999999999999,
          779.3333333333334,
          994.3333333333333,
          15,
          1332.5,
          1567.5,
          2386.8,
          128.70000000000002,
          68.46666666666667,
          2519.4,
          3685.266666666667,
          1499.1000000000001,
          100.3,
          3228.6666666666665,
          1742.3666666666668,
          2747.166666666667,
          1221.7333333333333,
          112.93333333333334,
          232.79999999999998,
          502.93333333333334,
          713.6333333333333,
          554.6666666666666,
          2058.1666666666665,
          929.3333333333334,
          284.20000000000005,
          2327.5,
          1547,
          1171.1999999999998,
          954.8000000000001,
          730.8000000000001,
          504.26666666666665,
          793,
          1363.1333333333332,
          2110,
          2290.133333333333,
          508.3666666666667,
          101.33333333333333,
          432.83333333333337,
          1206.0666666666668,
          786.1333333333333,
          1156.8666666666666,
          1228,
          1370.2666666666667,
          187.03333333333336,
          391.3,
          2774.3999999999996,
          2535.1,
          1242.1333333333332,
          665.0333333333333,
          696,
          1666.9333333333334,
          1129.0666666666666,
          798,
          2764.2666666666664,
          1690.6000000000001,
          806.4,
          362.6333333333333,
          1886.8,
          2431,
          1839.2,
          1377,
          1707.2,
          914.6666666666667,
          2402.4,
          2594.666666666667,
          1499.1000000000001,
          158,
          1788.6,
          485.0666666666667,
          9.833333333333332,
          2527.6,
          1274,
          2332,
          117.53333333333333,
          510,
          235.4,
          1018.7333333333332,
          474.59999999999997,
          1014.6,
          1209.6666666666665,
          2304.4333333333334,
          713.6333333333333,
          554.6666666666666,
          1927.6,
          1177.3666666666666,
          295.26666666666665,
          775.2,
          2068.7333333333336,
          78,
          1677.8666666666666,
          430.7,
          1067.7333333333333,
          1121.8,
          2022.4,
          1927.9333333333332,
          1578.5,
          1943.0666666666666,
          1043.4,
          373.33333333333337,
          642.4,
          1334.8,
          910.1666666666667,
          1147.2,
          668.1666666666666,
          671,
          742,
          258.1333333333333,
          1589.8666666666666,
          773.6666666666666,
          1068.6666666666667,
          462.93333333333334,
          1668.2666666666669,
          137.6,
          24.033333333333335,
          836.1999999999999,
          307.6666666666667,
          48,
          228.93333333333334,
          555,
          843.6,
          1073.3333333333333,
          331.8333333333333,
          420,
          168,
          1198.3999999999999,
          784.4000000000001,
          1738,
          834.4,
          931,
          851.1999999999999,
          638.4,
          263.2,
          1472.8,
          750.4,
          242.00000000000003,
          655.1999999999999,
          54.4,
          190.39999999999998,
          744.8,
          789.5999999999999,
          1031.8666666666666,
          207.2,
          861.8666666666667,
          486.9333333333333,
          1016.7333333333333,
          379.6666666666667,
          477.93333333333334,
          415.40000000000003,
          514.8000000000001,
          491.33333333333337,
          259.66666666666663,
          50.4,
          177.73333333333335,
          1138.1333333333332,
          176.70000000000002,
          1462.9333333333334,
          1166.6666666666665,
          831.1333333333333,
          1800,
          1663.8000000000002,
          653.1333333333333,
          801,
          1341.8999999999999,
          283.6666666666667,
          251.33333333333334,
          576.3,
          37.6,
          34,
          1117.2,
          275.73333333333335,
          1516.2,
          2844.2999999999997,
          564.1999999999999,
          51.8,
          1425,
          21.233333333333334,
          745.0666666666666,
          1641.6000000000001,
          911.1333333333333,
          883.5,
          991.8000000000001,
          769.5,
          1137.5,
          1595.7333333333331,
          1179.1999999999998,
          476,
          797.8666666666667,
          965.9999999999999,
          332.53333333333336,
          182.4,
          402.9,
          1164.2666666666667,
          1012.5000000000001,
          175,
          42.699999999999996,
          1169.6,
          604.8666666666667,
          1584.6000000000001,
          954.8000000000001,
          879.6666666666666,
          1025.2666666666667,
          695,
          229.49999999999997,
          274.26666666666665,
          561.1999999999999,
          318.6,
          799.9333333333334,
          212.8,
          800.8,
          613.6,
          240.66666666666666,
          451.1333333333333,
          893.2,
          657.4333333333334,
          858.6,
          237.66666666666669,
          702.6666666666667,
          354.66666666666663,
          237.60000000000002,
          694.6,
          604,
          630.7666666666667,
          918.6333333333333,
          592.2,
          508.3666666666667,
          260.3333333333333,
          929.5333333333333,
          657.4,
          600.6666666666667,
          909.9999999999999,
          637.5333333333333,
          891.7333333333333,
          326.53333333333336,
          687.8666666666667,
          263.23333333333335,
          60.13333333333333,
          328.79999999999995,
          170.79999999999998,
          122.10000000000001,
          1157.2333333333333,
          577.2,
          453.8666666666667,
          396.90000000000003,
          43,
          225.39999999999998,
          591.6666666666666,
          847.1333333333332,
          733.5999999999999,
          214,
          691.6666666666666,
          819.2,
          4.966666666666667,
          480.5333333333333,
          927.7333333333333,
          545.6,
          537.6,
          250.86666666666667,
          1053.4333333333334,
          837.1999999999999,
          1316.7,
          207.43333333333334,
          253.86666666666667,
          322,
          392,
          360.79999999999995,
          787.2666666666667,
          984.4,
          109.19999999999999,
          568.4,
          1017.3333333333334,
          149.46666666666667,
          150,
          206.4,
          171.60000000000002,
          443.73333333333335,
          675.0333333333334,
          1074.3999999999999,
          29.3,
          512.4,
          544,
          4.666666666666667,
          3.8666666666666667,
          672.4,
          196,
          1245.2,
          705.5999999999999,
          312.8,
          449.40000000000003,
          9.1,
          220.00000000000003,
          440.16666666666663,
          264.3666666666667,
          407.40000000000003,
          347.8,
          498.8,
          668.8666666666667,
          2.6,
          1220.8333333333335,
          362.4333333333333,
          979.3333333333333,
          12,
          285.2,
          624.8333333333334,
          191.4,
          1240.3666666666668,
          998.4,
          943.8,
          170.66666666666666,
          112.1,
          575,
          120.99999999999999,
          410.6333333333333,
          695.8333333333334,
          1145.8333333333335,
          1129.1666666666667,
          312,
          583.1999999999999,
          170.83333333333334,
          746.1666666666666,
          557.6,
          1205.3999999999999,
          212.50000000000003,
          620.6666666666667,
          799,
          482.5333333333333,
          235.16666666666666,
          187.2,
          776,
          576.6666666666667,
          194.26666666666668,
          539.6,
          780,
          139.33333333333331,
          832.3333333333333,
          804,
          700,
          114,
          239.20000000000002,
          591.3,
          129.5,
          220.26666666666668,
          34.6,
          724.5,
          633.9333333333334,
          676.3666666666667,
          638.4,
          553.7,
          56,
          972.4,
          558.1333333333333,
          502.9333333333334,
          702.7333333333333,
          532.8000000000001,
          462.4,
          560,
          733.9333333333333,
          773.3000000000001,
          256.53333333333336,
          174.93333333333334,
          363.8,
          280,
          756.6666666666667,
          141.66666666666669,
          330,
          493.26666666666665,
          680.0666666666667,
          8.233333333333333,
          157.06666666666666,
          412.76666666666665,
          76.53333333333333,
          515.2,
          702.9,
          482.1333333333333,
          429.8666666666667,
          157.86666666666667,
          62.93333333333333,
          4.133333333333333,
          1.4,
          171.66666666666666,
          113.46666666666667,
          573.3,
          448,
          732.6,
          111.46666666666667,
          147.9,
          73.5,
          908.6666666666666,
          517,
          676.1999999999999,
          199.2,
          660.3333333333334,
          566.8000000000001,
          638.6,
          578,
          243,
          730.8,
          4.166666666666667,
          187.6,
          664.2,
          257.40000000000003,
          628.0333333333333,
          279,
          501.5,
          400,
          81.63333333333333,
          154.53333333333333,
          405,
          14.466666666666667,
          753.5333333333334,
          691.6,
          410.4,
          233.56666666666666,
          96.6,
          10.266666666666666,
          744.2333333333333,
          95.33333333333333,
          264.8666666666667,
          160.20000000000002,
          478.5,
          389.8666666666667,
          208.26666666666668,
          72,
          473.59999999999997,
          90,
          223.6,
          222.16666666666666,
          76.36666666666666,
          263.2,
          46.6,
          28.400000000000002,
          34.2,
          89.6,
          232.29999999999998,
          20.200000000000003,
          56,
          337.5,
          64.89999999999999,
          338.33333333333337,
          750.4,
          242.00000000000003,
          199.83333333333331,
          86.7,
          444.16666666666663,
          101.4,
          409.4,
          65.10000000000001,
          685.3000000000001,
          482.8,
          114.4,
          336.8333333333333,
          262.4,
          307.2,
          270,
          72.8,
          59.733333333333334,
          88.66666666666666,
          97.5,
          148.5,
          427.5,
          13.600000000000001,
          223.3,
          297.5,
          396.93333333333334,
          116.1,
          508.79999999999995,
          1.7333333333333334,
          80.46666666666667,
          363,
          110.5,
          78.1,
          345.1333333333334,
          206.99999999999997,
          4.166666666666667,
          148.5,
          462,
          3.7333333333333334,
          139.2,
          156.39999999999998,
          88.93333333333334,
          223.10000000000002,
          408,
          372.4,
          239.7,
          386.3666666666667,
          418.00000000000006,
          65.33333333333333,
          148.5,
          462,
          646.8000000000001,
          275,
          292.5,
          341,
          83.2,
          375.46666666666664,
          375.53333333333336,
          30.4,
          58.800000000000004,
          115.73333333333335,
          285,
          179.2,
          22.73333333333333,
          504.26666666666665,
          113.46666666666667,
          111.30000000000001,
          315,
          480.7,
          120,
          210.73333333333335,
          558.1333333333333,
          502.9333333333334,
          28.700000000000003,
          431.1333333333333,
          401.06666666666666,
          286.7,
          19.166666666666664,
          101.33333333333333,
          130.83333333333334,
          406,
          214.5,
          311.26666666666665,
          236.66666666666669,
          167.73333333333332,
          305.9,
          410,
          245.43333333333334,
          332.5,
          97.5,
          9.633333333333333,
          331.8333333333333,
          66.73333333333333,
          517.0666666666667,
          224.4,
          308.4,
          393.23333333333335,
          99.16666666666667,
          64.23333333333333,
          336.6666666666667,
          300.6,
          355.93333333333334,
          6.666666666666667,
          258.5,
          101.5,
          203.53333333333333,
          156.86666666666667,
          277.09999999999997,
          402.1333333333333,
          38,
          225,
          139.20000000000002,
          253.8,
          35,
          365.5,
          108.3,
          73.26666666666667,
          81.66666666666667,
          10.5,
          300.93333333333334,
          78.3,
          302.3666666666667,
          3.933333333333333,
          288.06666666666666,
          137.86666666666667,
          369.1333333333333,
          280.6,
          299.3,
          363.20000000000005,
          148.73333333333335,
          54.833333333333336,
          208.8,
          144,
          139.20000000000002,
          468.43333333333334,
          240.8,
          290.40000000000003,
          53.66666666666667,
          301.73333333333335,
          157.3,
          92,
          81.7,
          77.4,
          297.5,
          122.46666666666665,
          70,
          209.66666666666666,
          278.06666666666666,
          90.3,
          151.93333333333334,
          83.36666666666667,
          92.5,
          6.933333333333334,
          274.1333333333333,
          46.83333333333333,
          58.766666666666666,
          135.66666666666666,
          283.5,
          177.33333333333331,
          145.70000000000002,
          115.7,
          332.8,
          206.26666666666668,
          211.93333333333334,
          120.16666666666667,
          357.59999999999997,
          60.266666666666666,
          116.53333333333333,
          212.3,
          111,
          5.8,
          149.60000000000002,
          74.7,
          123.6,
          236.39999999999998,
          7.8,
          106,
          57.2,
          47.5,
          51,
          1.6333333333333333,
          196.23333333333335,
          218.4,
          280.5,
          100.86666666666666,
          214.2,
          41.33333333333333,
          8.033333333333333,
          206.8,
          163.8,
          324.5,
          160,
          200.66666666666666,
          188.5,
          188.8,
          219.6,
          172.5666666666667,
          74.23333333333333,
          37.800000000000004,
          134,
          22.799999999999997,
          180,
          174.20000000000002,
          273.4666666666667,
          220.5,
          81.66666666666667,
          175.46666666666667,
          184.5,
          126.86666666666666,
          80.10000000000001,
          119.60000000000001,
          178.63333333333335,
          33.333333333333336,
          129.33333333333331,
          78.96666666666667,
          215.1,
          126.9,
          172,
          257.40000000000003,
          189,
          18.8,
          160.6,
          172.46666666666667,
          40,
          185.53333333333333,
          114,
          156.4,
          132.36666666666667,
          58.06666666666667,
          248.73333333333335,
          105.83333333333334,
          36.800000000000004,
          2.8666666666666667,
          104.86666666666667,
          169.86666666666667,
          196.53333333333333,
          96.2,
          50.266666666666666,
          21.5,
          128.70000000000002,
          68.46666666666667,
          154.16666666666669,
          196.73333333333335,
          84.06666666666666,
          208.26666666666665,
          209.16666666666669,
          142.13333333333333,
          151.66666666666669,
          130.79999999999998,
          169,
          12.533333333333333,
          60.8,
          16.166666666666664,
          212.5,
          151.20000000000002,
          182.46666666666667,
          124.80000000000001,
          84,
          118.4,
          216.20000000000002,
          1.6333333333333333,
          35.233333333333334,
          91.19999999999999,
          12.833333333333332,
          29.900000000000002,
          181.70000000000002,
          93.1,
          28.7,
          93,
          123.43333333333334,
          23.333333333333332,
          65.33333333333333,
          97.33333333333333,
          209.3,
          111.16666666666667,
          66.73333333333333,
          122.46666666666665,
          27.133333333333333,
          128.66666666666666,
          28.833333333333332,
          42,
          148.46666666666667,
          110.73333333333332,
          75.53333333333333,
          36.3,
          154.53333333333333,
          75.5,
          6.066666666666666,
          80.5,
          21.400000000000002,
          8.666666666666666,
          91.83333333333333,
          39,
          114.66666666666666,
          102.4,
          56.666666666666664,
          47.5,
          29.033333333333335,
          22.666666666666664,
          97.6,
          2.6,
          85.33333333333333,
          40.5,
          91.5,
          56.46666666666666,
          61.53333333333334,
          82.5,
          95.33333333333334,
          86,
          12.166666666666666,
          13.799999999999999,
          32.666666666666664,
          123.66666666666667,
          1.8,
          17.5,
          53.300000000000004,
          79.3,
          1.7666666666666666,
          56.8,
          65.7,
          24.266666666666666,
          17.96666666666667,
          65.2,
          2.8,
          38.266666666666666,
          84.80000000000001,
          4.366666666666666,
          22.400000000000002,
          10.666666666666666,
          20.933333333333334,
          40.666666666666664,
          26.833333333333332,
          38.03333333333333,
          27.333333333333332,
          25,
          55.400000000000006,
          4.266666666666667,
          6.266666666666667,
          31.2,
          16.1,
          21.200000000000003,
          50.4,
          2.466666666666667,
          40.6,
          4.433333333333334,
          7.6000000000000005,
          24.200000000000003,
          32.6,
          30.200000000000003,
          35.06666666666666,
          7.433333333333334,
          19.5,
          8.566666666666666,
          24.333333333333332,
          21.700000000000003,
          7.466666666666667,
          21.200000000000003,
          6.833333333333333,
          4.733333333333333,
          0,
          0
         ]
        },
        {
         "legendgroup": "cancel",
         "line": {
          "color": "orange"
         },
         "name": "cancel",
         "scalegroup": "cancel",
         "type": "violin",
         "y": [
          1107,
          529,
          1373.6,
          923,
          499.53333333333336,
          4430.266666666666,
          1516.6666666666665,
          0,
          512.8333333333334,
          1941.2,
          1679.6000000000001,
          306.73333333333335,
          2195.2000000000003,
          2268,
          0,
          758.7666666666667,
          942,
          48.06666666666667,
          389.4,
          54.6,
          739.6666666666666,
          248.3,
          560.2333333333333,
          343.6333333333333,
          250.86666666666665,
          2180.5333333333333,
          927.4666666666667,
          215,
          380.79999999999995,
          655.6999999999999,
          323.8333333333333,
          294.8,
          828.1999999999999,
          483.33333333333337,
          43.06666666666666,
          106.66666666666666,
          395.6333333333333,
          2195.2000000000003,
          195,
          546.8333333333334,
          120.4,
          42,
          343.03333333333336,
          766.9666666666667,
          281.2,
          100.8,
          211.86666666666667,
          518.4,
          620,
          763.1666666666666,
          12.100000000000001,
          244.53333333333333,
          207.70000000000002,
          448.23333333333335,
          445.2,
          291.40000000000003,
          55,
          210,
          156.8,
          206.26666666666668,
          85.86666666666667,
          363.3,
          189.86666666666667,
          1358.8333333333335,
          178.26666666666668,
          372.09999999999997,
          51.333333333333336,
          88.66666666666667,
          607.7333333333333,
          1219.3,
          314.1333333333333,
          909,
          196,
          9.6,
          1476.8,
          382.2,
          369.2,
          436.0666666666667,
          33.833333333333336,
          122.26666666666667,
          12.8,
          300.66666666666663,
          1021.1333333333333,
          106.66666666666666,
          9.866666666666667,
          88.66666666666666,
          205.46666666666667,
          1092,
          117.93333333333334,
          123.2,
          269.8,
          157.0666666666667,
          387.09999999999997,
          122.2,
          245.46666666666667,
          80.26666666666667,
          17.033333333333335,
          205.1,
          229.6,
          154.93333333333334,
          110.7,
          104,
          7.6,
          34.666666666666664,
          186.83333333333331,
          160.8,
          237.60000000000002,
          28.333333333333332,
          123.73333333333333,
          71.96666666666667,
          327.6,
          188.33333333333334,
          53.6,
          161.1,
          138,
          234.5666666666667,
          229.89999999999998,
          246.13333333333335,
          637.8666666666667,
          17.833333333333332,
          458.3333333333333,
          31,
          126.96666666666667
         ]
        }
       ],
       "layout": {
        "template": {
         "data": {
          "bar": [
           {
            "error_x": {
             "color": "#2a3f5f"
            },
            "error_y": {
             "color": "#2a3f5f"
            },
            "marker": {
             "line": {
              "color": "#E5ECF6",
              "width": 0.5
             },
             "pattern": {
              "fillmode": "overlay",
              "size": 10,
              "solidity": 0.2
             }
            },
            "type": "bar"
           }
          ],
          "barpolar": [
           {
            "marker": {
             "line": {
              "color": "#E5ECF6",
              "width": 0.5
             },
             "pattern": {
              "fillmode": "overlay",
              "size": 10,
              "solidity": 0.2
             }
            },
            "type": "barpolar"
           }
          ],
          "carpet": [
           {
            "aaxis": {
             "endlinecolor": "#2a3f5f",
             "gridcolor": "white",
             "linecolor": "white",
             "minorgridcolor": "white",
             "startlinecolor": "#2a3f5f"
            },
            "baxis": {
             "endlinecolor": "#2a3f5f",
             "gridcolor": "white",
             "linecolor": "white",
             "minorgridcolor": "white",
             "startlinecolor": "#2a3f5f"
            },
            "type": "carpet"
           }
          ],
          "choropleth": [
           {
            "colorbar": {
             "outlinewidth": 0,
             "ticks": ""
            },
            "type": "choropleth"
           }
          ],
          "contour": [
           {
            "colorbar": {
             "outlinewidth": 0,
             "ticks": ""
            },
            "colorscale": [
             [
              0,
              "#0d0887"
             ],
             [
              0.1111111111111111,
              "#46039f"
             ],
             [
              0.2222222222222222,
              "#7201a8"
             ],
             [
              0.3333333333333333,
              "#9c179e"
             ],
             [
              0.4444444444444444,
              "#bd3786"
             ],
             [
              0.5555555555555556,
              "#d8576b"
             ],
             [
              0.6666666666666666,
              "#ed7953"
             ],
             [
              0.7777777777777778,
              "#fb9f3a"
             ],
             [
              0.8888888888888888,
              "#fdca26"
             ],
             [
              1,
              "#f0f921"
             ]
            ],
            "type": "contour"
           }
          ],
          "contourcarpet": [
           {
            "colorbar": {
             "outlinewidth": 0,
             "ticks": ""
            },
            "type": "contourcarpet"
           }
          ],
          "heatmap": [
           {
            "colorbar": {
             "outlinewidth": 0,
             "ticks": ""
            },
            "colorscale": [
             [
              0,
              "#0d0887"
             ],
             [
              0.1111111111111111,
              "#46039f"
             ],
             [
              0.2222222222222222,
              "#7201a8"
             ],
             [
              0.3333333333333333,
              "#9c179e"
             ],
             [
              0.4444444444444444,
              "#bd3786"
             ],
             [
              0.5555555555555556,
              "#d8576b"
             ],
             [
              0.6666666666666666,
              "#ed7953"
             ],
             [
              0.7777777777777778,
              "#fb9f3a"
             ],
             [
              0.8888888888888888,
              "#fdca26"
             ],
             [
              1,
              "#f0f921"
             ]
            ],
            "type": "heatmap"
           }
          ],
          "heatmapgl": [
           {
            "colorbar": {
             "outlinewidth": 0,
             "ticks": ""
            },
            "colorscale": [
             [
              0,
              "#0d0887"
             ],
             [
              0.1111111111111111,
              "#46039f"
             ],
             [
              0.2222222222222222,
              "#7201a8"
             ],
             [
              0.3333333333333333,
              "#9c179e"
             ],
             [
              0.4444444444444444,
              "#bd3786"
             ],
             [
              0.5555555555555556,
              "#d8576b"
             ],
             [
              0.6666666666666666,
              "#ed7953"
             ],
             [
              0.7777777777777778,
              "#fb9f3a"
             ],
             [
              0.8888888888888888,
              "#fdca26"
             ],
             [
              1,
              "#f0f921"
             ]
            ],
            "type": "heatmapgl"
           }
          ],
          "histogram": [
           {
            "marker": {
             "pattern": {
              "fillmode": "overlay",
              "size": 10,
              "solidity": 0.2
             }
            },
            "type": "histogram"
           }
          ],
          "histogram2d": [
           {
            "colorbar": {
             "outlinewidth": 0,
             "ticks": ""
            },
            "colorscale": [
             [
              0,
              "#0d0887"
             ],
             [
              0.1111111111111111,
              "#46039f"
             ],
             [
              0.2222222222222222,
              "#7201a8"
             ],
             [
              0.3333333333333333,
              "#9c179e"
             ],
             [
              0.4444444444444444,
              "#bd3786"
             ],
             [
              0.5555555555555556,
              "#d8576b"
             ],
             [
              0.6666666666666666,
              "#ed7953"
             ],
             [
              0.7777777777777778,
              "#fb9f3a"
             ],
             [
              0.8888888888888888,
              "#fdca26"
             ],
             [
              1,
              "#f0f921"
             ]
            ],
            "type": "histogram2d"
           }
          ],
          "histogram2dcontour": [
           {
            "colorbar": {
             "outlinewidth": 0,
             "ticks": ""
            },
            "colorscale": [
             [
              0,
              "#0d0887"
             ],
             [
              0.1111111111111111,
              "#46039f"
             ],
             [
              0.2222222222222222,
              "#7201a8"
             ],
             [
              0.3333333333333333,
              "#9c179e"
             ],
             [
              0.4444444444444444,
              "#bd3786"
             ],
             [
              0.5555555555555556,
              "#d8576b"
             ],
             [
              0.6666666666666666,
              "#ed7953"
             ],
             [
              0.7777777777777778,
              "#fb9f3a"
             ],
             [
              0.8888888888888888,
              "#fdca26"
             ],
             [
              1,
              "#f0f921"
             ]
            ],
            "type": "histogram2dcontour"
           }
          ],
          "mesh3d": [
           {
            "colorbar": {
             "outlinewidth": 0,
             "ticks": ""
            },
            "type": "mesh3d"
           }
          ],
          "parcoords": [
           {
            "line": {
             "colorbar": {
              "outlinewidth": 0,
              "ticks": ""
             }
            },
            "type": "parcoords"
           }
          ],
          "pie": [
           {
            "automargin": true,
            "type": "pie"
           }
          ],
          "scatter": [
           {
            "marker": {
             "colorbar": {
              "outlinewidth": 0,
              "ticks": ""
             }
            },
            "type": "scatter"
           }
          ],
          "scatter3d": [
           {
            "line": {
             "colorbar": {
              "outlinewidth": 0,
              "ticks": ""
             }
            },
            "marker": {
             "colorbar": {
              "outlinewidth": 0,
              "ticks": ""
             }
            },
            "type": "scatter3d"
           }
          ],
          "scattercarpet": [
           {
            "marker": {
             "colorbar": {
              "outlinewidth": 0,
              "ticks": ""
             }
            },
            "type": "scattercarpet"
           }
          ],
          "scattergeo": [
           {
            "marker": {
             "colorbar": {
              "outlinewidth": 0,
              "ticks": ""
             }
            },
            "type": "scattergeo"
           }
          ],
          "scattergl": [
           {
            "marker": {
             "colorbar": {
              "outlinewidth": 0,
              "ticks": ""
             }
            },
            "type": "scattergl"
           }
          ],
          "scattermapbox": [
           {
            "marker": {
             "colorbar": {
              "outlinewidth": 0,
              "ticks": ""
             }
            },
            "type": "scattermapbox"
           }
          ],
          "scatterpolar": [
           {
            "marker": {
             "colorbar": {
              "outlinewidth": 0,
              "ticks": ""
             }
            },
            "type": "scatterpolar"
           }
          ],
          "scatterpolargl": [
           {
            "marker": {
             "colorbar": {
              "outlinewidth": 0,
              "ticks": ""
             }
            },
            "type": "scatterpolargl"
           }
          ],
          "scatterternary": [
           {
            "marker": {
             "colorbar": {
              "outlinewidth": 0,
              "ticks": ""
             }
            },
            "type": "scatterternary"
           }
          ],
          "surface": [
           {
            "colorbar": {
             "outlinewidth": 0,
             "ticks": ""
            },
            "colorscale": [
             [
              0,
              "#0d0887"
             ],
             [
              0.1111111111111111,
              "#46039f"
             ],
             [
              0.2222222222222222,
              "#7201a8"
             ],
             [
              0.3333333333333333,
              "#9c179e"
             ],
             [
              0.4444444444444444,
              "#bd3786"
             ],
             [
              0.5555555555555556,
              "#d8576b"
             ],
             [
              0.6666666666666666,
              "#ed7953"
             ],
             [
              0.7777777777777778,
              "#fb9f3a"
             ],
             [
              0.8888888888888888,
              "#fdca26"
             ],
             [
              1,
              "#f0f921"
             ]
            ],
            "type": "surface"
           }
          ],
          "table": [
           {
            "cells": {
             "fill": {
              "color": "#EBF0F8"
             },
             "line": {
              "color": "white"
             }
            },
            "header": {
             "fill": {
              "color": "#C8D4E3"
             },
             "line": {
              "color": "white"
             }
            },
            "type": "table"
           }
          ]
         },
         "layout": {
          "annotationdefaults": {
           "arrowcolor": "#2a3f5f",
           "arrowhead": 0,
           "arrowwidth": 1
          },
          "autotypenumbers": "strict",
          "coloraxis": {
           "colorbar": {
            "outlinewidth": 0,
            "ticks": ""
           }
          },
          "colorscale": {
           "diverging": [
            [
             0,
             "#8e0152"
            ],
            [
             0.1,
             "#c51b7d"
            ],
            [
             0.2,
             "#de77ae"
            ],
            [
             0.3,
             "#f1b6da"
            ],
            [
             0.4,
             "#fde0ef"
            ],
            [
             0.5,
             "#f7f7f7"
            ],
            [
             0.6,
             "#e6f5d0"
            ],
            [
             0.7,
             "#b8e186"
            ],
            [
             0.8,
             "#7fbc41"
            ],
            [
             0.9,
             "#4d9221"
            ],
            [
             1,
             "#276419"
            ]
           ],
           "sequential": [
            [
             0,
             "#0d0887"
            ],
            [
             0.1111111111111111,
             "#46039f"
            ],
            [
             0.2222222222222222,
             "#7201a8"
            ],
            [
             0.3333333333333333,
             "#9c179e"
            ],
            [
             0.4444444444444444,
             "#bd3786"
            ],
            [
             0.5555555555555556,
             "#d8576b"
            ],
            [
             0.6666666666666666,
             "#ed7953"
            ],
            [
             0.7777777777777778,
             "#fb9f3a"
            ],
            [
             0.8888888888888888,
             "#fdca26"
            ],
            [
             1,
             "#f0f921"
            ]
           ],
           "sequentialminus": [
            [
             0,
             "#0d0887"
            ],
            [
             0.1111111111111111,
             "#46039f"
            ],
            [
             0.2222222222222222,
             "#7201a8"
            ],
            [
             0.3333333333333333,
             "#9c179e"
            ],
            [
             0.4444444444444444,
             "#bd3786"
            ],
            [
             0.5555555555555556,
             "#d8576b"
            ],
            [
             0.6666666666666666,
             "#ed7953"
            ],
            [
             0.7777777777777778,
             "#fb9f3a"
            ],
            [
             0.8888888888888888,
             "#fdca26"
            ],
            [
             1,
             "#f0f921"
            ]
           ]
          },
          "colorway": [
           "#636efa",
           "#EF553B",
           "#00cc96",
           "#ab63fa",
           "#FFA15A",
           "#19d3f3",
           "#FF6692",
           "#B6E880",
           "#FF97FF",
           "#FECB52"
          ],
          "font": {
           "color": "#2a3f5f"
          },
          "geo": {
           "bgcolor": "white",
           "lakecolor": "white",
           "landcolor": "#E5ECF6",
           "showlakes": true,
           "showland": true,
           "subunitcolor": "white"
          },
          "hoverlabel": {
           "align": "left"
          },
          "hovermode": "closest",
          "mapbox": {
           "style": "light"
          },
          "paper_bgcolor": "white",
          "plot_bgcolor": "#E5ECF6",
          "polar": {
           "angularaxis": {
            "gridcolor": "white",
            "linecolor": "white",
            "ticks": ""
           },
           "bgcolor": "#E5ECF6",
           "radialaxis": {
            "gridcolor": "white",
            "linecolor": "white",
            "ticks": ""
           }
          },
          "scene": {
           "xaxis": {
            "backgroundcolor": "#E5ECF6",
            "gridcolor": "white",
            "gridwidth": 2,
            "linecolor": "white",
            "showbackground": true,
            "ticks": "",
            "zerolinecolor": "white"
           },
           "yaxis": {
            "backgroundcolor": "#E5ECF6",
            "gridcolor": "white",
            "gridwidth": 2,
            "linecolor": "white",
            "showbackground": true,
            "ticks": "",
            "zerolinecolor": "white"
           },
           "zaxis": {
            "backgroundcolor": "#E5ECF6",
            "gridcolor": "white",
            "gridwidth": 2,
            "linecolor": "white",
            "showbackground": true,
            "ticks": "",
            "zerolinecolor": "white"
           }
          },
          "shapedefaults": {
           "line": {
            "color": "#2a3f5f"
           }
          },
          "ternary": {
           "aaxis": {
            "gridcolor": "white",
            "linecolor": "white",
            "ticks": ""
           },
           "baxis": {
            "gridcolor": "white",
            "linecolor": "white",
            "ticks": ""
           },
           "bgcolor": "#E5ECF6",
           "caxis": {
            "gridcolor": "white",
            "linecolor": "white",
            "ticks": ""
           }
          },
          "title": {
           "x": 0.05
          },
          "xaxis": {
           "automargin": true,
           "gridcolor": "white",
           "linecolor": "white",
           "ticks": "",
           "title": {
            "standoff": 15
           },
           "zerolinecolor": "white",
           "zerolinewidth": 2
          },
          "yaxis": {
           "automargin": true,
           "gridcolor": "white",
           "linecolor": "white",
           "ticks": "",
           "title": {
            "standoff": 15
           },
           "zerolinecolor": "white",
           "zerolinewidth": 2
          }
         }
        }
       }
      },
      "text/html": [
       "<div>                            <div id=\"55ae95a9-3c00-4804-8654-57a461decbae\" class=\"plotly-graph-div\" style=\"height:525px; width:100%;\"></div>            <script type=\"text/javascript\">                require([\"plotly\"], function(Plotly) {                    window.PLOTLYENV=window.PLOTLYENV || {};                                    if (document.getElementById(\"55ae95a9-3c00-4804-8654-57a461decbae\")) {                    Plotly.newPlot(                        \"55ae95a9-3c00-4804-8654-57a461decbae\",                        [{\"legendgroup\":\"paying\",\"line\":{\"color\":\"blue\"},\"name\":\"paying\",\"scalegroup\":\"paying\",\"type\":\"violin\",\"y\":[145.6,728.0,277.2,292.83333333333337,462.0,1228.8000000000002,3020.8,597.0,1709.8,2457.6000000000004,3874.133333333333,1516.2,2844.2999999999997,435.20000000000005,786.5,3097.6000000000004,780.8000000000001,2634.9333333333334,3673.5999999999995,1244.8333333333335,1638.4,486.40000000000003,243.76666666666668,2956.8,766.0,3404.8,1888.9333333333332,1920.0,1728.0,1132.5333333333333,3094.0,487.2,3136.0,2725.3333333333335,1751.5666666666668,791.6666666666667,944.5333333333333,37.2,894.8666666666667,140.0,679.1666666666667,3855.2000000000003,735.1666666666667,588.8000000000001,2568.0,770.0,124.00000000000001,1638.4,9.0,2677.5,1104.0,1640.6666666666667,3028.666666666667,2468.666666666667,3497.3666666666663,160.79999999999998,873.6,2442.6666666666665,3345.0,625.1,1585.1333333333334,1018.6666666666666,2070.6,741.0,3126.6666666666665,1472.0,62.400000000000006,2878.866666666667,1498.3333333333333,2608.2000000000003,1833.0,759.6,4.9,2014.0,2403.333333333333,2293.5,3170.5,2513.2,3680.5333333333333,1205.1,629.3333333333334,2307.4333333333334,1694.2333333333333,293.3333333333333,844.8,695.8000000000001,2679.2999999999997,2756.0,2643.666666666667,735.1666666666667,2591.6,558.8,2165.6666666666665,1058.3999999999999,779.3333333333334,994.3333333333333,15.0,1332.5,1567.5,2386.8,128.70000000000002,68.46666666666667,2519.4,3685.266666666667,1499.1000000000001,100.3,3228.6666666666665,1742.3666666666668,2747.166666666667,1221.7333333333333,112.93333333333334,232.79999999999998,502.93333333333334,713.6333333333333,554.6666666666666,2058.1666666666665,929.3333333333334,284.20000000000005,2327.5,1547.0,1171.1999999999998,954.8000000000001,730.8000000000001,504.26666666666665,793.0,1363.1333333333332,2110.0,2290.133333333333,508.3666666666667,101.33333333333333,432.83333333333337,1206.0666666666668,786.1333333333333,1156.8666666666666,1228.0,1370.2666666666667,187.03333333333336,391.3,2774.3999999999996,2535.1,1242.1333333333332,665.0333333333333,696.0,1666.9333333333334,1129.0666666666666,798.0,2764.2666666666664,1690.6000000000001,806.4,362.6333333333333,1886.8,2431.0,1839.2,1377.0,1707.2,914.6666666666667,2402.4,2594.666666666667,1499.1000000000001,158.0,1788.6,485.0666666666667,9.833333333333332,2527.6,1274.0,2332.0,117.53333333333333,510.0,235.4,1018.7333333333332,474.59999999999997,1014.6,1209.6666666666665,2304.4333333333334,713.6333333333333,554.6666666666666,1927.6,1177.3666666666666,295.26666666666665,775.2,2068.7333333333336,78.0,1677.8666666666666,430.7,1067.7333333333333,1121.8,2022.4,1927.9333333333332,1578.5,1943.0666666666666,1043.4,373.33333333333337,642.4,1334.8,910.1666666666667,1147.2,668.1666666666666,671.0,742.0,258.1333333333333,1589.8666666666666,773.6666666666666,1068.6666666666667,462.93333333333334,1668.2666666666669,137.6,24.033333333333335,836.1999999999999,307.6666666666667,48.0,228.93333333333334,555.0,843.6,1073.3333333333333,331.8333333333333,420.0,168.0,1198.3999999999999,784.4000000000001,1738.0,834.4,931.0,851.1999999999999,638.4,263.2,1472.8,750.4,242.00000000000003,655.1999999999999,54.4,190.39999999999998,744.8,789.5999999999999,1031.8666666666666,207.2,861.8666666666667,486.9333333333333,1016.7333333333333,379.6666666666667,477.93333333333334,415.40000000000003,514.8000000000001,491.33333333333337,259.66666666666663,50.4,177.73333333333335,1138.1333333333332,176.70000000000002,1462.9333333333334,1166.6666666666665,831.1333333333333,1800.0,1663.8000000000002,653.1333333333333,801.0,1341.8999999999999,283.6666666666667,251.33333333333334,576.3,37.6,34.0,1117.2,275.73333333333335,1516.2,2844.2999999999997,564.1999999999999,51.8,1425.0,21.233333333333334,745.0666666666666,1641.6000000000001,911.1333333333333,883.5,991.8000000000001,769.5,1137.5,1595.7333333333331,1179.1999999999998,476.0,797.8666666666667,965.9999999999999,332.53333333333336,182.4,402.9,1164.2666666666667,1012.5000000000001,175.0,42.699999999999996,1169.6,604.8666666666667,1584.6000000000001,954.8000000000001,879.6666666666666,1025.2666666666667,695.0,229.49999999999997,274.26666666666665,561.1999999999999,318.6,799.9333333333334,212.8,800.8,613.6,240.66666666666666,451.1333333333333,893.2,657.4333333333334,858.6,237.66666666666669,702.6666666666667,354.66666666666663,237.60000000000002,694.6,604.0,630.7666666666667,918.6333333333333,592.2,508.3666666666667,260.3333333333333,929.5333333333333,657.4,600.6666666666667,909.9999999999999,637.5333333333333,891.7333333333333,326.53333333333336,687.8666666666667,263.23333333333335,60.13333333333333,328.79999999999995,170.79999999999998,122.10000000000001,1157.2333333333333,577.2,453.8666666666667,396.90000000000003,43.0,225.39999999999998,591.6666666666666,847.1333333333332,733.5999999999999,214.0,691.6666666666666,819.2,4.966666666666667,480.5333333333333,927.7333333333333,545.6,537.6,250.86666666666667,1053.4333333333334,837.1999999999999,1316.7,207.43333333333334,253.86666666666667,322.0,392.0,360.79999999999995,787.2666666666667,984.4,109.19999999999999,568.4,1017.3333333333334,149.46666666666667,150.0,206.4,171.60000000000002,443.73333333333335,675.0333333333334,1074.3999999999999,29.3,512.4,544.0,4.666666666666667,3.8666666666666667,672.4,196.0,1245.2,705.5999999999999,312.8,449.40000000000003,9.1,220.00000000000003,440.16666666666663,264.3666666666667,407.40000000000003,347.8,498.8,668.8666666666667,2.6,1220.8333333333335,362.4333333333333,979.3333333333333,12.0,285.2,624.8333333333334,191.4,1240.3666666666668,998.4,943.8,170.66666666666666,112.1,575.0,120.99999999999999,410.6333333333333,695.8333333333334,1145.8333333333335,1129.1666666666667,312.0,583.1999999999999,170.83333333333334,746.1666666666666,557.6,1205.3999999999999,212.50000000000003,620.6666666666667,799.0,482.5333333333333,235.16666666666666,187.2,776.0,576.6666666666667,194.26666666666668,539.6,780.0,139.33333333333331,832.3333333333333,804.0,700.0,114.0,239.20000000000002,591.3,129.5,220.26666666666668,34.6,724.5,633.9333333333334,676.3666666666667,638.4,553.7,56.0,972.4,558.1333333333333,502.9333333333334,702.7333333333333,532.8000000000001,462.4,560.0,733.9333333333333,773.3000000000001,256.53333333333336,174.93333333333334,363.8,280.0,756.6666666666667,141.66666666666669,330.0,493.26666666666665,680.0666666666667,8.233333333333333,157.06666666666666,412.76666666666665,76.53333333333333,515.2,702.9,482.1333333333333,429.8666666666667,157.86666666666667,62.93333333333333,4.133333333333333,1.4,171.66666666666666,113.46666666666667,573.3,448.0,732.6,111.46666666666667,147.9,73.5,908.6666666666666,517.0,676.1999999999999,199.2,660.3333333333334,566.8000000000001,638.6,578.0,243.0,730.8,4.166666666666667,187.6,664.2,257.40000000000003,628.0333333333333,279.0,501.5,400.0,81.63333333333333,154.53333333333333,405.0,14.466666666666667,753.5333333333334,691.6,410.4,233.56666666666666,96.6,10.266666666666666,744.2333333333333,95.33333333333333,264.8666666666667,160.20000000000002,478.5,389.8666666666667,208.26666666666668,72.0,473.59999999999997,90.0,223.6,222.16666666666666,76.36666666666666,263.2,46.6,28.400000000000002,34.2,89.6,232.29999999999998,20.200000000000003,56.0,337.5,64.89999999999999,338.33333333333337,750.4,242.00000000000003,199.83333333333331,86.7,444.16666666666663,101.4,409.4,65.10000000000001,685.3000000000001,482.8,114.4,336.8333333333333,262.4,307.2,270.0,72.8,59.733333333333334,88.66666666666666,97.5,148.5,427.5,13.600000000000001,223.3,297.5,396.93333333333334,116.1,508.79999999999995,1.7333333333333334,80.46666666666667,363.0,110.5,78.1,345.1333333333334,206.99999999999997,4.166666666666667,148.5,462.0,3.7333333333333334,139.2,156.39999999999998,88.93333333333334,223.10000000000002,408.0,372.4,239.7,386.3666666666667,418.00000000000006,65.33333333333333,148.5,462.0,646.8000000000001,275.0,292.5,341.0,83.2,375.46666666666664,375.53333333333336,30.4,58.800000000000004,115.73333333333335,285.0,179.2,22.73333333333333,504.26666666666665,113.46666666666667,111.30000000000001,315.0,480.7,120.0,210.73333333333335,558.1333333333333,502.9333333333334,28.700000000000003,431.1333333333333,401.06666666666666,286.7,19.166666666666664,101.33333333333333,130.83333333333334,406.0,214.5,311.26666666666665,236.66666666666669,167.73333333333332,305.9,410.0,245.43333333333334,332.5,97.5,9.633333333333333,331.8333333333333,66.73333333333333,517.0666666666667,224.4,308.4,393.23333333333335,99.16666666666667,64.23333333333333,336.6666666666667,300.6,355.93333333333334,6.666666666666667,258.5,101.5,203.53333333333333,156.86666666666667,277.09999999999997,402.1333333333333,38.0,225.0,139.20000000000002,253.8,35.0,365.5,108.3,73.26666666666667,81.66666666666667,10.5,300.93333333333334,78.3,302.3666666666667,3.933333333333333,288.06666666666666,137.86666666666667,369.1333333333333,280.6,299.3,363.20000000000005,148.73333333333335,54.833333333333336,208.8,144.0,139.20000000000002,468.43333333333334,240.8,290.40000000000003,53.66666666666667,301.73333333333335,157.3,92.0,81.7,77.4,297.5,122.46666666666665,70.0,209.66666666666666,278.06666666666666,90.3,151.93333333333334,83.36666666666667,92.5,6.933333333333334,274.1333333333333,46.83333333333333,58.766666666666666,135.66666666666666,283.5,177.33333333333331,145.70000000000002,115.7,332.8,206.26666666666668,211.93333333333334,120.16666666666667,357.59999999999997,60.266666666666666,116.53333333333333,212.3,111.0,5.8,149.60000000000002,74.7,123.6,236.39999999999998,7.8,106.0,57.2,47.5,51.0,1.6333333333333333,196.23333333333335,218.4,280.5,100.86666666666666,214.2,41.33333333333333,8.033333333333333,206.8,163.8,324.5,160.0,200.66666666666666,188.5,188.8,219.6,172.5666666666667,74.23333333333333,37.800000000000004,134.0,22.799999999999997,180.0,174.20000000000002,273.4666666666667,220.5,81.66666666666667,175.46666666666667,184.5,126.86666666666666,80.10000000000001,119.60000000000001,178.63333333333335,33.333333333333336,129.33333333333331,78.96666666666667,215.1,126.9,172.0,257.40000000000003,189.0,18.8,160.6,172.46666666666667,40.0,185.53333333333333,114.0,156.4,132.36666666666667,58.06666666666667,248.73333333333335,105.83333333333334,36.800000000000004,2.8666666666666667,104.86666666666667,169.86666666666667,196.53333333333333,96.2,50.266666666666666,21.5,128.70000000000002,68.46666666666667,154.16666666666669,196.73333333333335,84.06666666666666,208.26666666666665,209.16666666666669,142.13333333333333,151.66666666666669,130.79999999999998,169.0,12.533333333333333,60.8,16.166666666666664,212.5,151.20000000000002,182.46666666666667,124.80000000000001,84.0,118.4,216.20000000000002,1.6333333333333333,35.233333333333334,91.19999999999999,12.833333333333332,29.900000000000002,181.70000000000002,93.1,28.7,93.0,123.43333333333334,23.333333333333332,65.33333333333333,97.33333333333333,209.3,111.16666666666667,66.73333333333333,122.46666666666665,27.133333333333333,128.66666666666666,28.833333333333332,42.0,148.46666666666667,110.73333333333332,75.53333333333333,36.3,154.53333333333333,75.5,6.066666666666666,80.5,21.400000000000002,8.666666666666666,91.83333333333333,39.0,114.66666666666666,102.4,56.666666666666664,47.5,29.033333333333335,22.666666666666664,97.6,2.6,85.33333333333333,40.5,91.5,56.46666666666666,61.53333333333334,82.5,95.33333333333334,86.0,12.166666666666666,13.799999999999999,32.666666666666664,123.66666666666667,1.8,17.5,53.300000000000004,79.3,1.7666666666666666,56.8,65.7,24.266666666666666,17.96666666666667,65.2,2.8,38.266666666666666,84.80000000000001,4.366666666666666,22.400000000000002,10.666666666666666,20.933333333333334,40.666666666666664,26.833333333333332,38.03333333333333,27.333333333333332,25.0,55.400000000000006,4.266666666666667,6.266666666666667,31.2,16.1,21.200000000000003,50.4,2.466666666666667,40.6,4.433333333333334,7.6000000000000005,24.200000000000003,32.6,30.200000000000003,35.06666666666666,7.433333333333334,19.5,8.566666666666666,24.333333333333332,21.700000000000003,7.466666666666667,21.200000000000003,6.833333333333333,4.733333333333333,0.0,0.0]},{\"legendgroup\":\"cancel\",\"line\":{\"color\":\"orange\"},\"name\":\"cancel\",\"scalegroup\":\"cancel\",\"type\":\"violin\",\"y\":[1107.0,529.0,1373.6,923.0,499.53333333333336,4430.266666666666,1516.6666666666665,0.0,512.8333333333334,1941.2,1679.6000000000001,306.73333333333335,2195.2000000000003,2268.0,0.0,758.7666666666667,942.0,48.06666666666667,389.4,54.6,739.6666666666666,248.3,560.2333333333333,343.6333333333333,250.86666666666665,2180.5333333333333,927.4666666666667,215.0,380.79999999999995,655.6999999999999,323.8333333333333,294.8,828.1999999999999,483.33333333333337,43.06666666666666,106.66666666666666,395.6333333333333,2195.2000000000003,195.0,546.8333333333334,120.4,42.0,343.03333333333336,766.9666666666667,281.2,100.8,211.86666666666667,518.4,620.0,763.1666666666666,12.100000000000001,244.53333333333333,207.70000000000002,448.23333333333335,445.2,291.40000000000003,55.0,210.0,156.8,206.26666666666668,85.86666666666667,363.3,189.86666666666667,1358.8333333333335,178.26666666666668,372.09999999999997,51.333333333333336,88.66666666666667,607.7333333333333,1219.3,314.1333333333333,909.0,196.0,9.6,1476.8,382.2,369.2,436.0666666666667,33.833333333333336,122.26666666666667,12.8,300.66666666666663,1021.1333333333333,106.66666666666666,9.866666666666667,88.66666666666666,205.46666666666667,1092.0,117.93333333333334,123.2,269.8,157.0666666666667,387.09999999999997,122.2,245.46666666666667,80.26666666666667,17.033333333333335,205.1,229.6,154.93333333333334,110.7,104.0,7.6,34.666666666666664,186.83333333333331,160.8,237.60000000000002,28.333333333333332,123.73333333333333,71.96666666666667,327.6,188.33333333333334,53.6,161.1,138.0,234.5666666666667,229.89999999999998,246.13333333333335,637.8666666666667,17.833333333333332,458.3333333333333,31.0,126.96666666666667]}],                        {\"template\":{\"data\":{\"bar\":[{\"error_x\":{\"color\":\"#2a3f5f\"},\"error_y\":{\"color\":\"#2a3f5f\"},\"marker\":{\"line\":{\"color\":\"#E5ECF6\",\"width\":0.5},\"pattern\":{\"fillmode\":\"overlay\",\"size\":10,\"solidity\":0.2}},\"type\":\"bar\"}],\"barpolar\":[{\"marker\":{\"line\":{\"color\":\"#E5ECF6\",\"width\":0.5},\"pattern\":{\"fillmode\":\"overlay\",\"size\":10,\"solidity\":0.2}},\"type\":\"barpolar\"}],\"carpet\":[{\"aaxis\":{\"endlinecolor\":\"#2a3f5f\",\"gridcolor\":\"white\",\"linecolor\":\"white\",\"minorgridcolor\":\"white\",\"startlinecolor\":\"#2a3f5f\"},\"baxis\":{\"endlinecolor\":\"#2a3f5f\",\"gridcolor\":\"white\",\"linecolor\":\"white\",\"minorgridcolor\":\"white\",\"startlinecolor\":\"#2a3f5f\"},\"type\":\"carpet\"}],\"choropleth\":[{\"colorbar\":{\"outlinewidth\":0,\"ticks\":\"\"},\"type\":\"choropleth\"}],\"contour\":[{\"colorbar\":{\"outlinewidth\":0,\"ticks\":\"\"},\"colorscale\":[[0.0,\"#0d0887\"],[0.1111111111111111,\"#46039f\"],[0.2222222222222222,\"#7201a8\"],[0.3333333333333333,\"#9c179e\"],[0.4444444444444444,\"#bd3786\"],[0.5555555555555556,\"#d8576b\"],[0.6666666666666666,\"#ed7953\"],[0.7777777777777778,\"#fb9f3a\"],[0.8888888888888888,\"#fdca26\"],[1.0,\"#f0f921\"]],\"type\":\"contour\"}],\"contourcarpet\":[{\"colorbar\":{\"outlinewidth\":0,\"ticks\":\"\"},\"type\":\"contourcarpet\"}],\"heatmap\":[{\"colorbar\":{\"outlinewidth\":0,\"ticks\":\"\"},\"colorscale\":[[0.0,\"#0d0887\"],[0.1111111111111111,\"#46039f\"],[0.2222222222222222,\"#7201a8\"],[0.3333333333333333,\"#9c179e\"],[0.4444444444444444,\"#bd3786\"],[0.5555555555555556,\"#d8576b\"],[0.6666666666666666,\"#ed7953\"],[0.7777777777777778,\"#fb9f3a\"],[0.8888888888888888,\"#fdca26\"],[1.0,\"#f0f921\"]],\"type\":\"heatmap\"}],\"heatmapgl\":[{\"colorbar\":{\"outlinewidth\":0,\"ticks\":\"\"},\"colorscale\":[[0.0,\"#0d0887\"],[0.1111111111111111,\"#46039f\"],[0.2222222222222222,\"#7201a8\"],[0.3333333333333333,\"#9c179e\"],[0.4444444444444444,\"#bd3786\"],[0.5555555555555556,\"#d8576b\"],[0.6666666666666666,\"#ed7953\"],[0.7777777777777778,\"#fb9f3a\"],[0.8888888888888888,\"#fdca26\"],[1.0,\"#f0f921\"]],\"type\":\"heatmapgl\"}],\"histogram\":[{\"marker\":{\"pattern\":{\"fillmode\":\"overlay\",\"size\":10,\"solidity\":0.2}},\"type\":\"histogram\"}],\"histogram2d\":[{\"colorbar\":{\"outlinewidth\":0,\"ticks\":\"\"},\"colorscale\":[[0.0,\"#0d0887\"],[0.1111111111111111,\"#46039f\"],[0.2222222222222222,\"#7201a8\"],[0.3333333333333333,\"#9c179e\"],[0.4444444444444444,\"#bd3786\"],[0.5555555555555556,\"#d8576b\"],[0.6666666666666666,\"#ed7953\"],[0.7777777777777778,\"#fb9f3a\"],[0.8888888888888888,\"#fdca26\"],[1.0,\"#f0f921\"]],\"type\":\"histogram2d\"}],\"histogram2dcontour\":[{\"colorbar\":{\"outlinewidth\":0,\"ticks\":\"\"},\"colorscale\":[[0.0,\"#0d0887\"],[0.1111111111111111,\"#46039f\"],[0.2222222222222222,\"#7201a8\"],[0.3333333333333333,\"#9c179e\"],[0.4444444444444444,\"#bd3786\"],[0.5555555555555556,\"#d8576b\"],[0.6666666666666666,\"#ed7953\"],[0.7777777777777778,\"#fb9f3a\"],[0.8888888888888888,\"#fdca26\"],[1.0,\"#f0f921\"]],\"type\":\"histogram2dcontour\"}],\"mesh3d\":[{\"colorbar\":{\"outlinewidth\":0,\"ticks\":\"\"},\"type\":\"mesh3d\"}],\"parcoords\":[{\"line\":{\"colorbar\":{\"outlinewidth\":0,\"ticks\":\"\"}},\"type\":\"parcoords\"}],\"pie\":[{\"automargin\":true,\"type\":\"pie\"}],\"scatter\":[{\"marker\":{\"colorbar\":{\"outlinewidth\":0,\"ticks\":\"\"}},\"type\":\"scatter\"}],\"scatter3d\":[{\"line\":{\"colorbar\":{\"outlinewidth\":0,\"ticks\":\"\"}},\"marker\":{\"colorbar\":{\"outlinewidth\":0,\"ticks\":\"\"}},\"type\":\"scatter3d\"}],\"scattercarpet\":[{\"marker\":{\"colorbar\":{\"outlinewidth\":0,\"ticks\":\"\"}},\"type\":\"scattercarpet\"}],\"scattergeo\":[{\"marker\":{\"colorbar\":{\"outlinewidth\":0,\"ticks\":\"\"}},\"type\":\"scattergeo\"}],\"scattergl\":[{\"marker\":{\"colorbar\":{\"outlinewidth\":0,\"ticks\":\"\"}},\"type\":\"scattergl\"}],\"scattermapbox\":[{\"marker\":{\"colorbar\":{\"outlinewidth\":0,\"ticks\":\"\"}},\"type\":\"scattermapbox\"}],\"scatterpolar\":[{\"marker\":{\"colorbar\":{\"outlinewidth\":0,\"ticks\":\"\"}},\"type\":\"scatterpolar\"}],\"scatterpolargl\":[{\"marker\":{\"colorbar\":{\"outlinewidth\":0,\"ticks\":\"\"}},\"type\":\"scatterpolargl\"}],\"scatterternary\":[{\"marker\":{\"colorbar\":{\"outlinewidth\":0,\"ticks\":\"\"}},\"type\":\"scatterternary\"}],\"surface\":[{\"colorbar\":{\"outlinewidth\":0,\"ticks\":\"\"},\"colorscale\":[[0.0,\"#0d0887\"],[0.1111111111111111,\"#46039f\"],[0.2222222222222222,\"#7201a8\"],[0.3333333333333333,\"#9c179e\"],[0.4444444444444444,\"#bd3786\"],[0.5555555555555556,\"#d8576b\"],[0.6666666666666666,\"#ed7953\"],[0.7777777777777778,\"#fb9f3a\"],[0.8888888888888888,\"#fdca26\"],[1.0,\"#f0f921\"]],\"type\":\"surface\"}],\"table\":[{\"cells\":{\"fill\":{\"color\":\"#EBF0F8\"},\"line\":{\"color\":\"white\"}},\"header\":{\"fill\":{\"color\":\"#C8D4E3\"},\"line\":{\"color\":\"white\"}},\"type\":\"table\"}]},\"layout\":{\"annotationdefaults\":{\"arrowcolor\":\"#2a3f5f\",\"arrowhead\":0,\"arrowwidth\":1},\"autotypenumbers\":\"strict\",\"coloraxis\":{\"colorbar\":{\"outlinewidth\":0,\"ticks\":\"\"}},\"colorscale\":{\"diverging\":[[0,\"#8e0152\"],[0.1,\"#c51b7d\"],[0.2,\"#de77ae\"],[0.3,\"#f1b6da\"],[0.4,\"#fde0ef\"],[0.5,\"#f7f7f7\"],[0.6,\"#e6f5d0\"],[0.7,\"#b8e186\"],[0.8,\"#7fbc41\"],[0.9,\"#4d9221\"],[1,\"#276419\"]],\"sequential\":[[0.0,\"#0d0887\"],[0.1111111111111111,\"#46039f\"],[0.2222222222222222,\"#7201a8\"],[0.3333333333333333,\"#9c179e\"],[0.4444444444444444,\"#bd3786\"],[0.5555555555555556,\"#d8576b\"],[0.6666666666666666,\"#ed7953\"],[0.7777777777777778,\"#fb9f3a\"],[0.8888888888888888,\"#fdca26\"],[1.0,\"#f0f921\"]],\"sequentialminus\":[[0.0,\"#0d0887\"],[0.1111111111111111,\"#46039f\"],[0.2222222222222222,\"#7201a8\"],[0.3333333333333333,\"#9c179e\"],[0.4444444444444444,\"#bd3786\"],[0.5555555555555556,\"#d8576b\"],[0.6666666666666666,\"#ed7953\"],[0.7777777777777778,\"#fb9f3a\"],[0.8888888888888888,\"#fdca26\"],[1.0,\"#f0f921\"]]},\"colorway\":[\"#636efa\",\"#EF553B\",\"#00cc96\",\"#ab63fa\",\"#FFA15A\",\"#19d3f3\",\"#FF6692\",\"#B6E880\",\"#FF97FF\",\"#FECB52\"],\"font\":{\"color\":\"#2a3f5f\"},\"geo\":{\"bgcolor\":\"white\",\"lakecolor\":\"white\",\"landcolor\":\"#E5ECF6\",\"showlakes\":true,\"showland\":true,\"subunitcolor\":\"white\"},\"hoverlabel\":{\"align\":\"left\"},\"hovermode\":\"closest\",\"mapbox\":{\"style\":\"light\"},\"paper_bgcolor\":\"white\",\"plot_bgcolor\":\"#E5ECF6\",\"polar\":{\"angularaxis\":{\"gridcolor\":\"white\",\"linecolor\":\"white\",\"ticks\":\"\"},\"bgcolor\":\"#E5ECF6\",\"radialaxis\":{\"gridcolor\":\"white\",\"linecolor\":\"white\",\"ticks\":\"\"}},\"scene\":{\"xaxis\":{\"backgroundcolor\":\"#E5ECF6\",\"gridcolor\":\"white\",\"gridwidth\":2,\"linecolor\":\"white\",\"showbackground\":true,\"ticks\":\"\",\"zerolinecolor\":\"white\"},\"yaxis\":{\"backgroundcolor\":\"#E5ECF6\",\"gridcolor\":\"white\",\"gridwidth\":2,\"linecolor\":\"white\",\"showbackground\":true,\"ticks\":\"\",\"zerolinecolor\":\"white\"},\"zaxis\":{\"backgroundcolor\":\"#E5ECF6\",\"gridcolor\":\"white\",\"gridwidth\":2,\"linecolor\":\"white\",\"showbackground\":true,\"ticks\":\"\",\"zerolinecolor\":\"white\"}},\"shapedefaults\":{\"line\":{\"color\":\"#2a3f5f\"}},\"ternary\":{\"aaxis\":{\"gridcolor\":\"white\",\"linecolor\":\"white\",\"ticks\":\"\"},\"baxis\":{\"gridcolor\":\"white\",\"linecolor\":\"white\",\"ticks\":\"\"},\"bgcolor\":\"#E5ECF6\",\"caxis\":{\"gridcolor\":\"white\",\"linecolor\":\"white\",\"ticks\":\"\"}},\"title\":{\"x\":0.05},\"xaxis\":{\"automargin\":true,\"gridcolor\":\"white\",\"linecolor\":\"white\",\"ticks\":\"\",\"title\":{\"standoff\":15},\"zerolinecolor\":\"white\",\"zerolinewidth\":2},\"yaxis\":{\"automargin\":true,\"gridcolor\":\"white\",\"linecolor\":\"white\",\"ticks\":\"\",\"title\":{\"standoff\":15},\"zerolinecolor\":\"white\",\"zerolinewidth\":2}}}},                        {\"responsive\": true}                    ).then(function(){\n",
       "                            \n",
       "var gd = document.getElementById('55ae95a9-3c00-4804-8654-57a461decbae');\n",
       "var x = new MutationObserver(function (mutations, observer) {{\n",
       "        var display = window.getComputedStyle(gd).display;\n",
       "        if (!display || display === 'none') {{\n",
       "            console.log([gd, 'removed!']);\n",
       "            Plotly.purge(gd);\n",
       "            observer.disconnect();\n",
       "        }}\n",
       "}});\n",
       "\n",
       "// Listen for the removal of the full notebook cells\n",
       "var notebookContainer = gd.closest('#notebook-container');\n",
       "if (notebookContainer) {{\n",
       "    x.observe(notebookContainer, {childList: true});\n",
       "}}\n",
       "\n",
       "// Listen for the clearing of the current output cell\n",
       "var outputEl = gd.closest('.output');\n",
       "if (outputEl) {{\n",
       "    x.observe(outputEl, {childList: true});\n",
       "}}\n",
       "\n",
       "                        })                };                });            </script>        </div>"
      ]
     },
     "metadata": {},
     "output_type": "display_data"
    }
   ],
   "source": [
    "fig = go.Figure()\n",
    "\n",
    "fig.add_trace(go.Violin(y=df['Total Charges'][ df['Account Status'] == 'paying' ],\n",
    "                        legendgroup='paying', scalegroup='paying', name='paying',                      \n",
    "                        line_color='blue')\n",
    "             )\n",
    "fig.add_trace(go.Violin(y=df['Total Charges'][ df['Account Status'] == 'cancelled' ],\n",
    "                        legendgroup='cancel', scalegroup='cancel', name='cancel',                   \n",
    "                        line_color='orange')\n",
    "             )\n",
    "fig.show()\n"
   ]
  },
  {
   "cell_type": "markdown",
   "metadata": {},
   "source": [
    "Hầu hết các khách hàng cancel thường có Total Charges nhỏ hơn 1000 nhưng có thể thấy giá trị Total Charges không ảnh hưởng nhiều đến việc cancelled vì những khách hàng paying cũng tập trung dưới 1000"
   ]
  },
  {
   "cell_type": "code",
   "execution_count": 19,
   "metadata": {},
   "outputs": [
    {
     "data": {
      "text/plain": [
       "Upgraded Time\n",
       "V1 Released     13\n",
       "V2 Released    385\n",
       "V3 Released    602\n",
       "Name: Customer ID, dtype: int64"
      ]
     },
     "execution_count": 19,
     "metadata": {},
     "output_type": "execute_result"
    }
   ],
   "source": [
    "df_count_for_vesion= df.groupby('Upgraded Time')['Customer ID'].nunique()\n",
    "df_count_for_vesion"
   ]
  },
  {
   "cell_type": "code",
   "execution_count": 20,
   "metadata": {},
   "outputs": [
    {
     "data": {
      "text/html": [
       "<div>\n",
       "<style scoped>\n",
       "    .dataframe tbody tr th:only-of-type {\n",
       "        vertical-align: middle;\n",
       "    }\n",
       "\n",
       "    .dataframe tbody tr th {\n",
       "        vertical-align: top;\n",
       "    }\n",
       "\n",
       "    .dataframe thead th {\n",
       "        text-align: right;\n",
       "    }\n",
       "</style>\n",
       "<table border=\"1\" class=\"dataframe\">\n",
       "  <thead>\n",
       "    <tr style=\"text-align: right;\">\n",
       "      <th></th>\n",
       "      <th>Customer ID</th>\n",
       "      <th>Free Account Created Date</th>\n",
       "      <th>Last Seen</th>\n",
       "      <th>Session Count</th>\n",
       "      <th>Segment</th>\n",
       "      <th>First Name</th>\n",
       "      <th>Billing Account</th>\n",
       "      <th>Account Status</th>\n",
       "      <th>Upgraded Account Created Date</th>\n",
       "      <th>Upgraded Account Cancelled Date</th>\n",
       "      <th>Total Charges</th>\n",
       "      <th>Upgraded Time</th>\n",
       "      <th>Price change</th>\n",
       "      <th>Year_month</th>\n",
       "    </tr>\n",
       "  </thead>\n",
       "  <tbody>\n",
       "    <tr>\n",
       "      <th>0</th>\n",
       "      <td>1</td>\n",
       "      <td>2017-05-29</td>\n",
       "      <td>2019-04-05 08:02:32</td>\n",
       "      <td>1379</td>\n",
       "      <td>Marketing Segment 2</td>\n",
       "      <td>Joshua</td>\n",
       "      <td>AX#93195</td>\n",
       "      <td>paying</td>\n",
       "      <td>2019-04-02</td>\n",
       "      <td>NaT</td>\n",
       "      <td>145.600000</td>\n",
       "      <td>V1 Released</td>\n",
       "      <td>0</td>\n",
       "      <td>2017-05</td>\n",
       "    </tr>\n",
       "    <tr>\n",
       "      <th>1</th>\n",
       "      <td>2</td>\n",
       "      <td>2017-12-17</td>\n",
       "      <td>2019-04-27 13:23:56</td>\n",
       "      <td>531</td>\n",
       "      <td>Marketing Segment 1</td>\n",
       "      <td>Ka</td>\n",
       "      <td>AX#20438</td>\n",
       "      <td>paying</td>\n",
       "      <td>2018-11-11</td>\n",
       "      <td>NaT</td>\n",
       "      <td>728.000000</td>\n",
       "      <td>V2 Released</td>\n",
       "      <td>0</td>\n",
       "      <td>2017-12</td>\n",
       "    </tr>\n",
       "    <tr>\n",
       "      <th>2</th>\n",
       "      <td>3</td>\n",
       "      <td>2017-01-30</td>\n",
       "      <td>2019-04-22 15:38:09</td>\n",
       "      <td>317</td>\n",
       "      <td>Marketing Segment 1</td>\n",
       "      <td>Clint</td>\n",
       "      <td>AX#60779</td>\n",
       "      <td>paying</td>\n",
       "      <td>2019-03-15</td>\n",
       "      <td>NaT</td>\n",
       "      <td>277.200000</td>\n",
       "      <td>V1 Released</td>\n",
       "      <td>0</td>\n",
       "      <td>2017-01</td>\n",
       "    </tr>\n",
       "    <tr>\n",
       "      <th>3</th>\n",
       "      <td>4</td>\n",
       "      <td>2017-02-03</td>\n",
       "      <td>2019-04-23 16:30:46</td>\n",
       "      <td>349</td>\n",
       "      <td>Marketing Segment 1</td>\n",
       "      <td>Hong</td>\n",
       "      <td>AX#91209</td>\n",
       "      <td>paying</td>\n",
       "      <td>2019-03-24</td>\n",
       "      <td>NaT</td>\n",
       "      <td>292.833333</td>\n",
       "      <td>V1 Released</td>\n",
       "      <td>0</td>\n",
       "      <td>2017-02</td>\n",
       "    </tr>\n",
       "    <tr>\n",
       "      <th>4</th>\n",
       "      <td>5</td>\n",
       "      <td>2017-03-18</td>\n",
       "      <td>2019-04-05 13:16:33</td>\n",
       "      <td>1158</td>\n",
       "      <td>Marketing Segment 2</td>\n",
       "      <td>Kate</td>\n",
       "      <td>AX#57000</td>\n",
       "      <td>paying</td>\n",
       "      <td>2018-10-12</td>\n",
       "      <td>NaT</td>\n",
       "      <td>462.000000</td>\n",
       "      <td>V1 Released</td>\n",
       "      <td>0</td>\n",
       "      <td>2017-03</td>\n",
       "    </tr>\n",
       "  </tbody>\n",
       "</table>\n",
       "</div>"
      ],
      "text/plain": [
       "   Customer ID Free Account Created Date           Last Seen  Session Count  \\\n",
       "0            1                2017-05-29 2019-04-05 08:02:32           1379   \n",
       "1            2                2017-12-17 2019-04-27 13:23:56            531   \n",
       "2            3                2017-01-30 2019-04-22 15:38:09            317   \n",
       "3            4                2017-02-03 2019-04-23 16:30:46            349   \n",
       "4            5                2017-03-18 2019-04-05 13:16:33           1158   \n",
       "\n",
       "               Segment First Name Billing Account Account Status  \\\n",
       "0  Marketing Segment 2     Joshua        AX#93195         paying   \n",
       "1  Marketing Segment 1         Ka        AX#20438         paying   \n",
       "2  Marketing Segment 1      Clint        AX#60779         paying   \n",
       "3  Marketing Segment 1       Hong        AX#91209         paying   \n",
       "4  Marketing Segment 2       Kate        AX#57000         paying   \n",
       "\n",
       "  Upgraded Account Created Date Upgraded Account Cancelled Date  \\\n",
       "0                    2019-04-02                             NaT   \n",
       "1                    2018-11-11                             NaT   \n",
       "2                    2019-03-15                             NaT   \n",
       "3                    2019-03-24                             NaT   \n",
       "4                    2018-10-12                             NaT   \n",
       "\n",
       "   Total Charges Upgraded Time Price change Year_month  \n",
       "0     145.600000   V1 Released            0    2017-05  \n",
       "1     728.000000   V2 Released            0    2017-12  \n",
       "2     277.200000   V1 Released            0    2017-01  \n",
       "3     292.833333   V1 Released            0    2017-02  \n",
       "4     462.000000   V1 Released            0    2017-03  "
      ]
     },
     "execution_count": 20,
     "metadata": {},
     "output_type": "execute_result"
    }
   ],
   "source": [
    "df['Year_month']=df['Free Account Created Date'].dt.to_period('M')\n",
    "df.head()"
   ]
  },
  {
   "cell_type": "code",
   "execution_count": 21,
   "metadata": {},
   "outputs": [
    {
     "data": {
      "application/vnd.plotly.v1+json": {
       "config": {
        "plotlyServerURL": "https://plot.ly"
       },
       "data": [
        {
         "customdata": [
          [
           "paying"
          ],
          [
           "paying"
          ],
          [
           "paying"
          ],
          [
           "paying"
          ],
          [
           "paying"
          ],
          [
           "paying"
          ],
          [
           "paying"
          ],
          [
           "paying"
          ],
          [
           "paying"
          ],
          [
           "paying"
          ],
          [
           "paying"
          ],
          [
           "paying"
          ],
          [
           "paying"
          ],
          [
           "paying"
          ],
          [
           "paying"
          ],
          [
           "paying"
          ],
          [
           "paying"
          ],
          [
           "paying"
          ],
          [
           "paying"
          ],
          [
           "paying"
          ],
          [
           "paying"
          ],
          [
           "paying"
          ],
          [
           "paying"
          ],
          [
           "paying"
          ],
          [
           "paying"
          ],
          [
           "paying"
          ],
          [
           "paying"
          ],
          [
           "paying"
          ],
          [
           "paying"
          ],
          [
           "paying"
          ],
          [
           "paying"
          ],
          [
           "paying"
          ],
          [
           "paying"
          ],
          [
           "paying"
          ],
          [
           "paying"
          ],
          [
           "paying"
          ],
          [
           "paying"
          ],
          [
           "paying"
          ],
          [
           "paying"
          ],
          [
           "paying"
          ],
          [
           "paying"
          ],
          [
           "paying"
          ],
          [
           "paying"
          ],
          [
           "paying"
          ],
          [
           "paying"
          ],
          [
           "paying"
          ],
          [
           "paying"
          ],
          [
           "paying"
          ],
          [
           "paying"
          ],
          [
           "paying"
          ],
          [
           "paying"
          ],
          [
           "paying"
          ],
          [
           "paying"
          ],
          [
           "paying"
          ],
          [
           "paying"
          ],
          [
           "paying"
          ],
          [
           "paying"
          ],
          [
           "paying"
          ],
          [
           "paying"
          ],
          [
           "paying"
          ],
          [
           "paying"
          ],
          [
           "paying"
          ],
          [
           "paying"
          ],
          [
           "paying"
          ],
          [
           "paying"
          ],
          [
           "paying"
          ],
          [
           "paying"
          ],
          [
           "paying"
          ],
          [
           "paying"
          ],
          [
           "paying"
          ],
          [
           "paying"
          ],
          [
           "paying"
          ],
          [
           "paying"
          ],
          [
           "paying"
          ],
          [
           "paying"
          ],
          [
           "paying"
          ],
          [
           "paying"
          ],
          [
           "paying"
          ],
          [
           "paying"
          ],
          [
           "paying"
          ],
          [
           "paying"
          ],
          [
           "paying"
          ],
          [
           "paying"
          ],
          [
           "paying"
          ],
          [
           "paying"
          ],
          [
           "paying"
          ],
          [
           "paying"
          ],
          [
           "paying"
          ],
          [
           "paying"
          ],
          [
           "paying"
          ],
          [
           "paying"
          ],
          [
           "paying"
          ],
          [
           "paying"
          ],
          [
           "paying"
          ],
          [
           "paying"
          ],
          [
           "paying"
          ],
          [
           "paying"
          ],
          [
           "paying"
          ],
          [
           "paying"
          ],
          [
           "paying"
          ],
          [
           "paying"
          ],
          [
           "paying"
          ],
          [
           "paying"
          ],
          [
           "paying"
          ],
          [
           "paying"
          ],
          [
           "paying"
          ],
          [
           "paying"
          ],
          [
           "paying"
          ],
          [
           "paying"
          ],
          [
           "paying"
          ],
          [
           "paying"
          ],
          [
           "paying"
          ],
          [
           "paying"
          ],
          [
           "paying"
          ],
          [
           "paying"
          ],
          [
           "paying"
          ],
          [
           "paying"
          ],
          [
           "paying"
          ],
          [
           "paying"
          ],
          [
           "paying"
          ],
          [
           "paying"
          ],
          [
           "paying"
          ],
          [
           "paying"
          ],
          [
           "paying"
          ],
          [
           "paying"
          ],
          [
           "paying"
          ],
          [
           "paying"
          ],
          [
           "paying"
          ],
          [
           "paying"
          ],
          [
           "paying"
          ],
          [
           "paying"
          ],
          [
           "paying"
          ],
          [
           "paying"
          ],
          [
           "paying"
          ],
          [
           "paying"
          ],
          [
           "paying"
          ],
          [
           "paying"
          ],
          [
           "paying"
          ],
          [
           "paying"
          ],
          [
           "paying"
          ],
          [
           "paying"
          ],
          [
           "paying"
          ],
          [
           "paying"
          ],
          [
           "paying"
          ],
          [
           "paying"
          ],
          [
           "paying"
          ],
          [
           "paying"
          ],
          [
           "paying"
          ],
          [
           "paying"
          ],
          [
           "paying"
          ],
          [
           "paying"
          ],
          [
           "paying"
          ],
          [
           "paying"
          ],
          [
           "paying"
          ],
          [
           "paying"
          ],
          [
           "paying"
          ],
          [
           "paying"
          ],
          [
           "paying"
          ],
          [
           "paying"
          ],
          [
           "paying"
          ],
          [
           "paying"
          ],
          [
           "paying"
          ],
          [
           "paying"
          ],
          [
           "paying"
          ],
          [
           "paying"
          ],
          [
           "paying"
          ],
          [
           "paying"
          ],
          [
           "paying"
          ],
          [
           "paying"
          ],
          [
           "paying"
          ],
          [
           "paying"
          ],
          [
           "paying"
          ],
          [
           "paying"
          ],
          [
           "paying"
          ],
          [
           "paying"
          ],
          [
           "paying"
          ],
          [
           "paying"
          ],
          [
           "paying"
          ],
          [
           "paying"
          ],
          [
           "paying"
          ],
          [
           "paying"
          ],
          [
           "paying"
          ],
          [
           "paying"
          ],
          [
           "paying"
          ],
          [
           "paying"
          ],
          [
           "paying"
          ],
          [
           "paying"
          ],
          [
           "paying"
          ],
          [
           "paying"
          ],
          [
           "paying"
          ],
          [
           "paying"
          ],
          [
           "paying"
          ],
          [
           "paying"
          ],
          [
           "paying"
          ],
          [
           "paying"
          ],
          [
           "paying"
          ],
          [
           "paying"
          ],
          [
           "paying"
          ],
          [
           "paying"
          ],
          [
           "paying"
          ],
          [
           "paying"
          ],
          [
           "paying"
          ],
          [
           "paying"
          ],
          [
           "paying"
          ],
          [
           "paying"
          ],
          [
           "paying"
          ],
          [
           "paying"
          ],
          [
           "paying"
          ],
          [
           "paying"
          ],
          [
           "paying"
          ],
          [
           "paying"
          ],
          [
           "paying"
          ],
          [
           "paying"
          ],
          [
           "paying"
          ],
          [
           "paying"
          ],
          [
           "paying"
          ],
          [
           "paying"
          ],
          [
           "paying"
          ],
          [
           "paying"
          ],
          [
           "paying"
          ],
          [
           "paying"
          ],
          [
           "paying"
          ],
          [
           "paying"
          ],
          [
           "paying"
          ],
          [
           "paying"
          ],
          [
           "paying"
          ],
          [
           "paying"
          ],
          [
           "paying"
          ],
          [
           "paying"
          ],
          [
           "paying"
          ],
          [
           "paying"
          ],
          [
           "paying"
          ],
          [
           "paying"
          ],
          [
           "paying"
          ],
          [
           "paying"
          ],
          [
           "paying"
          ],
          [
           "paying"
          ],
          [
           "paying"
          ],
          [
           "paying"
          ],
          [
           "paying"
          ],
          [
           "paying"
          ],
          [
           "paying"
          ],
          [
           "paying"
          ],
          [
           "paying"
          ],
          [
           "paying"
          ],
          [
           "paying"
          ],
          [
           "paying"
          ],
          [
           "paying"
          ],
          [
           "paying"
          ],
          [
           "paying"
          ],
          [
           "paying"
          ],
          [
           "paying"
          ],
          [
           "paying"
          ],
          [
           "paying"
          ],
          [
           "paying"
          ],
          [
           "paying"
          ],
          [
           "paying"
          ],
          [
           "paying"
          ],
          [
           "paying"
          ],
          [
           "paying"
          ],
          [
           "paying"
          ],
          [
           "paying"
          ],
          [
           "paying"
          ],
          [
           "paying"
          ],
          [
           "paying"
          ],
          [
           "paying"
          ],
          [
           "paying"
          ],
          [
           "paying"
          ],
          [
           "paying"
          ],
          [
           "paying"
          ],
          [
           "paying"
          ],
          [
           "paying"
          ],
          [
           "paying"
          ],
          [
           "paying"
          ],
          [
           "paying"
          ],
          [
           "paying"
          ],
          [
           "paying"
          ],
          [
           "paying"
          ],
          [
           "paying"
          ],
          [
           "paying"
          ],
          [
           "paying"
          ],
          [
           "paying"
          ],
          [
           "paying"
          ],
          [
           "paying"
          ],
          [
           "paying"
          ],
          [
           "paying"
          ],
          [
           "paying"
          ],
          [
           "paying"
          ],
          [
           "paying"
          ],
          [
           "paying"
          ],
          [
           "paying"
          ],
          [
           "paying"
          ],
          [
           "paying"
          ],
          [
           "paying"
          ],
          [
           "paying"
          ],
          [
           "paying"
          ],
          [
           "paying"
          ],
          [
           "paying"
          ],
          [
           "paying"
          ],
          [
           "paying"
          ],
          [
           "paying"
          ],
          [
           "paying"
          ],
          [
           "paying"
          ],
          [
           "paying"
          ],
          [
           "paying"
          ],
          [
           "paying"
          ],
          [
           "paying"
          ],
          [
           "paying"
          ],
          [
           "paying"
          ],
          [
           "paying"
          ],
          [
           "paying"
          ],
          [
           "paying"
          ],
          [
           "paying"
          ],
          [
           "paying"
          ],
          [
           "paying"
          ],
          [
           "paying"
          ],
          [
           "paying"
          ],
          [
           "paying"
          ],
          [
           "paying"
          ],
          [
           "paying"
          ],
          [
           "paying"
          ],
          [
           "paying"
          ],
          [
           "paying"
          ],
          [
           "paying"
          ],
          [
           "paying"
          ],
          [
           "paying"
          ],
          [
           "paying"
          ],
          [
           "paying"
          ],
          [
           "paying"
          ],
          [
           "paying"
          ],
          [
           "paying"
          ],
          [
           "paying"
          ],
          [
           "paying"
          ],
          [
           "paying"
          ],
          [
           "paying"
          ],
          [
           "paying"
          ],
          [
           "paying"
          ],
          [
           "paying"
          ],
          [
           "paying"
          ],
          [
           "paying"
          ],
          [
           "paying"
          ],
          [
           "paying"
          ],
          [
           "paying"
          ],
          [
           "paying"
          ],
          [
           "paying"
          ],
          [
           "paying"
          ],
          [
           "paying"
          ],
          [
           "paying"
          ],
          [
           "paying"
          ],
          [
           "paying"
          ],
          [
           "paying"
          ],
          [
           "paying"
          ],
          [
           "paying"
          ],
          [
           "paying"
          ],
          [
           "paying"
          ],
          [
           "paying"
          ],
          [
           "paying"
          ],
          [
           "paying"
          ],
          [
           "paying"
          ],
          [
           "paying"
          ],
          [
           "paying"
          ],
          [
           "paying"
          ],
          [
           "paying"
          ],
          [
           "paying"
          ],
          [
           "paying"
          ],
          [
           "paying"
          ],
          [
           "paying"
          ],
          [
           "paying"
          ],
          [
           "paying"
          ],
          [
           "paying"
          ],
          [
           "paying"
          ],
          [
           "paying"
          ],
          [
           "paying"
          ],
          [
           "paying"
          ],
          [
           "paying"
          ],
          [
           "paying"
          ],
          [
           "paying"
          ],
          [
           "paying"
          ],
          [
           "paying"
          ],
          [
           "paying"
          ],
          [
           "paying"
          ],
          [
           "paying"
          ],
          [
           "paying"
          ],
          [
           "paying"
          ],
          [
           "paying"
          ],
          [
           "paying"
          ],
          [
           "paying"
          ],
          [
           "paying"
          ],
          [
           "paying"
          ],
          [
           "paying"
          ],
          [
           "paying"
          ],
          [
           "paying"
          ],
          [
           "paying"
          ],
          [
           "paying"
          ],
          [
           "paying"
          ],
          [
           "paying"
          ],
          [
           "paying"
          ],
          [
           "paying"
          ],
          [
           "paying"
          ],
          [
           "paying"
          ],
          [
           "paying"
          ],
          [
           "paying"
          ],
          [
           "paying"
          ],
          [
           "paying"
          ],
          [
           "paying"
          ],
          [
           "paying"
          ],
          [
           "paying"
          ],
          [
           "paying"
          ],
          [
           "paying"
          ],
          [
           "paying"
          ],
          [
           "paying"
          ],
          [
           "paying"
          ],
          [
           "paying"
          ],
          [
           "paying"
          ],
          [
           "paying"
          ],
          [
           "paying"
          ],
          [
           "paying"
          ],
          [
           "paying"
          ],
          [
           "paying"
          ],
          [
           "paying"
          ],
          [
           "paying"
          ],
          [
           "paying"
          ],
          [
           "paying"
          ],
          [
           "paying"
          ],
          [
           "paying"
          ],
          [
           "paying"
          ],
          [
           "paying"
          ],
          [
           "paying"
          ],
          [
           "paying"
          ],
          [
           "paying"
          ],
          [
           "paying"
          ],
          [
           "paying"
          ],
          [
           "paying"
          ],
          [
           "paying"
          ],
          [
           "paying"
          ],
          [
           "paying"
          ],
          [
           "paying"
          ],
          [
           "paying"
          ],
          [
           "paying"
          ],
          [
           "paying"
          ],
          [
           "paying"
          ],
          [
           "paying"
          ],
          [
           "paying"
          ],
          [
           "paying"
          ],
          [
           "paying"
          ],
          [
           "paying"
          ],
          [
           "paying"
          ],
          [
           "paying"
          ],
          [
           "paying"
          ],
          [
           "paying"
          ],
          [
           "paying"
          ],
          [
           "paying"
          ],
          [
           "paying"
          ],
          [
           "paying"
          ],
          [
           "paying"
          ],
          [
           "paying"
          ],
          [
           "paying"
          ],
          [
           "paying"
          ],
          [
           "paying"
          ],
          [
           "paying"
          ],
          [
           "paying"
          ],
          [
           "paying"
          ],
          [
           "paying"
          ],
          [
           "paying"
          ],
          [
           "paying"
          ],
          [
           "paying"
          ],
          [
           "paying"
          ],
          [
           "paying"
          ],
          [
           "paying"
          ],
          [
           "paying"
          ],
          [
           "paying"
          ],
          [
           "paying"
          ],
          [
           "paying"
          ],
          [
           "paying"
          ],
          [
           "paying"
          ],
          [
           "paying"
          ],
          [
           "paying"
          ],
          [
           "paying"
          ],
          [
           "paying"
          ],
          [
           "paying"
          ],
          [
           "paying"
          ],
          [
           "paying"
          ],
          [
           "paying"
          ],
          [
           "paying"
          ],
          [
           "paying"
          ],
          [
           "paying"
          ],
          [
           "paying"
          ],
          [
           "paying"
          ],
          [
           "paying"
          ],
          [
           "paying"
          ],
          [
           "paying"
          ],
          [
           "paying"
          ],
          [
           "paying"
          ],
          [
           "paying"
          ],
          [
           "paying"
          ],
          [
           "paying"
          ],
          [
           "paying"
          ],
          [
           "paying"
          ],
          [
           "paying"
          ],
          [
           "paying"
          ],
          [
           "paying"
          ],
          [
           "paying"
          ],
          [
           "paying"
          ],
          [
           "paying"
          ],
          [
           "paying"
          ],
          [
           "paying"
          ],
          [
           "paying"
          ],
          [
           "paying"
          ],
          [
           "paying"
          ],
          [
           "paying"
          ],
          [
           "paying"
          ],
          [
           "paying"
          ],
          [
           "paying"
          ],
          [
           "paying"
          ],
          [
           "paying"
          ],
          [
           "paying"
          ],
          [
           "paying"
          ],
          [
           "paying"
          ],
          [
           "paying"
          ],
          [
           "paying"
          ],
          [
           "paying"
          ],
          [
           "paying"
          ],
          [
           "paying"
          ],
          [
           "paying"
          ],
          [
           "paying"
          ],
          [
           "paying"
          ],
          [
           "paying"
          ],
          [
           "paying"
          ],
          [
           "paying"
          ],
          [
           "paying"
          ],
          [
           "paying"
          ],
          [
           "paying"
          ],
          [
           "paying"
          ],
          [
           "paying"
          ],
          [
           "paying"
          ],
          [
           "paying"
          ],
          [
           "paying"
          ],
          [
           "paying"
          ],
          [
           "paying"
          ],
          [
           "paying"
          ],
          [
           "paying"
          ],
          [
           "paying"
          ],
          [
           "paying"
          ],
          [
           "paying"
          ],
          [
           "paying"
          ],
          [
           "paying"
          ],
          [
           "paying"
          ],
          [
           "paying"
          ],
          [
           "paying"
          ],
          [
           "paying"
          ],
          [
           "paying"
          ],
          [
           "paying"
          ],
          [
           "paying"
          ],
          [
           "paying"
          ],
          [
           "paying"
          ],
          [
           "paying"
          ],
          [
           "paying"
          ],
          [
           "paying"
          ],
          [
           "paying"
          ],
          [
           "paying"
          ],
          [
           "paying"
          ],
          [
           "paying"
          ],
          [
           "paying"
          ],
          [
           "paying"
          ],
          [
           "paying"
          ],
          [
           "paying"
          ],
          [
           "paying"
          ],
          [
           "paying"
          ],
          [
           "paying"
          ],
          [
           "paying"
          ],
          [
           "paying"
          ],
          [
           "paying"
          ],
          [
           "paying"
          ],
          [
           "paying"
          ],
          [
           "paying"
          ],
          [
           "paying"
          ],
          [
           "paying"
          ],
          [
           "paying"
          ],
          [
           "paying"
          ],
          [
           "paying"
          ],
          [
           "paying"
          ],
          [
           "paying"
          ],
          [
           "paying"
          ],
          [
           "paying"
          ],
          [
           "paying"
          ],
          [
           "paying"
          ],
          [
           "paying"
          ],
          [
           "paying"
          ],
          [
           "paying"
          ],
          [
           "paying"
          ],
          [
           "paying"
          ],
          [
           "paying"
          ],
          [
           "paying"
          ],
          [
           "paying"
          ],
          [
           "paying"
          ],
          [
           "paying"
          ],
          [
           "paying"
          ],
          [
           "paying"
          ],
          [
           "paying"
          ],
          [
           "paying"
          ],
          [
           "paying"
          ],
          [
           "paying"
          ],
          [
           "paying"
          ],
          [
           "paying"
          ],
          [
           "paying"
          ],
          [
           "paying"
          ],
          [
           "paying"
          ],
          [
           "paying"
          ],
          [
           "paying"
          ],
          [
           "paying"
          ],
          [
           "paying"
          ],
          [
           "paying"
          ],
          [
           "paying"
          ],
          [
           "paying"
          ],
          [
           "paying"
          ],
          [
           "paying"
          ],
          [
           "paying"
          ],
          [
           "paying"
          ],
          [
           "paying"
          ],
          [
           "paying"
          ],
          [
           "paying"
          ],
          [
           "paying"
          ],
          [
           "paying"
          ],
          [
           "paying"
          ],
          [
           "paying"
          ],
          [
           "paying"
          ],
          [
           "paying"
          ],
          [
           "paying"
          ],
          [
           "paying"
          ],
          [
           "paying"
          ],
          [
           "paying"
          ],
          [
           "paying"
          ],
          [
           "paying"
          ],
          [
           "paying"
          ],
          [
           "paying"
          ],
          [
           "paying"
          ],
          [
           "paying"
          ],
          [
           "paying"
          ],
          [
           "paying"
          ],
          [
           "paying"
          ],
          [
           "paying"
          ],
          [
           "paying"
          ],
          [
           "paying"
          ],
          [
           "paying"
          ],
          [
           "paying"
          ],
          [
           "paying"
          ],
          [
           "paying"
          ],
          [
           "paying"
          ],
          [
           "paying"
          ],
          [
           "paying"
          ],
          [
           "paying"
          ],
          [
           "paying"
          ],
          [
           "paying"
          ],
          [
           "paying"
          ],
          [
           "paying"
          ],
          [
           "paying"
          ],
          [
           "paying"
          ],
          [
           "paying"
          ],
          [
           "paying"
          ],
          [
           "paying"
          ],
          [
           "paying"
          ],
          [
           "paying"
          ],
          [
           "paying"
          ],
          [
           "paying"
          ],
          [
           "paying"
          ],
          [
           "paying"
          ],
          [
           "paying"
          ],
          [
           "paying"
          ],
          [
           "paying"
          ],
          [
           "paying"
          ],
          [
           "paying"
          ],
          [
           "paying"
          ],
          [
           "paying"
          ],
          [
           "paying"
          ],
          [
           "paying"
          ],
          [
           "paying"
          ],
          [
           "paying"
          ],
          [
           "paying"
          ],
          [
           "paying"
          ],
          [
           "paying"
          ],
          [
           "paying"
          ],
          [
           "paying"
          ],
          [
           "paying"
          ],
          [
           "paying"
          ],
          [
           "paying"
          ],
          [
           "paying"
          ],
          [
           "paying"
          ],
          [
           "paying"
          ],
          [
           "paying"
          ],
          [
           "paying"
          ],
          [
           "paying"
          ],
          [
           "paying"
          ],
          [
           "paying"
          ],
          [
           "paying"
          ],
          [
           "paying"
          ],
          [
           "paying"
          ],
          [
           "paying"
          ],
          [
           "paying"
          ],
          [
           "paying"
          ],
          [
           "paying"
          ],
          [
           "paying"
          ],
          [
           "paying"
          ],
          [
           "paying"
          ],
          [
           "paying"
          ],
          [
           "paying"
          ],
          [
           "paying"
          ],
          [
           "paying"
          ],
          [
           "paying"
          ],
          [
           "paying"
          ],
          [
           "paying"
          ],
          [
           "paying"
          ],
          [
           "paying"
          ],
          [
           "paying"
          ],
          [
           "paying"
          ],
          [
           "paying"
          ],
          [
           "paying"
          ],
          [
           "paying"
          ],
          [
           "paying"
          ],
          [
           "paying"
          ],
          [
           "paying"
          ],
          [
           "paying"
          ],
          [
           "paying"
          ],
          [
           "paying"
          ],
          [
           "paying"
          ],
          [
           "paying"
          ],
          [
           "paying"
          ],
          [
           "paying"
          ],
          [
           "paying"
          ],
          [
           "paying"
          ],
          [
           "paying"
          ],
          [
           "paying"
          ],
          [
           "paying"
          ],
          [
           "paying"
          ],
          [
           "paying"
          ],
          [
           "paying"
          ],
          [
           "paying"
          ],
          [
           "paying"
          ],
          [
           "paying"
          ],
          [
           "paying"
          ],
          [
           "paying"
          ],
          [
           "paying"
          ],
          [
           "paying"
          ],
          [
           "paying"
          ],
          [
           "paying"
          ],
          [
           "paying"
          ],
          [
           "paying"
          ],
          [
           "paying"
          ],
          [
           "paying"
          ],
          [
           "paying"
          ],
          [
           "paying"
          ],
          [
           "paying"
          ],
          [
           "paying"
          ],
          [
           "paying"
          ],
          [
           "paying"
          ],
          [
           "paying"
          ],
          [
           "paying"
          ],
          [
           "paying"
          ],
          [
           "paying"
          ],
          [
           "paying"
          ],
          [
           "paying"
          ],
          [
           "paying"
          ],
          [
           "paying"
          ],
          [
           "paying"
          ],
          [
           "paying"
          ],
          [
           "paying"
          ],
          [
           "paying"
          ],
          [
           "paying"
          ],
          [
           "paying"
          ],
          [
           "paying"
          ],
          [
           "paying"
          ],
          [
           "paying"
          ],
          [
           "paying"
          ],
          [
           "paying"
          ],
          [
           "paying"
          ],
          [
           "paying"
          ],
          [
           "paying"
          ],
          [
           "paying"
          ],
          [
           "paying"
          ],
          [
           "paying"
          ],
          [
           "paying"
          ],
          [
           "paying"
          ],
          [
           "paying"
          ],
          [
           "paying"
          ],
          [
           "paying"
          ],
          [
           "paying"
          ],
          [
           "paying"
          ],
          [
           "paying"
          ],
          [
           "paying"
          ],
          [
           "paying"
          ],
          [
           "paying"
          ],
          [
           "paying"
          ],
          [
           "paying"
          ],
          [
           "paying"
          ],
          [
           "paying"
          ],
          [
           "paying"
          ],
          [
           "paying"
          ],
          [
           "paying"
          ],
          [
           "paying"
          ],
          [
           "paying"
          ],
          [
           "paying"
          ],
          [
           "paying"
          ],
          [
           "paying"
          ],
          [
           "paying"
          ],
          [
           "paying"
          ],
          [
           "paying"
          ],
          [
           "paying"
          ],
          [
           "paying"
          ],
          [
           "paying"
          ],
          [
           "paying"
          ],
          [
           "paying"
          ],
          [
           "paying"
          ],
          [
           "paying"
          ],
          [
           "paying"
          ],
          [
           "paying"
          ],
          [
           "paying"
          ],
          [
           "paying"
          ],
          [
           "paying"
          ],
          [
           "paying"
          ],
          [
           "paying"
          ],
          [
           "paying"
          ],
          [
           "paying"
          ],
          [
           "paying"
          ],
          [
           "paying"
          ],
          [
           "paying"
          ],
          [
           "paying"
          ],
          [
           "paying"
          ],
          [
           "paying"
          ],
          [
           "paying"
          ],
          [
           "paying"
          ],
          [
           "paying"
          ],
          [
           "paying"
          ],
          [
           "paying"
          ],
          [
           "paying"
          ],
          [
           "paying"
          ],
          [
           "paying"
          ],
          [
           "paying"
          ],
          [
           "paying"
          ],
          [
           "paying"
          ],
          [
           "paying"
          ],
          [
           "paying"
          ],
          [
           "paying"
          ],
          [
           "paying"
          ],
          [
           "paying"
          ],
          [
           "paying"
          ],
          [
           "paying"
          ],
          [
           "paying"
          ],
          [
           "paying"
          ],
          [
           "paying"
          ],
          [
           "paying"
          ],
          [
           "paying"
          ],
          [
           "paying"
          ],
          [
           "paying"
          ],
          [
           "paying"
          ],
          [
           "paying"
          ],
          [
           "paying"
          ],
          [
           "paying"
          ],
          [
           "paying"
          ],
          [
           "paying"
          ],
          [
           "paying"
          ],
          [
           "paying"
          ],
          [
           "paying"
          ],
          [
           "paying"
          ],
          [
           "paying"
          ],
          [
           "paying"
          ],
          [
           "paying"
          ],
          [
           "paying"
          ],
          [
           "paying"
          ],
          [
           "paying"
          ],
          [
           "paying"
          ],
          [
           "paying"
          ],
          [
           "paying"
          ],
          [
           "paying"
          ],
          [
           "paying"
          ],
          [
           "paying"
          ],
          [
           "paying"
          ],
          [
           "paying"
          ],
          [
           "paying"
          ],
          [
           "paying"
          ],
          [
           "paying"
          ],
          [
           "paying"
          ],
          [
           "paying"
          ],
          [
           "paying"
          ],
          [
           "paying"
          ],
          [
           "paying"
          ],
          [
           "paying"
          ],
          [
           "paying"
          ],
          [
           "paying"
          ],
          [
           "paying"
          ],
          [
           "paying"
          ],
          [
           "paying"
          ],
          [
           "paying"
          ]
         ],
         "hovertemplate": "Account Status=%{customdata[0]}<br>Session Count=%{x}<br>Total Charges=%{marker.size}<extra></extra>",
         "legendgroup": "paying",
         "marker": {
          "color": "#636efa",
          "size": [
           145.6,
           728,
           277.2,
           292.83333333333337,
           462,
           1228.8000000000002,
           3020.8,
           597,
           1709.8,
           2457.6000000000004,
           3874.133333333333,
           1516.2,
           2844.2999999999997,
           435.20000000000005,
           786.5,
           3097.6000000000004,
           780.8000000000001,
           2634.9333333333334,
           3673.5999999999995,
           1244.8333333333335,
           1638.4,
           486.40000000000003,
           243.76666666666668,
           2956.8,
           766,
           3404.8,
           1888.9333333333332,
           1920,
           1728,
           1132.5333333333333,
           3094,
           487.2,
           3136,
           2725.3333333333335,
           1751.5666666666668,
           791.6666666666667,
           944.5333333333333,
           37.2,
           894.8666666666667,
           140,
           679.1666666666667,
           3855.2000000000003,
           735.1666666666667,
           588.8000000000001,
           2568,
           770,
           124.00000000000001,
           1638.4,
           9,
           2677.5,
           1104,
           1640.6666666666667,
           3028.666666666667,
           2468.666666666667,
           3497.3666666666663,
           160.79999999999998,
           873.6,
           2442.6666666666665,
           3345,
           625.1,
           1585.1333333333334,
           1018.6666666666666,
           2070.6,
           741,
           3126.6666666666665,
           1472,
           62.400000000000006,
           2878.866666666667,
           1498.3333333333333,
           2608.2000000000003,
           1833,
           759.6,
           4.9,
           2014,
           2403.333333333333,
           2293.5,
           3170.5,
           2513.2,
           3680.5333333333333,
           1205.1,
           629.3333333333334,
           2307.4333333333334,
           1694.2333333333333,
           293.3333333333333,
           844.8,
           695.8000000000001,
           2679.2999999999997,
           2756,
           2643.666666666667,
           735.1666666666667,
           2591.6,
           558.8,
           2165.6666666666665,
           1058.3999999999999,
           779.3333333333334,
           994.3333333333333,
           15,
           1332.5,
           1567.5,
           2386.8,
           128.70000000000002,
           68.46666666666667,
           2519.4,
           3685.266666666667,
           1499.1000000000001,
           100.3,
           3228.6666666666665,
           1742.3666666666668,
           2747.166666666667,
           1221.7333333333333,
           112.93333333333334,
           232.79999999999998,
           502.93333333333334,
           713.6333333333333,
           554.6666666666666,
           2058.1666666666665,
           929.3333333333334,
           284.20000000000005,
           2327.5,
           1547,
           1171.1999999999998,
           954.8000000000001,
           730.8000000000001,
           504.26666666666665,
           793,
           1363.1333333333332,
           2110,
           2290.133333333333,
           508.3666666666667,
           101.33333333333333,
           432.83333333333337,
           1206.0666666666668,
           786.1333333333333,
           1156.8666666666666,
           1228,
           1370.2666666666667,
           187.03333333333336,
           391.3,
           2774.3999999999996,
           2535.1,
           1242.1333333333332,
           665.0333333333333,
           696,
           1666.9333333333334,
           1129.0666666666666,
           798,
           2764.2666666666664,
           1690.6000000000001,
           806.4,
           362.6333333333333,
           1886.8,
           2431,
           1839.2,
           1377,
           1707.2,
           914.6666666666667,
           2402.4,
           2594.666666666667,
           1499.1000000000001,
           158,
           1788.6,
           485.0666666666667,
           9.833333333333332,
           2527.6,
           1274,
           2332,
           117.53333333333333,
           510,
           235.4,
           1018.7333333333332,
           474.59999999999997,
           1014.6,
           1209.6666666666665,
           2304.4333333333334,
           713.6333333333333,
           554.6666666666666,
           1927.6,
           1177.3666666666666,
           295.26666666666665,
           775.2,
           2068.7333333333336,
           78,
           1677.8666666666666,
           430.7,
           1067.7333333333333,
           1121.8,
           2022.4,
           1927.9333333333332,
           1578.5,
           1943.0666666666666,
           1043.4,
           373.33333333333337,
           642.4,
           1334.8,
           910.1666666666667,
           1147.2,
           668.1666666666666,
           671,
           742,
           258.1333333333333,
           1589.8666666666666,
           773.6666666666666,
           1068.6666666666667,
           462.93333333333334,
           1668.2666666666669,
           137.6,
           24.033333333333335,
           836.1999999999999,
           307.6666666666667,
           48,
           228.93333333333334,
           555,
           843.6,
           1073.3333333333333,
           331.8333333333333,
           420,
           168,
           1198.3999999999999,
           784.4000000000001,
           1738,
           834.4,
           931,
           851.1999999999999,
           638.4,
           263.2,
           1472.8,
           750.4,
           242.00000000000003,
           655.1999999999999,
           54.4,
           190.39999999999998,
           744.8,
           789.5999999999999,
           1031.8666666666666,
           207.2,
           861.8666666666667,
           486.9333333333333,
           1016.7333333333333,
           379.6666666666667,
           477.93333333333334,
           415.40000000000003,
           514.8000000000001,
           491.33333333333337,
           259.66666666666663,
           50.4,
           177.73333333333335,
           1138.1333333333332,
           176.70000000000002,
           1462.9333333333334,
           1166.6666666666665,
           831.1333333333333,
           1800,
           1663.8000000000002,
           653.1333333333333,
           801,
           1341.8999999999999,
           283.6666666666667,
           251.33333333333334,
           576.3,
           37.6,
           34,
           1117.2,
           275.73333333333335,
           1516.2,
           2844.2999999999997,
           564.1999999999999,
           51.8,
           1425,
           21.233333333333334,
           745.0666666666666,
           1641.6000000000001,
           911.1333333333333,
           883.5,
           991.8000000000001,
           769.5,
           1137.5,
           1595.7333333333331,
           1179.1999999999998,
           476,
           797.8666666666667,
           965.9999999999999,
           332.53333333333336,
           182.4,
           402.9,
           1164.2666666666667,
           1012.5000000000001,
           175,
           42.699999999999996,
           1169.6,
           604.8666666666667,
           1584.6000000000001,
           954.8000000000001,
           879.6666666666666,
           1025.2666666666667,
           695,
           229.49999999999997,
           274.26666666666665,
           561.1999999999999,
           318.6,
           799.9333333333334,
           212.8,
           800.8,
           613.6,
           240.66666666666666,
           451.1333333333333,
           893.2,
           657.4333333333334,
           858.6,
           237.66666666666669,
           702.6666666666667,
           354.66666666666663,
           237.60000000000002,
           694.6,
           604,
           630.7666666666667,
           918.6333333333333,
           592.2,
           508.3666666666667,
           260.3333333333333,
           929.5333333333333,
           657.4,
           600.6666666666667,
           909.9999999999999,
           637.5333333333333,
           891.7333333333333,
           326.53333333333336,
           687.8666666666667,
           263.23333333333335,
           60.13333333333333,
           328.79999999999995,
           170.79999999999998,
           122.10000000000001,
           1157.2333333333333,
           577.2,
           453.8666666666667,
           396.90000000000003,
           43,
           225.39999999999998,
           591.6666666666666,
           847.1333333333332,
           733.5999999999999,
           214,
           691.6666666666666,
           819.2,
           4.966666666666667,
           480.5333333333333,
           927.7333333333333,
           545.6,
           537.6,
           250.86666666666667,
           1053.4333333333334,
           837.1999999999999,
           1316.7,
           207.43333333333334,
           253.86666666666667,
           322,
           392,
           360.79999999999995,
           787.2666666666667,
           984.4,
           109.19999999999999,
           568.4,
           1017.3333333333334,
           149.46666666666667,
           150,
           206.4,
           171.60000000000002,
           443.73333333333335,
           675.0333333333334,
           1074.3999999999999,
           29.3,
           512.4,
           544,
           4.666666666666667,
           3.8666666666666667,
           672.4,
           196,
           1245.2,
           705.5999999999999,
           312.8,
           449.40000000000003,
           9.1,
           220.00000000000003,
           440.16666666666663,
           264.3666666666667,
           407.40000000000003,
           347.8,
           498.8,
           668.8666666666667,
           2.6,
           1220.8333333333335,
           362.4333333333333,
           979.3333333333333,
           12,
           285.2,
           624.8333333333334,
           191.4,
           1240.3666666666668,
           998.4,
           943.8,
           170.66666666666666,
           112.1,
           575,
           120.99999999999999,
           410.6333333333333,
           695.8333333333334,
           1145.8333333333335,
           1129.1666666666667,
           312,
           583.1999999999999,
           170.83333333333334,
           746.1666666666666,
           557.6,
           1205.3999999999999,
           212.50000000000003,
           620.6666666666667,
           799,
           482.5333333333333,
           235.16666666666666,
           187.2,
           776,
           576.6666666666667,
           194.26666666666668,
           539.6,
           780,
           139.33333333333331,
           832.3333333333333,
           804,
           700,
           114,
           239.20000000000002,
           591.3,
           129.5,
           220.26666666666668,
           34.6,
           724.5,
           633.9333333333334,
           676.3666666666667,
           638.4,
           553.7,
           56,
           972.4,
           558.1333333333333,
           502.9333333333334,
           702.7333333333333,
           532.8000000000001,
           462.4,
           560,
           733.9333333333333,
           773.3000000000001,
           256.53333333333336,
           174.93333333333334,
           363.8,
           280,
           756.6666666666667,
           141.66666666666669,
           330,
           493.26666666666665,
           680.0666666666667,
           8.233333333333333,
           157.06666666666666,
           412.76666666666665,
           76.53333333333333,
           515.2,
           702.9,
           482.1333333333333,
           429.8666666666667,
           157.86666666666667,
           62.93333333333333,
           4.133333333333333,
           1.4,
           171.66666666666666,
           113.46666666666667,
           573.3,
           448,
           732.6,
           111.46666666666667,
           147.9,
           73.5,
           908.6666666666666,
           517,
           676.1999999999999,
           199.2,
           660.3333333333334,
           566.8000000000001,
           638.6,
           578,
           243,
           730.8,
           4.166666666666667,
           187.6,
           664.2,
           257.40000000000003,
           628.0333333333333,
           279,
           501.5,
           400,
           81.63333333333333,
           154.53333333333333,
           405,
           14.466666666666667,
           753.5333333333334,
           691.6,
           410.4,
           233.56666666666666,
           96.6,
           10.266666666666666,
           744.2333333333333,
           95.33333333333333,
           264.8666666666667,
           160.20000000000002,
           478.5,
           389.8666666666667,
           208.26666666666668,
           72,
           473.59999999999997,
           90,
           223.6,
           222.16666666666666,
           76.36666666666666,
           263.2,
           46.6,
           28.400000000000002,
           34.2,
           89.6,
           232.29999999999998,
           20.200000000000003,
           56,
           337.5,
           64.89999999999999,
           338.33333333333337,
           750.4,
           242.00000000000003,
           199.83333333333331,
           86.7,
           444.16666666666663,
           101.4,
           409.4,
           65.10000000000001,
           685.3000000000001,
           482.8,
           114.4,
           336.8333333333333,
           262.4,
           307.2,
           270,
           72.8,
           59.733333333333334,
           88.66666666666666,
           97.5,
           148.5,
           427.5,
           13.600000000000001,
           223.3,
           297.5,
           396.93333333333334,
           116.1,
           508.79999999999995,
           1.7333333333333334,
           80.46666666666667,
           363,
           110.5,
           78.1,
           345.1333333333334,
           206.99999999999997,
           4.166666666666667,
           148.5,
           462,
           3.7333333333333334,
           139.2,
           156.39999999999998,
           88.93333333333334,
           223.10000000000002,
           408,
           372.4,
           239.7,
           386.3666666666667,
           418.00000000000006,
           65.33333333333333,
           148.5,
           462,
           646.8000000000001,
           275,
           292.5,
           341,
           83.2,
           375.46666666666664,
           375.53333333333336,
           30.4,
           58.800000000000004,
           115.73333333333335,
           285,
           179.2,
           22.73333333333333,
           504.26666666666665,
           113.46666666666667,
           111.30000000000001,
           315,
           480.7,
           120,
           210.73333333333335,
           558.1333333333333,
           502.9333333333334,
           28.700000000000003,
           431.1333333333333,
           401.06666666666666,
           286.7,
           19.166666666666664,
           101.33333333333333,
           130.83333333333334,
           406,
           214.5,
           311.26666666666665,
           236.66666666666669,
           167.73333333333332,
           305.9,
           410,
           245.43333333333334,
           332.5,
           97.5,
           9.633333333333333,
           331.8333333333333,
           66.73333333333333,
           517.0666666666667,
           224.4,
           308.4,
           393.23333333333335,
           99.16666666666667,
           64.23333333333333,
           336.6666666666667,
           300.6,
           355.93333333333334,
           6.666666666666667,
           258.5,
           101.5,
           203.53333333333333,
           156.86666666666667,
           277.09999999999997,
           402.1333333333333,
           38,
           225,
           139.20000000000002,
           253.8,
           35,
           365.5,
           108.3,
           73.26666666666667,
           81.66666666666667,
           10.5,
           300.93333333333334,
           78.3,
           302.3666666666667,
           3.933333333333333,
           288.06666666666666,
           137.86666666666667,
           369.1333333333333,
           280.6,
           299.3,
           363.20000000000005,
           148.73333333333335,
           54.833333333333336,
           208.8,
           144,
           139.20000000000002,
           468.43333333333334,
           240.8,
           290.40000000000003,
           53.66666666666667,
           301.73333333333335,
           157.3,
           92,
           81.7,
           77.4,
           297.5,
           122.46666666666665,
           70,
           209.66666666666666,
           278.06666666666666,
           90.3,
           151.93333333333334,
           83.36666666666667,
           92.5,
           6.933333333333334,
           274.1333333333333,
           46.83333333333333,
           58.766666666666666,
           135.66666666666666,
           283.5,
           177.33333333333331,
           145.70000000000002,
           115.7,
           332.8,
           206.26666666666668,
           211.93333333333334,
           120.16666666666667,
           357.59999999999997,
           60.266666666666666,
           116.53333333333333,
           212.3,
           111,
           5.8,
           149.60000000000002,
           74.7,
           123.6,
           236.39999999999998,
           7.8,
           106,
           57.2,
           47.5,
           51,
           1.6333333333333333,
           196.23333333333335,
           218.4,
           280.5,
           100.86666666666666,
           214.2,
           41.33333333333333,
           8.033333333333333,
           206.8,
           163.8,
           324.5,
           160,
           200.66666666666666,
           188.5,
           188.8,
           219.6,
           172.5666666666667,
           74.23333333333333,
           37.800000000000004,
           134,
           22.799999999999997,
           180,
           174.20000000000002,
           273.4666666666667,
           220.5,
           81.66666666666667,
           175.46666666666667,
           184.5,
           126.86666666666666,
           80.10000000000001,
           119.60000000000001,
           178.63333333333335,
           33.333333333333336,
           129.33333333333331,
           78.96666666666667,
           215.1,
           126.9,
           172,
           257.40000000000003,
           189,
           18.8,
           160.6,
           172.46666666666667,
           40,
           185.53333333333333,
           114,
           156.4,
           132.36666666666667,
           58.06666666666667,
           248.73333333333335,
           105.83333333333334,
           36.800000000000004,
           2.8666666666666667,
           104.86666666666667,
           169.86666666666667,
           196.53333333333333,
           96.2,
           50.266666666666666,
           21.5,
           128.70000000000002,
           68.46666666666667,
           154.16666666666669,
           196.73333333333335,
           84.06666666666666,
           208.26666666666665,
           209.16666666666669,
           142.13333333333333,
           151.66666666666669,
           130.79999999999998,
           169,
           12.533333333333333,
           60.8,
           16.166666666666664,
           212.5,
           151.20000000000002,
           182.46666666666667,
           124.80000000000001,
           84,
           118.4,
           216.20000000000002,
           1.6333333333333333,
           35.233333333333334,
           91.19999999999999,
           12.833333333333332,
           29.900000000000002,
           181.70000000000002,
           93.1,
           28.7,
           93,
           123.43333333333334,
           23.333333333333332,
           65.33333333333333,
           97.33333333333333,
           209.3,
           111.16666666666667,
           66.73333333333333,
           122.46666666666665,
           27.133333333333333,
           128.66666666666666,
           28.833333333333332,
           42,
           148.46666666666667,
           110.73333333333332,
           75.53333333333333,
           36.3,
           154.53333333333333,
           75.5,
           6.066666666666666,
           80.5,
           21.400000000000002,
           8.666666666666666,
           91.83333333333333,
           39,
           114.66666666666666,
           102.4,
           56.666666666666664,
           47.5,
           29.033333333333335,
           22.666666666666664,
           97.6,
           2.6,
           85.33333333333333,
           40.5,
           91.5,
           56.46666666666666,
           61.53333333333334,
           82.5,
           95.33333333333334,
           86,
           12.166666666666666,
           13.799999999999999,
           32.666666666666664,
           123.66666666666667,
           1.8,
           17.5,
           53.300000000000004,
           79.3,
           1.7666666666666666,
           56.8,
           65.7,
           24.266666666666666,
           17.96666666666667,
           65.2,
           2.8,
           38.266666666666666,
           84.80000000000001,
           4.366666666666666,
           22.400000000000002,
           10.666666666666666,
           20.933333333333334,
           40.666666666666664,
           26.833333333333332,
           38.03333333333333,
           27.333333333333332,
           25,
           55.400000000000006,
           4.266666666666667,
           6.266666666666667,
           31.2,
           16.1,
           21.200000000000003,
           50.4,
           2.466666666666667,
           40.6,
           4.433333333333334,
           7.6000000000000005,
           24.200000000000003,
           32.6,
           30.200000000000003,
           35.06666666666666,
           7.433333333333334,
           19.5,
           8.566666666666666,
           24.333333333333332,
           21.700000000000003,
           7.466666666666667,
           21.200000000000003,
           6.833333333333333,
           4.733333333333333,
           0,
           0
          ],
          "sizemode": "area",
          "sizeref": 11.075666666666667,
          "symbol": "circle"
         },
         "mode": "markers",
         "name": "paying",
         "showlegend": true,
         "type": "scattergl",
         "x": [
          1379,
          531,
          317,
          349,
          1158,
          279,
          386,
          98,
          2187,
          105,
          1800,
          2191,
          2191,
          3394,
          241,
          1212,
          1333,
          1657,
          285,
          2501,
          1409,
          225,
          352,
          10531,
          184,
          24,
          0,
          2171,
          10,
          80,
          51,
          28,
          153,
          2443,
          27,
          15,
          1,
          187,
          8728,
          126,
          45,
          491,
          267,
          0,
          67,
          0,
          159,
          2100,
          35,
          71,
          143,
          2,
          147,
          8,
          98,
          204,
          28,
          427,
          18332,
          565,
          565,
          14,
          441,
          15,
          176,
          217,
          1,
          51,
          2665,
          894,
          15,
          75,
          8,
          252,
          4,
          33,
          152,
          19,
          230,
          15,
          91,
          458,
          291,
          50,
          71,
          5,
          616,
          1023,
          6,
          2,
          107,
          10,
          185,
          2,
          26,
          100,
          2,
          11,
          36,
          77,
          45,
          45,
          254,
          789,
          0,
          108,
          77,
          335,
          18,
          28,
          6,
          188,
          81,
          115,
          115,
          1868,
          0,
          53,
          961,
          3,
          3,
          33,
          3,
          4,
          40,
          34,
          24591,
          51169,
          2,
          47,
          218,
          11310,
          17,
          17,
          687,
          8,
          5,
          18,
          732,
          140,
          7,
          10334,
          3,
          6659,
          69,
          22,
          5,
          377,
          71,
          12,
          10744,
          12,
          4,
          107,
          16015,
          87,
          2702,
          81,
          1,
          1,
          5,
          3,
          1,
          13,
          46,
          4226,
          64,
          4,
          30,
          59,
          765,
          0,
          221,
          1412,
          170,
          170,
          841,
          72,
          19,
          1,
          226,
          3,
          8,
          6,
          3,
          15,
          418,
          34,
          46,
          1,
          6,
          316,
          27,
          46,
          26,
          0,
          94,
          24,
          370,
          311,
          14,
          73,
          15,
          1145,
          542,
          13,
          9,
          59,
          5,
          192,
          3188,
          6,
          68,
          5,
          1410,
          1,
          0,
          222,
          6564,
          3,
          13,
          398,
          1,
          0,
          0,
          0,
          3,
          3,
          0,
          10,
          0,
          0,
          4,
          0,
          42,
          100,
          124,
          21,
          96,
          7,
          10,
          33,
          215,
          4,
          41,
          11,
          184,
          4,
          39,
          138,
          17,
          19,
          63,
          22,
          11,
          134,
          1429,
          293,
          4,
          19,
          3,
          2,
          503,
          1,
          1,
          66,
          4,
          5,
          11,
          8,
          18,
          0,
          490,
          30,
          148,
          21,
          14,
          2,
          70,
          14,
          29,
          19,
          29,
          2,
          39,
          28,
          98,
          1,
          16,
          10,
          2,
          40,
          672,
          19,
          26,
          24,
          95,
          9,
          37,
          121,
          8,
          6,
          70,
          54,
          7,
          960,
          70,
          119,
          41,
          211,
          99,
          1,
          57,
          7,
          53,
          16,
          30,
          3,
          61,
          20,
          3,
          54,
          464,
          1955,
          489,
          7,
          136,
          26,
          34,
          143,
          32,
          16,
          23,
          106,
          8,
          5612,
          4,
          35,
          781,
          2,
          20,
          207,
          14,
          7,
          29,
          16,
          16,
          9,
          10,
          1,
          126,
          136,
          157,
          180,
          7,
          31,
          2,
          5,
          38,
          478,
          23,
          28,
          16,
          218,
          569,
          78,
          3,
          39,
          14,
          107,
          42,
          11,
          18,
          13,
          3,
          42,
          9,
          121,
          18,
          5,
          7,
          5,
          532,
          61,
          7,
          142,
          312,
          15,
          17,
          5,
          5,
          30,
          18,
          44,
          78,
          4,
          63,
          34,
          22,
          5,
          38,
          25,
          203,
          272,
          31,
          13,
          45,
          5,
          7,
          10,
          12,
          14,
          18,
          18,
          9,
          18,
          45,
          5,
          5,
          1611,
          2,
          117,
          152,
          16,
          11,
          36,
          34,
          94,
          89,
          301,
          3,
          2,
          69,
          58,
          3,
          75,
          179,
          624,
          21,
          4,
          4,
          635,
          110,
          110,
          2,
          17,
          97,
          2,
          14,
          61,
          1,
          0,
          38,
          65,
          33,
          745,
          91,
          5,
          20,
          0,
          22,
          9,
          11,
          2,
          29,
          12,
          2,
          6,
          0,
          2,
          1,
          1,
          0,
          8,
          12,
          45,
          758,
          97,
          3,
          31,
          202,
          5,
          16,
          17,
          748,
          61,
          3,
          4,
          497,
          1,
          43,
          3,
          109,
          37,
          1,
          3,
          29,
          45,
          179,
          5,
          1,
          65,
          235,
          1107,
          451,
          1,
          2,
          23,
          90,
          1,
          22,
          1,
          27,
          5,
          12,
          134,
          27,
          6,
          6,
          28,
          6,
          0,
          0,
          12,
          0,
          183,
          4,
          11,
          1,
          47,
          17,
          5,
          5,
          2,
          4,
          19,
          36,
          2,
          197,
          11,
          481,
          132,
          2,
          1,
          9,
          3,
          3,
          5,
          281,
          19,
          18,
          1,
          2,
          2,
          4,
          26,
          16,
          2,
          1,
          1845,
          65,
          8,
          2425,
          15,
          2,
          1,
          10,
          10,
          2,
          19,
          0,
          22,
          1,
          26,
          7,
          19,
          0,
          1,
          4,
          10,
          10,
          279,
          0,
          2,
          1,
          6,
          0,
          22,
          11,
          7,
          6,
          10,
          2,
          5,
          1956,
          122,
          16,
          1,
          161,
          35,
          0,
          10,
          10,
          1,
          7,
          19,
          19,
          4,
          4,
          24,
          6,
          29,
          30,
          37,
          29,
          2,
          20,
          17,
          10,
          351,
          12,
          132,
          15,
          112,
          17,
          2,
          140,
          1,
          192,
          9,
          59,
          3,
          8,
          5,
          8,
          2060,
          0,
          5,
          7,
          0,
          9,
          3,
          1,
          15,
          96,
          5,
          1,
          1,
          2,
          1,
          280,
          52,
          2,
          11,
          43,
          5,
          129,
          253,
          0,
          330,
          0,
          38,
          2,
          0,
          3,
          1,
          3,
          17,
          26,
          3,
          25,
          2,
          585,
          69,
          0,
          35,
          8,
          8,
          1854,
          20,
          1326,
          1,
          6,
          196,
          21,
          1,
          6,
          18,
          512,
          9,
          2,
          8,
          3456,
          13,
          4,
          37,
          6,
          1,
          42,
          49,
          5,
          3,
          13,
          3,
          13,
          0,
          793,
          2,
          0,
          0,
          5,
          8,
          3,
          301,
          19,
          25,
          2,
          4,
          1,
          1,
          8,
          0,
          1,
          42,
          28,
          0,
          4973,
          12,
          2,
          9,
          121,
          4,
          3,
          29,
          1,
          1,
          1,
          0,
          940,
          2,
          39,
          1,
          1,
          11,
          23,
          94,
          0,
          2,
          2,
          1,
          8,
          2,
          0,
          0,
          0,
          0,
          0,
          0,
          1,
          10,
          1,
          32,
          2,
          0,
          0,
          0,
          1,
          1,
          1,
          5,
          5,
          3,
          0,
          16,
          0,
          0,
          0,
          0,
          1,
          0,
          12,
          1,
          30,
          0,
          1,
          2,
          2,
          2,
          10,
          29,
          2,
          2,
          0,
          2,
          0,
          0,
          4,
          50,
          22,
          9,
          0,
          0,
          0,
          0,
          0,
          0,
          0,
          0,
          2,
          0,
          5,
          0,
          0,
          0,
          5,
          0,
          32,
          1,
          16,
          1,
          1,
          0,
          2,
          0,
          9,
          1,
          7,
          2,
          8,
          4,
          1,
          2,
          2,
          8,
          2,
          4,
          0,
          1,
          4,
          0,
          0,
          0,
          1,
          0,
          2,
          1,
          3,
          1,
          21,
          2,
          1,
          4,
          0,
          2,
          6,
          1,
          0,
          5,
          3,
          7,
          0,
          3,
          51,
          6,
          21,
          0,
          0,
          1,
          11,
          6,
          0,
          4,
          1,
          0,
          1,
          0,
          0,
          0,
          0,
          9,
          0,
          0,
          2,
          1,
          1,
          0,
          1,
          0,
          1,
          0,
          0
         ],
         "xaxis": "x",
         "y": [
          145.6,
          728,
          277.2,
          292.83333333333337,
          462,
          1228.8000000000002,
          3020.8,
          597,
          1709.8,
          2457.6000000000004,
          3874.133333333333,
          1516.2,
          2844.2999999999997,
          435.20000000000005,
          786.5,
          3097.6000000000004,
          780.8000000000001,
          2634.9333333333334,
          3673.5999999999995,
          1244.8333333333335,
          1638.4,
          486.40000000000003,
          243.76666666666668,
          2956.8,
          766,
          3404.8,
          1888.9333333333332,
          1920,
          1728,
          1132.5333333333333,
          3094,
          487.2,
          3136,
          2725.3333333333335,
          1751.5666666666668,
          791.6666666666667,
          944.5333333333333,
          37.2,
          894.8666666666667,
          140,
          679.1666666666667,
          3855.2000000000003,
          735.1666666666667,
          588.8000000000001,
          2568,
          770,
          124.00000000000001,
          1638.4,
          9,
          2677.5,
          1104,
          1640.6666666666667,
          3028.666666666667,
          2468.666666666667,
          3497.3666666666663,
          160.79999999999998,
          873.6,
          2442.6666666666665,
          3345,
          625.1,
          1585.1333333333334,
          1018.6666666666666,
          2070.6,
          741,
          3126.6666666666665,
          1472,
          62.400000000000006,
          2878.866666666667,
          1498.3333333333333,
          2608.2000000000003,
          1833,
          759.6,
          4.9,
          2014,
          2403.333333333333,
          2293.5,
          3170.5,
          2513.2,
          3680.5333333333333,
          1205.1,
          629.3333333333334,
          2307.4333333333334,
          1694.2333333333333,
          293.3333333333333,
          844.8,
          695.8000000000001,
          2679.2999999999997,
          2756,
          2643.666666666667,
          735.1666666666667,
          2591.6,
          558.8,
          2165.6666666666665,
          1058.3999999999999,
          779.3333333333334,
          994.3333333333333,
          15,
          1332.5,
          1567.5,
          2386.8,
          128.70000000000002,
          68.46666666666667,
          2519.4,
          3685.266666666667,
          1499.1000000000001,
          100.3,
          3228.6666666666665,
          1742.3666666666668,
          2747.166666666667,
          1221.7333333333333,
          112.93333333333334,
          232.79999999999998,
          502.93333333333334,
          713.6333333333333,
          554.6666666666666,
          2058.1666666666665,
          929.3333333333334,
          284.20000000000005,
          2327.5,
          1547,
          1171.1999999999998,
          954.8000000000001,
          730.8000000000001,
          504.26666666666665,
          793,
          1363.1333333333332,
          2110,
          2290.133333333333,
          508.3666666666667,
          101.33333333333333,
          432.83333333333337,
          1206.0666666666668,
          786.1333333333333,
          1156.8666666666666,
          1228,
          1370.2666666666667,
          187.03333333333336,
          391.3,
          2774.3999999999996,
          2535.1,
          1242.1333333333332,
          665.0333333333333,
          696,
          1666.9333333333334,
          1129.0666666666666,
          798,
          2764.2666666666664,
          1690.6000000000001,
          806.4,
          362.6333333333333,
          1886.8,
          2431,
          1839.2,
          1377,
          1707.2,
          914.6666666666667,
          2402.4,
          2594.666666666667,
          1499.1000000000001,
          158,
          1788.6,
          485.0666666666667,
          9.833333333333332,
          2527.6,
          1274,
          2332,
          117.53333333333333,
          510,
          235.4,
          1018.7333333333332,
          474.59999999999997,
          1014.6,
          1209.6666666666665,
          2304.4333333333334,
          713.6333333333333,
          554.6666666666666,
          1927.6,
          1177.3666666666666,
          295.26666666666665,
          775.2,
          2068.7333333333336,
          78,
          1677.8666666666666,
          430.7,
          1067.7333333333333,
          1121.8,
          2022.4,
          1927.9333333333332,
          1578.5,
          1943.0666666666666,
          1043.4,
          373.33333333333337,
          642.4,
          1334.8,
          910.1666666666667,
          1147.2,
          668.1666666666666,
          671,
          742,
          258.1333333333333,
          1589.8666666666666,
          773.6666666666666,
          1068.6666666666667,
          462.93333333333334,
          1668.2666666666669,
          137.6,
          24.033333333333335,
          836.1999999999999,
          307.6666666666667,
          48,
          228.93333333333334,
          555,
          843.6,
          1073.3333333333333,
          331.8333333333333,
          420,
          168,
          1198.3999999999999,
          784.4000000000001,
          1738,
          834.4,
          931,
          851.1999999999999,
          638.4,
          263.2,
          1472.8,
          750.4,
          242.00000000000003,
          655.1999999999999,
          54.4,
          190.39999999999998,
          744.8,
          789.5999999999999,
          1031.8666666666666,
          207.2,
          861.8666666666667,
          486.9333333333333,
          1016.7333333333333,
          379.6666666666667,
          477.93333333333334,
          415.40000000000003,
          514.8000000000001,
          491.33333333333337,
          259.66666666666663,
          50.4,
          177.73333333333335,
          1138.1333333333332,
          176.70000000000002,
          1462.9333333333334,
          1166.6666666666665,
          831.1333333333333,
          1800,
          1663.8000000000002,
          653.1333333333333,
          801,
          1341.8999999999999,
          283.6666666666667,
          251.33333333333334,
          576.3,
          37.6,
          34,
          1117.2,
          275.73333333333335,
          1516.2,
          2844.2999999999997,
          564.1999999999999,
          51.8,
          1425,
          21.233333333333334,
          745.0666666666666,
          1641.6000000000001,
          911.1333333333333,
          883.5,
          991.8000000000001,
          769.5,
          1137.5,
          1595.7333333333331,
          1179.1999999999998,
          476,
          797.8666666666667,
          965.9999999999999,
          332.53333333333336,
          182.4,
          402.9,
          1164.2666666666667,
          1012.5000000000001,
          175,
          42.699999999999996,
          1169.6,
          604.8666666666667,
          1584.6000000000001,
          954.8000000000001,
          879.6666666666666,
          1025.2666666666667,
          695,
          229.49999999999997,
          274.26666666666665,
          561.1999999999999,
          318.6,
          799.9333333333334,
          212.8,
          800.8,
          613.6,
          240.66666666666666,
          451.1333333333333,
          893.2,
          657.4333333333334,
          858.6,
          237.66666666666669,
          702.6666666666667,
          354.66666666666663,
          237.60000000000002,
          694.6,
          604,
          630.7666666666667,
          918.6333333333333,
          592.2,
          508.3666666666667,
          260.3333333333333,
          929.5333333333333,
          657.4,
          600.6666666666667,
          909.9999999999999,
          637.5333333333333,
          891.7333333333333,
          326.53333333333336,
          687.8666666666667,
          263.23333333333335,
          60.13333333333333,
          328.79999999999995,
          170.79999999999998,
          122.10000000000001,
          1157.2333333333333,
          577.2,
          453.8666666666667,
          396.90000000000003,
          43,
          225.39999999999998,
          591.6666666666666,
          847.1333333333332,
          733.5999999999999,
          214,
          691.6666666666666,
          819.2,
          4.966666666666667,
          480.5333333333333,
          927.7333333333333,
          545.6,
          537.6,
          250.86666666666667,
          1053.4333333333334,
          837.1999999999999,
          1316.7,
          207.43333333333334,
          253.86666666666667,
          322,
          392,
          360.79999999999995,
          787.2666666666667,
          984.4,
          109.19999999999999,
          568.4,
          1017.3333333333334,
          149.46666666666667,
          150,
          206.4,
          171.60000000000002,
          443.73333333333335,
          675.0333333333334,
          1074.3999999999999,
          29.3,
          512.4,
          544,
          4.666666666666667,
          3.8666666666666667,
          672.4,
          196,
          1245.2,
          705.5999999999999,
          312.8,
          449.40000000000003,
          9.1,
          220.00000000000003,
          440.16666666666663,
          264.3666666666667,
          407.40000000000003,
          347.8,
          498.8,
          668.8666666666667,
          2.6,
          1220.8333333333335,
          362.4333333333333,
          979.3333333333333,
          12,
          285.2,
          624.8333333333334,
          191.4,
          1240.3666666666668,
          998.4,
          943.8,
          170.66666666666666,
          112.1,
          575,
          120.99999999999999,
          410.6333333333333,
          695.8333333333334,
          1145.8333333333335,
          1129.1666666666667,
          312,
          583.1999999999999,
          170.83333333333334,
          746.1666666666666,
          557.6,
          1205.3999999999999,
          212.50000000000003,
          620.6666666666667,
          799,
          482.5333333333333,
          235.16666666666666,
          187.2,
          776,
          576.6666666666667,
          194.26666666666668,
          539.6,
          780,
          139.33333333333331,
          832.3333333333333,
          804,
          700,
          114,
          239.20000000000002,
          591.3,
          129.5,
          220.26666666666668,
          34.6,
          724.5,
          633.9333333333334,
          676.3666666666667,
          638.4,
          553.7,
          56,
          972.4,
          558.1333333333333,
          502.9333333333334,
          702.7333333333333,
          532.8000000000001,
          462.4,
          560,
          733.9333333333333,
          773.3000000000001,
          256.53333333333336,
          174.93333333333334,
          363.8,
          280,
          756.6666666666667,
          141.66666666666669,
          330,
          493.26666666666665,
          680.0666666666667,
          8.233333333333333,
          157.06666666666666,
          412.76666666666665,
          76.53333333333333,
          515.2,
          702.9,
          482.1333333333333,
          429.8666666666667,
          157.86666666666667,
          62.93333333333333,
          4.133333333333333,
          1.4,
          171.66666666666666,
          113.46666666666667,
          573.3,
          448,
          732.6,
          111.46666666666667,
          147.9,
          73.5,
          908.6666666666666,
          517,
          676.1999999999999,
          199.2,
          660.3333333333334,
          566.8000000000001,
          638.6,
          578,
          243,
          730.8,
          4.166666666666667,
          187.6,
          664.2,
          257.40000000000003,
          628.0333333333333,
          279,
          501.5,
          400,
          81.63333333333333,
          154.53333333333333,
          405,
          14.466666666666667,
          753.5333333333334,
          691.6,
          410.4,
          233.56666666666666,
          96.6,
          10.266666666666666,
          744.2333333333333,
          95.33333333333333,
          264.8666666666667,
          160.20000000000002,
          478.5,
          389.8666666666667,
          208.26666666666668,
          72,
          473.59999999999997,
          90,
          223.6,
          222.16666666666666,
          76.36666666666666,
          263.2,
          46.6,
          28.400000000000002,
          34.2,
          89.6,
          232.29999999999998,
          20.200000000000003,
          56,
          337.5,
          64.89999999999999,
          338.33333333333337,
          750.4,
          242.00000000000003,
          199.83333333333331,
          86.7,
          444.16666666666663,
          101.4,
          409.4,
          65.10000000000001,
          685.3000000000001,
          482.8,
          114.4,
          336.8333333333333,
          262.4,
          307.2,
          270,
          72.8,
          59.733333333333334,
          88.66666666666666,
          97.5,
          148.5,
          427.5,
          13.600000000000001,
          223.3,
          297.5,
          396.93333333333334,
          116.1,
          508.79999999999995,
          1.7333333333333334,
          80.46666666666667,
          363,
          110.5,
          78.1,
          345.1333333333334,
          206.99999999999997,
          4.166666666666667,
          148.5,
          462,
          3.7333333333333334,
          139.2,
          156.39999999999998,
          88.93333333333334,
          223.10000000000002,
          408,
          372.4,
          239.7,
          386.3666666666667,
          418.00000000000006,
          65.33333333333333,
          148.5,
          462,
          646.8000000000001,
          275,
          292.5,
          341,
          83.2,
          375.46666666666664,
          375.53333333333336,
          30.4,
          58.800000000000004,
          115.73333333333335,
          285,
          179.2,
          22.73333333333333,
          504.26666666666665,
          113.46666666666667,
          111.30000000000001,
          315,
          480.7,
          120,
          210.73333333333335,
          558.1333333333333,
          502.9333333333334,
          28.700000000000003,
          431.1333333333333,
          401.06666666666666,
          286.7,
          19.166666666666664,
          101.33333333333333,
          130.83333333333334,
          406,
          214.5,
          311.26666666666665,
          236.66666666666669,
          167.73333333333332,
          305.9,
          410,
          245.43333333333334,
          332.5,
          97.5,
          9.633333333333333,
          331.8333333333333,
          66.73333333333333,
          517.0666666666667,
          224.4,
          308.4,
          393.23333333333335,
          99.16666666666667,
          64.23333333333333,
          336.6666666666667,
          300.6,
          355.93333333333334,
          6.666666666666667,
          258.5,
          101.5,
          203.53333333333333,
          156.86666666666667,
          277.09999999999997,
          402.1333333333333,
          38,
          225,
          139.20000000000002,
          253.8,
          35,
          365.5,
          108.3,
          73.26666666666667,
          81.66666666666667,
          10.5,
          300.93333333333334,
          78.3,
          302.3666666666667,
          3.933333333333333,
          288.06666666666666,
          137.86666666666667,
          369.1333333333333,
          280.6,
          299.3,
          363.20000000000005,
          148.73333333333335,
          54.833333333333336,
          208.8,
          144,
          139.20000000000002,
          468.43333333333334,
          240.8,
          290.40000000000003,
          53.66666666666667,
          301.73333333333335,
          157.3,
          92,
          81.7,
          77.4,
          297.5,
          122.46666666666665,
          70,
          209.66666666666666,
          278.06666666666666,
          90.3,
          151.93333333333334,
          83.36666666666667,
          92.5,
          6.933333333333334,
          274.1333333333333,
          46.83333333333333,
          58.766666666666666,
          135.66666666666666,
          283.5,
          177.33333333333331,
          145.70000000000002,
          115.7,
          332.8,
          206.26666666666668,
          211.93333333333334,
          120.16666666666667,
          357.59999999999997,
          60.266666666666666,
          116.53333333333333,
          212.3,
          111,
          5.8,
          149.60000000000002,
          74.7,
          123.6,
          236.39999999999998,
          7.8,
          106,
          57.2,
          47.5,
          51,
          1.6333333333333333,
          196.23333333333335,
          218.4,
          280.5,
          100.86666666666666,
          214.2,
          41.33333333333333,
          8.033333333333333,
          206.8,
          163.8,
          324.5,
          160,
          200.66666666666666,
          188.5,
          188.8,
          219.6,
          172.5666666666667,
          74.23333333333333,
          37.800000000000004,
          134,
          22.799999999999997,
          180,
          174.20000000000002,
          273.4666666666667,
          220.5,
          81.66666666666667,
          175.46666666666667,
          184.5,
          126.86666666666666,
          80.10000000000001,
          119.60000000000001,
          178.63333333333335,
          33.333333333333336,
          129.33333333333331,
          78.96666666666667,
          215.1,
          126.9,
          172,
          257.40000000000003,
          189,
          18.8,
          160.6,
          172.46666666666667,
          40,
          185.53333333333333,
          114,
          156.4,
          132.36666666666667,
          58.06666666666667,
          248.73333333333335,
          105.83333333333334,
          36.800000000000004,
          2.8666666666666667,
          104.86666666666667,
          169.86666666666667,
          196.53333333333333,
          96.2,
          50.266666666666666,
          21.5,
          128.70000000000002,
          68.46666666666667,
          154.16666666666669,
          196.73333333333335,
          84.06666666666666,
          208.26666666666665,
          209.16666666666669,
          142.13333333333333,
          151.66666666666669,
          130.79999999999998,
          169,
          12.533333333333333,
          60.8,
          16.166666666666664,
          212.5,
          151.20000000000002,
          182.46666666666667,
          124.80000000000001,
          84,
          118.4,
          216.20000000000002,
          1.6333333333333333,
          35.233333333333334,
          91.19999999999999,
          12.833333333333332,
          29.900000000000002,
          181.70000000000002,
          93.1,
          28.7,
          93,
          123.43333333333334,
          23.333333333333332,
          65.33333333333333,
          97.33333333333333,
          209.3,
          111.16666666666667,
          66.73333333333333,
          122.46666666666665,
          27.133333333333333,
          128.66666666666666,
          28.833333333333332,
          42,
          148.46666666666667,
          110.73333333333332,
          75.53333333333333,
          36.3,
          154.53333333333333,
          75.5,
          6.066666666666666,
          80.5,
          21.400000000000002,
          8.666666666666666,
          91.83333333333333,
          39,
          114.66666666666666,
          102.4,
          56.666666666666664,
          47.5,
          29.033333333333335,
          22.666666666666664,
          97.6,
          2.6,
          85.33333333333333,
          40.5,
          91.5,
          56.46666666666666,
          61.53333333333334,
          82.5,
          95.33333333333334,
          86,
          12.166666666666666,
          13.799999999999999,
          32.666666666666664,
          123.66666666666667,
          1.8,
          17.5,
          53.300000000000004,
          79.3,
          1.7666666666666666,
          56.8,
          65.7,
          24.266666666666666,
          17.96666666666667,
          65.2,
          2.8,
          38.266666666666666,
          84.80000000000001,
          4.366666666666666,
          22.400000000000002,
          10.666666666666666,
          20.933333333333334,
          40.666666666666664,
          26.833333333333332,
          38.03333333333333,
          27.333333333333332,
          25,
          55.400000000000006,
          4.266666666666667,
          6.266666666666667,
          31.2,
          16.1,
          21.200000000000003,
          50.4,
          2.466666666666667,
          40.6,
          4.433333333333334,
          7.6000000000000005,
          24.200000000000003,
          32.6,
          30.200000000000003,
          35.06666666666666,
          7.433333333333334,
          19.5,
          8.566666666666666,
          24.333333333333332,
          21.700000000000003,
          7.466666666666667,
          21.200000000000003,
          6.833333333333333,
          4.733333333333333,
          0,
          0
         ],
         "yaxis": "y"
        },
        {
         "customdata": [
          [
           "cancelled"
          ],
          [
           "cancelled"
          ],
          [
           "cancelled"
          ],
          [
           "cancelled"
          ],
          [
           "cancelled"
          ],
          [
           "cancelled"
          ],
          [
           "cancelled"
          ],
          [
           "cancelled"
          ],
          [
           "cancelled"
          ],
          [
           "cancelled"
          ],
          [
           "cancelled"
          ],
          [
           "cancelled"
          ],
          [
           "cancelled"
          ],
          [
           "cancelled"
          ],
          [
           "cancelled"
          ],
          [
           "cancelled"
          ],
          [
           "cancelled"
          ],
          [
           "cancelled"
          ],
          [
           "cancelled"
          ],
          [
           "cancelled"
          ],
          [
           "cancelled"
          ],
          [
           "cancelled"
          ],
          [
           "cancelled"
          ],
          [
           "cancelled"
          ],
          [
           "cancelled"
          ],
          [
           "cancelled"
          ],
          [
           "cancelled"
          ],
          [
           "cancelled"
          ],
          [
           "cancelled"
          ],
          [
           "cancelled"
          ],
          [
           "cancelled"
          ],
          [
           "cancelled"
          ],
          [
           "cancelled"
          ],
          [
           "cancelled"
          ],
          [
           "cancelled"
          ],
          [
           "cancelled"
          ],
          [
           "cancelled"
          ],
          [
           "cancelled"
          ],
          [
           "cancelled"
          ],
          [
           "cancelled"
          ],
          [
           "cancelled"
          ],
          [
           "cancelled"
          ],
          [
           "cancelled"
          ],
          [
           "cancelled"
          ],
          [
           "cancelled"
          ],
          [
           "cancelled"
          ],
          [
           "cancelled"
          ],
          [
           "cancelled"
          ],
          [
           "cancelled"
          ],
          [
           "cancelled"
          ],
          [
           "cancelled"
          ],
          [
           "cancelled"
          ],
          [
           "cancelled"
          ],
          [
           "cancelled"
          ],
          [
           "cancelled"
          ],
          [
           "cancelled"
          ],
          [
           "cancelled"
          ],
          [
           "cancelled"
          ],
          [
           "cancelled"
          ],
          [
           "cancelled"
          ],
          [
           "cancelled"
          ],
          [
           "cancelled"
          ],
          [
           "cancelled"
          ],
          [
           "cancelled"
          ],
          [
           "cancelled"
          ],
          [
           "cancelled"
          ],
          [
           "cancelled"
          ],
          [
           "cancelled"
          ],
          [
           "cancelled"
          ],
          [
           "cancelled"
          ],
          [
           "cancelled"
          ],
          [
           "cancelled"
          ],
          [
           "cancelled"
          ],
          [
           "cancelled"
          ],
          [
           "cancelled"
          ],
          [
           "cancelled"
          ],
          [
           "cancelled"
          ],
          [
           "cancelled"
          ],
          [
           "cancelled"
          ],
          [
           "cancelled"
          ],
          [
           "cancelled"
          ],
          [
           "cancelled"
          ],
          [
           "cancelled"
          ],
          [
           "cancelled"
          ],
          [
           "cancelled"
          ],
          [
           "cancelled"
          ],
          [
           "cancelled"
          ],
          [
           "cancelled"
          ],
          [
           "cancelled"
          ],
          [
           "cancelled"
          ],
          [
           "cancelled"
          ],
          [
           "cancelled"
          ],
          [
           "cancelled"
          ],
          [
           "cancelled"
          ],
          [
           "cancelled"
          ],
          [
           "cancelled"
          ],
          [
           "cancelled"
          ],
          [
           "cancelled"
          ],
          [
           "cancelled"
          ],
          [
           "cancelled"
          ],
          [
           "cancelled"
          ],
          [
           "cancelled"
          ],
          [
           "cancelled"
          ],
          [
           "cancelled"
          ],
          [
           "cancelled"
          ],
          [
           "cancelled"
          ],
          [
           "cancelled"
          ],
          [
           "cancelled"
          ],
          [
           "cancelled"
          ],
          [
           "cancelled"
          ],
          [
           "cancelled"
          ],
          [
           "cancelled"
          ],
          [
           "cancelled"
          ],
          [
           "cancelled"
          ],
          [
           "cancelled"
          ],
          [
           "cancelled"
          ],
          [
           "cancelled"
          ],
          [
           "cancelled"
          ],
          [
           "cancelled"
          ],
          [
           "cancelled"
          ],
          [
           "cancelled"
          ],
          [
           "cancelled"
          ],
          [
           "cancelled"
          ]
         ],
         "hovertemplate": "Account Status=%{customdata[0]}<br>Session Count=%{x}<br>Total Charges=%{marker.size}<extra></extra>",
         "legendgroup": "cancelled",
         "marker": {
          "color": "#EF553B",
          "size": [
           1107,
           529,
           1373.6,
           923,
           499.53333333333336,
           4430.266666666666,
           1516.6666666666665,
           0,
           512.8333333333334,
           1941.2,
           1679.6000000000001,
           306.73333333333335,
           2195.2000000000003,
           2268,
           0,
           758.7666666666667,
           942,
           48.06666666666667,
           389.4,
           54.6,
           739.6666666666666,
           248.3,
           560.2333333333333,
           343.6333333333333,
           250.86666666666665,
           2180.5333333333333,
           927.4666666666667,
           215,
           380.79999999999995,
           655.6999999999999,
           323.8333333333333,
           294.8,
           828.1999999999999,
           483.33333333333337,
           43.06666666666666,
           106.66666666666666,
           395.6333333333333,
           2195.2000000000003,
           195,
           546.8333333333334,
           120.4,
           42,
           343.03333333333336,
           766.9666666666667,
           281.2,
           100.8,
           211.86666666666667,
           518.4,
           620,
           763.1666666666666,
           12.100000000000001,
           244.53333333333333,
           207.70000000000002,
           448.23333333333335,
           445.2,
           291.40000000000003,
           55,
           210,
           156.8,
           206.26666666666668,
           85.86666666666667,
           363.3,
           189.86666666666667,
           1358.8333333333335,
           178.26666666666668,
           372.09999999999997,
           51.333333333333336,
           88.66666666666667,
           607.7333333333333,
           1219.3,
           314.1333333333333,
           909,
           196,
           9.6,
           1476.8,
           382.2,
           369.2,
           436.0666666666667,
           33.833333333333336,
           122.26666666666667,
           12.8,
           300.66666666666663,
           1021.1333333333333,
           106.66666666666666,
           9.866666666666667,
           88.66666666666666,
           205.46666666666667,
           1092,
           117.93333333333334,
           123.2,
           269.8,
           157.0666666666667,
           387.09999999999997,
           122.2,
           245.46666666666667,
           80.26666666666667,
           17.033333333333335,
           205.1,
           229.6,
           154.93333333333334,
           110.7,
           104,
           7.6,
           34.666666666666664,
           186.83333333333331,
           160.8,
           237.60000000000002,
           28.333333333333332,
           123.73333333333333,
           71.96666666666667,
           327.6,
           188.33333333333334,
           53.6,
           161.1,
           138,
           234.5666666666667,
           229.89999999999998,
           246.13333333333335,
           637.8666666666667,
           17.833333333333332,
           458.3333333333333,
           31,
           126.96666666666667
          ],
          "sizemode": "area",
          "sizeref": 11.075666666666667,
          "symbol": "circle"
         },
         "mode": "markers",
         "name": "cancelled",
         "showlegend": true,
         "type": "scattergl",
         "x": [
          18,
          26,
          85,
          0,
          93,
          465,
          1,
          22,
          2,
          12,
          1,
          163,
          267,
          5,
          0,
          0,
          1,
          1,
          6,
          1,
          0,
          1,
          1,
          5,
          4,
          9,
          25,
          9,
          23,
          8,
          0,
          3,
          0,
          28,
          1,
          6,
          2,
          2,
          1,
          5,
          2,
          7,
          2,
          3,
          48,
          2,
          69,
          6,
          16,
          36,
          13,
          85,
          2,
          5,
          71,
          4,
          9,
          29,
          74,
          19,
          30,
          10,
          3,
          9,
          31,
          39,
          1,
          12,
          1,
          2,
          0,
          19,
          23,
          0,
          5,
          3,
          18,
          10,
          1,
          2,
          1,
          2,
          4,
          3,
          1,
          20,
          3,
          14,
          11,
          37,
          0,
          0,
          6,
          19,
          20,
          1,
          3,
          3,
          3,
          22,
          2,
          3,
          2,
          7,
          13,
          4,
          8,
          4,
          15,
          16,
          10,
          8,
          1,
          8,
          28,
          12,
          10,
          0,
          1,
          4,
          5,
          14,
          9
         ],
         "xaxis": "x",
         "y": [
          1107,
          529,
          1373.6,
          923,
          499.53333333333336,
          4430.266666666666,
          1516.6666666666665,
          0,
          512.8333333333334,
          1941.2,
          1679.6000000000001,
          306.73333333333335,
          2195.2000000000003,
          2268,
          0,
          758.7666666666667,
          942,
          48.06666666666667,
          389.4,
          54.6,
          739.6666666666666,
          248.3,
          560.2333333333333,
          343.6333333333333,
          250.86666666666665,
          2180.5333333333333,
          927.4666666666667,
          215,
          380.79999999999995,
          655.6999999999999,
          323.8333333333333,
          294.8,
          828.1999999999999,
          483.33333333333337,
          43.06666666666666,
          106.66666666666666,
          395.6333333333333,
          2195.2000000000003,
          195,
          546.8333333333334,
          120.4,
          42,
          343.03333333333336,
          766.9666666666667,
          281.2,
          100.8,
          211.86666666666667,
          518.4,
          620,
          763.1666666666666,
          12.100000000000001,
          244.53333333333333,
          207.70000000000002,
          448.23333333333335,
          445.2,
          291.40000000000003,
          55,
          210,
          156.8,
          206.26666666666668,
          85.86666666666667,
          363.3,
          189.86666666666667,
          1358.8333333333335,
          178.26666666666668,
          372.09999999999997,
          51.333333333333336,
          88.66666666666667,
          607.7333333333333,
          1219.3,
          314.1333333333333,
          909,
          196,
          9.6,
          1476.8,
          382.2,
          369.2,
          436.0666666666667,
          33.833333333333336,
          122.26666666666667,
          12.8,
          300.66666666666663,
          1021.1333333333333,
          106.66666666666666,
          9.866666666666667,
          88.66666666666666,
          205.46666666666667,
          1092,
          117.93333333333334,
          123.2,
          269.8,
          157.0666666666667,
          387.09999999999997,
          122.2,
          245.46666666666667,
          80.26666666666667,
          17.033333333333335,
          205.1,
          229.6,
          154.93333333333334,
          110.7,
          104,
          7.6,
          34.666666666666664,
          186.83333333333331,
          160.8,
          237.60000000000002,
          28.333333333333332,
          123.73333333333333,
          71.96666666666667,
          327.6,
          188.33333333333334,
          53.6,
          161.1,
          138,
          234.5666666666667,
          229.89999999999998,
          246.13333333333335,
          637.8666666666667,
          17.833333333333332,
          458.3333333333333,
          31,
          126.96666666666667
         ],
         "yaxis": "y"
        }
       ],
       "layout": {
        "legend": {
         "itemsizing": "constant",
         "title": {
          "text": "Account Status"
         },
         "tracegroupgap": 0
        },
        "margin": {
         "t": 60
        },
        "template": {
         "data": {
          "bar": [
           {
            "error_x": {
             "color": "#2a3f5f"
            },
            "error_y": {
             "color": "#2a3f5f"
            },
            "marker": {
             "line": {
              "color": "#E5ECF6",
              "width": 0.5
             },
             "pattern": {
              "fillmode": "overlay",
              "size": 10,
              "solidity": 0.2
             }
            },
            "type": "bar"
           }
          ],
          "barpolar": [
           {
            "marker": {
             "line": {
              "color": "#E5ECF6",
              "width": 0.5
             },
             "pattern": {
              "fillmode": "overlay",
              "size": 10,
              "solidity": 0.2
             }
            },
            "type": "barpolar"
           }
          ],
          "carpet": [
           {
            "aaxis": {
             "endlinecolor": "#2a3f5f",
             "gridcolor": "white",
             "linecolor": "white",
             "minorgridcolor": "white",
             "startlinecolor": "#2a3f5f"
            },
            "baxis": {
             "endlinecolor": "#2a3f5f",
             "gridcolor": "white",
             "linecolor": "white",
             "minorgridcolor": "white",
             "startlinecolor": "#2a3f5f"
            },
            "type": "carpet"
           }
          ],
          "choropleth": [
           {
            "colorbar": {
             "outlinewidth": 0,
             "ticks": ""
            },
            "type": "choropleth"
           }
          ],
          "contour": [
           {
            "colorbar": {
             "outlinewidth": 0,
             "ticks": ""
            },
            "colorscale": [
             [
              0,
              "#0d0887"
             ],
             [
              0.1111111111111111,
              "#46039f"
             ],
             [
              0.2222222222222222,
              "#7201a8"
             ],
             [
              0.3333333333333333,
              "#9c179e"
             ],
             [
              0.4444444444444444,
              "#bd3786"
             ],
             [
              0.5555555555555556,
              "#d8576b"
             ],
             [
              0.6666666666666666,
              "#ed7953"
             ],
             [
              0.7777777777777778,
              "#fb9f3a"
             ],
             [
              0.8888888888888888,
              "#fdca26"
             ],
             [
              1,
              "#f0f921"
             ]
            ],
            "type": "contour"
           }
          ],
          "contourcarpet": [
           {
            "colorbar": {
             "outlinewidth": 0,
             "ticks": ""
            },
            "type": "contourcarpet"
           }
          ],
          "heatmap": [
           {
            "colorbar": {
             "outlinewidth": 0,
             "ticks": ""
            },
            "colorscale": [
             [
              0,
              "#0d0887"
             ],
             [
              0.1111111111111111,
              "#46039f"
             ],
             [
              0.2222222222222222,
              "#7201a8"
             ],
             [
              0.3333333333333333,
              "#9c179e"
             ],
             [
              0.4444444444444444,
              "#bd3786"
             ],
             [
              0.5555555555555556,
              "#d8576b"
             ],
             [
              0.6666666666666666,
              "#ed7953"
             ],
             [
              0.7777777777777778,
              "#fb9f3a"
             ],
             [
              0.8888888888888888,
              "#fdca26"
             ],
             [
              1,
              "#f0f921"
             ]
            ],
            "type": "heatmap"
           }
          ],
          "heatmapgl": [
           {
            "colorbar": {
             "outlinewidth": 0,
             "ticks": ""
            },
            "colorscale": [
             [
              0,
              "#0d0887"
             ],
             [
              0.1111111111111111,
              "#46039f"
             ],
             [
              0.2222222222222222,
              "#7201a8"
             ],
             [
              0.3333333333333333,
              "#9c179e"
             ],
             [
              0.4444444444444444,
              "#bd3786"
             ],
             [
              0.5555555555555556,
              "#d8576b"
             ],
             [
              0.6666666666666666,
              "#ed7953"
             ],
             [
              0.7777777777777778,
              "#fb9f3a"
             ],
             [
              0.8888888888888888,
              "#fdca26"
             ],
             [
              1,
              "#f0f921"
             ]
            ],
            "type": "heatmapgl"
           }
          ],
          "histogram": [
           {
            "marker": {
             "pattern": {
              "fillmode": "overlay",
              "size": 10,
              "solidity": 0.2
             }
            },
            "type": "histogram"
           }
          ],
          "histogram2d": [
           {
            "colorbar": {
             "outlinewidth": 0,
             "ticks": ""
            },
            "colorscale": [
             [
              0,
              "#0d0887"
             ],
             [
              0.1111111111111111,
              "#46039f"
             ],
             [
              0.2222222222222222,
              "#7201a8"
             ],
             [
              0.3333333333333333,
              "#9c179e"
             ],
             [
              0.4444444444444444,
              "#bd3786"
             ],
             [
              0.5555555555555556,
              "#d8576b"
             ],
             [
              0.6666666666666666,
              "#ed7953"
             ],
             [
              0.7777777777777778,
              "#fb9f3a"
             ],
             [
              0.8888888888888888,
              "#fdca26"
             ],
             [
              1,
              "#f0f921"
             ]
            ],
            "type": "histogram2d"
           }
          ],
          "histogram2dcontour": [
           {
            "colorbar": {
             "outlinewidth": 0,
             "ticks": ""
            },
            "colorscale": [
             [
              0,
              "#0d0887"
             ],
             [
              0.1111111111111111,
              "#46039f"
             ],
             [
              0.2222222222222222,
              "#7201a8"
             ],
             [
              0.3333333333333333,
              "#9c179e"
             ],
             [
              0.4444444444444444,
              "#bd3786"
             ],
             [
              0.5555555555555556,
              "#d8576b"
             ],
             [
              0.6666666666666666,
              "#ed7953"
             ],
             [
              0.7777777777777778,
              "#fb9f3a"
             ],
             [
              0.8888888888888888,
              "#fdca26"
             ],
             [
              1,
              "#f0f921"
             ]
            ],
            "type": "histogram2dcontour"
           }
          ],
          "mesh3d": [
           {
            "colorbar": {
             "outlinewidth": 0,
             "ticks": ""
            },
            "type": "mesh3d"
           }
          ],
          "parcoords": [
           {
            "line": {
             "colorbar": {
              "outlinewidth": 0,
              "ticks": ""
             }
            },
            "type": "parcoords"
           }
          ],
          "pie": [
           {
            "automargin": true,
            "type": "pie"
           }
          ],
          "scatter": [
           {
            "marker": {
             "colorbar": {
              "outlinewidth": 0,
              "ticks": ""
             }
            },
            "type": "scatter"
           }
          ],
          "scatter3d": [
           {
            "line": {
             "colorbar": {
              "outlinewidth": 0,
              "ticks": ""
             }
            },
            "marker": {
             "colorbar": {
              "outlinewidth": 0,
              "ticks": ""
             }
            },
            "type": "scatter3d"
           }
          ],
          "scattercarpet": [
           {
            "marker": {
             "colorbar": {
              "outlinewidth": 0,
              "ticks": ""
             }
            },
            "type": "scattercarpet"
           }
          ],
          "scattergeo": [
           {
            "marker": {
             "colorbar": {
              "outlinewidth": 0,
              "ticks": ""
             }
            },
            "type": "scattergeo"
           }
          ],
          "scattergl": [
           {
            "marker": {
             "colorbar": {
              "outlinewidth": 0,
              "ticks": ""
             }
            },
            "type": "scattergl"
           }
          ],
          "scattermapbox": [
           {
            "marker": {
             "colorbar": {
              "outlinewidth": 0,
              "ticks": ""
             }
            },
            "type": "scattermapbox"
           }
          ],
          "scatterpolar": [
           {
            "marker": {
             "colorbar": {
              "outlinewidth": 0,
              "ticks": ""
             }
            },
            "type": "scatterpolar"
           }
          ],
          "scatterpolargl": [
           {
            "marker": {
             "colorbar": {
              "outlinewidth": 0,
              "ticks": ""
             }
            },
            "type": "scatterpolargl"
           }
          ],
          "scatterternary": [
           {
            "marker": {
             "colorbar": {
              "outlinewidth": 0,
              "ticks": ""
             }
            },
            "type": "scatterternary"
           }
          ],
          "surface": [
           {
            "colorbar": {
             "outlinewidth": 0,
             "ticks": ""
            },
            "colorscale": [
             [
              0,
              "#0d0887"
             ],
             [
              0.1111111111111111,
              "#46039f"
             ],
             [
              0.2222222222222222,
              "#7201a8"
             ],
             [
              0.3333333333333333,
              "#9c179e"
             ],
             [
              0.4444444444444444,
              "#bd3786"
             ],
             [
              0.5555555555555556,
              "#d8576b"
             ],
             [
              0.6666666666666666,
              "#ed7953"
             ],
             [
              0.7777777777777778,
              "#fb9f3a"
             ],
             [
              0.8888888888888888,
              "#fdca26"
             ],
             [
              1,
              "#f0f921"
             ]
            ],
            "type": "surface"
           }
          ],
          "table": [
           {
            "cells": {
             "fill": {
              "color": "#EBF0F8"
             },
             "line": {
              "color": "white"
             }
            },
            "header": {
             "fill": {
              "color": "#C8D4E3"
             },
             "line": {
              "color": "white"
             }
            },
            "type": "table"
           }
          ]
         },
         "layout": {
          "annotationdefaults": {
           "arrowcolor": "#2a3f5f",
           "arrowhead": 0,
           "arrowwidth": 1
          },
          "autotypenumbers": "strict",
          "coloraxis": {
           "colorbar": {
            "outlinewidth": 0,
            "ticks": ""
           }
          },
          "colorscale": {
           "diverging": [
            [
             0,
             "#8e0152"
            ],
            [
             0.1,
             "#c51b7d"
            ],
            [
             0.2,
             "#de77ae"
            ],
            [
             0.3,
             "#f1b6da"
            ],
            [
             0.4,
             "#fde0ef"
            ],
            [
             0.5,
             "#f7f7f7"
            ],
            [
             0.6,
             "#e6f5d0"
            ],
            [
             0.7,
             "#b8e186"
            ],
            [
             0.8,
             "#7fbc41"
            ],
            [
             0.9,
             "#4d9221"
            ],
            [
             1,
             "#276419"
            ]
           ],
           "sequential": [
            [
             0,
             "#0d0887"
            ],
            [
             0.1111111111111111,
             "#46039f"
            ],
            [
             0.2222222222222222,
             "#7201a8"
            ],
            [
             0.3333333333333333,
             "#9c179e"
            ],
            [
             0.4444444444444444,
             "#bd3786"
            ],
            [
             0.5555555555555556,
             "#d8576b"
            ],
            [
             0.6666666666666666,
             "#ed7953"
            ],
            [
             0.7777777777777778,
             "#fb9f3a"
            ],
            [
             0.8888888888888888,
             "#fdca26"
            ],
            [
             1,
             "#f0f921"
            ]
           ],
           "sequentialminus": [
            [
             0,
             "#0d0887"
            ],
            [
             0.1111111111111111,
             "#46039f"
            ],
            [
             0.2222222222222222,
             "#7201a8"
            ],
            [
             0.3333333333333333,
             "#9c179e"
            ],
            [
             0.4444444444444444,
             "#bd3786"
            ],
            [
             0.5555555555555556,
             "#d8576b"
            ],
            [
             0.6666666666666666,
             "#ed7953"
            ],
            [
             0.7777777777777778,
             "#fb9f3a"
            ],
            [
             0.8888888888888888,
             "#fdca26"
            ],
            [
             1,
             "#f0f921"
            ]
           ]
          },
          "colorway": [
           "#636efa",
           "#EF553B",
           "#00cc96",
           "#ab63fa",
           "#FFA15A",
           "#19d3f3",
           "#FF6692",
           "#B6E880",
           "#FF97FF",
           "#FECB52"
          ],
          "font": {
           "color": "#2a3f5f"
          },
          "geo": {
           "bgcolor": "white",
           "lakecolor": "white",
           "landcolor": "#E5ECF6",
           "showlakes": true,
           "showland": true,
           "subunitcolor": "white"
          },
          "hoverlabel": {
           "align": "left"
          },
          "hovermode": "closest",
          "mapbox": {
           "style": "light"
          },
          "paper_bgcolor": "white",
          "plot_bgcolor": "#E5ECF6",
          "polar": {
           "angularaxis": {
            "gridcolor": "white",
            "linecolor": "white",
            "ticks": ""
           },
           "bgcolor": "#E5ECF6",
           "radialaxis": {
            "gridcolor": "white",
            "linecolor": "white",
            "ticks": ""
           }
          },
          "scene": {
           "xaxis": {
            "backgroundcolor": "#E5ECF6",
            "gridcolor": "white",
            "gridwidth": 2,
            "linecolor": "white",
            "showbackground": true,
            "ticks": "",
            "zerolinecolor": "white"
           },
           "yaxis": {
            "backgroundcolor": "#E5ECF6",
            "gridcolor": "white",
            "gridwidth": 2,
            "linecolor": "white",
            "showbackground": true,
            "ticks": "",
            "zerolinecolor": "white"
           },
           "zaxis": {
            "backgroundcolor": "#E5ECF6",
            "gridcolor": "white",
            "gridwidth": 2,
            "linecolor": "white",
            "showbackground": true,
            "ticks": "",
            "zerolinecolor": "white"
           }
          },
          "shapedefaults": {
           "line": {
            "color": "#2a3f5f"
           }
          },
          "ternary": {
           "aaxis": {
            "gridcolor": "white",
            "linecolor": "white",
            "ticks": ""
           },
           "baxis": {
            "gridcolor": "white",
            "linecolor": "white",
            "ticks": ""
           },
           "bgcolor": "#E5ECF6",
           "caxis": {
            "gridcolor": "white",
            "linecolor": "white",
            "ticks": ""
           }
          },
          "title": {
           "x": 0.05
          },
          "xaxis": {
           "automargin": true,
           "gridcolor": "white",
           "linecolor": "white",
           "ticks": "",
           "title": {
            "standoff": 15
           },
           "zerolinecolor": "white",
           "zerolinewidth": 2
          },
          "yaxis": {
           "automargin": true,
           "gridcolor": "white",
           "linecolor": "white",
           "ticks": "",
           "title": {
            "standoff": 15
           },
           "zerolinecolor": "white",
           "zerolinewidth": 2
          }
         }
        },
        "title": {
         "text": "Cancelled and Paying follow Session Count "
        },
        "xaxis": {
         "anchor": "y",
         "domain": [
          0,
          1
         ],
         "title": {
          "text": "Session Count"
         }
        },
        "yaxis": {
         "anchor": "x",
         "domain": [
          0,
          1
         ],
         "title": {
          "text": "Total Charges"
         }
        }
       }
      },
      "text/html": [
       "<div>                            <div id=\"4f198281-b3a9-4760-bd64-a3094c6b7321\" class=\"plotly-graph-div\" style=\"height:525px; width:100%;\"></div>            <script type=\"text/javascript\">                require([\"plotly\"], function(Plotly) {                    window.PLOTLYENV=window.PLOTLYENV || {};                                    if (document.getElementById(\"4f198281-b3a9-4760-bd64-a3094c6b7321\")) {                    Plotly.newPlot(                        \"4f198281-b3a9-4760-bd64-a3094c6b7321\",                        [{\"customdata\":[[\"paying\"],[\"paying\"],[\"paying\"],[\"paying\"],[\"paying\"],[\"paying\"],[\"paying\"],[\"paying\"],[\"paying\"],[\"paying\"],[\"paying\"],[\"paying\"],[\"paying\"],[\"paying\"],[\"paying\"],[\"paying\"],[\"paying\"],[\"paying\"],[\"paying\"],[\"paying\"],[\"paying\"],[\"paying\"],[\"paying\"],[\"paying\"],[\"paying\"],[\"paying\"],[\"paying\"],[\"paying\"],[\"paying\"],[\"paying\"],[\"paying\"],[\"paying\"],[\"paying\"],[\"paying\"],[\"paying\"],[\"paying\"],[\"paying\"],[\"paying\"],[\"paying\"],[\"paying\"],[\"paying\"],[\"paying\"],[\"paying\"],[\"paying\"],[\"paying\"],[\"paying\"],[\"paying\"],[\"paying\"],[\"paying\"],[\"paying\"],[\"paying\"],[\"paying\"],[\"paying\"],[\"paying\"],[\"paying\"],[\"paying\"],[\"paying\"],[\"paying\"],[\"paying\"],[\"paying\"],[\"paying\"],[\"paying\"],[\"paying\"],[\"paying\"],[\"paying\"],[\"paying\"],[\"paying\"],[\"paying\"],[\"paying\"],[\"paying\"],[\"paying\"],[\"paying\"],[\"paying\"],[\"paying\"],[\"paying\"],[\"paying\"],[\"paying\"],[\"paying\"],[\"paying\"],[\"paying\"],[\"paying\"],[\"paying\"],[\"paying\"],[\"paying\"],[\"paying\"],[\"paying\"],[\"paying\"],[\"paying\"],[\"paying\"],[\"paying\"],[\"paying\"],[\"paying\"],[\"paying\"],[\"paying\"],[\"paying\"],[\"paying\"],[\"paying\"],[\"paying\"],[\"paying\"],[\"paying\"],[\"paying\"],[\"paying\"],[\"paying\"],[\"paying\"],[\"paying\"],[\"paying\"],[\"paying\"],[\"paying\"],[\"paying\"],[\"paying\"],[\"paying\"],[\"paying\"],[\"paying\"],[\"paying\"],[\"paying\"],[\"paying\"],[\"paying\"],[\"paying\"],[\"paying\"],[\"paying\"],[\"paying\"],[\"paying\"],[\"paying\"],[\"paying\"],[\"paying\"],[\"paying\"],[\"paying\"],[\"paying\"],[\"paying\"],[\"paying\"],[\"paying\"],[\"paying\"],[\"paying\"],[\"paying\"],[\"paying\"],[\"paying\"],[\"paying\"],[\"paying\"],[\"paying\"],[\"paying\"],[\"paying\"],[\"paying\"],[\"paying\"],[\"paying\"],[\"paying\"],[\"paying\"],[\"paying\"],[\"paying\"],[\"paying\"],[\"paying\"],[\"paying\"],[\"paying\"],[\"paying\"],[\"paying\"],[\"paying\"],[\"paying\"],[\"paying\"],[\"paying\"],[\"paying\"],[\"paying\"],[\"paying\"],[\"paying\"],[\"paying\"],[\"paying\"],[\"paying\"],[\"paying\"],[\"paying\"],[\"paying\"],[\"paying\"],[\"paying\"],[\"paying\"],[\"paying\"],[\"paying\"],[\"paying\"],[\"paying\"],[\"paying\"],[\"paying\"],[\"paying\"],[\"paying\"],[\"paying\"],[\"paying\"],[\"paying\"],[\"paying\"],[\"paying\"],[\"paying\"],[\"paying\"],[\"paying\"],[\"paying\"],[\"paying\"],[\"paying\"],[\"paying\"],[\"paying\"],[\"paying\"],[\"paying\"],[\"paying\"],[\"paying\"],[\"paying\"],[\"paying\"],[\"paying\"],[\"paying\"],[\"paying\"],[\"paying\"],[\"paying\"],[\"paying\"],[\"paying\"],[\"paying\"],[\"paying\"],[\"paying\"],[\"paying\"],[\"paying\"],[\"paying\"],[\"paying\"],[\"paying\"],[\"paying\"],[\"paying\"],[\"paying\"],[\"paying\"],[\"paying\"],[\"paying\"],[\"paying\"],[\"paying\"],[\"paying\"],[\"paying\"],[\"paying\"],[\"paying\"],[\"paying\"],[\"paying\"],[\"paying\"],[\"paying\"],[\"paying\"],[\"paying\"],[\"paying\"],[\"paying\"],[\"paying\"],[\"paying\"],[\"paying\"],[\"paying\"],[\"paying\"],[\"paying\"],[\"paying\"],[\"paying\"],[\"paying\"],[\"paying\"],[\"paying\"],[\"paying\"],[\"paying\"],[\"paying\"],[\"paying\"],[\"paying\"],[\"paying\"],[\"paying\"],[\"paying\"],[\"paying\"],[\"paying\"],[\"paying\"],[\"paying\"],[\"paying\"],[\"paying\"],[\"paying\"],[\"paying\"],[\"paying\"],[\"paying\"],[\"paying\"],[\"paying\"],[\"paying\"],[\"paying\"],[\"paying\"],[\"paying\"],[\"paying\"],[\"paying\"],[\"paying\"],[\"paying\"],[\"paying\"],[\"paying\"],[\"paying\"],[\"paying\"],[\"paying\"],[\"paying\"],[\"paying\"],[\"paying\"],[\"paying\"],[\"paying\"],[\"paying\"],[\"paying\"],[\"paying\"],[\"paying\"],[\"paying\"],[\"paying\"],[\"paying\"],[\"paying\"],[\"paying\"],[\"paying\"],[\"paying\"],[\"paying\"],[\"paying\"],[\"paying\"],[\"paying\"],[\"paying\"],[\"paying\"],[\"paying\"],[\"paying\"],[\"paying\"],[\"paying\"],[\"paying\"],[\"paying\"],[\"paying\"],[\"paying\"],[\"paying\"],[\"paying\"],[\"paying\"],[\"paying\"],[\"paying\"],[\"paying\"],[\"paying\"],[\"paying\"],[\"paying\"],[\"paying\"],[\"paying\"],[\"paying\"],[\"paying\"],[\"paying\"],[\"paying\"],[\"paying\"],[\"paying\"],[\"paying\"],[\"paying\"],[\"paying\"],[\"paying\"],[\"paying\"],[\"paying\"],[\"paying\"],[\"paying\"],[\"paying\"],[\"paying\"],[\"paying\"],[\"paying\"],[\"paying\"],[\"paying\"],[\"paying\"],[\"paying\"],[\"paying\"],[\"paying\"],[\"paying\"],[\"paying\"],[\"paying\"],[\"paying\"],[\"paying\"],[\"paying\"],[\"paying\"],[\"paying\"],[\"paying\"],[\"paying\"],[\"paying\"],[\"paying\"],[\"paying\"],[\"paying\"],[\"paying\"],[\"paying\"],[\"paying\"],[\"paying\"],[\"paying\"],[\"paying\"],[\"paying\"],[\"paying\"],[\"paying\"],[\"paying\"],[\"paying\"],[\"paying\"],[\"paying\"],[\"paying\"],[\"paying\"],[\"paying\"],[\"paying\"],[\"paying\"],[\"paying\"],[\"paying\"],[\"paying\"],[\"paying\"],[\"paying\"],[\"paying\"],[\"paying\"],[\"paying\"],[\"paying\"],[\"paying\"],[\"paying\"],[\"paying\"],[\"paying\"],[\"paying\"],[\"paying\"],[\"paying\"],[\"paying\"],[\"paying\"],[\"paying\"],[\"paying\"],[\"paying\"],[\"paying\"],[\"paying\"],[\"paying\"],[\"paying\"],[\"paying\"],[\"paying\"],[\"paying\"],[\"paying\"],[\"paying\"],[\"paying\"],[\"paying\"],[\"paying\"],[\"paying\"],[\"paying\"],[\"paying\"],[\"paying\"],[\"paying\"],[\"paying\"],[\"paying\"],[\"paying\"],[\"paying\"],[\"paying\"],[\"paying\"],[\"paying\"],[\"paying\"],[\"paying\"],[\"paying\"],[\"paying\"],[\"paying\"],[\"paying\"],[\"paying\"],[\"paying\"],[\"paying\"],[\"paying\"],[\"paying\"],[\"paying\"],[\"paying\"],[\"paying\"],[\"paying\"],[\"paying\"],[\"paying\"],[\"paying\"],[\"paying\"],[\"paying\"],[\"paying\"],[\"paying\"],[\"paying\"],[\"paying\"],[\"paying\"],[\"paying\"],[\"paying\"],[\"paying\"],[\"paying\"],[\"paying\"],[\"paying\"],[\"paying\"],[\"paying\"],[\"paying\"],[\"paying\"],[\"paying\"],[\"paying\"],[\"paying\"],[\"paying\"],[\"paying\"],[\"paying\"],[\"paying\"],[\"paying\"],[\"paying\"],[\"paying\"],[\"paying\"],[\"paying\"],[\"paying\"],[\"paying\"],[\"paying\"],[\"paying\"],[\"paying\"],[\"paying\"],[\"paying\"],[\"paying\"],[\"paying\"],[\"paying\"],[\"paying\"],[\"paying\"],[\"paying\"],[\"paying\"],[\"paying\"],[\"paying\"],[\"paying\"],[\"paying\"],[\"paying\"],[\"paying\"],[\"paying\"],[\"paying\"],[\"paying\"],[\"paying\"],[\"paying\"],[\"paying\"],[\"paying\"],[\"paying\"],[\"paying\"],[\"paying\"],[\"paying\"],[\"paying\"],[\"paying\"],[\"paying\"],[\"paying\"],[\"paying\"],[\"paying\"],[\"paying\"],[\"paying\"],[\"paying\"],[\"paying\"],[\"paying\"],[\"paying\"],[\"paying\"],[\"paying\"],[\"paying\"],[\"paying\"],[\"paying\"],[\"paying\"],[\"paying\"],[\"paying\"],[\"paying\"],[\"paying\"],[\"paying\"],[\"paying\"],[\"paying\"],[\"paying\"],[\"paying\"],[\"paying\"],[\"paying\"],[\"paying\"],[\"paying\"],[\"paying\"],[\"paying\"],[\"paying\"],[\"paying\"],[\"paying\"],[\"paying\"],[\"paying\"],[\"paying\"],[\"paying\"],[\"paying\"],[\"paying\"],[\"paying\"],[\"paying\"],[\"paying\"],[\"paying\"],[\"paying\"],[\"paying\"],[\"paying\"],[\"paying\"],[\"paying\"],[\"paying\"],[\"paying\"],[\"paying\"],[\"paying\"],[\"paying\"],[\"paying\"],[\"paying\"],[\"paying\"],[\"paying\"],[\"paying\"],[\"paying\"],[\"paying\"],[\"paying\"],[\"paying\"],[\"paying\"],[\"paying\"],[\"paying\"],[\"paying\"],[\"paying\"],[\"paying\"],[\"paying\"],[\"paying\"],[\"paying\"],[\"paying\"],[\"paying\"],[\"paying\"],[\"paying\"],[\"paying\"],[\"paying\"],[\"paying\"],[\"paying\"],[\"paying\"],[\"paying\"],[\"paying\"],[\"paying\"],[\"paying\"],[\"paying\"],[\"paying\"],[\"paying\"],[\"paying\"],[\"paying\"],[\"paying\"],[\"paying\"],[\"paying\"],[\"paying\"],[\"paying\"],[\"paying\"],[\"paying\"],[\"paying\"],[\"paying\"],[\"paying\"],[\"paying\"],[\"paying\"],[\"paying\"],[\"paying\"],[\"paying\"],[\"paying\"],[\"paying\"],[\"paying\"],[\"paying\"],[\"paying\"],[\"paying\"],[\"paying\"],[\"paying\"],[\"paying\"],[\"paying\"],[\"paying\"],[\"paying\"],[\"paying\"],[\"paying\"],[\"paying\"],[\"paying\"],[\"paying\"],[\"paying\"],[\"paying\"],[\"paying\"],[\"paying\"],[\"paying\"],[\"paying\"],[\"paying\"],[\"paying\"],[\"paying\"],[\"paying\"],[\"paying\"],[\"paying\"],[\"paying\"],[\"paying\"],[\"paying\"],[\"paying\"],[\"paying\"],[\"paying\"],[\"paying\"],[\"paying\"],[\"paying\"],[\"paying\"],[\"paying\"],[\"paying\"],[\"paying\"],[\"paying\"],[\"paying\"],[\"paying\"],[\"paying\"],[\"paying\"],[\"paying\"],[\"paying\"],[\"paying\"],[\"paying\"],[\"paying\"],[\"paying\"],[\"paying\"],[\"paying\"],[\"paying\"],[\"paying\"],[\"paying\"],[\"paying\"],[\"paying\"],[\"paying\"],[\"paying\"],[\"paying\"],[\"paying\"],[\"paying\"],[\"paying\"],[\"paying\"],[\"paying\"],[\"paying\"],[\"paying\"],[\"paying\"],[\"paying\"],[\"paying\"],[\"paying\"],[\"paying\"],[\"paying\"],[\"paying\"],[\"paying\"],[\"paying\"],[\"paying\"],[\"paying\"],[\"paying\"],[\"paying\"],[\"paying\"],[\"paying\"],[\"paying\"],[\"paying\"],[\"paying\"],[\"paying\"],[\"paying\"],[\"paying\"],[\"paying\"],[\"paying\"],[\"paying\"],[\"paying\"],[\"paying\"],[\"paying\"],[\"paying\"],[\"paying\"],[\"paying\"],[\"paying\"],[\"paying\"],[\"paying\"],[\"paying\"],[\"paying\"],[\"paying\"],[\"paying\"],[\"paying\"],[\"paying\"],[\"paying\"],[\"paying\"],[\"paying\"],[\"paying\"],[\"paying\"],[\"paying\"],[\"paying\"],[\"paying\"],[\"paying\"],[\"paying\"],[\"paying\"],[\"paying\"],[\"paying\"],[\"paying\"],[\"paying\"],[\"paying\"],[\"paying\"],[\"paying\"],[\"paying\"],[\"paying\"],[\"paying\"],[\"paying\"],[\"paying\"],[\"paying\"],[\"paying\"],[\"paying\"],[\"paying\"],[\"paying\"],[\"paying\"],[\"paying\"],[\"paying\"],[\"paying\"],[\"paying\"],[\"paying\"],[\"paying\"],[\"paying\"],[\"paying\"],[\"paying\"],[\"paying\"],[\"paying\"],[\"paying\"],[\"paying\"],[\"paying\"],[\"paying\"],[\"paying\"],[\"paying\"],[\"paying\"],[\"paying\"],[\"paying\"],[\"paying\"],[\"paying\"],[\"paying\"],[\"paying\"],[\"paying\"],[\"paying\"],[\"paying\"],[\"paying\"],[\"paying\"],[\"paying\"],[\"paying\"],[\"paying\"],[\"paying\"],[\"paying\"],[\"paying\"],[\"paying\"],[\"paying\"],[\"paying\"],[\"paying\"],[\"paying\"],[\"paying\"],[\"paying\"],[\"paying\"],[\"paying\"],[\"paying\"],[\"paying\"],[\"paying\"],[\"paying\"],[\"paying\"],[\"paying\"],[\"paying\"],[\"paying\"],[\"paying\"],[\"paying\"],[\"paying\"],[\"paying\"],[\"paying\"],[\"paying\"],[\"paying\"],[\"paying\"],[\"paying\"],[\"paying\"],[\"paying\"],[\"paying\"],[\"paying\"],[\"paying\"],[\"paying\"],[\"paying\"],[\"paying\"],[\"paying\"],[\"paying\"],[\"paying\"],[\"paying\"],[\"paying\"],[\"paying\"],[\"paying\"],[\"paying\"],[\"paying\"],[\"paying\"],[\"paying\"],[\"paying\"],[\"paying\"],[\"paying\"],[\"paying\"],[\"paying\"],[\"paying\"],[\"paying\"],[\"paying\"],[\"paying\"],[\"paying\"],[\"paying\"],[\"paying\"],[\"paying\"],[\"paying\"],[\"paying\"],[\"paying\"],[\"paying\"],[\"paying\"],[\"paying\"],[\"paying\"],[\"paying\"],[\"paying\"],[\"paying\"],[\"paying\"],[\"paying\"],[\"paying\"],[\"paying\"],[\"paying\"],[\"paying\"],[\"paying\"],[\"paying\"],[\"paying\"],[\"paying\"],[\"paying\"],[\"paying\"],[\"paying\"],[\"paying\"],[\"paying\"],[\"paying\"],[\"paying\"],[\"paying\"],[\"paying\"],[\"paying\"],[\"paying\"],[\"paying\"],[\"paying\"],[\"paying\"],[\"paying\"],[\"paying\"],[\"paying\"],[\"paying\"],[\"paying\"],[\"paying\"],[\"paying\"],[\"paying\"],[\"paying\"],[\"paying\"],[\"paying\"],[\"paying\"],[\"paying\"],[\"paying\"],[\"paying\"],[\"paying\"],[\"paying\"],[\"paying\"],[\"paying\"],[\"paying\"],[\"paying\"],[\"paying\"]],\"hovertemplate\":\"Account Status=%{customdata[0]}<br>Session Count=%{x}<br>Total Charges=%{marker.size}<extra></extra>\",\"legendgroup\":\"paying\",\"marker\":{\"color\":\"#636efa\",\"size\":[145.6,728.0,277.2,292.83333333333337,462.0,1228.8000000000002,3020.8,597.0,1709.8,2457.6000000000004,3874.133333333333,1516.2,2844.2999999999997,435.20000000000005,786.5,3097.6000000000004,780.8000000000001,2634.9333333333334,3673.5999999999995,1244.8333333333335,1638.4,486.40000000000003,243.76666666666668,2956.8,766.0,3404.8,1888.9333333333332,1920.0,1728.0,1132.5333333333333,3094.0,487.2,3136.0,2725.3333333333335,1751.5666666666668,791.6666666666667,944.5333333333333,37.2,894.8666666666667,140.0,679.1666666666667,3855.2000000000003,735.1666666666667,588.8000000000001,2568.0,770.0,124.00000000000001,1638.4,9.0,2677.5,1104.0,1640.6666666666667,3028.666666666667,2468.666666666667,3497.3666666666663,160.79999999999998,873.6,2442.6666666666665,3345.0,625.1,1585.1333333333334,1018.6666666666666,2070.6,741.0,3126.6666666666665,1472.0,62.400000000000006,2878.866666666667,1498.3333333333333,2608.2000000000003,1833.0,759.6,4.9,2014.0,2403.333333333333,2293.5,3170.5,2513.2,3680.5333333333333,1205.1,629.3333333333334,2307.4333333333334,1694.2333333333333,293.3333333333333,844.8,695.8000000000001,2679.2999999999997,2756.0,2643.666666666667,735.1666666666667,2591.6,558.8,2165.6666666666665,1058.3999999999999,779.3333333333334,994.3333333333333,15.0,1332.5,1567.5,2386.8,128.70000000000002,68.46666666666667,2519.4,3685.266666666667,1499.1000000000001,100.3,3228.6666666666665,1742.3666666666668,2747.166666666667,1221.7333333333333,112.93333333333334,232.79999999999998,502.93333333333334,713.6333333333333,554.6666666666666,2058.1666666666665,929.3333333333334,284.20000000000005,2327.5,1547.0,1171.1999999999998,954.8000000000001,730.8000000000001,504.26666666666665,793.0,1363.1333333333332,2110.0,2290.133333333333,508.3666666666667,101.33333333333333,432.83333333333337,1206.0666666666668,786.1333333333333,1156.8666666666666,1228.0,1370.2666666666667,187.03333333333336,391.3,2774.3999999999996,2535.1,1242.1333333333332,665.0333333333333,696.0,1666.9333333333334,1129.0666666666666,798.0,2764.2666666666664,1690.6000000000001,806.4,362.6333333333333,1886.8,2431.0,1839.2,1377.0,1707.2,914.6666666666667,2402.4,2594.666666666667,1499.1000000000001,158.0,1788.6,485.0666666666667,9.833333333333332,2527.6,1274.0,2332.0,117.53333333333333,510.0,235.4,1018.7333333333332,474.59999999999997,1014.6,1209.6666666666665,2304.4333333333334,713.6333333333333,554.6666666666666,1927.6,1177.3666666666666,295.26666666666665,775.2,2068.7333333333336,78.0,1677.8666666666666,430.7,1067.7333333333333,1121.8,2022.4,1927.9333333333332,1578.5,1943.0666666666666,1043.4,373.33333333333337,642.4,1334.8,910.1666666666667,1147.2,668.1666666666666,671.0,742.0,258.1333333333333,1589.8666666666666,773.6666666666666,1068.6666666666667,462.93333333333334,1668.2666666666669,137.6,24.033333333333335,836.1999999999999,307.6666666666667,48.0,228.93333333333334,555.0,843.6,1073.3333333333333,331.8333333333333,420.0,168.0,1198.3999999999999,784.4000000000001,1738.0,834.4,931.0,851.1999999999999,638.4,263.2,1472.8,750.4,242.00000000000003,655.1999999999999,54.4,190.39999999999998,744.8,789.5999999999999,1031.8666666666666,207.2,861.8666666666667,486.9333333333333,1016.7333333333333,379.6666666666667,477.93333333333334,415.40000000000003,514.8000000000001,491.33333333333337,259.66666666666663,50.4,177.73333333333335,1138.1333333333332,176.70000000000002,1462.9333333333334,1166.6666666666665,831.1333333333333,1800.0,1663.8000000000002,653.1333333333333,801.0,1341.8999999999999,283.6666666666667,251.33333333333334,576.3,37.6,34.0,1117.2,275.73333333333335,1516.2,2844.2999999999997,564.1999999999999,51.8,1425.0,21.233333333333334,745.0666666666666,1641.6000000000001,911.1333333333333,883.5,991.8000000000001,769.5,1137.5,1595.7333333333331,1179.1999999999998,476.0,797.8666666666667,965.9999999999999,332.53333333333336,182.4,402.9,1164.2666666666667,1012.5000000000001,175.0,42.699999999999996,1169.6,604.8666666666667,1584.6000000000001,954.8000000000001,879.6666666666666,1025.2666666666667,695.0,229.49999999999997,274.26666666666665,561.1999999999999,318.6,799.9333333333334,212.8,800.8,613.6,240.66666666666666,451.1333333333333,893.2,657.4333333333334,858.6,237.66666666666669,702.6666666666667,354.66666666666663,237.60000000000002,694.6,604.0,630.7666666666667,918.6333333333333,592.2,508.3666666666667,260.3333333333333,929.5333333333333,657.4,600.6666666666667,909.9999999999999,637.5333333333333,891.7333333333333,326.53333333333336,687.8666666666667,263.23333333333335,60.13333333333333,328.79999999999995,170.79999999999998,122.10000000000001,1157.2333333333333,577.2,453.8666666666667,396.90000000000003,43.0,225.39999999999998,591.6666666666666,847.1333333333332,733.5999999999999,214.0,691.6666666666666,819.2,4.966666666666667,480.5333333333333,927.7333333333333,545.6,537.6,250.86666666666667,1053.4333333333334,837.1999999999999,1316.7,207.43333333333334,253.86666666666667,322.0,392.0,360.79999999999995,787.2666666666667,984.4,109.19999999999999,568.4,1017.3333333333334,149.46666666666667,150.0,206.4,171.60000000000002,443.73333333333335,675.0333333333334,1074.3999999999999,29.3,512.4,544.0,4.666666666666667,3.8666666666666667,672.4,196.0,1245.2,705.5999999999999,312.8,449.40000000000003,9.1,220.00000000000003,440.16666666666663,264.3666666666667,407.40000000000003,347.8,498.8,668.8666666666667,2.6,1220.8333333333335,362.4333333333333,979.3333333333333,12.0,285.2,624.8333333333334,191.4,1240.3666666666668,998.4,943.8,170.66666666666666,112.1,575.0,120.99999999999999,410.6333333333333,695.8333333333334,1145.8333333333335,1129.1666666666667,312.0,583.1999999999999,170.83333333333334,746.1666666666666,557.6,1205.3999999999999,212.50000000000003,620.6666666666667,799.0,482.5333333333333,235.16666666666666,187.2,776.0,576.6666666666667,194.26666666666668,539.6,780.0,139.33333333333331,832.3333333333333,804.0,700.0,114.0,239.20000000000002,591.3,129.5,220.26666666666668,34.6,724.5,633.9333333333334,676.3666666666667,638.4,553.7,56.0,972.4,558.1333333333333,502.9333333333334,702.7333333333333,532.8000000000001,462.4,560.0,733.9333333333333,773.3000000000001,256.53333333333336,174.93333333333334,363.8,280.0,756.6666666666667,141.66666666666669,330.0,493.26666666666665,680.0666666666667,8.233333333333333,157.06666666666666,412.76666666666665,76.53333333333333,515.2,702.9,482.1333333333333,429.8666666666667,157.86666666666667,62.93333333333333,4.133333333333333,1.4,171.66666666666666,113.46666666666667,573.3,448.0,732.6,111.46666666666667,147.9,73.5,908.6666666666666,517.0,676.1999999999999,199.2,660.3333333333334,566.8000000000001,638.6,578.0,243.0,730.8,4.166666666666667,187.6,664.2,257.40000000000003,628.0333333333333,279.0,501.5,400.0,81.63333333333333,154.53333333333333,405.0,14.466666666666667,753.5333333333334,691.6,410.4,233.56666666666666,96.6,10.266666666666666,744.2333333333333,95.33333333333333,264.8666666666667,160.20000000000002,478.5,389.8666666666667,208.26666666666668,72.0,473.59999999999997,90.0,223.6,222.16666666666666,76.36666666666666,263.2,46.6,28.400000000000002,34.2,89.6,232.29999999999998,20.200000000000003,56.0,337.5,64.89999999999999,338.33333333333337,750.4,242.00000000000003,199.83333333333331,86.7,444.16666666666663,101.4,409.4,65.10000000000001,685.3000000000001,482.8,114.4,336.8333333333333,262.4,307.2,270.0,72.8,59.733333333333334,88.66666666666666,97.5,148.5,427.5,13.600000000000001,223.3,297.5,396.93333333333334,116.1,508.79999999999995,1.7333333333333334,80.46666666666667,363.0,110.5,78.1,345.1333333333334,206.99999999999997,4.166666666666667,148.5,462.0,3.7333333333333334,139.2,156.39999999999998,88.93333333333334,223.10000000000002,408.0,372.4,239.7,386.3666666666667,418.00000000000006,65.33333333333333,148.5,462.0,646.8000000000001,275.0,292.5,341.0,83.2,375.46666666666664,375.53333333333336,30.4,58.800000000000004,115.73333333333335,285.0,179.2,22.73333333333333,504.26666666666665,113.46666666666667,111.30000000000001,315.0,480.7,120.0,210.73333333333335,558.1333333333333,502.9333333333334,28.700000000000003,431.1333333333333,401.06666666666666,286.7,19.166666666666664,101.33333333333333,130.83333333333334,406.0,214.5,311.26666666666665,236.66666666666669,167.73333333333332,305.9,410.0,245.43333333333334,332.5,97.5,9.633333333333333,331.8333333333333,66.73333333333333,517.0666666666667,224.4,308.4,393.23333333333335,99.16666666666667,64.23333333333333,336.6666666666667,300.6,355.93333333333334,6.666666666666667,258.5,101.5,203.53333333333333,156.86666666666667,277.09999999999997,402.1333333333333,38.0,225.0,139.20000000000002,253.8,35.0,365.5,108.3,73.26666666666667,81.66666666666667,10.5,300.93333333333334,78.3,302.3666666666667,3.933333333333333,288.06666666666666,137.86666666666667,369.1333333333333,280.6,299.3,363.20000000000005,148.73333333333335,54.833333333333336,208.8,144.0,139.20000000000002,468.43333333333334,240.8,290.40000000000003,53.66666666666667,301.73333333333335,157.3,92.0,81.7,77.4,297.5,122.46666666666665,70.0,209.66666666666666,278.06666666666666,90.3,151.93333333333334,83.36666666666667,92.5,6.933333333333334,274.1333333333333,46.83333333333333,58.766666666666666,135.66666666666666,283.5,177.33333333333331,145.70000000000002,115.7,332.8,206.26666666666668,211.93333333333334,120.16666666666667,357.59999999999997,60.266666666666666,116.53333333333333,212.3,111.0,5.8,149.60000000000002,74.7,123.6,236.39999999999998,7.8,106.0,57.2,47.5,51.0,1.6333333333333333,196.23333333333335,218.4,280.5,100.86666666666666,214.2,41.33333333333333,8.033333333333333,206.8,163.8,324.5,160.0,200.66666666666666,188.5,188.8,219.6,172.5666666666667,74.23333333333333,37.800000000000004,134.0,22.799999999999997,180.0,174.20000000000002,273.4666666666667,220.5,81.66666666666667,175.46666666666667,184.5,126.86666666666666,80.10000000000001,119.60000000000001,178.63333333333335,33.333333333333336,129.33333333333331,78.96666666666667,215.1,126.9,172.0,257.40000000000003,189.0,18.8,160.6,172.46666666666667,40.0,185.53333333333333,114.0,156.4,132.36666666666667,58.06666666666667,248.73333333333335,105.83333333333334,36.800000000000004,2.8666666666666667,104.86666666666667,169.86666666666667,196.53333333333333,96.2,50.266666666666666,21.5,128.70000000000002,68.46666666666667,154.16666666666669,196.73333333333335,84.06666666666666,208.26666666666665,209.16666666666669,142.13333333333333,151.66666666666669,130.79999999999998,169.0,12.533333333333333,60.8,16.166666666666664,212.5,151.20000000000002,182.46666666666667,124.80000000000001,84.0,118.4,216.20000000000002,1.6333333333333333,35.233333333333334,91.19999999999999,12.833333333333332,29.900000000000002,181.70000000000002,93.1,28.7,93.0,123.43333333333334,23.333333333333332,65.33333333333333,97.33333333333333,209.3,111.16666666666667,66.73333333333333,122.46666666666665,27.133333333333333,128.66666666666666,28.833333333333332,42.0,148.46666666666667,110.73333333333332,75.53333333333333,36.3,154.53333333333333,75.5,6.066666666666666,80.5,21.400000000000002,8.666666666666666,91.83333333333333,39.0,114.66666666666666,102.4,56.666666666666664,47.5,29.033333333333335,22.666666666666664,97.6,2.6,85.33333333333333,40.5,91.5,56.46666666666666,61.53333333333334,82.5,95.33333333333334,86.0,12.166666666666666,13.799999999999999,32.666666666666664,123.66666666666667,1.8,17.5,53.300000000000004,79.3,1.7666666666666666,56.8,65.7,24.266666666666666,17.96666666666667,65.2,2.8,38.266666666666666,84.80000000000001,4.366666666666666,22.400000000000002,10.666666666666666,20.933333333333334,40.666666666666664,26.833333333333332,38.03333333333333,27.333333333333332,25.0,55.400000000000006,4.266666666666667,6.266666666666667,31.2,16.1,21.200000000000003,50.4,2.466666666666667,40.6,4.433333333333334,7.6000000000000005,24.200000000000003,32.6,30.200000000000003,35.06666666666666,7.433333333333334,19.5,8.566666666666666,24.333333333333332,21.700000000000003,7.466666666666667,21.200000000000003,6.833333333333333,4.733333333333333,0.0,0.0],\"sizemode\":\"area\",\"sizeref\":11.075666666666667,\"symbol\":\"circle\"},\"mode\":\"markers\",\"name\":\"paying\",\"showlegend\":true,\"type\":\"scattergl\",\"x\":[1379,531,317,349,1158,279,386,98,2187,105,1800,2191,2191,3394,241,1212,1333,1657,285,2501,1409,225,352,10531,184,24,0,2171,10,80,51,28,153,2443,27,15,1,187,8728,126,45,491,267,0,67,0,159,2100,35,71,143,2,147,8,98,204,28,427,18332,565,565,14,441,15,176,217,1,51,2665,894,15,75,8,252,4,33,152,19,230,15,91,458,291,50,71,5,616,1023,6,2,107,10,185,2,26,100,2,11,36,77,45,45,254,789,0,108,77,335,18,28,6,188,81,115,115,1868,0,53,961,3,3,33,3,4,40,34,24591,51169,2,47,218,11310,17,17,687,8,5,18,732,140,7,10334,3,6659,69,22,5,377,71,12,10744,12,4,107,16015,87,2702,81,1,1,5,3,1,13,46,4226,64,4,30,59,765,0,221,1412,170,170,841,72,19,1,226,3,8,6,3,15,418,34,46,1,6,316,27,46,26,0,94,24,370,311,14,73,15,1145,542,13,9,59,5,192,3188,6,68,5,1410,1,0,222,6564,3,13,398,1,0,0,0,3,3,0,10,0,0,4,0,42,100,124,21,96,7,10,33,215,4,41,11,184,4,39,138,17,19,63,22,11,134,1429,293,4,19,3,2,503,1,1,66,4,5,11,8,18,0,490,30,148,21,14,2,70,14,29,19,29,2,39,28,98,1,16,10,2,40,672,19,26,24,95,9,37,121,8,6,70,54,7,960,70,119,41,211,99,1,57,7,53,16,30,3,61,20,3,54,464,1955,489,7,136,26,34,143,32,16,23,106,8,5612,4,35,781,2,20,207,14,7,29,16,16,9,10,1,126,136,157,180,7,31,2,5,38,478,23,28,16,218,569,78,3,39,14,107,42,11,18,13,3,42,9,121,18,5,7,5,532,61,7,142,312,15,17,5,5,30,18,44,78,4,63,34,22,5,38,25,203,272,31,13,45,5,7,10,12,14,18,18,9,18,45,5,5,1611,2,117,152,16,11,36,34,94,89,301,3,2,69,58,3,75,179,624,21,4,4,635,110,110,2,17,97,2,14,61,1,0,38,65,33,745,91,5,20,0,22,9,11,2,29,12,2,6,0,2,1,1,0,8,12,45,758,97,3,31,202,5,16,17,748,61,3,4,497,1,43,3,109,37,1,3,29,45,179,5,1,65,235,1107,451,1,2,23,90,1,22,1,27,5,12,134,27,6,6,28,6,0,0,12,0,183,4,11,1,47,17,5,5,2,4,19,36,2,197,11,481,132,2,1,9,3,3,5,281,19,18,1,2,2,4,26,16,2,1,1845,65,8,2425,15,2,1,10,10,2,19,0,22,1,26,7,19,0,1,4,10,10,279,0,2,1,6,0,22,11,7,6,10,2,5,1956,122,16,1,161,35,0,10,10,1,7,19,19,4,4,24,6,29,30,37,29,2,20,17,10,351,12,132,15,112,17,2,140,1,192,9,59,3,8,5,8,2060,0,5,7,0,9,3,1,15,96,5,1,1,2,1,280,52,2,11,43,5,129,253,0,330,0,38,2,0,3,1,3,17,26,3,25,2,585,69,0,35,8,8,1854,20,1326,1,6,196,21,1,6,18,512,9,2,8,3456,13,4,37,6,1,42,49,5,3,13,3,13,0,793,2,0,0,5,8,3,301,19,25,2,4,1,1,8,0,1,42,28,0,4973,12,2,9,121,4,3,29,1,1,1,0,940,2,39,1,1,11,23,94,0,2,2,1,8,2,0,0,0,0,0,0,1,10,1,32,2,0,0,0,1,1,1,5,5,3,0,16,0,0,0,0,1,0,12,1,30,0,1,2,2,2,10,29,2,2,0,2,0,0,4,50,22,9,0,0,0,0,0,0,0,0,2,0,5,0,0,0,5,0,32,1,16,1,1,0,2,0,9,1,7,2,8,4,1,2,2,8,2,4,0,1,4,0,0,0,1,0,2,1,3,1,21,2,1,4,0,2,6,1,0,5,3,7,0,3,51,6,21,0,0,1,11,6,0,4,1,0,1,0,0,0,0,9,0,0,2,1,1,0,1,0,1,0,0],\"xaxis\":\"x\",\"y\":[145.6,728.0,277.2,292.83333333333337,462.0,1228.8000000000002,3020.8,597.0,1709.8,2457.6000000000004,3874.133333333333,1516.2,2844.2999999999997,435.20000000000005,786.5,3097.6000000000004,780.8000000000001,2634.9333333333334,3673.5999999999995,1244.8333333333335,1638.4,486.40000000000003,243.76666666666668,2956.8,766.0,3404.8,1888.9333333333332,1920.0,1728.0,1132.5333333333333,3094.0,487.2,3136.0,2725.3333333333335,1751.5666666666668,791.6666666666667,944.5333333333333,37.2,894.8666666666667,140.0,679.1666666666667,3855.2000000000003,735.1666666666667,588.8000000000001,2568.0,770.0,124.00000000000001,1638.4,9.0,2677.5,1104.0,1640.6666666666667,3028.666666666667,2468.666666666667,3497.3666666666663,160.79999999999998,873.6,2442.6666666666665,3345.0,625.1,1585.1333333333334,1018.6666666666666,2070.6,741.0,3126.6666666666665,1472.0,62.400000000000006,2878.866666666667,1498.3333333333333,2608.2000000000003,1833.0,759.6,4.9,2014.0,2403.333333333333,2293.5,3170.5,2513.2,3680.5333333333333,1205.1,629.3333333333334,2307.4333333333334,1694.2333333333333,293.3333333333333,844.8,695.8000000000001,2679.2999999999997,2756.0,2643.666666666667,735.1666666666667,2591.6,558.8,2165.6666666666665,1058.3999999999999,779.3333333333334,994.3333333333333,15.0,1332.5,1567.5,2386.8,128.70000000000002,68.46666666666667,2519.4,3685.266666666667,1499.1000000000001,100.3,3228.6666666666665,1742.3666666666668,2747.166666666667,1221.7333333333333,112.93333333333334,232.79999999999998,502.93333333333334,713.6333333333333,554.6666666666666,2058.1666666666665,929.3333333333334,284.20000000000005,2327.5,1547.0,1171.1999999999998,954.8000000000001,730.8000000000001,504.26666666666665,793.0,1363.1333333333332,2110.0,2290.133333333333,508.3666666666667,101.33333333333333,432.83333333333337,1206.0666666666668,786.1333333333333,1156.8666666666666,1228.0,1370.2666666666667,187.03333333333336,391.3,2774.3999999999996,2535.1,1242.1333333333332,665.0333333333333,696.0,1666.9333333333334,1129.0666666666666,798.0,2764.2666666666664,1690.6000000000001,806.4,362.6333333333333,1886.8,2431.0,1839.2,1377.0,1707.2,914.6666666666667,2402.4,2594.666666666667,1499.1000000000001,158.0,1788.6,485.0666666666667,9.833333333333332,2527.6,1274.0,2332.0,117.53333333333333,510.0,235.4,1018.7333333333332,474.59999999999997,1014.6,1209.6666666666665,2304.4333333333334,713.6333333333333,554.6666666666666,1927.6,1177.3666666666666,295.26666666666665,775.2,2068.7333333333336,78.0,1677.8666666666666,430.7,1067.7333333333333,1121.8,2022.4,1927.9333333333332,1578.5,1943.0666666666666,1043.4,373.33333333333337,642.4,1334.8,910.1666666666667,1147.2,668.1666666666666,671.0,742.0,258.1333333333333,1589.8666666666666,773.6666666666666,1068.6666666666667,462.93333333333334,1668.2666666666669,137.6,24.033333333333335,836.1999999999999,307.6666666666667,48.0,228.93333333333334,555.0,843.6,1073.3333333333333,331.8333333333333,420.0,168.0,1198.3999999999999,784.4000000000001,1738.0,834.4,931.0,851.1999999999999,638.4,263.2,1472.8,750.4,242.00000000000003,655.1999999999999,54.4,190.39999999999998,744.8,789.5999999999999,1031.8666666666666,207.2,861.8666666666667,486.9333333333333,1016.7333333333333,379.6666666666667,477.93333333333334,415.40000000000003,514.8000000000001,491.33333333333337,259.66666666666663,50.4,177.73333333333335,1138.1333333333332,176.70000000000002,1462.9333333333334,1166.6666666666665,831.1333333333333,1800.0,1663.8000000000002,653.1333333333333,801.0,1341.8999999999999,283.6666666666667,251.33333333333334,576.3,37.6,34.0,1117.2,275.73333333333335,1516.2,2844.2999999999997,564.1999999999999,51.8,1425.0,21.233333333333334,745.0666666666666,1641.6000000000001,911.1333333333333,883.5,991.8000000000001,769.5,1137.5,1595.7333333333331,1179.1999999999998,476.0,797.8666666666667,965.9999999999999,332.53333333333336,182.4,402.9,1164.2666666666667,1012.5000000000001,175.0,42.699999999999996,1169.6,604.8666666666667,1584.6000000000001,954.8000000000001,879.6666666666666,1025.2666666666667,695.0,229.49999999999997,274.26666666666665,561.1999999999999,318.6,799.9333333333334,212.8,800.8,613.6,240.66666666666666,451.1333333333333,893.2,657.4333333333334,858.6,237.66666666666669,702.6666666666667,354.66666666666663,237.60000000000002,694.6,604.0,630.7666666666667,918.6333333333333,592.2,508.3666666666667,260.3333333333333,929.5333333333333,657.4,600.6666666666667,909.9999999999999,637.5333333333333,891.7333333333333,326.53333333333336,687.8666666666667,263.23333333333335,60.13333333333333,328.79999999999995,170.79999999999998,122.10000000000001,1157.2333333333333,577.2,453.8666666666667,396.90000000000003,43.0,225.39999999999998,591.6666666666666,847.1333333333332,733.5999999999999,214.0,691.6666666666666,819.2,4.966666666666667,480.5333333333333,927.7333333333333,545.6,537.6,250.86666666666667,1053.4333333333334,837.1999999999999,1316.7,207.43333333333334,253.86666666666667,322.0,392.0,360.79999999999995,787.2666666666667,984.4,109.19999999999999,568.4,1017.3333333333334,149.46666666666667,150.0,206.4,171.60000000000002,443.73333333333335,675.0333333333334,1074.3999999999999,29.3,512.4,544.0,4.666666666666667,3.8666666666666667,672.4,196.0,1245.2,705.5999999999999,312.8,449.40000000000003,9.1,220.00000000000003,440.16666666666663,264.3666666666667,407.40000000000003,347.8,498.8,668.8666666666667,2.6,1220.8333333333335,362.4333333333333,979.3333333333333,12.0,285.2,624.8333333333334,191.4,1240.3666666666668,998.4,943.8,170.66666666666666,112.1,575.0,120.99999999999999,410.6333333333333,695.8333333333334,1145.8333333333335,1129.1666666666667,312.0,583.1999999999999,170.83333333333334,746.1666666666666,557.6,1205.3999999999999,212.50000000000003,620.6666666666667,799.0,482.5333333333333,235.16666666666666,187.2,776.0,576.6666666666667,194.26666666666668,539.6,780.0,139.33333333333331,832.3333333333333,804.0,700.0,114.0,239.20000000000002,591.3,129.5,220.26666666666668,34.6,724.5,633.9333333333334,676.3666666666667,638.4,553.7,56.0,972.4,558.1333333333333,502.9333333333334,702.7333333333333,532.8000000000001,462.4,560.0,733.9333333333333,773.3000000000001,256.53333333333336,174.93333333333334,363.8,280.0,756.6666666666667,141.66666666666669,330.0,493.26666666666665,680.0666666666667,8.233333333333333,157.06666666666666,412.76666666666665,76.53333333333333,515.2,702.9,482.1333333333333,429.8666666666667,157.86666666666667,62.93333333333333,4.133333333333333,1.4,171.66666666666666,113.46666666666667,573.3,448.0,732.6,111.46666666666667,147.9,73.5,908.6666666666666,517.0,676.1999999999999,199.2,660.3333333333334,566.8000000000001,638.6,578.0,243.0,730.8,4.166666666666667,187.6,664.2,257.40000000000003,628.0333333333333,279.0,501.5,400.0,81.63333333333333,154.53333333333333,405.0,14.466666666666667,753.5333333333334,691.6,410.4,233.56666666666666,96.6,10.266666666666666,744.2333333333333,95.33333333333333,264.8666666666667,160.20000000000002,478.5,389.8666666666667,208.26666666666668,72.0,473.59999999999997,90.0,223.6,222.16666666666666,76.36666666666666,263.2,46.6,28.400000000000002,34.2,89.6,232.29999999999998,20.200000000000003,56.0,337.5,64.89999999999999,338.33333333333337,750.4,242.00000000000003,199.83333333333331,86.7,444.16666666666663,101.4,409.4,65.10000000000001,685.3000000000001,482.8,114.4,336.8333333333333,262.4,307.2,270.0,72.8,59.733333333333334,88.66666666666666,97.5,148.5,427.5,13.600000000000001,223.3,297.5,396.93333333333334,116.1,508.79999999999995,1.7333333333333334,80.46666666666667,363.0,110.5,78.1,345.1333333333334,206.99999999999997,4.166666666666667,148.5,462.0,3.7333333333333334,139.2,156.39999999999998,88.93333333333334,223.10000000000002,408.0,372.4,239.7,386.3666666666667,418.00000000000006,65.33333333333333,148.5,462.0,646.8000000000001,275.0,292.5,341.0,83.2,375.46666666666664,375.53333333333336,30.4,58.800000000000004,115.73333333333335,285.0,179.2,22.73333333333333,504.26666666666665,113.46666666666667,111.30000000000001,315.0,480.7,120.0,210.73333333333335,558.1333333333333,502.9333333333334,28.700000000000003,431.1333333333333,401.06666666666666,286.7,19.166666666666664,101.33333333333333,130.83333333333334,406.0,214.5,311.26666666666665,236.66666666666669,167.73333333333332,305.9,410.0,245.43333333333334,332.5,97.5,9.633333333333333,331.8333333333333,66.73333333333333,517.0666666666667,224.4,308.4,393.23333333333335,99.16666666666667,64.23333333333333,336.6666666666667,300.6,355.93333333333334,6.666666666666667,258.5,101.5,203.53333333333333,156.86666666666667,277.09999999999997,402.1333333333333,38.0,225.0,139.20000000000002,253.8,35.0,365.5,108.3,73.26666666666667,81.66666666666667,10.5,300.93333333333334,78.3,302.3666666666667,3.933333333333333,288.06666666666666,137.86666666666667,369.1333333333333,280.6,299.3,363.20000000000005,148.73333333333335,54.833333333333336,208.8,144.0,139.20000000000002,468.43333333333334,240.8,290.40000000000003,53.66666666666667,301.73333333333335,157.3,92.0,81.7,77.4,297.5,122.46666666666665,70.0,209.66666666666666,278.06666666666666,90.3,151.93333333333334,83.36666666666667,92.5,6.933333333333334,274.1333333333333,46.83333333333333,58.766666666666666,135.66666666666666,283.5,177.33333333333331,145.70000000000002,115.7,332.8,206.26666666666668,211.93333333333334,120.16666666666667,357.59999999999997,60.266666666666666,116.53333333333333,212.3,111.0,5.8,149.60000000000002,74.7,123.6,236.39999999999998,7.8,106.0,57.2,47.5,51.0,1.6333333333333333,196.23333333333335,218.4,280.5,100.86666666666666,214.2,41.33333333333333,8.033333333333333,206.8,163.8,324.5,160.0,200.66666666666666,188.5,188.8,219.6,172.5666666666667,74.23333333333333,37.800000000000004,134.0,22.799999999999997,180.0,174.20000000000002,273.4666666666667,220.5,81.66666666666667,175.46666666666667,184.5,126.86666666666666,80.10000000000001,119.60000000000001,178.63333333333335,33.333333333333336,129.33333333333331,78.96666666666667,215.1,126.9,172.0,257.40000000000003,189.0,18.8,160.6,172.46666666666667,40.0,185.53333333333333,114.0,156.4,132.36666666666667,58.06666666666667,248.73333333333335,105.83333333333334,36.800000000000004,2.8666666666666667,104.86666666666667,169.86666666666667,196.53333333333333,96.2,50.266666666666666,21.5,128.70000000000002,68.46666666666667,154.16666666666669,196.73333333333335,84.06666666666666,208.26666666666665,209.16666666666669,142.13333333333333,151.66666666666669,130.79999999999998,169.0,12.533333333333333,60.8,16.166666666666664,212.5,151.20000000000002,182.46666666666667,124.80000000000001,84.0,118.4,216.20000000000002,1.6333333333333333,35.233333333333334,91.19999999999999,12.833333333333332,29.900000000000002,181.70000000000002,93.1,28.7,93.0,123.43333333333334,23.333333333333332,65.33333333333333,97.33333333333333,209.3,111.16666666666667,66.73333333333333,122.46666666666665,27.133333333333333,128.66666666666666,28.833333333333332,42.0,148.46666666666667,110.73333333333332,75.53333333333333,36.3,154.53333333333333,75.5,6.066666666666666,80.5,21.400000000000002,8.666666666666666,91.83333333333333,39.0,114.66666666666666,102.4,56.666666666666664,47.5,29.033333333333335,22.666666666666664,97.6,2.6,85.33333333333333,40.5,91.5,56.46666666666666,61.53333333333334,82.5,95.33333333333334,86.0,12.166666666666666,13.799999999999999,32.666666666666664,123.66666666666667,1.8,17.5,53.300000000000004,79.3,1.7666666666666666,56.8,65.7,24.266666666666666,17.96666666666667,65.2,2.8,38.266666666666666,84.80000000000001,4.366666666666666,22.400000000000002,10.666666666666666,20.933333333333334,40.666666666666664,26.833333333333332,38.03333333333333,27.333333333333332,25.0,55.400000000000006,4.266666666666667,6.266666666666667,31.2,16.1,21.200000000000003,50.4,2.466666666666667,40.6,4.433333333333334,7.6000000000000005,24.200000000000003,32.6,30.200000000000003,35.06666666666666,7.433333333333334,19.5,8.566666666666666,24.333333333333332,21.700000000000003,7.466666666666667,21.200000000000003,6.833333333333333,4.733333333333333,0.0,0.0],\"yaxis\":\"y\"},{\"customdata\":[[\"cancelled\"],[\"cancelled\"],[\"cancelled\"],[\"cancelled\"],[\"cancelled\"],[\"cancelled\"],[\"cancelled\"],[\"cancelled\"],[\"cancelled\"],[\"cancelled\"],[\"cancelled\"],[\"cancelled\"],[\"cancelled\"],[\"cancelled\"],[\"cancelled\"],[\"cancelled\"],[\"cancelled\"],[\"cancelled\"],[\"cancelled\"],[\"cancelled\"],[\"cancelled\"],[\"cancelled\"],[\"cancelled\"],[\"cancelled\"],[\"cancelled\"],[\"cancelled\"],[\"cancelled\"],[\"cancelled\"],[\"cancelled\"],[\"cancelled\"],[\"cancelled\"],[\"cancelled\"],[\"cancelled\"],[\"cancelled\"],[\"cancelled\"],[\"cancelled\"],[\"cancelled\"],[\"cancelled\"],[\"cancelled\"],[\"cancelled\"],[\"cancelled\"],[\"cancelled\"],[\"cancelled\"],[\"cancelled\"],[\"cancelled\"],[\"cancelled\"],[\"cancelled\"],[\"cancelled\"],[\"cancelled\"],[\"cancelled\"],[\"cancelled\"],[\"cancelled\"],[\"cancelled\"],[\"cancelled\"],[\"cancelled\"],[\"cancelled\"],[\"cancelled\"],[\"cancelled\"],[\"cancelled\"],[\"cancelled\"],[\"cancelled\"],[\"cancelled\"],[\"cancelled\"],[\"cancelled\"],[\"cancelled\"],[\"cancelled\"],[\"cancelled\"],[\"cancelled\"],[\"cancelled\"],[\"cancelled\"],[\"cancelled\"],[\"cancelled\"],[\"cancelled\"],[\"cancelled\"],[\"cancelled\"],[\"cancelled\"],[\"cancelled\"],[\"cancelled\"],[\"cancelled\"],[\"cancelled\"],[\"cancelled\"],[\"cancelled\"],[\"cancelled\"],[\"cancelled\"],[\"cancelled\"],[\"cancelled\"],[\"cancelled\"],[\"cancelled\"],[\"cancelled\"],[\"cancelled\"],[\"cancelled\"],[\"cancelled\"],[\"cancelled\"],[\"cancelled\"],[\"cancelled\"],[\"cancelled\"],[\"cancelled\"],[\"cancelled\"],[\"cancelled\"],[\"cancelled\"],[\"cancelled\"],[\"cancelled\"],[\"cancelled\"],[\"cancelled\"],[\"cancelled\"],[\"cancelled\"],[\"cancelled\"],[\"cancelled\"],[\"cancelled\"],[\"cancelled\"],[\"cancelled\"],[\"cancelled\"],[\"cancelled\"],[\"cancelled\"],[\"cancelled\"],[\"cancelled\"],[\"cancelled\"],[\"cancelled\"],[\"cancelled\"],[\"cancelled\"],[\"cancelled\"],[\"cancelled\"],[\"cancelled\"]],\"hovertemplate\":\"Account Status=%{customdata[0]}<br>Session Count=%{x}<br>Total Charges=%{marker.size}<extra></extra>\",\"legendgroup\":\"cancelled\",\"marker\":{\"color\":\"#EF553B\",\"size\":[1107.0,529.0,1373.6,923.0,499.53333333333336,4430.266666666666,1516.6666666666665,0.0,512.8333333333334,1941.2,1679.6000000000001,306.73333333333335,2195.2000000000003,2268.0,0.0,758.7666666666667,942.0,48.06666666666667,389.4,54.6,739.6666666666666,248.3,560.2333333333333,343.6333333333333,250.86666666666665,2180.5333333333333,927.4666666666667,215.0,380.79999999999995,655.6999999999999,323.8333333333333,294.8,828.1999999999999,483.33333333333337,43.06666666666666,106.66666666666666,395.6333333333333,2195.2000000000003,195.0,546.8333333333334,120.4,42.0,343.03333333333336,766.9666666666667,281.2,100.8,211.86666666666667,518.4,620.0,763.1666666666666,12.100000000000001,244.53333333333333,207.70000000000002,448.23333333333335,445.2,291.40000000000003,55.0,210.0,156.8,206.26666666666668,85.86666666666667,363.3,189.86666666666667,1358.8333333333335,178.26666666666668,372.09999999999997,51.333333333333336,88.66666666666667,607.7333333333333,1219.3,314.1333333333333,909.0,196.0,9.6,1476.8,382.2,369.2,436.0666666666667,33.833333333333336,122.26666666666667,12.8,300.66666666666663,1021.1333333333333,106.66666666666666,9.866666666666667,88.66666666666666,205.46666666666667,1092.0,117.93333333333334,123.2,269.8,157.0666666666667,387.09999999999997,122.2,245.46666666666667,80.26666666666667,17.033333333333335,205.1,229.6,154.93333333333334,110.7,104.0,7.6,34.666666666666664,186.83333333333331,160.8,237.60000000000002,28.333333333333332,123.73333333333333,71.96666666666667,327.6,188.33333333333334,53.6,161.1,138.0,234.5666666666667,229.89999999999998,246.13333333333335,637.8666666666667,17.833333333333332,458.3333333333333,31.0,126.96666666666667],\"sizemode\":\"area\",\"sizeref\":11.075666666666667,\"symbol\":\"circle\"},\"mode\":\"markers\",\"name\":\"cancelled\",\"showlegend\":true,\"type\":\"scattergl\",\"x\":[18,26,85,0,93,465,1,22,2,12,1,163,267,5,0,0,1,1,6,1,0,1,1,5,4,9,25,9,23,8,0,3,0,28,1,6,2,2,1,5,2,7,2,3,48,2,69,6,16,36,13,85,2,5,71,4,9,29,74,19,30,10,3,9,31,39,1,12,1,2,0,19,23,0,5,3,18,10,1,2,1,2,4,3,1,20,3,14,11,37,0,0,6,19,20,1,3,3,3,22,2,3,2,7,13,4,8,4,15,16,10,8,1,8,28,12,10,0,1,4,5,14,9],\"xaxis\":\"x\",\"y\":[1107.0,529.0,1373.6,923.0,499.53333333333336,4430.266666666666,1516.6666666666665,0.0,512.8333333333334,1941.2,1679.6000000000001,306.73333333333335,2195.2000000000003,2268.0,0.0,758.7666666666667,942.0,48.06666666666667,389.4,54.6,739.6666666666666,248.3,560.2333333333333,343.6333333333333,250.86666666666665,2180.5333333333333,927.4666666666667,215.0,380.79999999999995,655.6999999999999,323.8333333333333,294.8,828.1999999999999,483.33333333333337,43.06666666666666,106.66666666666666,395.6333333333333,2195.2000000000003,195.0,546.8333333333334,120.4,42.0,343.03333333333336,766.9666666666667,281.2,100.8,211.86666666666667,518.4,620.0,763.1666666666666,12.100000000000001,244.53333333333333,207.70000000000002,448.23333333333335,445.2,291.40000000000003,55.0,210.0,156.8,206.26666666666668,85.86666666666667,363.3,189.86666666666667,1358.8333333333335,178.26666666666668,372.09999999999997,51.333333333333336,88.66666666666667,607.7333333333333,1219.3,314.1333333333333,909.0,196.0,9.6,1476.8,382.2,369.2,436.0666666666667,33.833333333333336,122.26666666666667,12.8,300.66666666666663,1021.1333333333333,106.66666666666666,9.866666666666667,88.66666666666666,205.46666666666667,1092.0,117.93333333333334,123.2,269.8,157.0666666666667,387.09999999999997,122.2,245.46666666666667,80.26666666666667,17.033333333333335,205.1,229.6,154.93333333333334,110.7,104.0,7.6,34.666666666666664,186.83333333333331,160.8,237.60000000000002,28.333333333333332,123.73333333333333,71.96666666666667,327.6,188.33333333333334,53.6,161.1,138.0,234.5666666666667,229.89999999999998,246.13333333333335,637.8666666666667,17.833333333333332,458.3333333333333,31.0,126.96666666666667],\"yaxis\":\"y\"}],                        {\"legend\":{\"itemsizing\":\"constant\",\"title\":{\"text\":\"Account Status\"},\"tracegroupgap\":0},\"margin\":{\"t\":60},\"template\":{\"data\":{\"bar\":[{\"error_x\":{\"color\":\"#2a3f5f\"},\"error_y\":{\"color\":\"#2a3f5f\"},\"marker\":{\"line\":{\"color\":\"#E5ECF6\",\"width\":0.5},\"pattern\":{\"fillmode\":\"overlay\",\"size\":10,\"solidity\":0.2}},\"type\":\"bar\"}],\"barpolar\":[{\"marker\":{\"line\":{\"color\":\"#E5ECF6\",\"width\":0.5},\"pattern\":{\"fillmode\":\"overlay\",\"size\":10,\"solidity\":0.2}},\"type\":\"barpolar\"}],\"carpet\":[{\"aaxis\":{\"endlinecolor\":\"#2a3f5f\",\"gridcolor\":\"white\",\"linecolor\":\"white\",\"minorgridcolor\":\"white\",\"startlinecolor\":\"#2a3f5f\"},\"baxis\":{\"endlinecolor\":\"#2a3f5f\",\"gridcolor\":\"white\",\"linecolor\":\"white\",\"minorgridcolor\":\"white\",\"startlinecolor\":\"#2a3f5f\"},\"type\":\"carpet\"}],\"choropleth\":[{\"colorbar\":{\"outlinewidth\":0,\"ticks\":\"\"},\"type\":\"choropleth\"}],\"contour\":[{\"colorbar\":{\"outlinewidth\":0,\"ticks\":\"\"},\"colorscale\":[[0.0,\"#0d0887\"],[0.1111111111111111,\"#46039f\"],[0.2222222222222222,\"#7201a8\"],[0.3333333333333333,\"#9c179e\"],[0.4444444444444444,\"#bd3786\"],[0.5555555555555556,\"#d8576b\"],[0.6666666666666666,\"#ed7953\"],[0.7777777777777778,\"#fb9f3a\"],[0.8888888888888888,\"#fdca26\"],[1.0,\"#f0f921\"]],\"type\":\"contour\"}],\"contourcarpet\":[{\"colorbar\":{\"outlinewidth\":0,\"ticks\":\"\"},\"type\":\"contourcarpet\"}],\"heatmap\":[{\"colorbar\":{\"outlinewidth\":0,\"ticks\":\"\"},\"colorscale\":[[0.0,\"#0d0887\"],[0.1111111111111111,\"#46039f\"],[0.2222222222222222,\"#7201a8\"],[0.3333333333333333,\"#9c179e\"],[0.4444444444444444,\"#bd3786\"],[0.5555555555555556,\"#d8576b\"],[0.6666666666666666,\"#ed7953\"],[0.7777777777777778,\"#fb9f3a\"],[0.8888888888888888,\"#fdca26\"],[1.0,\"#f0f921\"]],\"type\":\"heatmap\"}],\"heatmapgl\":[{\"colorbar\":{\"outlinewidth\":0,\"ticks\":\"\"},\"colorscale\":[[0.0,\"#0d0887\"],[0.1111111111111111,\"#46039f\"],[0.2222222222222222,\"#7201a8\"],[0.3333333333333333,\"#9c179e\"],[0.4444444444444444,\"#bd3786\"],[0.5555555555555556,\"#d8576b\"],[0.6666666666666666,\"#ed7953\"],[0.7777777777777778,\"#fb9f3a\"],[0.8888888888888888,\"#fdca26\"],[1.0,\"#f0f921\"]],\"type\":\"heatmapgl\"}],\"histogram\":[{\"marker\":{\"pattern\":{\"fillmode\":\"overlay\",\"size\":10,\"solidity\":0.2}},\"type\":\"histogram\"}],\"histogram2d\":[{\"colorbar\":{\"outlinewidth\":0,\"ticks\":\"\"},\"colorscale\":[[0.0,\"#0d0887\"],[0.1111111111111111,\"#46039f\"],[0.2222222222222222,\"#7201a8\"],[0.3333333333333333,\"#9c179e\"],[0.4444444444444444,\"#bd3786\"],[0.5555555555555556,\"#d8576b\"],[0.6666666666666666,\"#ed7953\"],[0.7777777777777778,\"#fb9f3a\"],[0.8888888888888888,\"#fdca26\"],[1.0,\"#f0f921\"]],\"type\":\"histogram2d\"}],\"histogram2dcontour\":[{\"colorbar\":{\"outlinewidth\":0,\"ticks\":\"\"},\"colorscale\":[[0.0,\"#0d0887\"],[0.1111111111111111,\"#46039f\"],[0.2222222222222222,\"#7201a8\"],[0.3333333333333333,\"#9c179e\"],[0.4444444444444444,\"#bd3786\"],[0.5555555555555556,\"#d8576b\"],[0.6666666666666666,\"#ed7953\"],[0.7777777777777778,\"#fb9f3a\"],[0.8888888888888888,\"#fdca26\"],[1.0,\"#f0f921\"]],\"type\":\"histogram2dcontour\"}],\"mesh3d\":[{\"colorbar\":{\"outlinewidth\":0,\"ticks\":\"\"},\"type\":\"mesh3d\"}],\"parcoords\":[{\"line\":{\"colorbar\":{\"outlinewidth\":0,\"ticks\":\"\"}},\"type\":\"parcoords\"}],\"pie\":[{\"automargin\":true,\"type\":\"pie\"}],\"scatter\":[{\"marker\":{\"colorbar\":{\"outlinewidth\":0,\"ticks\":\"\"}},\"type\":\"scatter\"}],\"scatter3d\":[{\"line\":{\"colorbar\":{\"outlinewidth\":0,\"ticks\":\"\"}},\"marker\":{\"colorbar\":{\"outlinewidth\":0,\"ticks\":\"\"}},\"type\":\"scatter3d\"}],\"scattercarpet\":[{\"marker\":{\"colorbar\":{\"outlinewidth\":0,\"ticks\":\"\"}},\"type\":\"scattercarpet\"}],\"scattergeo\":[{\"marker\":{\"colorbar\":{\"outlinewidth\":0,\"ticks\":\"\"}},\"type\":\"scattergeo\"}],\"scattergl\":[{\"marker\":{\"colorbar\":{\"outlinewidth\":0,\"ticks\":\"\"}},\"type\":\"scattergl\"}],\"scattermapbox\":[{\"marker\":{\"colorbar\":{\"outlinewidth\":0,\"ticks\":\"\"}},\"type\":\"scattermapbox\"}],\"scatterpolar\":[{\"marker\":{\"colorbar\":{\"outlinewidth\":0,\"ticks\":\"\"}},\"type\":\"scatterpolar\"}],\"scatterpolargl\":[{\"marker\":{\"colorbar\":{\"outlinewidth\":0,\"ticks\":\"\"}},\"type\":\"scatterpolargl\"}],\"scatterternary\":[{\"marker\":{\"colorbar\":{\"outlinewidth\":0,\"ticks\":\"\"}},\"type\":\"scatterternary\"}],\"surface\":[{\"colorbar\":{\"outlinewidth\":0,\"ticks\":\"\"},\"colorscale\":[[0.0,\"#0d0887\"],[0.1111111111111111,\"#46039f\"],[0.2222222222222222,\"#7201a8\"],[0.3333333333333333,\"#9c179e\"],[0.4444444444444444,\"#bd3786\"],[0.5555555555555556,\"#d8576b\"],[0.6666666666666666,\"#ed7953\"],[0.7777777777777778,\"#fb9f3a\"],[0.8888888888888888,\"#fdca26\"],[1.0,\"#f0f921\"]],\"type\":\"surface\"}],\"table\":[{\"cells\":{\"fill\":{\"color\":\"#EBF0F8\"},\"line\":{\"color\":\"white\"}},\"header\":{\"fill\":{\"color\":\"#C8D4E3\"},\"line\":{\"color\":\"white\"}},\"type\":\"table\"}]},\"layout\":{\"annotationdefaults\":{\"arrowcolor\":\"#2a3f5f\",\"arrowhead\":0,\"arrowwidth\":1},\"autotypenumbers\":\"strict\",\"coloraxis\":{\"colorbar\":{\"outlinewidth\":0,\"ticks\":\"\"}},\"colorscale\":{\"diverging\":[[0,\"#8e0152\"],[0.1,\"#c51b7d\"],[0.2,\"#de77ae\"],[0.3,\"#f1b6da\"],[0.4,\"#fde0ef\"],[0.5,\"#f7f7f7\"],[0.6,\"#e6f5d0\"],[0.7,\"#b8e186\"],[0.8,\"#7fbc41\"],[0.9,\"#4d9221\"],[1,\"#276419\"]],\"sequential\":[[0.0,\"#0d0887\"],[0.1111111111111111,\"#46039f\"],[0.2222222222222222,\"#7201a8\"],[0.3333333333333333,\"#9c179e\"],[0.4444444444444444,\"#bd3786\"],[0.5555555555555556,\"#d8576b\"],[0.6666666666666666,\"#ed7953\"],[0.7777777777777778,\"#fb9f3a\"],[0.8888888888888888,\"#fdca26\"],[1.0,\"#f0f921\"]],\"sequentialminus\":[[0.0,\"#0d0887\"],[0.1111111111111111,\"#46039f\"],[0.2222222222222222,\"#7201a8\"],[0.3333333333333333,\"#9c179e\"],[0.4444444444444444,\"#bd3786\"],[0.5555555555555556,\"#d8576b\"],[0.6666666666666666,\"#ed7953\"],[0.7777777777777778,\"#fb9f3a\"],[0.8888888888888888,\"#fdca26\"],[1.0,\"#f0f921\"]]},\"colorway\":[\"#636efa\",\"#EF553B\",\"#00cc96\",\"#ab63fa\",\"#FFA15A\",\"#19d3f3\",\"#FF6692\",\"#B6E880\",\"#FF97FF\",\"#FECB52\"],\"font\":{\"color\":\"#2a3f5f\"},\"geo\":{\"bgcolor\":\"white\",\"lakecolor\":\"white\",\"landcolor\":\"#E5ECF6\",\"showlakes\":true,\"showland\":true,\"subunitcolor\":\"white\"},\"hoverlabel\":{\"align\":\"left\"},\"hovermode\":\"closest\",\"mapbox\":{\"style\":\"light\"},\"paper_bgcolor\":\"white\",\"plot_bgcolor\":\"#E5ECF6\",\"polar\":{\"angularaxis\":{\"gridcolor\":\"white\",\"linecolor\":\"white\",\"ticks\":\"\"},\"bgcolor\":\"#E5ECF6\",\"radialaxis\":{\"gridcolor\":\"white\",\"linecolor\":\"white\",\"ticks\":\"\"}},\"scene\":{\"xaxis\":{\"backgroundcolor\":\"#E5ECF6\",\"gridcolor\":\"white\",\"gridwidth\":2,\"linecolor\":\"white\",\"showbackground\":true,\"ticks\":\"\",\"zerolinecolor\":\"white\"},\"yaxis\":{\"backgroundcolor\":\"#E5ECF6\",\"gridcolor\":\"white\",\"gridwidth\":2,\"linecolor\":\"white\",\"showbackground\":true,\"ticks\":\"\",\"zerolinecolor\":\"white\"},\"zaxis\":{\"backgroundcolor\":\"#E5ECF6\",\"gridcolor\":\"white\",\"gridwidth\":2,\"linecolor\":\"white\",\"showbackground\":true,\"ticks\":\"\",\"zerolinecolor\":\"white\"}},\"shapedefaults\":{\"line\":{\"color\":\"#2a3f5f\"}},\"ternary\":{\"aaxis\":{\"gridcolor\":\"white\",\"linecolor\":\"white\",\"ticks\":\"\"},\"baxis\":{\"gridcolor\":\"white\",\"linecolor\":\"white\",\"ticks\":\"\"},\"bgcolor\":\"#E5ECF6\",\"caxis\":{\"gridcolor\":\"white\",\"linecolor\":\"white\",\"ticks\":\"\"}},\"title\":{\"x\":0.05},\"xaxis\":{\"automargin\":true,\"gridcolor\":\"white\",\"linecolor\":\"white\",\"ticks\":\"\",\"title\":{\"standoff\":15},\"zerolinecolor\":\"white\",\"zerolinewidth\":2},\"yaxis\":{\"automargin\":true,\"gridcolor\":\"white\",\"linecolor\":\"white\",\"ticks\":\"\",\"title\":{\"standoff\":15},\"zerolinecolor\":\"white\",\"zerolinewidth\":2}}},\"title\":{\"text\":\"Cancelled and Paying follow Session Count \"},\"xaxis\":{\"anchor\":\"y\",\"domain\":[0.0,1.0],\"title\":{\"text\":\"Session Count\"}},\"yaxis\":{\"anchor\":\"x\",\"domain\":[0.0,1.0],\"title\":{\"text\":\"Total Charges\"}}},                        {\"responsive\": true}                    ).then(function(){\n",
       "                            \n",
       "var gd = document.getElementById('4f198281-b3a9-4760-bd64-a3094c6b7321');\n",
       "var x = new MutationObserver(function (mutations, observer) {{\n",
       "        var display = window.getComputedStyle(gd).display;\n",
       "        if (!display || display === 'none') {{\n",
       "            console.log([gd, 'removed!']);\n",
       "            Plotly.purge(gd);\n",
       "            observer.disconnect();\n",
       "        }}\n",
       "}});\n",
       "\n",
       "// Listen for the removal of the full notebook cells\n",
       "var notebookContainer = gd.closest('#notebook-container');\n",
       "if (notebookContainer) {{\n",
       "    x.observe(notebookContainer, {childList: true});\n",
       "}}\n",
       "\n",
       "// Listen for the clearing of the current output cell\n",
       "var outputEl = gd.closest('.output');\n",
       "if (outputEl) {{\n",
       "    x.observe(outputEl, {childList: true});\n",
       "}}\n",
       "\n",
       "                        })                };                });            </script>        </div>"
      ]
     },
     "metadata": {},
     "output_type": "display_data"
    }
   ],
   "source": [
    "import plotly.express as px\n",
    "fig = px.scatter(df, x=\"Session Count\", y=\"Total Charges\",color='Account Status',\n",
    "                  hover_data=['Account Status'],size='Total Charges')\n",
    "                  \n",
    "fig.update_layout(title_text='Cancelled and Paying follow Session Count ')\n",
    "fig.show()"
   ]
  },
  {
   "cell_type": "markdown",
   "metadata": {},
   "source": [
    "Hầu hết các khách hàng cancelled thường ít đăng nhập vào hệ thống thường sẽ ít hơn 267 lần đăng nhập."
   ]
  },
  {
   "cell_type": "code",
   "execution_count": 124,
   "metadata": {},
   "outputs": [],
   "source": [
    "df_time_version=df.groupby(['Year_month','Upgraded Time','Account Status'])['Customer ID'].nunique().to_frame()\n",
    "\n"
   ]
  },
  {
   "cell_type": "code",
   "execution_count": 201,
   "metadata": {},
   "outputs": [
    {
     "data": {
      "text/html": [
       "<div>\n",
       "<style scoped>\n",
       "    .dataframe tbody tr th:only-of-type {\n",
       "        vertical-align: middle;\n",
       "    }\n",
       "\n",
       "    .dataframe tbody tr th {\n",
       "        vertical-align: top;\n",
       "    }\n",
       "\n",
       "    .dataframe thead th {\n",
       "        text-align: right;\n",
       "    }\n",
       "</style>\n",
       "<table border=\"1\" class=\"dataframe\">\n",
       "  <thead>\n",
       "    <tr style=\"text-align: right;\">\n",
       "      <th></th>\n",
       "      <th>Year_month</th>\n",
       "      <th>Upgraded Time</th>\n",
       "      <th>Account Status</th>\n",
       "      <th>Customer ID</th>\n",
       "    </tr>\n",
       "  </thead>\n",
       "  <tbody>\n",
       "    <tr>\n",
       "      <th>0</th>\n",
       "      <td>2017-01</td>\n",
       "      <td>V1 Released</td>\n",
       "      <td>paying</td>\n",
       "      <td>1</td>\n",
       "    </tr>\n",
       "    <tr>\n",
       "      <th>1</th>\n",
       "      <td>2017-02</td>\n",
       "      <td>V1 Released</td>\n",
       "      <td>paying</td>\n",
       "      <td>1</td>\n",
       "    </tr>\n",
       "    <tr>\n",
       "      <th>2</th>\n",
       "      <td>2017-03</td>\n",
       "      <td>V1 Released</td>\n",
       "      <td>paying</td>\n",
       "      <td>2</td>\n",
       "    </tr>\n",
       "    <tr>\n",
       "      <th>3</th>\n",
       "      <td>2017-05</td>\n",
       "      <td>V1 Released</td>\n",
       "      <td>cancelled</td>\n",
       "      <td>1</td>\n",
       "    </tr>\n",
       "    <tr>\n",
       "      <th>4</th>\n",
       "      <td>2017-05</td>\n",
       "      <td>V1 Released</td>\n",
       "      <td>paying</td>\n",
       "      <td>4</td>\n",
       "    </tr>\n",
       "    <tr>\n",
       "      <th>5</th>\n",
       "      <td>2017-06</td>\n",
       "      <td>V1 Released</td>\n",
       "      <td>paying</td>\n",
       "      <td>4</td>\n",
       "    </tr>\n",
       "    <tr>\n",
       "      <th>6</th>\n",
       "      <td>2017-07</td>\n",
       "      <td>V2 Released</td>\n",
       "      <td>paying</td>\n",
       "      <td>5</td>\n",
       "    </tr>\n",
       "    <tr>\n",
       "      <th>7</th>\n",
       "      <td>2017-08</td>\n",
       "      <td>V2 Released</td>\n",
       "      <td>cancelled</td>\n",
       "      <td>1</td>\n",
       "    </tr>\n",
       "    <tr>\n",
       "      <th>8</th>\n",
       "      <td>2017-08</td>\n",
       "      <td>V2 Released</td>\n",
       "      <td>paying</td>\n",
       "      <td>1</td>\n",
       "    </tr>\n",
       "    <tr>\n",
       "      <th>9</th>\n",
       "      <td>2017-09</td>\n",
       "      <td>V2 Released</td>\n",
       "      <td>paying</td>\n",
       "      <td>2</td>\n",
       "    </tr>\n",
       "    <tr>\n",
       "      <th>10</th>\n",
       "      <td>2017-10</td>\n",
       "      <td>V2 Released</td>\n",
       "      <td>cancelled</td>\n",
       "      <td>5</td>\n",
       "    </tr>\n",
       "    <tr>\n",
       "      <th>11</th>\n",
       "      <td>2017-10</td>\n",
       "      <td>V2 Released</td>\n",
       "      <td>paying</td>\n",
       "      <td>8</td>\n",
       "    </tr>\n",
       "    <tr>\n",
       "      <th>12</th>\n",
       "      <td>2017-11</td>\n",
       "      <td>V2 Released</td>\n",
       "      <td>cancelled</td>\n",
       "      <td>2</td>\n",
       "    </tr>\n",
       "    <tr>\n",
       "      <th>13</th>\n",
       "      <td>2017-11</td>\n",
       "      <td>V2 Released</td>\n",
       "      <td>paying</td>\n",
       "      <td>4</td>\n",
       "    </tr>\n",
       "    <tr>\n",
       "      <th>14</th>\n",
       "      <td>2017-12</td>\n",
       "      <td>V2 Released</td>\n",
       "      <td>cancelled</td>\n",
       "      <td>8</td>\n",
       "    </tr>\n",
       "    <tr>\n",
       "      <th>15</th>\n",
       "      <td>2017-12</td>\n",
       "      <td>V2 Released</td>\n",
       "      <td>paying</td>\n",
       "      <td>15</td>\n",
       "    </tr>\n",
       "    <tr>\n",
       "      <th>16</th>\n",
       "      <td>2018-01</td>\n",
       "      <td>V2 Released</td>\n",
       "      <td>cancelled</td>\n",
       "      <td>7</td>\n",
       "    </tr>\n",
       "    <tr>\n",
       "      <th>17</th>\n",
       "      <td>2018-01</td>\n",
       "      <td>V2 Released</td>\n",
       "      <td>paying</td>\n",
       "      <td>11</td>\n",
       "    </tr>\n",
       "    <tr>\n",
       "      <th>18</th>\n",
       "      <td>2018-02</td>\n",
       "      <td>V2 Released</td>\n",
       "      <td>cancelled</td>\n",
       "      <td>6</td>\n",
       "    </tr>\n",
       "    <tr>\n",
       "      <th>19</th>\n",
       "      <td>2018-02</td>\n",
       "      <td>V2 Released</td>\n",
       "      <td>paying</td>\n",
       "      <td>12</td>\n",
       "    </tr>\n",
       "    <tr>\n",
       "      <th>20</th>\n",
       "      <td>2018-03</td>\n",
       "      <td>V2 Released</td>\n",
       "      <td>cancelled</td>\n",
       "      <td>7</td>\n",
       "    </tr>\n",
       "    <tr>\n",
       "      <th>21</th>\n",
       "      <td>2018-03</td>\n",
       "      <td>V2 Released</td>\n",
       "      <td>paying</td>\n",
       "      <td>17</td>\n",
       "    </tr>\n",
       "    <tr>\n",
       "      <th>22</th>\n",
       "      <td>2018-04</td>\n",
       "      <td>V2 Released</td>\n",
       "      <td>cancelled</td>\n",
       "      <td>1</td>\n",
       "    </tr>\n",
       "    <tr>\n",
       "      <th>23</th>\n",
       "      <td>2018-04</td>\n",
       "      <td>V2 Released</td>\n",
       "      <td>paying</td>\n",
       "      <td>17</td>\n",
       "    </tr>\n",
       "    <tr>\n",
       "      <th>24</th>\n",
       "      <td>2018-05</td>\n",
       "      <td>V2 Released</td>\n",
       "      <td>cancelled</td>\n",
       "      <td>2</td>\n",
       "    </tr>\n",
       "    <tr>\n",
       "      <th>25</th>\n",
       "      <td>2018-05</td>\n",
       "      <td>V2 Released</td>\n",
       "      <td>paying</td>\n",
       "      <td>10</td>\n",
       "    </tr>\n",
       "    <tr>\n",
       "      <th>26</th>\n",
       "      <td>2018-06</td>\n",
       "      <td>V2 Released</td>\n",
       "      <td>cancelled</td>\n",
       "      <td>7</td>\n",
       "    </tr>\n",
       "    <tr>\n",
       "      <th>27</th>\n",
       "      <td>2018-06</td>\n",
       "      <td>V2 Released</td>\n",
       "      <td>paying</td>\n",
       "      <td>25</td>\n",
       "    </tr>\n",
       "    <tr>\n",
       "      <th>28</th>\n",
       "      <td>2018-07</td>\n",
       "      <td>V2 Released</td>\n",
       "      <td>cancelled</td>\n",
       "      <td>11</td>\n",
       "    </tr>\n",
       "    <tr>\n",
       "      <th>29</th>\n",
       "      <td>2018-07</td>\n",
       "      <td>V2 Released</td>\n",
       "      <td>paying</td>\n",
       "      <td>22</td>\n",
       "    </tr>\n",
       "    <tr>\n",
       "      <th>30</th>\n",
       "      <td>2018-08</td>\n",
       "      <td>V2 Released</td>\n",
       "      <td>cancelled</td>\n",
       "      <td>5</td>\n",
       "    </tr>\n",
       "    <tr>\n",
       "      <th>31</th>\n",
       "      <td>2018-08</td>\n",
       "      <td>V2 Released</td>\n",
       "      <td>paying</td>\n",
       "      <td>28</td>\n",
       "    </tr>\n",
       "    <tr>\n",
       "      <th>32</th>\n",
       "      <td>2018-09</td>\n",
       "      <td>V2 Released</td>\n",
       "      <td>cancelled</td>\n",
       "      <td>13</td>\n",
       "    </tr>\n",
       "    <tr>\n",
       "      <th>33</th>\n",
       "      <td>2018-09</td>\n",
       "      <td>V2 Released</td>\n",
       "      <td>paying</td>\n",
       "      <td>53</td>\n",
       "    </tr>\n",
       "    <tr>\n",
       "      <th>34</th>\n",
       "      <td>2018-10</td>\n",
       "      <td>V2 Released</td>\n",
       "      <td>cancelled</td>\n",
       "      <td>17</td>\n",
       "    </tr>\n",
       "    <tr>\n",
       "      <th>35</th>\n",
       "      <td>2018-10</td>\n",
       "      <td>V2 Released</td>\n",
       "      <td>paying</td>\n",
       "      <td>38</td>\n",
       "    </tr>\n",
       "    <tr>\n",
       "      <th>36</th>\n",
       "      <td>2018-11</td>\n",
       "      <td>V2 Released</td>\n",
       "      <td>cancelled</td>\n",
       "      <td>9</td>\n",
       "    </tr>\n",
       "    <tr>\n",
       "      <th>37</th>\n",
       "      <td>2018-11</td>\n",
       "      <td>V2 Released</td>\n",
       "      <td>paying</td>\n",
       "      <td>18</td>\n",
       "    </tr>\n",
       "    <tr>\n",
       "      <th>38</th>\n",
       "      <td>2018-11</td>\n",
       "      <td>V3 Released</td>\n",
       "      <td>cancelled</td>\n",
       "      <td>2</td>\n",
       "    </tr>\n",
       "    <tr>\n",
       "      <th>39</th>\n",
       "      <td>2018-11</td>\n",
       "      <td>V3 Released</td>\n",
       "      <td>paying</td>\n",
       "      <td>30</td>\n",
       "    </tr>\n",
       "    <tr>\n",
       "      <th>40</th>\n",
       "      <td>2018-12</td>\n",
       "      <td>V3 Released</td>\n",
       "      <td>cancelled</td>\n",
       "      <td>13</td>\n",
       "    </tr>\n",
       "    <tr>\n",
       "      <th>41</th>\n",
       "      <td>2018-12</td>\n",
       "      <td>V3 Released</td>\n",
       "      <td>paying</td>\n",
       "      <td>98</td>\n",
       "    </tr>\n",
       "    <tr>\n",
       "      <th>42</th>\n",
       "      <td>2019-01</td>\n",
       "      <td>V3 Released</td>\n",
       "      <td>cancelled</td>\n",
       "      <td>4</td>\n",
       "    </tr>\n",
       "    <tr>\n",
       "      <th>43</th>\n",
       "      <td>2019-01</td>\n",
       "      <td>V3 Released</td>\n",
       "      <td>paying</td>\n",
       "      <td>83</td>\n",
       "    </tr>\n",
       "    <tr>\n",
       "      <th>44</th>\n",
       "      <td>2019-02</td>\n",
       "      <td>V3 Released</td>\n",
       "      <td>cancelled</td>\n",
       "      <td>1</td>\n",
       "    </tr>\n",
       "    <tr>\n",
       "      <th>45</th>\n",
       "      <td>2019-02</td>\n",
       "      <td>V3 Released</td>\n",
       "      <td>paying</td>\n",
       "      <td>94</td>\n",
       "    </tr>\n",
       "    <tr>\n",
       "      <th>46</th>\n",
       "      <td>2019-03</td>\n",
       "      <td>V3 Released</td>\n",
       "      <td>cancelled</td>\n",
       "      <td>1</td>\n",
       "    </tr>\n",
       "    <tr>\n",
       "      <th>47</th>\n",
       "      <td>2019-03</td>\n",
       "      <td>V3 Released</td>\n",
       "      <td>paying</td>\n",
       "      <td>128</td>\n",
       "    </tr>\n",
       "    <tr>\n",
       "      <th>48</th>\n",
       "      <td>2019-04</td>\n",
       "      <td>V3 Released</td>\n",
       "      <td>paying</td>\n",
       "      <td>148</td>\n",
       "    </tr>\n",
       "  </tbody>\n",
       "</table>\n",
       "</div>"
      ],
      "text/plain": [
       "   Year_month Upgraded Time Account Status  Customer ID\n",
       "0     2017-01   V1 Released         paying            1\n",
       "1     2017-02   V1 Released         paying            1\n",
       "2     2017-03   V1 Released         paying            2\n",
       "3     2017-05   V1 Released      cancelled            1\n",
       "4     2017-05   V1 Released         paying            4\n",
       "5     2017-06   V1 Released         paying            4\n",
       "6     2017-07   V2 Released         paying            5\n",
       "7     2017-08   V2 Released      cancelled            1\n",
       "8     2017-08   V2 Released         paying            1\n",
       "9     2017-09   V2 Released         paying            2\n",
       "10    2017-10   V2 Released      cancelled            5\n",
       "11    2017-10   V2 Released         paying            8\n",
       "12    2017-11   V2 Released      cancelled            2\n",
       "13    2017-11   V2 Released         paying            4\n",
       "14    2017-12   V2 Released      cancelled            8\n",
       "15    2017-12   V2 Released         paying           15\n",
       "16    2018-01   V2 Released      cancelled            7\n",
       "17    2018-01   V2 Released         paying           11\n",
       "18    2018-02   V2 Released      cancelled            6\n",
       "19    2018-02   V2 Released         paying           12\n",
       "20    2018-03   V2 Released      cancelled            7\n",
       "21    2018-03   V2 Released         paying           17\n",
       "22    2018-04   V2 Released      cancelled            1\n",
       "23    2018-04   V2 Released         paying           17\n",
       "24    2018-05   V2 Released      cancelled            2\n",
       "25    2018-05   V2 Released         paying           10\n",
       "26    2018-06   V2 Released      cancelled            7\n",
       "27    2018-06   V2 Released         paying           25\n",
       "28    2018-07   V2 Released      cancelled           11\n",
       "29    2018-07   V2 Released         paying           22\n",
       "30    2018-08   V2 Released      cancelled            5\n",
       "31    2018-08   V2 Released         paying           28\n",
       "32    2018-09   V2 Released      cancelled           13\n",
       "33    2018-09   V2 Released         paying           53\n",
       "34    2018-10   V2 Released      cancelled           17\n",
       "35    2018-10   V2 Released         paying           38\n",
       "36    2018-11   V2 Released      cancelled            9\n",
       "37    2018-11   V2 Released         paying           18\n",
       "38    2018-11   V3 Released      cancelled            2\n",
       "39    2018-11   V3 Released         paying           30\n",
       "40    2018-12   V3 Released      cancelled           13\n",
       "41    2018-12   V3 Released         paying           98\n",
       "42    2019-01   V3 Released      cancelled            4\n",
       "43    2019-01   V3 Released         paying           83\n",
       "44    2019-02   V3 Released      cancelled            1\n",
       "45    2019-02   V3 Released         paying           94\n",
       "46    2019-03   V3 Released      cancelled            1\n",
       "47    2019-03   V3 Released         paying          128\n",
       "48    2019-04   V3 Released         paying          148"
      ]
     },
     "execution_count": 201,
     "metadata": {},
     "output_type": "execute_result"
    }
   ],
   "source": [
    "df_time_version"
   ]
  },
  {
   "cell_type": "code",
   "execution_count": 263,
   "metadata": {},
   "outputs": [
    {
     "data": {
      "text/html": [
       "<div>\n",
       "<style scoped>\n",
       "    .dataframe tbody tr th:only-of-type {\n",
       "        vertical-align: middle;\n",
       "    }\n",
       "\n",
       "    .dataframe tbody tr th {\n",
       "        vertical-align: top;\n",
       "    }\n",
       "\n",
       "    .dataframe thead th {\n",
       "        text-align: right;\n",
       "    }\n",
       "</style>\n",
       "<table border=\"1\" class=\"dataframe\">\n",
       "  <thead>\n",
       "    <tr style=\"text-align: right;\">\n",
       "      <th></th>\n",
       "      <th>Upgraded Time</th>\n",
       "      <th>Account Status</th>\n",
       "      <th>Customer ID</th>\n",
       "    </tr>\n",
       "  </thead>\n",
       "  <tbody>\n",
       "    <tr>\n",
       "      <th>0</th>\n",
       "      <td>V1 Released</td>\n",
       "      <td>cancelled</td>\n",
       "      <td>1</td>\n",
       "    </tr>\n",
       "    <tr>\n",
       "      <th>1</th>\n",
       "      <td>V1 Released</td>\n",
       "      <td>paying</td>\n",
       "      <td>12</td>\n",
       "    </tr>\n",
       "    <tr>\n",
       "      <th>2</th>\n",
       "      <td>V2 Released</td>\n",
       "      <td>cancelled</td>\n",
       "      <td>101</td>\n",
       "    </tr>\n",
       "    <tr>\n",
       "      <th>3</th>\n",
       "      <td>V2 Released</td>\n",
       "      <td>paying</td>\n",
       "      <td>286</td>\n",
       "    </tr>\n",
       "    <tr>\n",
       "      <th>4</th>\n",
       "      <td>V3 Released</td>\n",
       "      <td>cancelled</td>\n",
       "      <td>21</td>\n",
       "    </tr>\n",
       "    <tr>\n",
       "      <th>5</th>\n",
       "      <td>V3 Released</td>\n",
       "      <td>paying</td>\n",
       "      <td>581</td>\n",
       "    </tr>\n",
       "  </tbody>\n",
       "</table>\n",
       "</div>"
      ],
      "text/plain": [
       "  Upgraded Time Account Status  Customer ID\n",
       "0   V1 Released      cancelled            1\n",
       "1   V1 Released         paying           12\n",
       "2   V2 Released      cancelled          101\n",
       "3   V2 Released         paying          286\n",
       "4   V3 Released      cancelled           21\n",
       "5   V3 Released         paying          581"
      ]
     },
     "execution_count": 263,
     "metadata": {},
     "output_type": "execute_result"
    }
   ],
   "source": [
    "data2=df_time_version.groupby(['Upgraded Time','Account Status'])['Customer ID'].sum().reset_index()\n",
    "data2"
   ]
  },
  {
   "cell_type": "code",
   "execution_count": 316,
   "metadata": {},
   "outputs": [
    {
     "data": {
      "application/vnd.plotly.v1+json": {
       "config": {
        "plotlyServerURL": "https://plot.ly"
       },
       "data": [
        {
         "marker": {
          "color": "crimson"
         },
         "name": "cancelled",
         "type": "bar",
         "x": [
          "V1 Released",
          "V2 Released",
          "V3 Released"
         ],
         "y": [
          1,
          101,
          21
         ]
        },
        {
         "marker": {
          "color": "green"
         },
         "name": "paying",
         "type": "bar",
         "x": [
          "V1 Released",
          "V2 Released",
          "V3 Released"
         ],
         "y": [
          12,
          286,
          581
         ]
        }
       ],
       "layout": {
        "barmode": "group",
        "template": {
         "data": {
          "bar": [
           {
            "error_x": {
             "color": "#2a3f5f"
            },
            "error_y": {
             "color": "#2a3f5f"
            },
            "marker": {
             "line": {
              "color": "#E5ECF6",
              "width": 0.5
             },
             "pattern": {
              "fillmode": "overlay",
              "size": 10,
              "solidity": 0.2
             }
            },
            "type": "bar"
           }
          ],
          "barpolar": [
           {
            "marker": {
             "line": {
              "color": "#E5ECF6",
              "width": 0.5
             },
             "pattern": {
              "fillmode": "overlay",
              "size": 10,
              "solidity": 0.2
             }
            },
            "type": "barpolar"
           }
          ],
          "carpet": [
           {
            "aaxis": {
             "endlinecolor": "#2a3f5f",
             "gridcolor": "white",
             "linecolor": "white",
             "minorgridcolor": "white",
             "startlinecolor": "#2a3f5f"
            },
            "baxis": {
             "endlinecolor": "#2a3f5f",
             "gridcolor": "white",
             "linecolor": "white",
             "minorgridcolor": "white",
             "startlinecolor": "#2a3f5f"
            },
            "type": "carpet"
           }
          ],
          "choropleth": [
           {
            "colorbar": {
             "outlinewidth": 0,
             "ticks": ""
            },
            "type": "choropleth"
           }
          ],
          "contour": [
           {
            "colorbar": {
             "outlinewidth": 0,
             "ticks": ""
            },
            "colorscale": [
             [
              0,
              "#0d0887"
             ],
             [
              0.1111111111111111,
              "#46039f"
             ],
             [
              0.2222222222222222,
              "#7201a8"
             ],
             [
              0.3333333333333333,
              "#9c179e"
             ],
             [
              0.4444444444444444,
              "#bd3786"
             ],
             [
              0.5555555555555556,
              "#d8576b"
             ],
             [
              0.6666666666666666,
              "#ed7953"
             ],
             [
              0.7777777777777778,
              "#fb9f3a"
             ],
             [
              0.8888888888888888,
              "#fdca26"
             ],
             [
              1,
              "#f0f921"
             ]
            ],
            "type": "contour"
           }
          ],
          "contourcarpet": [
           {
            "colorbar": {
             "outlinewidth": 0,
             "ticks": ""
            },
            "type": "contourcarpet"
           }
          ],
          "heatmap": [
           {
            "colorbar": {
             "outlinewidth": 0,
             "ticks": ""
            },
            "colorscale": [
             [
              0,
              "#0d0887"
             ],
             [
              0.1111111111111111,
              "#46039f"
             ],
             [
              0.2222222222222222,
              "#7201a8"
             ],
             [
              0.3333333333333333,
              "#9c179e"
             ],
             [
              0.4444444444444444,
              "#bd3786"
             ],
             [
              0.5555555555555556,
              "#d8576b"
             ],
             [
              0.6666666666666666,
              "#ed7953"
             ],
             [
              0.7777777777777778,
              "#fb9f3a"
             ],
             [
              0.8888888888888888,
              "#fdca26"
             ],
             [
              1,
              "#f0f921"
             ]
            ],
            "type": "heatmap"
           }
          ],
          "heatmapgl": [
           {
            "colorbar": {
             "outlinewidth": 0,
             "ticks": ""
            },
            "colorscale": [
             [
              0,
              "#0d0887"
             ],
             [
              0.1111111111111111,
              "#46039f"
             ],
             [
              0.2222222222222222,
              "#7201a8"
             ],
             [
              0.3333333333333333,
              "#9c179e"
             ],
             [
              0.4444444444444444,
              "#bd3786"
             ],
             [
              0.5555555555555556,
              "#d8576b"
             ],
             [
              0.6666666666666666,
              "#ed7953"
             ],
             [
              0.7777777777777778,
              "#fb9f3a"
             ],
             [
              0.8888888888888888,
              "#fdca26"
             ],
             [
              1,
              "#f0f921"
             ]
            ],
            "type": "heatmapgl"
           }
          ],
          "histogram": [
           {
            "marker": {
             "pattern": {
              "fillmode": "overlay",
              "size": 10,
              "solidity": 0.2
             }
            },
            "type": "histogram"
           }
          ],
          "histogram2d": [
           {
            "colorbar": {
             "outlinewidth": 0,
             "ticks": ""
            },
            "colorscale": [
             [
              0,
              "#0d0887"
             ],
             [
              0.1111111111111111,
              "#46039f"
             ],
             [
              0.2222222222222222,
              "#7201a8"
             ],
             [
              0.3333333333333333,
              "#9c179e"
             ],
             [
              0.4444444444444444,
              "#bd3786"
             ],
             [
              0.5555555555555556,
              "#d8576b"
             ],
             [
              0.6666666666666666,
              "#ed7953"
             ],
             [
              0.7777777777777778,
              "#fb9f3a"
             ],
             [
              0.8888888888888888,
              "#fdca26"
             ],
             [
              1,
              "#f0f921"
             ]
            ],
            "type": "histogram2d"
           }
          ],
          "histogram2dcontour": [
           {
            "colorbar": {
             "outlinewidth": 0,
             "ticks": ""
            },
            "colorscale": [
             [
              0,
              "#0d0887"
             ],
             [
              0.1111111111111111,
              "#46039f"
             ],
             [
              0.2222222222222222,
              "#7201a8"
             ],
             [
              0.3333333333333333,
              "#9c179e"
             ],
             [
              0.4444444444444444,
              "#bd3786"
             ],
             [
              0.5555555555555556,
              "#d8576b"
             ],
             [
              0.6666666666666666,
              "#ed7953"
             ],
             [
              0.7777777777777778,
              "#fb9f3a"
             ],
             [
              0.8888888888888888,
              "#fdca26"
             ],
             [
              1,
              "#f0f921"
             ]
            ],
            "type": "histogram2dcontour"
           }
          ],
          "mesh3d": [
           {
            "colorbar": {
             "outlinewidth": 0,
             "ticks": ""
            },
            "type": "mesh3d"
           }
          ],
          "parcoords": [
           {
            "line": {
             "colorbar": {
              "outlinewidth": 0,
              "ticks": ""
             }
            },
            "type": "parcoords"
           }
          ],
          "pie": [
           {
            "automargin": true,
            "type": "pie"
           }
          ],
          "scatter": [
           {
            "marker": {
             "colorbar": {
              "outlinewidth": 0,
              "ticks": ""
             }
            },
            "type": "scatter"
           }
          ],
          "scatter3d": [
           {
            "line": {
             "colorbar": {
              "outlinewidth": 0,
              "ticks": ""
             }
            },
            "marker": {
             "colorbar": {
              "outlinewidth": 0,
              "ticks": ""
             }
            },
            "type": "scatter3d"
           }
          ],
          "scattercarpet": [
           {
            "marker": {
             "colorbar": {
              "outlinewidth": 0,
              "ticks": ""
             }
            },
            "type": "scattercarpet"
           }
          ],
          "scattergeo": [
           {
            "marker": {
             "colorbar": {
              "outlinewidth": 0,
              "ticks": ""
             }
            },
            "type": "scattergeo"
           }
          ],
          "scattergl": [
           {
            "marker": {
             "colorbar": {
              "outlinewidth": 0,
              "ticks": ""
             }
            },
            "type": "scattergl"
           }
          ],
          "scattermapbox": [
           {
            "marker": {
             "colorbar": {
              "outlinewidth": 0,
              "ticks": ""
             }
            },
            "type": "scattermapbox"
           }
          ],
          "scatterpolar": [
           {
            "marker": {
             "colorbar": {
              "outlinewidth": 0,
              "ticks": ""
             }
            },
            "type": "scatterpolar"
           }
          ],
          "scatterpolargl": [
           {
            "marker": {
             "colorbar": {
              "outlinewidth": 0,
              "ticks": ""
             }
            },
            "type": "scatterpolargl"
           }
          ],
          "scatterternary": [
           {
            "marker": {
             "colorbar": {
              "outlinewidth": 0,
              "ticks": ""
             }
            },
            "type": "scatterternary"
           }
          ],
          "surface": [
           {
            "colorbar": {
             "outlinewidth": 0,
             "ticks": ""
            },
            "colorscale": [
             [
              0,
              "#0d0887"
             ],
             [
              0.1111111111111111,
              "#46039f"
             ],
             [
              0.2222222222222222,
              "#7201a8"
             ],
             [
              0.3333333333333333,
              "#9c179e"
             ],
             [
              0.4444444444444444,
              "#bd3786"
             ],
             [
              0.5555555555555556,
              "#d8576b"
             ],
             [
              0.6666666666666666,
              "#ed7953"
             ],
             [
              0.7777777777777778,
              "#fb9f3a"
             ],
             [
              0.8888888888888888,
              "#fdca26"
             ],
             [
              1,
              "#f0f921"
             ]
            ],
            "type": "surface"
           }
          ],
          "table": [
           {
            "cells": {
             "fill": {
              "color": "#EBF0F8"
             },
             "line": {
              "color": "white"
             }
            },
            "header": {
             "fill": {
              "color": "#C8D4E3"
             },
             "line": {
              "color": "white"
             }
            },
            "type": "table"
           }
          ]
         },
         "layout": {
          "annotationdefaults": {
           "arrowcolor": "#2a3f5f",
           "arrowhead": 0,
           "arrowwidth": 1
          },
          "autotypenumbers": "strict",
          "coloraxis": {
           "colorbar": {
            "outlinewidth": 0,
            "ticks": ""
           }
          },
          "colorscale": {
           "diverging": [
            [
             0,
             "#8e0152"
            ],
            [
             0.1,
             "#c51b7d"
            ],
            [
             0.2,
             "#de77ae"
            ],
            [
             0.3,
             "#f1b6da"
            ],
            [
             0.4,
             "#fde0ef"
            ],
            [
             0.5,
             "#f7f7f7"
            ],
            [
             0.6,
             "#e6f5d0"
            ],
            [
             0.7,
             "#b8e186"
            ],
            [
             0.8,
             "#7fbc41"
            ],
            [
             0.9,
             "#4d9221"
            ],
            [
             1,
             "#276419"
            ]
           ],
           "sequential": [
            [
             0,
             "#0d0887"
            ],
            [
             0.1111111111111111,
             "#46039f"
            ],
            [
             0.2222222222222222,
             "#7201a8"
            ],
            [
             0.3333333333333333,
             "#9c179e"
            ],
            [
             0.4444444444444444,
             "#bd3786"
            ],
            [
             0.5555555555555556,
             "#d8576b"
            ],
            [
             0.6666666666666666,
             "#ed7953"
            ],
            [
             0.7777777777777778,
             "#fb9f3a"
            ],
            [
             0.8888888888888888,
             "#fdca26"
            ],
            [
             1,
             "#f0f921"
            ]
           ],
           "sequentialminus": [
            [
             0,
             "#0d0887"
            ],
            [
             0.1111111111111111,
             "#46039f"
            ],
            [
             0.2222222222222222,
             "#7201a8"
            ],
            [
             0.3333333333333333,
             "#9c179e"
            ],
            [
             0.4444444444444444,
             "#bd3786"
            ],
            [
             0.5555555555555556,
             "#d8576b"
            ],
            [
             0.6666666666666666,
             "#ed7953"
            ],
            [
             0.7777777777777778,
             "#fb9f3a"
            ],
            [
             0.8888888888888888,
             "#fdca26"
            ],
            [
             1,
             "#f0f921"
            ]
           ]
          },
          "colorway": [
           "#636efa",
           "#EF553B",
           "#00cc96",
           "#ab63fa",
           "#FFA15A",
           "#19d3f3",
           "#FF6692",
           "#B6E880",
           "#FF97FF",
           "#FECB52"
          ],
          "font": {
           "color": "#2a3f5f"
          },
          "geo": {
           "bgcolor": "white",
           "lakecolor": "white",
           "landcolor": "#E5ECF6",
           "showlakes": true,
           "showland": true,
           "subunitcolor": "white"
          },
          "hoverlabel": {
           "align": "left"
          },
          "hovermode": "closest",
          "mapbox": {
           "style": "light"
          },
          "paper_bgcolor": "white",
          "plot_bgcolor": "#E5ECF6",
          "polar": {
           "angularaxis": {
            "gridcolor": "white",
            "linecolor": "white",
            "ticks": ""
           },
           "bgcolor": "#E5ECF6",
           "radialaxis": {
            "gridcolor": "white",
            "linecolor": "white",
            "ticks": ""
           }
          },
          "scene": {
           "xaxis": {
            "backgroundcolor": "#E5ECF6",
            "gridcolor": "white",
            "gridwidth": 2,
            "linecolor": "white",
            "showbackground": true,
            "ticks": "",
            "zerolinecolor": "white"
           },
           "yaxis": {
            "backgroundcolor": "#E5ECF6",
            "gridcolor": "white",
            "gridwidth": 2,
            "linecolor": "white",
            "showbackground": true,
            "ticks": "",
            "zerolinecolor": "white"
           },
           "zaxis": {
            "backgroundcolor": "#E5ECF6",
            "gridcolor": "white",
            "gridwidth": 2,
            "linecolor": "white",
            "showbackground": true,
            "ticks": "",
            "zerolinecolor": "white"
           }
          },
          "shapedefaults": {
           "line": {
            "color": "#2a3f5f"
           }
          },
          "ternary": {
           "aaxis": {
            "gridcolor": "white",
            "linecolor": "white",
            "ticks": ""
           },
           "baxis": {
            "gridcolor": "white",
            "linecolor": "white",
            "ticks": ""
           },
           "bgcolor": "#E5ECF6",
           "caxis": {
            "gridcolor": "white",
            "linecolor": "white",
            "ticks": ""
           }
          },
          "title": {
           "x": 0.05
          },
          "xaxis": {
           "automargin": true,
           "gridcolor": "white",
           "linecolor": "white",
           "ticks": "",
           "title": {
            "standoff": 15
           },
           "zerolinecolor": "white",
           "zerolinewidth": 2
          },
          "yaxis": {
           "automargin": true,
           "gridcolor": "white",
           "linecolor": "white",
           "ticks": "",
           "title": {
            "standoff": 15
           },
           "zerolinecolor": "white",
           "zerolinewidth": 2
          }
         }
        },
        "title": {
         "text": "Total cancelled and paying in versions"
        },
        "xaxis": {
         "title": {
          "text": "Version"
         }
        },
        "yaxis": {
         "title": {
          "text": "Total customer"
         }
        }
       }
      }
     },
     "metadata": {},
     "output_type": "display_data"
    }
   ],
   "source": [
    "import plotly.graph_objects as go\n",
    "animals=data2['Upgraded Time'].unique()\n",
    "\n",
    "fig = go.Figure(data=[\n",
    "    go.Bar(name='cancelled', x=animals, y=data2.loc[data2['Account Status']=='cancelled','Customer ID'],marker_color='crimson'\n",
    "            ),\n",
    "    go.Bar(name='paying', x=animals, y=data2.loc[data2['Account Status']=='paying','Customer ID'],marker_color='green')])\n",
    "\n",
    "\n",
    "fig.update_layout(barmode='group')\n",
    "fig.update_layout(title_text='Total cancelled and paying in versions',xaxis_title=\"Version\",\n",
    "    yaxis_title=\"Total customer\")\n",
    "fig.show()"
   ]
  },
  {
   "cell_type": "markdown",
   "metadata": {},
   "source": [
    "Nhưng khách hàng sử dụng V2 Released có mức cancelled tăng khá cao tuy nhiên thì lượng khách hàng paying cũng tăng đáng kể. Dối với khách hàng V3 Released thì có vẻ ổn hơn lượng khách hàng cancelled giảm đáng kể và lượng khách hàng paying tăng cao có thể thấy V3 Released được khách hàng hài lòng và yêu thích."
   ]
  },
  {
   "cell_type": "code",
   "execution_count": 220,
   "metadata": {},
   "outputs": [
    {
     "data": {
      "text/html": [
       "<div>\n",
       "<style scoped>\n",
       "    .dataframe tbody tr th:only-of-type {\n",
       "        vertical-align: middle;\n",
       "    }\n",
       "\n",
       "    .dataframe tbody tr th {\n",
       "        vertical-align: top;\n",
       "    }\n",
       "\n",
       "    .dataframe thead th {\n",
       "        text-align: right;\n",
       "    }\n",
       "</style>\n",
       "<table border=\"1\" class=\"dataframe\">\n",
       "  <thead>\n",
       "    <tr style=\"text-align: right;\">\n",
       "      <th></th>\n",
       "      <th>Price change</th>\n",
       "      <th>Account Status</th>\n",
       "      <th>Customer ID</th>\n",
       "    </tr>\n",
       "  </thead>\n",
       "  <tbody>\n",
       "    <tr>\n",
       "      <th>0</th>\n",
       "      <td>No Price Change</td>\n",
       "      <td>cancelled</td>\n",
       "      <td>101</td>\n",
       "    </tr>\n",
       "    <tr>\n",
       "      <th>1</th>\n",
       "      <td>No Price Change</td>\n",
       "      <td>paying</td>\n",
       "      <td>304</td>\n",
       "    </tr>\n",
       "    <tr>\n",
       "      <th>2</th>\n",
       "      <td>Price Change</td>\n",
       "      <td>cancelled</td>\n",
       "      <td>22</td>\n",
       "    </tr>\n",
       "    <tr>\n",
       "      <th>3</th>\n",
       "      <td>Price Change</td>\n",
       "      <td>paying</td>\n",
       "      <td>587</td>\n",
       "    </tr>\n",
       "  </tbody>\n",
       "</table>\n",
       "</div>"
      ],
      "text/plain": [
       "      Price change Account Status  Customer ID\n",
       "0  No Price Change      cancelled          101\n",
       "1  No Price Change         paying          304\n",
       "2     Price Change      cancelled           22\n",
       "3     Price Change         paying          587"
      ]
     },
     "execution_count": 220,
     "metadata": {},
     "output_type": "execute_result"
    }
   ],
   "source": [
    "data1=df.groupby(['Price change','Account Status'])['Customer ID'].count().to_frame().reset_index()\n",
    "data1['Price change']=data1['Price change'].map({0:\"No Price Change\",1:\"Price Change\"})\n",
    "data1"
   ]
  },
  {
   "cell_type": "code",
   "execution_count": 317,
   "metadata": {},
   "outputs": [
    {
     "data": {
      "application/vnd.plotly.v1+json": {
       "config": {
        "plotlyServerURL": "https://plot.ly"
       },
       "data": [
        {
         "marker": {
          "color": "crimson"
         },
         "name": "cancelled",
         "type": "bar",
         "x": [
          "No Price Change",
          "Price Change"
         ],
         "y": [
          101,
          22
         ]
        },
        {
         "marker": {
          "color": "green"
         },
         "name": "paying",
         "type": "bar",
         "x": [
          "No Price Change",
          "Price Change"
         ],
         "y": [
          304,
          587
         ]
        }
       ],
       "layout": {
        "barmode": "group",
        "template": {
         "data": {
          "bar": [
           {
            "error_x": {
             "color": "#2a3f5f"
            },
            "error_y": {
             "color": "#2a3f5f"
            },
            "marker": {
             "line": {
              "color": "#E5ECF6",
              "width": 0.5
             },
             "pattern": {
              "fillmode": "overlay",
              "size": 10,
              "solidity": 0.2
             }
            },
            "type": "bar"
           }
          ],
          "barpolar": [
           {
            "marker": {
             "line": {
              "color": "#E5ECF6",
              "width": 0.5
             },
             "pattern": {
              "fillmode": "overlay",
              "size": 10,
              "solidity": 0.2
             }
            },
            "type": "barpolar"
           }
          ],
          "carpet": [
           {
            "aaxis": {
             "endlinecolor": "#2a3f5f",
             "gridcolor": "white",
             "linecolor": "white",
             "minorgridcolor": "white",
             "startlinecolor": "#2a3f5f"
            },
            "baxis": {
             "endlinecolor": "#2a3f5f",
             "gridcolor": "white",
             "linecolor": "white",
             "minorgridcolor": "white",
             "startlinecolor": "#2a3f5f"
            },
            "type": "carpet"
           }
          ],
          "choropleth": [
           {
            "colorbar": {
             "outlinewidth": 0,
             "ticks": ""
            },
            "type": "choropleth"
           }
          ],
          "contour": [
           {
            "colorbar": {
             "outlinewidth": 0,
             "ticks": ""
            },
            "colorscale": [
             [
              0,
              "#0d0887"
             ],
             [
              0.1111111111111111,
              "#46039f"
             ],
             [
              0.2222222222222222,
              "#7201a8"
             ],
             [
              0.3333333333333333,
              "#9c179e"
             ],
             [
              0.4444444444444444,
              "#bd3786"
             ],
             [
              0.5555555555555556,
              "#d8576b"
             ],
             [
              0.6666666666666666,
              "#ed7953"
             ],
             [
              0.7777777777777778,
              "#fb9f3a"
             ],
             [
              0.8888888888888888,
              "#fdca26"
             ],
             [
              1,
              "#f0f921"
             ]
            ],
            "type": "contour"
           }
          ],
          "contourcarpet": [
           {
            "colorbar": {
             "outlinewidth": 0,
             "ticks": ""
            },
            "type": "contourcarpet"
           }
          ],
          "heatmap": [
           {
            "colorbar": {
             "outlinewidth": 0,
             "ticks": ""
            },
            "colorscale": [
             [
              0,
              "#0d0887"
             ],
             [
              0.1111111111111111,
              "#46039f"
             ],
             [
              0.2222222222222222,
              "#7201a8"
             ],
             [
              0.3333333333333333,
              "#9c179e"
             ],
             [
              0.4444444444444444,
              "#bd3786"
             ],
             [
              0.5555555555555556,
              "#d8576b"
             ],
             [
              0.6666666666666666,
              "#ed7953"
             ],
             [
              0.7777777777777778,
              "#fb9f3a"
             ],
             [
              0.8888888888888888,
              "#fdca26"
             ],
             [
              1,
              "#f0f921"
             ]
            ],
            "type": "heatmap"
           }
          ],
          "heatmapgl": [
           {
            "colorbar": {
             "outlinewidth": 0,
             "ticks": ""
            },
            "colorscale": [
             [
              0,
              "#0d0887"
             ],
             [
              0.1111111111111111,
              "#46039f"
             ],
             [
              0.2222222222222222,
              "#7201a8"
             ],
             [
              0.3333333333333333,
              "#9c179e"
             ],
             [
              0.4444444444444444,
              "#bd3786"
             ],
             [
              0.5555555555555556,
              "#d8576b"
             ],
             [
              0.6666666666666666,
              "#ed7953"
             ],
             [
              0.7777777777777778,
              "#fb9f3a"
             ],
             [
              0.8888888888888888,
              "#fdca26"
             ],
             [
              1,
              "#f0f921"
             ]
            ],
            "type": "heatmapgl"
           }
          ],
          "histogram": [
           {
            "marker": {
             "pattern": {
              "fillmode": "overlay",
              "size": 10,
              "solidity": 0.2
             }
            },
            "type": "histogram"
           }
          ],
          "histogram2d": [
           {
            "colorbar": {
             "outlinewidth": 0,
             "ticks": ""
            },
            "colorscale": [
             [
              0,
              "#0d0887"
             ],
             [
              0.1111111111111111,
              "#46039f"
             ],
             [
              0.2222222222222222,
              "#7201a8"
             ],
             [
              0.3333333333333333,
              "#9c179e"
             ],
             [
              0.4444444444444444,
              "#bd3786"
             ],
             [
              0.5555555555555556,
              "#d8576b"
             ],
             [
              0.6666666666666666,
              "#ed7953"
             ],
             [
              0.7777777777777778,
              "#fb9f3a"
             ],
             [
              0.8888888888888888,
              "#fdca26"
             ],
             [
              1,
              "#f0f921"
             ]
            ],
            "type": "histogram2d"
           }
          ],
          "histogram2dcontour": [
           {
            "colorbar": {
             "outlinewidth": 0,
             "ticks": ""
            },
            "colorscale": [
             [
              0,
              "#0d0887"
             ],
             [
              0.1111111111111111,
              "#46039f"
             ],
             [
              0.2222222222222222,
              "#7201a8"
             ],
             [
              0.3333333333333333,
              "#9c179e"
             ],
             [
              0.4444444444444444,
              "#bd3786"
             ],
             [
              0.5555555555555556,
              "#d8576b"
             ],
             [
              0.6666666666666666,
              "#ed7953"
             ],
             [
              0.7777777777777778,
              "#fb9f3a"
             ],
             [
              0.8888888888888888,
              "#fdca26"
             ],
             [
              1,
              "#f0f921"
             ]
            ],
            "type": "histogram2dcontour"
           }
          ],
          "mesh3d": [
           {
            "colorbar": {
             "outlinewidth": 0,
             "ticks": ""
            },
            "type": "mesh3d"
           }
          ],
          "parcoords": [
           {
            "line": {
             "colorbar": {
              "outlinewidth": 0,
              "ticks": ""
             }
            },
            "type": "parcoords"
           }
          ],
          "pie": [
           {
            "automargin": true,
            "type": "pie"
           }
          ],
          "scatter": [
           {
            "marker": {
             "colorbar": {
              "outlinewidth": 0,
              "ticks": ""
             }
            },
            "type": "scatter"
           }
          ],
          "scatter3d": [
           {
            "line": {
             "colorbar": {
              "outlinewidth": 0,
              "ticks": ""
             }
            },
            "marker": {
             "colorbar": {
              "outlinewidth": 0,
              "ticks": ""
             }
            },
            "type": "scatter3d"
           }
          ],
          "scattercarpet": [
           {
            "marker": {
             "colorbar": {
              "outlinewidth": 0,
              "ticks": ""
             }
            },
            "type": "scattercarpet"
           }
          ],
          "scattergeo": [
           {
            "marker": {
             "colorbar": {
              "outlinewidth": 0,
              "ticks": ""
             }
            },
            "type": "scattergeo"
           }
          ],
          "scattergl": [
           {
            "marker": {
             "colorbar": {
              "outlinewidth": 0,
              "ticks": ""
             }
            },
            "type": "scattergl"
           }
          ],
          "scattermapbox": [
           {
            "marker": {
             "colorbar": {
              "outlinewidth": 0,
              "ticks": ""
             }
            },
            "type": "scattermapbox"
           }
          ],
          "scatterpolar": [
           {
            "marker": {
             "colorbar": {
              "outlinewidth": 0,
              "ticks": ""
             }
            },
            "type": "scatterpolar"
           }
          ],
          "scatterpolargl": [
           {
            "marker": {
             "colorbar": {
              "outlinewidth": 0,
              "ticks": ""
             }
            },
            "type": "scatterpolargl"
           }
          ],
          "scatterternary": [
           {
            "marker": {
             "colorbar": {
              "outlinewidth": 0,
              "ticks": ""
             }
            },
            "type": "scatterternary"
           }
          ],
          "surface": [
           {
            "colorbar": {
             "outlinewidth": 0,
             "ticks": ""
            },
            "colorscale": [
             [
              0,
              "#0d0887"
             ],
             [
              0.1111111111111111,
              "#46039f"
             ],
             [
              0.2222222222222222,
              "#7201a8"
             ],
             [
              0.3333333333333333,
              "#9c179e"
             ],
             [
              0.4444444444444444,
              "#bd3786"
             ],
             [
              0.5555555555555556,
              "#d8576b"
             ],
             [
              0.6666666666666666,
              "#ed7953"
             ],
             [
              0.7777777777777778,
              "#fb9f3a"
             ],
             [
              0.8888888888888888,
              "#fdca26"
             ],
             [
              1,
              "#f0f921"
             ]
            ],
            "type": "surface"
           }
          ],
          "table": [
           {
            "cells": {
             "fill": {
              "color": "#EBF0F8"
             },
             "line": {
              "color": "white"
             }
            },
            "header": {
             "fill": {
              "color": "#C8D4E3"
             },
             "line": {
              "color": "white"
             }
            },
            "type": "table"
           }
          ]
         },
         "layout": {
          "annotationdefaults": {
           "arrowcolor": "#2a3f5f",
           "arrowhead": 0,
           "arrowwidth": 1
          },
          "autotypenumbers": "strict",
          "coloraxis": {
           "colorbar": {
            "outlinewidth": 0,
            "ticks": ""
           }
          },
          "colorscale": {
           "diverging": [
            [
             0,
             "#8e0152"
            ],
            [
             0.1,
             "#c51b7d"
            ],
            [
             0.2,
             "#de77ae"
            ],
            [
             0.3,
             "#f1b6da"
            ],
            [
             0.4,
             "#fde0ef"
            ],
            [
             0.5,
             "#f7f7f7"
            ],
            [
             0.6,
             "#e6f5d0"
            ],
            [
             0.7,
             "#b8e186"
            ],
            [
             0.8,
             "#7fbc41"
            ],
            [
             0.9,
             "#4d9221"
            ],
            [
             1,
             "#276419"
            ]
           ],
           "sequential": [
            [
             0,
             "#0d0887"
            ],
            [
             0.1111111111111111,
             "#46039f"
            ],
            [
             0.2222222222222222,
             "#7201a8"
            ],
            [
             0.3333333333333333,
             "#9c179e"
            ],
            [
             0.4444444444444444,
             "#bd3786"
            ],
            [
             0.5555555555555556,
             "#d8576b"
            ],
            [
             0.6666666666666666,
             "#ed7953"
            ],
            [
             0.7777777777777778,
             "#fb9f3a"
            ],
            [
             0.8888888888888888,
             "#fdca26"
            ],
            [
             1,
             "#f0f921"
            ]
           ],
           "sequentialminus": [
            [
             0,
             "#0d0887"
            ],
            [
             0.1111111111111111,
             "#46039f"
            ],
            [
             0.2222222222222222,
             "#7201a8"
            ],
            [
             0.3333333333333333,
             "#9c179e"
            ],
            [
             0.4444444444444444,
             "#bd3786"
            ],
            [
             0.5555555555555556,
             "#d8576b"
            ],
            [
             0.6666666666666666,
             "#ed7953"
            ],
            [
             0.7777777777777778,
             "#fb9f3a"
            ],
            [
             0.8888888888888888,
             "#fdca26"
            ],
            [
             1,
             "#f0f921"
            ]
           ]
          },
          "colorway": [
           "#636efa",
           "#EF553B",
           "#00cc96",
           "#ab63fa",
           "#FFA15A",
           "#19d3f3",
           "#FF6692",
           "#B6E880",
           "#FF97FF",
           "#FECB52"
          ],
          "font": {
           "color": "#2a3f5f"
          },
          "geo": {
           "bgcolor": "white",
           "lakecolor": "white",
           "landcolor": "#E5ECF6",
           "showlakes": true,
           "showland": true,
           "subunitcolor": "white"
          },
          "hoverlabel": {
           "align": "left"
          },
          "hovermode": "closest",
          "mapbox": {
           "style": "light"
          },
          "paper_bgcolor": "white",
          "plot_bgcolor": "#E5ECF6",
          "polar": {
           "angularaxis": {
            "gridcolor": "white",
            "linecolor": "white",
            "ticks": ""
           },
           "bgcolor": "#E5ECF6",
           "radialaxis": {
            "gridcolor": "white",
            "linecolor": "white",
            "ticks": ""
           }
          },
          "scene": {
           "xaxis": {
            "backgroundcolor": "#E5ECF6",
            "gridcolor": "white",
            "gridwidth": 2,
            "linecolor": "white",
            "showbackground": true,
            "ticks": "",
            "zerolinecolor": "white"
           },
           "yaxis": {
            "backgroundcolor": "#E5ECF6",
            "gridcolor": "white",
            "gridwidth": 2,
            "linecolor": "white",
            "showbackground": true,
            "ticks": "",
            "zerolinecolor": "white"
           },
           "zaxis": {
            "backgroundcolor": "#E5ECF6",
            "gridcolor": "white",
            "gridwidth": 2,
            "linecolor": "white",
            "showbackground": true,
            "ticks": "",
            "zerolinecolor": "white"
           }
          },
          "shapedefaults": {
           "line": {
            "color": "#2a3f5f"
           }
          },
          "ternary": {
           "aaxis": {
            "gridcolor": "white",
            "linecolor": "white",
            "ticks": ""
           },
           "baxis": {
            "gridcolor": "white",
            "linecolor": "white",
            "ticks": ""
           },
           "bgcolor": "#E5ECF6",
           "caxis": {
            "gridcolor": "white",
            "linecolor": "white",
            "ticks": ""
           }
          },
          "title": {
           "x": 0.05
          },
          "xaxis": {
           "automargin": true,
           "gridcolor": "white",
           "linecolor": "white",
           "ticks": "",
           "title": {
            "standoff": 15
           },
           "zerolinecolor": "white",
           "zerolinewidth": 2
          },
          "yaxis": {
           "automargin": true,
           "gridcolor": "white",
           "linecolor": "white",
           "ticks": "",
           "title": {
            "standoff": 15
           },
           "zerolinecolor": "white",
           "zerolinewidth": 2
          }
         }
        },
        "title": {
         "text": "Paying and Cancelled after price changes"
        },
        "xaxis": {
         "title": {
          "text": "Price Changes"
         }
        },
        "yaxis": {
         "title": {
          "text": "Total customer"
         }
        }
       }
      }
     },
     "metadata": {},
     "output_type": "display_data"
    }
   ],
   "source": [
    "import plotly.graph_objects as go\n",
    "animals=data1['Price change'].unique()\n",
    "\n",
    "fig = go.Figure(data=[\n",
    "    go.Bar(name='cancelled', x=animals, y=data1.loc[data1['Account Status']=='cancelled','Customer ID'],marker_color='crimson'\n",
    "            ),\n",
    "    go.Bar(name='paying', x=animals, y=data1.loc[data1['Account Status']=='paying','Customer ID'],marker_color='green')])\n",
    "\n",
    "\n",
    "fig.update_layout(barmode='group')\n",
    "fig.update_layout(title_text='Paying and Cancelled after price changes',xaxis_title=\"Price Changes\",\n",
    "    yaxis_title=\"Total customer\")\n",
    "fig.show()"
   ]
  },
  {
   "cell_type": "markdown",
   "metadata": {},
   "source": [
    "Việc thay đổi giá có thể đã làm giảm lượng khách hàng cancelled và giúp tăng lượng khách hàng paying đáng kể. có thể lần thay đổi giá này đang giảm hơn so với lúc trước vì vậy số khách hàng cancelled giảm đi hẳn và số khách hàng paying tăng rất nhiều gần gấp đôi so với trước khi Price Changes\n"
   ]
  },
  {
   "cell_type": "code",
   "execution_count": 445,
   "metadata": {},
   "outputs": [
    {
     "data": {
      "text/html": [
       "<div>\n",
       "<style scoped>\n",
       "    .dataframe tbody tr th:only-of-type {\n",
       "        vertical-align: middle;\n",
       "    }\n",
       "\n",
       "    .dataframe tbody tr th {\n",
       "        vertical-align: top;\n",
       "    }\n",
       "\n",
       "    .dataframe thead th {\n",
       "        text-align: right;\n",
       "    }\n",
       "</style>\n",
       "<table border=\"1\" class=\"dataframe\">\n",
       "  <thead>\n",
       "    <tr style=\"text-align: right;\">\n",
       "      <th></th>\n",
       "      <th>Customer ID</th>\n",
       "      <th>Free Account Created Date</th>\n",
       "      <th>Last Seen</th>\n",
       "      <th>Session Count</th>\n",
       "      <th>Segment</th>\n",
       "      <th>First Name</th>\n",
       "      <th>Billing Account</th>\n",
       "      <th>Account Status</th>\n",
       "      <th>Upgraded Account Created Date</th>\n",
       "      <th>Upgraded Account Cancelled Date</th>\n",
       "      <th>Total Charges</th>\n",
       "      <th>Upgraded Time</th>\n",
       "      <th>Price change</th>\n",
       "      <th>Distance Upgraded from Create Free</th>\n",
       "    </tr>\n",
       "  </thead>\n",
       "  <tbody>\n",
       "    <tr>\n",
       "      <th>0</th>\n",
       "      <td>1</td>\n",
       "      <td>2017-05-29</td>\n",
       "      <td>2019-04-05 08:02:32</td>\n",
       "      <td>1379</td>\n",
       "      <td>Marketing Segment 2</td>\n",
       "      <td>Joshua</td>\n",
       "      <td>AX#93195</td>\n",
       "      <td>paying</td>\n",
       "      <td>2019-04-02</td>\n",
       "      <td>NaT</td>\n",
       "      <td>145.600000</td>\n",
       "      <td>V1 Released</td>\n",
       "      <td>0</td>\n",
       "      <td>673</td>\n",
       "    </tr>\n",
       "    <tr>\n",
       "      <th>1</th>\n",
       "      <td>2</td>\n",
       "      <td>2017-12-17</td>\n",
       "      <td>2019-04-27 13:23:56</td>\n",
       "      <td>531</td>\n",
       "      <td>Marketing Segment 1</td>\n",
       "      <td>Ka</td>\n",
       "      <td>AX#20438</td>\n",
       "      <td>paying</td>\n",
       "      <td>2018-11-11</td>\n",
       "      <td>NaT</td>\n",
       "      <td>728.000000</td>\n",
       "      <td>V2 Released</td>\n",
       "      <td>0</td>\n",
       "      <td>329</td>\n",
       "    </tr>\n",
       "    <tr>\n",
       "      <th>2</th>\n",
       "      <td>3</td>\n",
       "      <td>2017-01-30</td>\n",
       "      <td>2019-04-22 15:38:09</td>\n",
       "      <td>317</td>\n",
       "      <td>Marketing Segment 1</td>\n",
       "      <td>Clint</td>\n",
       "      <td>AX#60779</td>\n",
       "      <td>paying</td>\n",
       "      <td>2019-03-15</td>\n",
       "      <td>NaT</td>\n",
       "      <td>277.200000</td>\n",
       "      <td>V1 Released</td>\n",
       "      <td>0</td>\n",
       "      <td>774</td>\n",
       "    </tr>\n",
       "    <tr>\n",
       "      <th>3</th>\n",
       "      <td>4</td>\n",
       "      <td>2017-02-03</td>\n",
       "      <td>2019-04-23 16:30:46</td>\n",
       "      <td>349</td>\n",
       "      <td>Marketing Segment 1</td>\n",
       "      <td>Hong</td>\n",
       "      <td>AX#91209</td>\n",
       "      <td>paying</td>\n",
       "      <td>2019-03-24</td>\n",
       "      <td>NaT</td>\n",
       "      <td>292.833333</td>\n",
       "      <td>V1 Released</td>\n",
       "      <td>0</td>\n",
       "      <td>779</td>\n",
       "    </tr>\n",
       "    <tr>\n",
       "      <th>4</th>\n",
       "      <td>5</td>\n",
       "      <td>2017-03-18</td>\n",
       "      <td>2019-04-05 13:16:33</td>\n",
       "      <td>1158</td>\n",
       "      <td>Marketing Segment 2</td>\n",
       "      <td>Kate</td>\n",
       "      <td>AX#57000</td>\n",
       "      <td>paying</td>\n",
       "      <td>2018-10-12</td>\n",
       "      <td>NaT</td>\n",
       "      <td>462.000000</td>\n",
       "      <td>V1 Released</td>\n",
       "      <td>0</td>\n",
       "      <td>573</td>\n",
       "    </tr>\n",
       "  </tbody>\n",
       "</table>\n",
       "</div>"
      ],
      "text/plain": [
       "   Customer ID Free Account Created Date           Last Seen  Session Count  \\\n",
       "0            1                2017-05-29 2019-04-05 08:02:32           1379   \n",
       "1            2                2017-12-17 2019-04-27 13:23:56            531   \n",
       "2            3                2017-01-30 2019-04-22 15:38:09            317   \n",
       "3            4                2017-02-03 2019-04-23 16:30:46            349   \n",
       "4            5                2017-03-18 2019-04-05 13:16:33           1158   \n",
       "\n",
       "               Segment First Name Billing Account Account Status  \\\n",
       "0  Marketing Segment 2     Joshua        AX#93195         paying   \n",
       "1  Marketing Segment 1         Ka        AX#20438         paying   \n",
       "2  Marketing Segment 1      Clint        AX#60779         paying   \n",
       "3  Marketing Segment 1       Hong        AX#91209         paying   \n",
       "4  Marketing Segment 2       Kate        AX#57000         paying   \n",
       "\n",
       "  Upgraded Account Created Date Upgraded Account Cancelled Date  \\\n",
       "0                    2019-04-02                             NaT   \n",
       "1                    2018-11-11                             NaT   \n",
       "2                    2019-03-15                             NaT   \n",
       "3                    2019-03-24                             NaT   \n",
       "4                    2018-10-12                             NaT   \n",
       "\n",
       "   Total Charges Upgraded Time Price change  \\\n",
       "0     145.600000   V1 Released            0   \n",
       "1     728.000000   V2 Released            0   \n",
       "2     277.200000   V1 Released            0   \n",
       "3     292.833333   V1 Released            0   \n",
       "4     462.000000   V1 Released            0   \n",
       "\n",
       "   Distance Upgraded from Create Free  \n",
       "0                                 673  \n",
       "1                                 329  \n",
       "2                                 774  \n",
       "3                                 779  \n",
       "4                                 573  "
      ]
     },
     "execution_count": 445,
     "metadata": {},
     "output_type": "execute_result"
    }
   ],
   "source": [
    "df.head()"
   ]
  },
  {
   "cell_type": "code",
   "execution_count": 318,
   "metadata": {},
   "outputs": [
    {
     "data": {
      "application/vnd.plotly.v1+json": {
       "config": {
        "plotlyServerURL": "https://plot.ly"
       },
       "data": [
        {
         "type": "bar",
         "x": [
          "V1 Released",
          "V2 Released",
          "V3 Released"
         ],
         "y": [
          15852,
          240381,
          57686
         ]
        }
       ],
       "layout": {
        "template": {
         "data": {
          "bar": [
           {
            "error_x": {
             "color": "#2a3f5f"
            },
            "error_y": {
             "color": "#2a3f5f"
            },
            "marker": {
             "line": {
              "color": "#E5ECF6",
              "width": 0.5
             },
             "pattern": {
              "fillmode": "overlay",
              "size": 10,
              "solidity": 0.2
             }
            },
            "type": "bar"
           }
          ],
          "barpolar": [
           {
            "marker": {
             "line": {
              "color": "#E5ECF6",
              "width": 0.5
             },
             "pattern": {
              "fillmode": "overlay",
              "size": 10,
              "solidity": 0.2
             }
            },
            "type": "barpolar"
           }
          ],
          "carpet": [
           {
            "aaxis": {
             "endlinecolor": "#2a3f5f",
             "gridcolor": "white",
             "linecolor": "white",
             "minorgridcolor": "white",
             "startlinecolor": "#2a3f5f"
            },
            "baxis": {
             "endlinecolor": "#2a3f5f",
             "gridcolor": "white",
             "linecolor": "white",
             "minorgridcolor": "white",
             "startlinecolor": "#2a3f5f"
            },
            "type": "carpet"
           }
          ],
          "choropleth": [
           {
            "colorbar": {
             "outlinewidth": 0,
             "ticks": ""
            },
            "type": "choropleth"
           }
          ],
          "contour": [
           {
            "colorbar": {
             "outlinewidth": 0,
             "ticks": ""
            },
            "colorscale": [
             [
              0,
              "#0d0887"
             ],
             [
              0.1111111111111111,
              "#46039f"
             ],
             [
              0.2222222222222222,
              "#7201a8"
             ],
             [
              0.3333333333333333,
              "#9c179e"
             ],
             [
              0.4444444444444444,
              "#bd3786"
             ],
             [
              0.5555555555555556,
              "#d8576b"
             ],
             [
              0.6666666666666666,
              "#ed7953"
             ],
             [
              0.7777777777777778,
              "#fb9f3a"
             ],
             [
              0.8888888888888888,
              "#fdca26"
             ],
             [
              1,
              "#f0f921"
             ]
            ],
            "type": "contour"
           }
          ],
          "contourcarpet": [
           {
            "colorbar": {
             "outlinewidth": 0,
             "ticks": ""
            },
            "type": "contourcarpet"
           }
          ],
          "heatmap": [
           {
            "colorbar": {
             "outlinewidth": 0,
             "ticks": ""
            },
            "colorscale": [
             [
              0,
              "#0d0887"
             ],
             [
              0.1111111111111111,
              "#46039f"
             ],
             [
              0.2222222222222222,
              "#7201a8"
             ],
             [
              0.3333333333333333,
              "#9c179e"
             ],
             [
              0.4444444444444444,
              "#bd3786"
             ],
             [
              0.5555555555555556,
              "#d8576b"
             ],
             [
              0.6666666666666666,
              "#ed7953"
             ],
             [
              0.7777777777777778,
              "#fb9f3a"
             ],
             [
              0.8888888888888888,
              "#fdca26"
             ],
             [
              1,
              "#f0f921"
             ]
            ],
            "type": "heatmap"
           }
          ],
          "heatmapgl": [
           {
            "colorbar": {
             "outlinewidth": 0,
             "ticks": ""
            },
            "colorscale": [
             [
              0,
              "#0d0887"
             ],
             [
              0.1111111111111111,
              "#46039f"
             ],
             [
              0.2222222222222222,
              "#7201a8"
             ],
             [
              0.3333333333333333,
              "#9c179e"
             ],
             [
              0.4444444444444444,
              "#bd3786"
             ],
             [
              0.5555555555555556,
              "#d8576b"
             ],
             [
              0.6666666666666666,
              "#ed7953"
             ],
             [
              0.7777777777777778,
              "#fb9f3a"
             ],
             [
              0.8888888888888888,
              "#fdca26"
             ],
             [
              1,
              "#f0f921"
             ]
            ],
            "type": "heatmapgl"
           }
          ],
          "histogram": [
           {
            "marker": {
             "pattern": {
              "fillmode": "overlay",
              "size": 10,
              "solidity": 0.2
             }
            },
            "type": "histogram"
           }
          ],
          "histogram2d": [
           {
            "colorbar": {
             "outlinewidth": 0,
             "ticks": ""
            },
            "colorscale": [
             [
              0,
              "#0d0887"
             ],
             [
              0.1111111111111111,
              "#46039f"
             ],
             [
              0.2222222222222222,
              "#7201a8"
             ],
             [
              0.3333333333333333,
              "#9c179e"
             ],
             [
              0.4444444444444444,
              "#bd3786"
             ],
             [
              0.5555555555555556,
              "#d8576b"
             ],
             [
              0.6666666666666666,
              "#ed7953"
             ],
             [
              0.7777777777777778,
              "#fb9f3a"
             ],
             [
              0.8888888888888888,
              "#fdca26"
             ],
             [
              1,
              "#f0f921"
             ]
            ],
            "type": "histogram2d"
           }
          ],
          "histogram2dcontour": [
           {
            "colorbar": {
             "outlinewidth": 0,
             "ticks": ""
            },
            "colorscale": [
             [
              0,
              "#0d0887"
             ],
             [
              0.1111111111111111,
              "#46039f"
             ],
             [
              0.2222222222222222,
              "#7201a8"
             ],
             [
              0.3333333333333333,
              "#9c179e"
             ],
             [
              0.4444444444444444,
              "#bd3786"
             ],
             [
              0.5555555555555556,
              "#d8576b"
             ],
             [
              0.6666666666666666,
              "#ed7953"
             ],
             [
              0.7777777777777778,
              "#fb9f3a"
             ],
             [
              0.8888888888888888,
              "#fdca26"
             ],
             [
              1,
              "#f0f921"
             ]
            ],
            "type": "histogram2dcontour"
           }
          ],
          "mesh3d": [
           {
            "colorbar": {
             "outlinewidth": 0,
             "ticks": ""
            },
            "type": "mesh3d"
           }
          ],
          "parcoords": [
           {
            "line": {
             "colorbar": {
              "outlinewidth": 0,
              "ticks": ""
             }
            },
            "type": "parcoords"
           }
          ],
          "pie": [
           {
            "automargin": true,
            "type": "pie"
           }
          ],
          "scatter": [
           {
            "marker": {
             "colorbar": {
              "outlinewidth": 0,
              "ticks": ""
             }
            },
            "type": "scatter"
           }
          ],
          "scatter3d": [
           {
            "line": {
             "colorbar": {
              "outlinewidth": 0,
              "ticks": ""
             }
            },
            "marker": {
             "colorbar": {
              "outlinewidth": 0,
              "ticks": ""
             }
            },
            "type": "scatter3d"
           }
          ],
          "scattercarpet": [
           {
            "marker": {
             "colorbar": {
              "outlinewidth": 0,
              "ticks": ""
             }
            },
            "type": "scattercarpet"
           }
          ],
          "scattergeo": [
           {
            "marker": {
             "colorbar": {
              "outlinewidth": 0,
              "ticks": ""
             }
            },
            "type": "scattergeo"
           }
          ],
          "scattergl": [
           {
            "marker": {
             "colorbar": {
              "outlinewidth": 0,
              "ticks": ""
             }
            },
            "type": "scattergl"
           }
          ],
          "scattermapbox": [
           {
            "marker": {
             "colorbar": {
              "outlinewidth": 0,
              "ticks": ""
             }
            },
            "type": "scattermapbox"
           }
          ],
          "scatterpolar": [
           {
            "marker": {
             "colorbar": {
              "outlinewidth": 0,
              "ticks": ""
             }
            },
            "type": "scatterpolar"
           }
          ],
          "scatterpolargl": [
           {
            "marker": {
             "colorbar": {
              "outlinewidth": 0,
              "ticks": ""
             }
            },
            "type": "scatterpolargl"
           }
          ],
          "scatterternary": [
           {
            "marker": {
             "colorbar": {
              "outlinewidth": 0,
              "ticks": ""
             }
            },
            "type": "scatterternary"
           }
          ],
          "surface": [
           {
            "colorbar": {
             "outlinewidth": 0,
             "ticks": ""
            },
            "colorscale": [
             [
              0,
              "#0d0887"
             ],
             [
              0.1111111111111111,
              "#46039f"
             ],
             [
              0.2222222222222222,
              "#7201a8"
             ],
             [
              0.3333333333333333,
              "#9c179e"
             ],
             [
              0.4444444444444444,
              "#bd3786"
             ],
             [
              0.5555555555555556,
              "#d8576b"
             ],
             [
              0.6666666666666666,
              "#ed7953"
             ],
             [
              0.7777777777777778,
              "#fb9f3a"
             ],
             [
              0.8888888888888888,
              "#fdca26"
             ],
             [
              1,
              "#f0f921"
             ]
            ],
            "type": "surface"
           }
          ],
          "table": [
           {
            "cells": {
             "fill": {
              "color": "#EBF0F8"
             },
             "line": {
              "color": "white"
             }
            },
            "header": {
             "fill": {
              "color": "#C8D4E3"
             },
             "line": {
              "color": "white"
             }
            },
            "type": "table"
           }
          ]
         },
         "layout": {
          "annotationdefaults": {
           "arrowcolor": "#2a3f5f",
           "arrowhead": 0,
           "arrowwidth": 1
          },
          "autotypenumbers": "strict",
          "coloraxis": {
           "colorbar": {
            "outlinewidth": 0,
            "ticks": ""
           }
          },
          "colorscale": {
           "diverging": [
            [
             0,
             "#8e0152"
            ],
            [
             0.1,
             "#c51b7d"
            ],
            [
             0.2,
             "#de77ae"
            ],
            [
             0.3,
             "#f1b6da"
            ],
            [
             0.4,
             "#fde0ef"
            ],
            [
             0.5,
             "#f7f7f7"
            ],
            [
             0.6,
             "#e6f5d0"
            ],
            [
             0.7,
             "#b8e186"
            ],
            [
             0.8,
             "#7fbc41"
            ],
            [
             0.9,
             "#4d9221"
            ],
            [
             1,
             "#276419"
            ]
           ],
           "sequential": [
            [
             0,
             "#0d0887"
            ],
            [
             0.1111111111111111,
             "#46039f"
            ],
            [
             0.2222222222222222,
             "#7201a8"
            ],
            [
             0.3333333333333333,
             "#9c179e"
            ],
            [
             0.4444444444444444,
             "#bd3786"
            ],
            [
             0.5555555555555556,
             "#d8576b"
            ],
            [
             0.6666666666666666,
             "#ed7953"
            ],
            [
             0.7777777777777778,
             "#fb9f3a"
            ],
            [
             0.8888888888888888,
             "#fdca26"
            ],
            [
             1,
             "#f0f921"
            ]
           ],
           "sequentialminus": [
            [
             0,
             "#0d0887"
            ],
            [
             0.1111111111111111,
             "#46039f"
            ],
            [
             0.2222222222222222,
             "#7201a8"
            ],
            [
             0.3333333333333333,
             "#9c179e"
            ],
            [
             0.4444444444444444,
             "#bd3786"
            ],
            [
             0.5555555555555556,
             "#d8576b"
            ],
            [
             0.6666666666666666,
             "#ed7953"
            ],
            [
             0.7777777777777778,
             "#fb9f3a"
            ],
            [
             0.8888888888888888,
             "#fdca26"
            ],
            [
             1,
             "#f0f921"
            ]
           ]
          },
          "colorway": [
           "#636efa",
           "#EF553B",
           "#00cc96",
           "#ab63fa",
           "#FFA15A",
           "#19d3f3",
           "#FF6692",
           "#B6E880",
           "#FF97FF",
           "#FECB52"
          ],
          "font": {
           "color": "#2a3f5f"
          },
          "geo": {
           "bgcolor": "white",
           "lakecolor": "white",
           "landcolor": "#E5ECF6",
           "showlakes": true,
           "showland": true,
           "subunitcolor": "white"
          },
          "hoverlabel": {
           "align": "left"
          },
          "hovermode": "closest",
          "mapbox": {
           "style": "light"
          },
          "paper_bgcolor": "white",
          "plot_bgcolor": "#E5ECF6",
          "polar": {
           "angularaxis": {
            "gridcolor": "white",
            "linecolor": "white",
            "ticks": ""
           },
           "bgcolor": "#E5ECF6",
           "radialaxis": {
            "gridcolor": "white",
            "linecolor": "white",
            "ticks": ""
           }
          },
          "scene": {
           "xaxis": {
            "backgroundcolor": "#E5ECF6",
            "gridcolor": "white",
            "gridwidth": 2,
            "linecolor": "white",
            "showbackground": true,
            "ticks": "",
            "zerolinecolor": "white"
           },
           "yaxis": {
            "backgroundcolor": "#E5ECF6",
            "gridcolor": "white",
            "gridwidth": 2,
            "linecolor": "white",
            "showbackground": true,
            "ticks": "",
            "zerolinecolor": "white"
           },
           "zaxis": {
            "backgroundcolor": "#E5ECF6",
            "gridcolor": "white",
            "gridwidth": 2,
            "linecolor": "white",
            "showbackground": true,
            "ticks": "",
            "zerolinecolor": "white"
           }
          },
          "shapedefaults": {
           "line": {
            "color": "#2a3f5f"
           }
          },
          "ternary": {
           "aaxis": {
            "gridcolor": "white",
            "linecolor": "white",
            "ticks": ""
           },
           "baxis": {
            "gridcolor": "white",
            "linecolor": "white",
            "ticks": ""
           },
           "bgcolor": "#E5ECF6",
           "caxis": {
            "gridcolor": "white",
            "linecolor": "white",
            "ticks": ""
           }
          },
          "title": {
           "x": 0.05
          },
          "xaxis": {
           "automargin": true,
           "gridcolor": "white",
           "linecolor": "white",
           "ticks": "",
           "title": {
            "standoff": 15
           },
           "zerolinecolor": "white",
           "zerolinewidth": 2
          },
          "yaxis": {
           "automargin": true,
           "gridcolor": "white",
           "linecolor": "white",
           "ticks": "",
           "title": {
            "standoff": 15
           },
           "zerolinecolor": "white",
           "zerolinewidth": 2
          }
         }
        },
        "title": {
         "text": "Total Session in Versions"
        },
        "xaxis": {
         "title": {
          "text": "Version"
         }
        },
        "yaxis": {
         "title": {
          "text": "Total Session"
         }
        }
       }
      }
     },
     "metadata": {},
     "output_type": "display_data"
    }
   ],
   "source": [
    "data3=df.groupby('Upgraded Time')['Session Count'].sum().reset_index()\n",
    "animals=data3['Upgraded Time'].unique()\n",
    "\n",
    "fig = go.Figure([go.Bar(x=animals, y=data3['Session Count'])])\n",
    "fig.update_layout(title_text='Total Session in Versions',xaxis_title=\"Version\",\n",
    "    yaxis_title=\"Total Session\")\n",
    "fig.show()"
   ]
  },
  {
   "cell_type": "markdown",
   "metadata": {},
   "source": [
    "Biểu đồ thể hiện số lần truy cập vào hệ thống của V2 Released cao nhất có thể đây là phiên bản mới nên người dùng muốn trải nghiệm nhiều nhiều thứ mới hoặc trong thời gian này có chương trình gì đấy hot nên thu hút được lượt truy cập thường xuyên."
   ]
  },
  {
   "cell_type": "code",
   "execution_count": 341,
   "metadata": {},
   "outputs": [
    {
     "data": {
      "text/html": [
       "<div>\n",
       "<style scoped>\n",
       "    .dataframe tbody tr th:only-of-type {\n",
       "        vertical-align: middle;\n",
       "    }\n",
       "\n",
       "    .dataframe tbody tr th {\n",
       "        vertical-align: top;\n",
       "    }\n",
       "\n",
       "    .dataframe thead th {\n",
       "        text-align: right;\n",
       "    }\n",
       "</style>\n",
       "<table border=\"1\" class=\"dataframe\">\n",
       "  <thead>\n",
       "    <tr style=\"text-align: right;\">\n",
       "      <th></th>\n",
       "      <th>Customer ID</th>\n",
       "      <th>Free Account Created Date</th>\n",
       "      <th>Last Seen</th>\n",
       "      <th>Session Count</th>\n",
       "      <th>Segment</th>\n",
       "      <th>First Name</th>\n",
       "      <th>Billing Account</th>\n",
       "      <th>Account Status</th>\n",
       "      <th>Upgraded Account Created Date</th>\n",
       "      <th>Upgraded Account Cancelled Date</th>\n",
       "      <th>Total Charges</th>\n",
       "      <th>Upgraded Time</th>\n",
       "      <th>Price change</th>\n",
       "      <th>Distance Upgraded from Create Free</th>\n",
       "    </tr>\n",
       "  </thead>\n",
       "  <tbody>\n",
       "    <tr>\n",
       "      <th>0</th>\n",
       "      <td>1</td>\n",
       "      <td>2017-05-29</td>\n",
       "      <td>2019-04-05 08:02:32</td>\n",
       "      <td>1379</td>\n",
       "      <td>Marketing Segment 2</td>\n",
       "      <td>Joshua</td>\n",
       "      <td>AX#93195</td>\n",
       "      <td>paying</td>\n",
       "      <td>2019-04-02</td>\n",
       "      <td>NaT</td>\n",
       "      <td>145.6</td>\n",
       "      <td>V1 Released</td>\n",
       "      <td>0</td>\n",
       "      <td>673</td>\n",
       "    </tr>\n",
       "    <tr>\n",
       "      <th>1</th>\n",
       "      <td>2</td>\n",
       "      <td>2017-12-17</td>\n",
       "      <td>2019-04-27 13:23:56</td>\n",
       "      <td>531</td>\n",
       "      <td>Marketing Segment 1</td>\n",
       "      <td>Ka</td>\n",
       "      <td>AX#20438</td>\n",
       "      <td>paying</td>\n",
       "      <td>2018-11-11</td>\n",
       "      <td>NaT</td>\n",
       "      <td>728.0</td>\n",
       "      <td>V2 Released</td>\n",
       "      <td>0</td>\n",
       "      <td>329</td>\n",
       "    </tr>\n",
       "  </tbody>\n",
       "</table>\n",
       "</div>"
      ],
      "text/plain": [
       "   Customer ID Free Account Created Date           Last Seen  Session Count  \\\n",
       "0            1                2017-05-29 2019-04-05 08:02:32           1379   \n",
       "1            2                2017-12-17 2019-04-27 13:23:56            531   \n",
       "\n",
       "               Segment First Name Billing Account Account Status  \\\n",
       "0  Marketing Segment 2     Joshua        AX#93195         paying   \n",
       "1  Marketing Segment 1         Ka        AX#20438         paying   \n",
       "\n",
       "  Upgraded Account Created Date Upgraded Account Cancelled Date  \\\n",
       "0                    2019-04-02                             NaT   \n",
       "1                    2018-11-11                             NaT   \n",
       "\n",
       "   Total Charges Upgraded Time Price change  \\\n",
       "0          145.6   V1 Released            0   \n",
       "1          728.0   V2 Released            0   \n",
       "\n",
       "   Distance Upgraded from Create Free  \n",
       "0                                 673  \n",
       "1                                 329  "
      ]
     },
     "execution_count": 341,
     "metadata": {},
     "output_type": "execute_result"
    }
   ],
   "source": [
    "df['Distance Upgraded from Create Free']=(df['Upgraded Account Created Date']-df['Free Account Created Date']).dt.days\n",
    "df.head(2)"
   ]
  },
  {
   "cell_type": "code",
   "execution_count": 379,
   "metadata": {},
   "outputs": [
    {
     "data": {
      "application/vnd.plotly.v1+json": {
       "config": {
        "plotlyServerURL": "https://plot.ly"
       },
       "data": [
        {
         "hovertemplate": "Account Status=%{y}<br>Distance Upgraded from Create Free=%{x}<extra></extra>",
         "legendgroup": "paying",
         "marker": {
          "color": "#636efa",
          "symbol": "circle"
         },
         "mode": "markers",
         "name": "paying",
         "showlegend": true,
         "type": "scattergl",
         "x": [
          673,
          329,
          774,
          779,
          573,
          386,
          326,
          617,
          493,
          310,
          234,
          506,
          178,
          289,
          457,
          268,
          266,
          163,
          144,
          243,
          220,
          192,
          501,
          182,
          176,
          174,
          99,
          171,
          162,
          271,
          27,
          330,
          143,
          5,
          232,
          38,
          190,
          479,
          71,
          488,
          375,
          24,
          96,
          113,
          173,
          102,
          361,
          99,
          479,
          16,
          60,
          10,
          82,
          4,
          23,
          389,
          355,
          134,
          2,
          52,
          47,
          259,
          184,
          270,
          90,
          54,
          410,
          0,
          141,
          15,
          1,
          1,
          420,
          136,
          7,
          0,
          43,
          49,
          1,
          60,
          342,
          63,
          31,
          123,
          1,
          101,
          42,
          3,
          1,
          -16,
          44,
          0,
          14,
          0,
          237,
          187,
          369,
          48,
          88,
          48,
          345,
          346,
          49,
          0,
          200,
          312,
          25,
          46,
          45,
          45,
          0,
          274,
          18,
          70,
          85,
          102,
          6,
          183,
          45,
          147,
          146,
          21,
          75,
          81,
          19,
          1,
          22,
          17,
          216,
          240,
          49,
          85,
          226,
          55,
          7,
          73,
          278,
          7,
          1,
          4,
          33,
          233,
          67,
          111,
          7,
          86,
          4,
          58,
          5,
          40,
          76,
          0,
          75,
          129,
          17,
          1,
          27,
          1,
          108,
          255,
          3,
          166,
          266,
          4,
          74,
          5,
          223,
          41,
          52,
          1,
          34,
          89,
          68,
          2,
          -12,
          3,
          14,
          10,
          171,
          83,
          36,
          192,
          76,
          33,
          73,
          10,
          8,
          2,
          12,
          4,
          18,
          100,
          21,
          51,
          24,
          0,
          143,
          115,
          27,
          172,
          60,
          25,
          93,
          8,
          47,
          100,
          222,
          2,
          86,
          211,
          24,
          3,
          3,
          49,
          42,
          54,
          54,
          54,
          111,
          2,
          54,
          12,
          54,
          54,
          54,
          54,
          54,
          156,
          54,
          171,
          53,
          53,
          53,
          3,
          51,
          14,
          40,
          13,
          79,
          79,
          145,
          56,
          78,
          6,
          182,
          148,
          34,
          38,
          1,
          32,
          22,
          4,
          26,
          1,
          25,
          12,
          14,
          140,
          84,
          191,
          167,
          25,
          101,
          23,
          -305,
          12,
          148,
          18,
          175,
          12,
          15,
          13,
          14,
          13,
          13,
          59,
          7,
          7,
          13,
          55,
          21,
          122,
          156,
          27,
          32,
          54,
          1,
          155,
          39,
          89,
          3,
          20,
          28,
          3,
          22,
          19,
          51,
          32,
          7,
          27,
          35,
          0,
          11,
          129,
          64,
          11,
          1,
          2,
          9,
          8,
          10,
          0,
          10,
          38,
          8,
          29,
          14,
          3,
          12,
          8,
          6,
          68,
          23,
          22,
          24,
          28,
          17,
          2,
          110,
          14,
          28,
          116,
          0,
          1,
          0,
          0,
          142,
          9,
          5,
          15,
          15,
          86,
          63,
          18,
          145,
          40,
          46,
          20,
          0,
          1,
          0,
          58,
          9,
          14,
          22,
          1,
          21,
          52,
          42,
          2,
          56,
          24,
          0,
          21,
          121,
          67,
          7,
          10,
          60,
          0,
          133,
          10,
          15,
          134,
          131,
          12,
          94,
          2,
          50,
          42,
          8,
          130,
          1,
          38,
          29,
          35,
          21,
          46,
          5,
          131,
          6,
          0,
          1,
          127,
          37,
          14,
          71,
          2,
          0,
          29,
          0,
          70,
          2,
          105,
          0,
          2,
          2,
          1,
          90,
          53,
          0,
          4,
          23,
          2,
          0,
          54,
          29,
          28,
          39,
          4,
          1,
          21,
          59,
          7,
          0,
          82,
          10,
          0,
          0,
          5,
          41,
          45,
          12,
          5,
          111,
          11,
          42,
          12,
          1,
          2,
          87,
          12,
          58,
          22,
          31,
          3,
          11,
          13,
          3,
          0,
          85,
          28,
          2,
          3,
          8,
          22,
          6,
          8,
          4,
          104,
          86,
          44,
          97,
          12,
          5,
          40,
          0,
          88,
          45,
          101,
          102,
          0,
          11,
          12,
          6,
          28,
          25,
          71,
          37,
          5,
          44,
          1,
          62,
          27,
          18,
          3,
          11,
          5,
          8,
          94,
          11,
          13,
          16,
          10,
          0,
          8,
          17,
          13,
          31,
          2,
          78,
          2,
          15,
          34,
          0,
          73,
          87,
          7,
          34,
          60,
          0,
          1,
          20,
          17,
          15,
          23,
          36,
          0,
          42,
          6,
          1,
          78,
          78,
          78,
          0,
          14,
          77,
          71,
          2,
          23,
          32,
          -86,
          16,
          27,
          31,
          16,
          40,
          10,
          16,
          1,
          10,
          51,
          34,
          13,
          4,
          1,
          34,
          68,
          0,
          0,
          20,
          0,
          68,
          45,
          22,
          21,
          29,
          0,
          70,
          0,
          16,
          56,
          0,
          9,
          1,
          69,
          37,
          7,
          68,
          40,
          0,
          45,
          45,
          0,
          19,
          16,
          0,
          1,
          39,
          33,
          3,
          0,
          0,
          1,
          10,
          1,
          1,
          22,
          49,
          53,
          3,
          15,
          0,
          42,
          3,
          41,
          1,
          1,
          6,
          43,
          5,
          6,
          -30,
          59,
          4,
          14,
          0,
          55,
          40,
          35,
          2,
          5,
          1,
          9,
          24,
          1,
          8,
          21,
          1,
          44,
          56,
          2,
          42,
          0,
          22,
          20,
          8,
          20,
          8,
          5,
          0,
          16,
          50,
          7,
          24,
          10,
          26,
          1,
          0,
          37,
          2,
          28,
          4,
          16,
          0,
          32,
          37,
          0,
          45,
          13,
          20,
          2,
          48,
          20,
          2,
          0,
          2,
          7,
          0,
          2,
          1,
          21,
          33,
          0,
          0,
          19,
          14,
          1,
          16,
          7,
          16,
          2,
          1,
          9,
          22,
          14,
          10,
          0,
          22,
          0,
          2,
          5,
          41,
          10,
          36,
          0,
          19,
          6,
          3,
          10,
          2,
          1,
          12,
          5,
          4,
          2,
          30,
          0,
          5,
          0,
          36,
          4,
          28,
          1,
          0,
          35,
          6,
          29,
          29,
          0,
          33,
          5,
          6,
          1,
          0,
          0,
          14,
          33,
          0,
          7,
          0,
          0,
          4,
          3,
          0,
          5,
          0,
          14,
          4,
          10,
          11,
          10,
          3,
          1,
          2,
          4,
          0,
          1,
          6,
          1,
          2,
          5,
          23,
          7,
          4,
          0,
          0,
          7,
          0,
          0,
          23,
          5,
          0,
          1,
          4,
          6,
          3,
          7,
          0,
          0,
          1,
          2,
          24,
          0,
          0,
          4,
          0,
          0,
          11,
          -1,
          0,
          1,
          0,
          0,
          4,
          1,
          0,
          1,
          8,
          0,
          23,
          9,
          20,
          0,
          0,
          1,
          0,
          6,
          12,
          1,
          23,
          17,
          5,
          19,
          0,
          0,
          4,
          2,
          13,
          0,
          3,
          13,
          3,
          0,
          0,
          0,
          0,
          0,
          2,
          17,
          12,
          5,
          0,
          0,
          10,
          2,
          6,
          20,
          0,
          15,
          15,
          1,
          11,
          0,
          8,
          0,
          0,
          5,
          0,
          1,
          16,
          0,
          0,
          0,
          4,
          2,
          0,
          2,
          0,
          10,
          5,
          9,
          0,
          13,
          9,
          0,
          0,
          12,
          5,
          3,
          4,
          5,
          0,
          10,
          8,
          0,
          11,
          5,
          3,
          7,
          0,
          5,
          3,
          0,
          4,
          3,
          4,
          6,
          0,
          1,
          2,
          0,
          5,
          0,
          5,
          0,
          0,
          0,
          0,
          2,
          5,
          0,
          4,
          0,
          2,
          0,
          0,
          1,
          0,
          0,
          0
         ],
         "xaxis": "x",
         "y": [
          "paying",
          "paying",
          "paying",
          "paying",
          "paying",
          "paying",
          "paying",
          "paying",
          "paying",
          "paying",
          "paying",
          "paying",
          "paying",
          "paying",
          "paying",
          "paying",
          "paying",
          "paying",
          "paying",
          "paying",
          "paying",
          "paying",
          "paying",
          "paying",
          "paying",
          "paying",
          "paying",
          "paying",
          "paying",
          "paying",
          "paying",
          "paying",
          "paying",
          "paying",
          "paying",
          "paying",
          "paying",
          "paying",
          "paying",
          "paying",
          "paying",
          "paying",
          "paying",
          "paying",
          "paying",
          "paying",
          "paying",
          "paying",
          "paying",
          "paying",
          "paying",
          "paying",
          "paying",
          "paying",
          "paying",
          "paying",
          "paying",
          "paying",
          "paying",
          "paying",
          "paying",
          "paying",
          "paying",
          "paying",
          "paying",
          "paying",
          "paying",
          "paying",
          "paying",
          "paying",
          "paying",
          "paying",
          "paying",
          "paying",
          "paying",
          "paying",
          "paying",
          "paying",
          "paying",
          "paying",
          "paying",
          "paying",
          "paying",
          "paying",
          "paying",
          "paying",
          "paying",
          "paying",
          "paying",
          "paying",
          "paying",
          "paying",
          "paying",
          "paying",
          "paying",
          "paying",
          "paying",
          "paying",
          "paying",
          "paying",
          "paying",
          "paying",
          "paying",
          "paying",
          "paying",
          "paying",
          "paying",
          "paying",
          "paying",
          "paying",
          "paying",
          "paying",
          "paying",
          "paying",
          "paying",
          "paying",
          "paying",
          "paying",
          "paying",
          "paying",
          "paying",
          "paying",
          "paying",
          "paying",
          "paying",
          "paying",
          "paying",
          "paying",
          "paying",
          "paying",
          "paying",
          "paying",
          "paying",
          "paying",
          "paying",
          "paying",
          "paying",
          "paying",
          "paying",
          "paying",
          "paying",
          "paying",
          "paying",
          "paying",
          "paying",
          "paying",
          "paying",
          "paying",
          "paying",
          "paying",
          "paying",
          "paying",
          "paying",
          "paying",
          "paying",
          "paying",
          "paying",
          "paying",
          "paying",
          "paying",
          "paying",
          "paying",
          "paying",
          "paying",
          "paying",
          "paying",
          "paying",
          "paying",
          "paying",
          "paying",
          "paying",
          "paying",
          "paying",
          "paying",
          "paying",
          "paying",
          "paying",
          "paying",
          "paying",
          "paying",
          "paying",
          "paying",
          "paying",
          "paying",
          "paying",
          "paying",
          "paying",
          "paying",
          "paying",
          "paying",
          "paying",
          "paying",
          "paying",
          "paying",
          "paying",
          "paying",
          "paying",
          "paying",
          "paying",
          "paying",
          "paying",
          "paying",
          "paying",
          "paying",
          "paying",
          "paying",
          "paying",
          "paying",
          "paying",
          "paying",
          "paying",
          "paying",
          "paying",
          "paying",
          "paying",
          "paying",
          "paying",
          "paying",
          "paying",
          "paying",
          "paying",
          "paying",
          "paying",
          "paying",
          "paying",
          "paying",
          "paying",
          "paying",
          "paying",
          "paying",
          "paying",
          "paying",
          "paying",
          "paying",
          "paying",
          "paying",
          "paying",
          "paying",
          "paying",
          "paying",
          "paying",
          "paying",
          "paying",
          "paying",
          "paying",
          "paying",
          "paying",
          "paying",
          "paying",
          "paying",
          "paying",
          "paying",
          "paying",
          "paying",
          "paying",
          "paying",
          "paying",
          "paying",
          "paying",
          "paying",
          "paying",
          "paying",
          "paying",
          "paying",
          "paying",
          "paying",
          "paying",
          "paying",
          "paying",
          "paying",
          "paying",
          "paying",
          "paying",
          "paying",
          "paying",
          "paying",
          "paying",
          "paying",
          "paying",
          "paying",
          "paying",
          "paying",
          "paying",
          "paying",
          "paying",
          "paying",
          "paying",
          "paying",
          "paying",
          "paying",
          "paying",
          "paying",
          "paying",
          "paying",
          "paying",
          "paying",
          "paying",
          "paying",
          "paying",
          "paying",
          "paying",
          "paying",
          "paying",
          "paying",
          "paying",
          "paying",
          "paying",
          "paying",
          "paying",
          "paying",
          "paying",
          "paying",
          "paying",
          "paying",
          "paying",
          "paying",
          "paying",
          "paying",
          "paying",
          "paying",
          "paying",
          "paying",
          "paying",
          "paying",
          "paying",
          "paying",
          "paying",
          "paying",
          "paying",
          "paying",
          "paying",
          "paying",
          "paying",
          "paying",
          "paying",
          "paying",
          "paying",
          "paying",
          "paying",
          "paying",
          "paying",
          "paying",
          "paying",
          "paying",
          "paying",
          "paying",
          "paying",
          "paying",
          "paying",
          "paying",
          "paying",
          "paying",
          "paying",
          "paying",
          "paying",
          "paying",
          "paying",
          "paying",
          "paying",
          "paying",
          "paying",
          "paying",
          "paying",
          "paying",
          "paying",
          "paying",
          "paying",
          "paying",
          "paying",
          "paying",
          "paying",
          "paying",
          "paying",
          "paying",
          "paying",
          "paying",
          "paying",
          "paying",
          "paying",
          "paying",
          "paying",
          "paying",
          "paying",
          "paying",
          "paying",
          "paying",
          "paying",
          "paying",
          "paying",
          "paying",
          "paying",
          "paying",
          "paying",
          "paying",
          "paying",
          "paying",
          "paying",
          "paying",
          "paying",
          "paying",
          "paying",
          "paying",
          "paying",
          "paying",
          "paying",
          "paying",
          "paying",
          "paying",
          "paying",
          "paying",
          "paying",
          "paying",
          "paying",
          "paying",
          "paying",
          "paying",
          "paying",
          "paying",
          "paying",
          "paying",
          "paying",
          "paying",
          "paying",
          "paying",
          "paying",
          "paying",
          "paying",
          "paying",
          "paying",
          "paying",
          "paying",
          "paying",
          "paying",
          "paying",
          "paying",
          "paying",
          "paying",
          "paying",
          "paying",
          "paying",
          "paying",
          "paying",
          "paying",
          "paying",
          "paying",
          "paying",
          "paying",
          "paying",
          "paying",
          "paying",
          "paying",
          "paying",
          "paying",
          "paying",
          "paying",
          "paying",
          "paying",
          "paying",
          "paying",
          "paying",
          "paying",
          "paying",
          "paying",
          "paying",
          "paying",
          "paying",
          "paying",
          "paying",
          "paying",
          "paying",
          "paying",
          "paying",
          "paying",
          "paying",
          "paying",
          "paying",
          "paying",
          "paying",
          "paying",
          "paying",
          "paying",
          "paying",
          "paying",
          "paying",
          "paying",
          "paying",
          "paying",
          "paying",
          "paying",
          "paying",
          "paying",
          "paying",
          "paying",
          "paying",
          "paying",
          "paying",
          "paying",
          "paying",
          "paying",
          "paying",
          "paying",
          "paying",
          "paying",
          "paying",
          "paying",
          "paying",
          "paying",
          "paying",
          "paying",
          "paying",
          "paying",
          "paying",
          "paying",
          "paying",
          "paying",
          "paying",
          "paying",
          "paying",
          "paying",
          "paying",
          "paying",
          "paying",
          "paying",
          "paying",
          "paying",
          "paying",
          "paying",
          "paying",
          "paying",
          "paying",
          "paying",
          "paying",
          "paying",
          "paying",
          "paying",
          "paying",
          "paying",
          "paying",
          "paying",
          "paying",
          "paying",
          "paying",
          "paying",
          "paying",
          "paying",
          "paying",
          "paying",
          "paying",
          "paying",
          "paying",
          "paying",
          "paying",
          "paying",
          "paying",
          "paying",
          "paying",
          "paying",
          "paying",
          "paying",
          "paying",
          "paying",
          "paying",
          "paying",
          "paying",
          "paying",
          "paying",
          "paying",
          "paying",
          "paying",
          "paying",
          "paying",
          "paying",
          "paying",
          "paying",
          "paying",
          "paying",
          "paying",
          "paying",
          "paying",
          "paying",
          "paying",
          "paying",
          "paying",
          "paying",
          "paying",
          "paying",
          "paying",
          "paying",
          "paying",
          "paying",
          "paying",
          "paying",
          "paying",
          "paying",
          "paying",
          "paying",
          "paying",
          "paying",
          "paying",
          "paying",
          "paying",
          "paying",
          "paying",
          "paying",
          "paying",
          "paying",
          "paying",
          "paying",
          "paying",
          "paying",
          "paying",
          "paying",
          "paying",
          "paying",
          "paying",
          "paying",
          "paying",
          "paying",
          "paying",
          "paying",
          "paying",
          "paying",
          "paying",
          "paying",
          "paying",
          "paying",
          "paying",
          "paying",
          "paying",
          "paying",
          "paying",
          "paying",
          "paying",
          "paying",
          "paying",
          "paying",
          "paying",
          "paying",
          "paying",
          "paying",
          "paying",
          "paying",
          "paying",
          "paying",
          "paying",
          "paying",
          "paying",
          "paying",
          "paying",
          "paying",
          "paying",
          "paying",
          "paying",
          "paying",
          "paying",
          "paying",
          "paying",
          "paying",
          "paying",
          "paying",
          "paying",
          "paying",
          "paying",
          "paying",
          "paying",
          "paying",
          "paying",
          "paying",
          "paying",
          "paying",
          "paying",
          "paying",
          "paying",
          "paying",
          "paying",
          "paying",
          "paying",
          "paying",
          "paying",
          "paying",
          "paying",
          "paying",
          "paying",
          "paying",
          "paying",
          "paying",
          "paying",
          "paying",
          "paying",
          "paying",
          "paying",
          "paying",
          "paying",
          "paying",
          "paying",
          "paying",
          "paying",
          "paying",
          "paying",
          "paying",
          "paying",
          "paying",
          "paying",
          "paying",
          "paying",
          "paying",
          "paying",
          "paying",
          "paying",
          "paying",
          "paying",
          "paying",
          "paying",
          "paying",
          "paying",
          "paying",
          "paying",
          "paying",
          "paying",
          "paying",
          "paying",
          "paying",
          "paying",
          "paying",
          "paying",
          "paying",
          "paying",
          "paying",
          "paying",
          "paying",
          "paying",
          "paying",
          "paying",
          "paying",
          "paying",
          "paying",
          "paying",
          "paying",
          "paying",
          "paying",
          "paying",
          "paying",
          "paying",
          "paying",
          "paying",
          "paying",
          "paying",
          "paying",
          "paying",
          "paying",
          "paying",
          "paying",
          "paying",
          "paying",
          "paying",
          "paying",
          "paying",
          "paying",
          "paying",
          "paying",
          "paying",
          "paying",
          "paying",
          "paying",
          "paying",
          "paying",
          "paying",
          "paying",
          "paying",
          "paying",
          "paying",
          "paying",
          "paying",
          "paying",
          "paying",
          "paying",
          "paying",
          "paying",
          "paying",
          "paying",
          "paying",
          "paying",
          "paying",
          "paying",
          "paying",
          "paying",
          "paying",
          "paying",
          "paying",
          "paying",
          "paying",
          "paying",
          "paying",
          "paying",
          "paying",
          "paying",
          "paying",
          "paying",
          "paying",
          "paying",
          "paying",
          "paying",
          "paying",
          "paying",
          "paying",
          "paying",
          "paying",
          "paying",
          "paying",
          "paying",
          "paying",
          "paying",
          "paying",
          "paying",
          "paying",
          "paying",
          "paying",
          "paying",
          "paying",
          "paying",
          "paying",
          "paying",
          "paying",
          "paying",
          "paying",
          "paying",
          "paying",
          "paying",
          "paying",
          "paying",
          "paying",
          "paying",
          "paying",
          "paying",
          "paying",
          "paying",
          "paying",
          "paying",
          "paying",
          "paying",
          "paying",
          "paying",
          "paying",
          "paying",
          "paying",
          "paying",
          "paying",
          "paying",
          "paying",
          "paying",
          "paying",
          "paying",
          "paying",
          "paying",
          "paying",
          "paying",
          "paying",
          "paying",
          "paying",
          "paying",
          "paying",
          "paying",
          "paying",
          "paying",
          "paying",
          "paying",
          "paying",
          "paying",
          "paying",
          "paying",
          "paying",
          "paying",
          "paying",
          "paying",
          "paying",
          "paying",
          "paying",
          "paying",
          "paying",
          "paying",
          "paying",
          "paying",
          "paying",
          "paying",
          "paying",
          "paying",
          "paying",
          "paying",
          "paying",
          "paying",
          "paying"
         ],
         "yaxis": "y"
        },
        {
         "hovertemplate": "Account Status=%{y}<br>Distance Upgraded from Create Free=%{x}<extra></extra>",
         "legendgroup": "cancelled",
         "marker": {
          "color": "#EF553B",
          "symbol": "circle"
         },
         "mode": "markers",
         "name": "cancelled",
         "showlegend": true,
         "type": "scattergl",
         "x": [
          316,
          252,
          176,
          174,
          170,
          71,
          161,
          57,
          149,
          56,
          2,
          147,
          118,
          107,
          88,
          88,
          104,
          85,
          82,
          76,
          76,
          7,
          0,
          0,
          0,
          63,
          21,
          16,
          18,
          2,
          36,
          6,
          29,
          133,
          0,
          0,
          28,
          6,
          57,
          42,
          0,
          0,
          1,
          141,
          0,
          0,
          0,
          27,
          3,
          0,
          34,
          0,
          0,
          89,
          3,
          31,
          0,
          0,
          0,
          0,
          0,
          0,
          0,
          2,
          0,
          0,
          0,
          0,
          59,
          5,
          58,
          2,
          0,
          51,
          21,
          5,
          31,
          21,
          198,
          0,
          0,
          0,
          8,
          94,
          0,
          141,
          5,
          1,
          71,
          0,
          13,
          6,
          1,
          7,
          0,
          0,
          0,
          26,
          0,
          0,
          27,
          1,
          0,
          1,
          6,
          36,
          24,
          2,
          9,
          85,
          35,
          1,
          1,
          4,
          11,
          49,
          21,
          2,
          21,
          27,
          0,
          16,
          23
         ],
         "xaxis": "x",
         "y": [
          "cancelled",
          "cancelled",
          "cancelled",
          "cancelled",
          "cancelled",
          "cancelled",
          "cancelled",
          "cancelled",
          "cancelled",
          "cancelled",
          "cancelled",
          "cancelled",
          "cancelled",
          "cancelled",
          "cancelled",
          "cancelled",
          "cancelled",
          "cancelled",
          "cancelled",
          "cancelled",
          "cancelled",
          "cancelled",
          "cancelled",
          "cancelled",
          "cancelled",
          "cancelled",
          "cancelled",
          "cancelled",
          "cancelled",
          "cancelled",
          "cancelled",
          "cancelled",
          "cancelled",
          "cancelled",
          "cancelled",
          "cancelled",
          "cancelled",
          "cancelled",
          "cancelled",
          "cancelled",
          "cancelled",
          "cancelled",
          "cancelled",
          "cancelled",
          "cancelled",
          "cancelled",
          "cancelled",
          "cancelled",
          "cancelled",
          "cancelled",
          "cancelled",
          "cancelled",
          "cancelled",
          "cancelled",
          "cancelled",
          "cancelled",
          "cancelled",
          "cancelled",
          "cancelled",
          "cancelled",
          "cancelled",
          "cancelled",
          "cancelled",
          "cancelled",
          "cancelled",
          "cancelled",
          "cancelled",
          "cancelled",
          "cancelled",
          "cancelled",
          "cancelled",
          "cancelled",
          "cancelled",
          "cancelled",
          "cancelled",
          "cancelled",
          "cancelled",
          "cancelled",
          "cancelled",
          "cancelled",
          "cancelled",
          "cancelled",
          "cancelled",
          "cancelled",
          "cancelled",
          "cancelled",
          "cancelled",
          "cancelled",
          "cancelled",
          "cancelled",
          "cancelled",
          "cancelled",
          "cancelled",
          "cancelled",
          "cancelled",
          "cancelled",
          "cancelled",
          "cancelled",
          "cancelled",
          "cancelled",
          "cancelled",
          "cancelled",
          "cancelled",
          "cancelled",
          "cancelled",
          "cancelled",
          "cancelled",
          "cancelled",
          "cancelled",
          "cancelled",
          "cancelled",
          "cancelled",
          "cancelled",
          "cancelled",
          "cancelled",
          "cancelled",
          "cancelled",
          "cancelled",
          "cancelled",
          "cancelled",
          "cancelled",
          "cancelled",
          "cancelled"
         ],
         "yaxis": "y"
        }
       ],
       "layout": {
        "legend": {
         "title": {
          "text": "Account Status"
         },
         "tracegroupgap": 0
        },
        "margin": {
         "t": 60
        },
        "template": {
         "data": {
          "bar": [
           {
            "error_x": {
             "color": "#2a3f5f"
            },
            "error_y": {
             "color": "#2a3f5f"
            },
            "marker": {
             "line": {
              "color": "#E5ECF6",
              "width": 0.5
             },
             "pattern": {
              "fillmode": "overlay",
              "size": 10,
              "solidity": 0.2
             }
            },
            "type": "bar"
           }
          ],
          "barpolar": [
           {
            "marker": {
             "line": {
              "color": "#E5ECF6",
              "width": 0.5
             },
             "pattern": {
              "fillmode": "overlay",
              "size": 10,
              "solidity": 0.2
             }
            },
            "type": "barpolar"
           }
          ],
          "carpet": [
           {
            "aaxis": {
             "endlinecolor": "#2a3f5f",
             "gridcolor": "white",
             "linecolor": "white",
             "minorgridcolor": "white",
             "startlinecolor": "#2a3f5f"
            },
            "baxis": {
             "endlinecolor": "#2a3f5f",
             "gridcolor": "white",
             "linecolor": "white",
             "minorgridcolor": "white",
             "startlinecolor": "#2a3f5f"
            },
            "type": "carpet"
           }
          ],
          "choropleth": [
           {
            "colorbar": {
             "outlinewidth": 0,
             "ticks": ""
            },
            "type": "choropleth"
           }
          ],
          "contour": [
           {
            "colorbar": {
             "outlinewidth": 0,
             "ticks": ""
            },
            "colorscale": [
             [
              0,
              "#0d0887"
             ],
             [
              0.1111111111111111,
              "#46039f"
             ],
             [
              0.2222222222222222,
              "#7201a8"
             ],
             [
              0.3333333333333333,
              "#9c179e"
             ],
             [
              0.4444444444444444,
              "#bd3786"
             ],
             [
              0.5555555555555556,
              "#d8576b"
             ],
             [
              0.6666666666666666,
              "#ed7953"
             ],
             [
              0.7777777777777778,
              "#fb9f3a"
             ],
             [
              0.8888888888888888,
              "#fdca26"
             ],
             [
              1,
              "#f0f921"
             ]
            ],
            "type": "contour"
           }
          ],
          "contourcarpet": [
           {
            "colorbar": {
             "outlinewidth": 0,
             "ticks": ""
            },
            "type": "contourcarpet"
           }
          ],
          "heatmap": [
           {
            "colorbar": {
             "outlinewidth": 0,
             "ticks": ""
            },
            "colorscale": [
             [
              0,
              "#0d0887"
             ],
             [
              0.1111111111111111,
              "#46039f"
             ],
             [
              0.2222222222222222,
              "#7201a8"
             ],
             [
              0.3333333333333333,
              "#9c179e"
             ],
             [
              0.4444444444444444,
              "#bd3786"
             ],
             [
              0.5555555555555556,
              "#d8576b"
             ],
             [
              0.6666666666666666,
              "#ed7953"
             ],
             [
              0.7777777777777778,
              "#fb9f3a"
             ],
             [
              0.8888888888888888,
              "#fdca26"
             ],
             [
              1,
              "#f0f921"
             ]
            ],
            "type": "heatmap"
           }
          ],
          "heatmapgl": [
           {
            "colorbar": {
             "outlinewidth": 0,
             "ticks": ""
            },
            "colorscale": [
             [
              0,
              "#0d0887"
             ],
             [
              0.1111111111111111,
              "#46039f"
             ],
             [
              0.2222222222222222,
              "#7201a8"
             ],
             [
              0.3333333333333333,
              "#9c179e"
             ],
             [
              0.4444444444444444,
              "#bd3786"
             ],
             [
              0.5555555555555556,
              "#d8576b"
             ],
             [
              0.6666666666666666,
              "#ed7953"
             ],
             [
              0.7777777777777778,
              "#fb9f3a"
             ],
             [
              0.8888888888888888,
              "#fdca26"
             ],
             [
              1,
              "#f0f921"
             ]
            ],
            "type": "heatmapgl"
           }
          ],
          "histogram": [
           {
            "marker": {
             "pattern": {
              "fillmode": "overlay",
              "size": 10,
              "solidity": 0.2
             }
            },
            "type": "histogram"
           }
          ],
          "histogram2d": [
           {
            "colorbar": {
             "outlinewidth": 0,
             "ticks": ""
            },
            "colorscale": [
             [
              0,
              "#0d0887"
             ],
             [
              0.1111111111111111,
              "#46039f"
             ],
             [
              0.2222222222222222,
              "#7201a8"
             ],
             [
              0.3333333333333333,
              "#9c179e"
             ],
             [
              0.4444444444444444,
              "#bd3786"
             ],
             [
              0.5555555555555556,
              "#d8576b"
             ],
             [
              0.6666666666666666,
              "#ed7953"
             ],
             [
              0.7777777777777778,
              "#fb9f3a"
             ],
             [
              0.8888888888888888,
              "#fdca26"
             ],
             [
              1,
              "#f0f921"
             ]
            ],
            "type": "histogram2d"
           }
          ],
          "histogram2dcontour": [
           {
            "colorbar": {
             "outlinewidth": 0,
             "ticks": ""
            },
            "colorscale": [
             [
              0,
              "#0d0887"
             ],
             [
              0.1111111111111111,
              "#46039f"
             ],
             [
              0.2222222222222222,
              "#7201a8"
             ],
             [
              0.3333333333333333,
              "#9c179e"
             ],
             [
              0.4444444444444444,
              "#bd3786"
             ],
             [
              0.5555555555555556,
              "#d8576b"
             ],
             [
              0.6666666666666666,
              "#ed7953"
             ],
             [
              0.7777777777777778,
              "#fb9f3a"
             ],
             [
              0.8888888888888888,
              "#fdca26"
             ],
             [
              1,
              "#f0f921"
             ]
            ],
            "type": "histogram2dcontour"
           }
          ],
          "mesh3d": [
           {
            "colorbar": {
             "outlinewidth": 0,
             "ticks": ""
            },
            "type": "mesh3d"
           }
          ],
          "parcoords": [
           {
            "line": {
             "colorbar": {
              "outlinewidth": 0,
              "ticks": ""
             }
            },
            "type": "parcoords"
           }
          ],
          "pie": [
           {
            "automargin": true,
            "type": "pie"
           }
          ],
          "scatter": [
           {
            "marker": {
             "colorbar": {
              "outlinewidth": 0,
              "ticks": ""
             }
            },
            "type": "scatter"
           }
          ],
          "scatter3d": [
           {
            "line": {
             "colorbar": {
              "outlinewidth": 0,
              "ticks": ""
             }
            },
            "marker": {
             "colorbar": {
              "outlinewidth": 0,
              "ticks": ""
             }
            },
            "type": "scatter3d"
           }
          ],
          "scattercarpet": [
           {
            "marker": {
             "colorbar": {
              "outlinewidth": 0,
              "ticks": ""
             }
            },
            "type": "scattercarpet"
           }
          ],
          "scattergeo": [
           {
            "marker": {
             "colorbar": {
              "outlinewidth": 0,
              "ticks": ""
             }
            },
            "type": "scattergeo"
           }
          ],
          "scattergl": [
           {
            "marker": {
             "colorbar": {
              "outlinewidth": 0,
              "ticks": ""
             }
            },
            "type": "scattergl"
           }
          ],
          "scattermapbox": [
           {
            "marker": {
             "colorbar": {
              "outlinewidth": 0,
              "ticks": ""
             }
            },
            "type": "scattermapbox"
           }
          ],
          "scatterpolar": [
           {
            "marker": {
             "colorbar": {
              "outlinewidth": 0,
              "ticks": ""
             }
            },
            "type": "scatterpolar"
           }
          ],
          "scatterpolargl": [
           {
            "marker": {
             "colorbar": {
              "outlinewidth": 0,
              "ticks": ""
             }
            },
            "type": "scatterpolargl"
           }
          ],
          "scatterternary": [
           {
            "marker": {
             "colorbar": {
              "outlinewidth": 0,
              "ticks": ""
             }
            },
            "type": "scatterternary"
           }
          ],
          "surface": [
           {
            "colorbar": {
             "outlinewidth": 0,
             "ticks": ""
            },
            "colorscale": [
             [
              0,
              "#0d0887"
             ],
             [
              0.1111111111111111,
              "#46039f"
             ],
             [
              0.2222222222222222,
              "#7201a8"
             ],
             [
              0.3333333333333333,
              "#9c179e"
             ],
             [
              0.4444444444444444,
              "#bd3786"
             ],
             [
              0.5555555555555556,
              "#d8576b"
             ],
             [
              0.6666666666666666,
              "#ed7953"
             ],
             [
              0.7777777777777778,
              "#fb9f3a"
             ],
             [
              0.8888888888888888,
              "#fdca26"
             ],
             [
              1,
              "#f0f921"
             ]
            ],
            "type": "surface"
           }
          ],
          "table": [
           {
            "cells": {
             "fill": {
              "color": "#EBF0F8"
             },
             "line": {
              "color": "white"
             }
            },
            "header": {
             "fill": {
              "color": "#C8D4E3"
             },
             "line": {
              "color": "white"
             }
            },
            "type": "table"
           }
          ]
         },
         "layout": {
          "annotationdefaults": {
           "arrowcolor": "#2a3f5f",
           "arrowhead": 0,
           "arrowwidth": 1
          },
          "autotypenumbers": "strict",
          "coloraxis": {
           "colorbar": {
            "outlinewidth": 0,
            "ticks": ""
           }
          },
          "colorscale": {
           "diverging": [
            [
             0,
             "#8e0152"
            ],
            [
             0.1,
             "#c51b7d"
            ],
            [
             0.2,
             "#de77ae"
            ],
            [
             0.3,
             "#f1b6da"
            ],
            [
             0.4,
             "#fde0ef"
            ],
            [
             0.5,
             "#f7f7f7"
            ],
            [
             0.6,
             "#e6f5d0"
            ],
            [
             0.7,
             "#b8e186"
            ],
            [
             0.8,
             "#7fbc41"
            ],
            [
             0.9,
             "#4d9221"
            ],
            [
             1,
             "#276419"
            ]
           ],
           "sequential": [
            [
             0,
             "#0d0887"
            ],
            [
             0.1111111111111111,
             "#46039f"
            ],
            [
             0.2222222222222222,
             "#7201a8"
            ],
            [
             0.3333333333333333,
             "#9c179e"
            ],
            [
             0.4444444444444444,
             "#bd3786"
            ],
            [
             0.5555555555555556,
             "#d8576b"
            ],
            [
             0.6666666666666666,
             "#ed7953"
            ],
            [
             0.7777777777777778,
             "#fb9f3a"
            ],
            [
             0.8888888888888888,
             "#fdca26"
            ],
            [
             1,
             "#f0f921"
            ]
           ],
           "sequentialminus": [
            [
             0,
             "#0d0887"
            ],
            [
             0.1111111111111111,
             "#46039f"
            ],
            [
             0.2222222222222222,
             "#7201a8"
            ],
            [
             0.3333333333333333,
             "#9c179e"
            ],
            [
             0.4444444444444444,
             "#bd3786"
            ],
            [
             0.5555555555555556,
             "#d8576b"
            ],
            [
             0.6666666666666666,
             "#ed7953"
            ],
            [
             0.7777777777777778,
             "#fb9f3a"
            ],
            [
             0.8888888888888888,
             "#fdca26"
            ],
            [
             1,
             "#f0f921"
            ]
           ]
          },
          "colorway": [
           "#636efa",
           "#EF553B",
           "#00cc96",
           "#ab63fa",
           "#FFA15A",
           "#19d3f3",
           "#FF6692",
           "#B6E880",
           "#FF97FF",
           "#FECB52"
          ],
          "font": {
           "color": "#2a3f5f"
          },
          "geo": {
           "bgcolor": "white",
           "lakecolor": "white",
           "landcolor": "#E5ECF6",
           "showlakes": true,
           "showland": true,
           "subunitcolor": "white"
          },
          "hoverlabel": {
           "align": "left"
          },
          "hovermode": "closest",
          "mapbox": {
           "style": "light"
          },
          "paper_bgcolor": "white",
          "plot_bgcolor": "#E5ECF6",
          "polar": {
           "angularaxis": {
            "gridcolor": "white",
            "linecolor": "white",
            "ticks": ""
           },
           "bgcolor": "#E5ECF6",
           "radialaxis": {
            "gridcolor": "white",
            "linecolor": "white",
            "ticks": ""
           }
          },
          "scene": {
           "xaxis": {
            "backgroundcolor": "#E5ECF6",
            "gridcolor": "white",
            "gridwidth": 2,
            "linecolor": "white",
            "showbackground": true,
            "ticks": "",
            "zerolinecolor": "white"
           },
           "yaxis": {
            "backgroundcolor": "#E5ECF6",
            "gridcolor": "white",
            "gridwidth": 2,
            "linecolor": "white",
            "showbackground": true,
            "ticks": "",
            "zerolinecolor": "white"
           },
           "zaxis": {
            "backgroundcolor": "#E5ECF6",
            "gridcolor": "white",
            "gridwidth": 2,
            "linecolor": "white",
            "showbackground": true,
            "ticks": "",
            "zerolinecolor": "white"
           }
          },
          "shapedefaults": {
           "line": {
            "color": "#2a3f5f"
           }
          },
          "ternary": {
           "aaxis": {
            "gridcolor": "white",
            "linecolor": "white",
            "ticks": ""
           },
           "baxis": {
            "gridcolor": "white",
            "linecolor": "white",
            "ticks": ""
           },
           "bgcolor": "#E5ECF6",
           "caxis": {
            "gridcolor": "white",
            "linecolor": "white",
            "ticks": ""
           }
          },
          "title": {
           "x": 0.05
          },
          "xaxis": {
           "automargin": true,
           "gridcolor": "white",
           "linecolor": "white",
           "ticks": "",
           "title": {
            "standoff": 15
           },
           "zerolinecolor": "white",
           "zerolinewidth": 2
          },
          "yaxis": {
           "automargin": true,
           "gridcolor": "white",
           "linecolor": "white",
           "ticks": "",
           "title": {
            "standoff": 15
           },
           "zerolinecolor": "white",
           "zerolinewidth": 2
          }
         }
        },
        "title": {
         "text": "Cancelled and Paying follow Session Count "
        },
        "xaxis": {
         "anchor": "y",
         "domain": [
          0,
          1
         ],
         "title": {
          "text": "Distance Upgraded from Create Free"
         }
        },
        "yaxis": {
         "anchor": "x",
         "categoryarray": [
          "cancelled",
          "paying"
         ],
         "categoryorder": "array",
         "domain": [
          0,
          1
         ],
         "title": {
          "text": "Account Status"
         }
        }
       }
      }
     },
     "metadata": {},
     "output_type": "display_data"
    }
   ],
   "source": [
    "import plotly.express as px\n",
    "fig = px.scatter(df, y=\"Account Status\", x=\"Distance Upgraded from Create Free\",color='Account Status',\n",
    "                  hover_data=['Account Status'])\n",
    "                  \n",
    "fig.update_layout(title_text='Cancelled and Paying follow Session Count ')\n",
    "fig.show()"
   ]
  },
  {
   "cell_type": "markdown",
   "metadata": {},
   "source": [
    "Ta có thể thấy các khách hàng Upgraded Account nhanh thì khả năng cancelled cũng khá cao các tài khoản Upgraded thường nhỏ hơn 200 ngày kể từ ngày tạo Account Free."
   ]
  },
  {
   "cell_type": "code",
   "execution_count": 372,
   "metadata": {},
   "outputs": [],
   "source": [
    "df_cancelled=df[df['Account Status']=='cancelled'].reset_index(drop=True)\n",
    "df_cancelled.dropna(inplace=True)\n"
   ]
  },
  {
   "cell_type": "code",
   "execution_count": 373,
   "metadata": {},
   "outputs": [
    {
     "data": {
      "text/html": [
       "<div>\n",
       "<style scoped>\n",
       "    .dataframe tbody tr th:only-of-type {\n",
       "        vertical-align: middle;\n",
       "    }\n",
       "\n",
       "    .dataframe tbody tr th {\n",
       "        vertical-align: top;\n",
       "    }\n",
       "\n",
       "    .dataframe thead th {\n",
       "        text-align: right;\n",
       "    }\n",
       "</style>\n",
       "<table border=\"1\" class=\"dataframe\">\n",
       "  <thead>\n",
       "    <tr style=\"text-align: right;\">\n",
       "      <th></th>\n",
       "      <th>Customer ID</th>\n",
       "      <th>Free Account Created Date</th>\n",
       "      <th>Last Seen</th>\n",
       "      <th>Session Count</th>\n",
       "      <th>Segment</th>\n",
       "      <th>First Name</th>\n",
       "      <th>Billing Account</th>\n",
       "      <th>Account Status</th>\n",
       "      <th>Upgraded Account Created Date</th>\n",
       "      <th>Upgraded Account Cancelled Date</th>\n",
       "      <th>Total Charges</th>\n",
       "      <th>Upgraded Time</th>\n",
       "      <th>Price change</th>\n",
       "      <th>Distance Upgraded from Create Free</th>\n",
       "    </tr>\n",
       "  </thead>\n",
       "  <tbody>\n",
       "    <tr>\n",
       "      <th>0</th>\n",
       "      <td>9</td>\n",
       "      <td>2017-05-28</td>\n",
       "      <td>2017-12-18 15:19:31</td>\n",
       "      <td>18</td>\n",
       "      <td>Marketing Segment 3</td>\n",
       "      <td>Garfield</td>\n",
       "      <td>AX#48539</td>\n",
       "      <td>cancelled</td>\n",
       "      <td>2018-04-09</td>\n",
       "      <td>2018-08-22</td>\n",
       "      <td>1107.000000</td>\n",
       "      <td>V1 Released</td>\n",
       "      <td>0</td>\n",
       "      <td>316</td>\n",
       "    </tr>\n",
       "    <tr>\n",
       "      <th>1</th>\n",
       "      <td>21</td>\n",
       "      <td>2017-08-15</td>\n",
       "      <td>2019-04-24 11:07:32</td>\n",
       "      <td>26</td>\n",
       "      <td>Marketing Segment 3</td>\n",
       "      <td>Jenny</td>\n",
       "      <td>AX#32025</td>\n",
       "      <td>cancelled</td>\n",
       "      <td>2018-04-24</td>\n",
       "      <td>2018-12-10</td>\n",
       "      <td>529.000000</td>\n",
       "      <td>V2 Released</td>\n",
       "      <td>0</td>\n",
       "      <td>252</td>\n",
       "    </tr>\n",
       "    <tr>\n",
       "      <th>2</th>\n",
       "      <td>26</td>\n",
       "      <td>2017-10-15</td>\n",
       "      <td>2018-12-29 12:04:00</td>\n",
       "      <td>85</td>\n",
       "      <td>Marketing Segment 2</td>\n",
       "      <td>Susanna</td>\n",
       "      <td>AX#47437</td>\n",
       "      <td>cancelled</td>\n",
       "      <td>2018-04-09</td>\n",
       "      <td>2018-10-30</td>\n",
       "      <td>1373.600000</td>\n",
       "      <td>V2 Released</td>\n",
       "      <td>0</td>\n",
       "      <td>176</td>\n",
       "    </tr>\n",
       "    <tr>\n",
       "      <th>3</th>\n",
       "      <td>28</td>\n",
       "      <td>2017-10-17</td>\n",
       "      <td>2018-02-04 13:07:56</td>\n",
       "      <td>0</td>\n",
       "      <td>Marketing Segment 3</td>\n",
       "      <td>Marlena</td>\n",
       "      <td>AX#63705</td>\n",
       "      <td>cancelled</td>\n",
       "      <td>2018-04-09</td>\n",
       "      <td>2018-08-29</td>\n",
       "      <td>923.000000</td>\n",
       "      <td>V2 Released</td>\n",
       "      <td>0</td>\n",
       "      <td>174</td>\n",
       "    </tr>\n",
       "    <tr>\n",
       "      <th>4</th>\n",
       "      <td>32</td>\n",
       "      <td>2017-10-21</td>\n",
       "      <td>2018-12-18 16:41:38</td>\n",
       "      <td>93</td>\n",
       "      <td>Marketing Segment 2</td>\n",
       "      <td>Desire</td>\n",
       "      <td>AX#23324</td>\n",
       "      <td>cancelled</td>\n",
       "      <td>2018-04-09</td>\n",
       "      <td>2018-12-19</td>\n",
       "      <td>499.533333</td>\n",
       "      <td>V2 Released</td>\n",
       "      <td>0</td>\n",
       "      <td>170</td>\n",
       "    </tr>\n",
       "    <tr>\n",
       "      <th>...</th>\n",
       "      <td>...</td>\n",
       "      <td>...</td>\n",
       "      <td>...</td>\n",
       "      <td>...</td>\n",
       "      <td>...</td>\n",
       "      <td>...</td>\n",
       "      <td>...</td>\n",
       "      <td>...</td>\n",
       "      <td>...</td>\n",
       "      <td>...</td>\n",
       "      <td>...</td>\n",
       "      <td>...</td>\n",
       "      <td>...</td>\n",
       "      <td>...</td>\n",
       "    </tr>\n",
       "    <tr>\n",
       "      <th>117</th>\n",
       "      <td>567</td>\n",
       "      <td>2019-01-13</td>\n",
       "      <td>2019-02-10 16:40:41</td>\n",
       "      <td>0</td>\n",
       "      <td>Marketing Segment 3</td>\n",
       "      <td>Reva</td>\n",
       "      <td>AX#78755</td>\n",
       "      <td>cancelled</td>\n",
       "      <td>2019-01-15</td>\n",
       "      <td>2019-02-10</td>\n",
       "      <td>246.133333</td>\n",
       "      <td>V3 Released</td>\n",
       "      <td>1</td>\n",
       "      <td>2</td>\n",
       "    </tr>\n",
       "    <tr>\n",
       "      <th>118</th>\n",
       "      <td>592</td>\n",
       "      <td>2019-01-20</td>\n",
       "      <td>2019-02-11 05:38:13</td>\n",
       "      <td>1</td>\n",
       "      <td>Marketing Segment 2</td>\n",
       "      <td>Sherrill</td>\n",
       "      <td>AX#22339</td>\n",
       "      <td>cancelled</td>\n",
       "      <td>2019-02-10</td>\n",
       "      <td>2019-05-13</td>\n",
       "      <td>637.866667</td>\n",
       "      <td>V3 Released</td>\n",
       "      <td>1</td>\n",
       "      <td>21</td>\n",
       "    </tr>\n",
       "    <tr>\n",
       "      <th>119</th>\n",
       "      <td>594</td>\n",
       "      <td>2019-01-21</td>\n",
       "      <td>2019-04-28 19:22:05</td>\n",
       "      <td>4</td>\n",
       "      <td>Marketing Segment 3</td>\n",
       "      <td>Joeann</td>\n",
       "      <td>AX#46289</td>\n",
       "      <td>cancelled</td>\n",
       "      <td>2019-02-17</td>\n",
       "      <td>2019-02-22</td>\n",
       "      <td>17.833333</td>\n",
       "      <td>V3 Released</td>\n",
       "      <td>1</td>\n",
       "      <td>27</td>\n",
       "    </tr>\n",
       "    <tr>\n",
       "      <th>120</th>\n",
       "      <td>599</td>\n",
       "      <td>2019-01-23</td>\n",
       "      <td>2019-04-27 17:24:41</td>\n",
       "      <td>5</td>\n",
       "      <td>Marketing Segment 1</td>\n",
       "      <td>Abraham</td>\n",
       "      <td>AX#88573</td>\n",
       "      <td>cancelled</td>\n",
       "      <td>2019-01-23</td>\n",
       "      <td>2019-03-19</td>\n",
       "      <td>458.333333</td>\n",
       "      <td>V3 Released</td>\n",
       "      <td>1</td>\n",
       "      <td>0</td>\n",
       "    </tr>\n",
       "    <tr>\n",
       "      <th>121</th>\n",
       "      <td>629</td>\n",
       "      <td>2019-02-01</td>\n",
       "      <td>2019-02-23 02:54:50</td>\n",
       "      <td>14</td>\n",
       "      <td>Marketing Segment 2</td>\n",
       "      <td>Delinda</td>\n",
       "      <td>AX#67693</td>\n",
       "      <td>cancelled</td>\n",
       "      <td>2019-02-17</td>\n",
       "      <td>2019-02-23</td>\n",
       "      <td>31.000000</td>\n",
       "      <td>V3 Released</td>\n",
       "      <td>1</td>\n",
       "      <td>16</td>\n",
       "    </tr>\n",
       "  </tbody>\n",
       "</table>\n",
       "<p>121 rows × 14 columns</p>\n",
       "</div>"
      ],
      "text/plain": [
       "     Customer ID Free Account Created Date           Last Seen  Session Count  \\\n",
       "0              9                2017-05-28 2017-12-18 15:19:31             18   \n",
       "1             21                2017-08-15 2019-04-24 11:07:32             26   \n",
       "2             26                2017-10-15 2018-12-29 12:04:00             85   \n",
       "3             28                2017-10-17 2018-02-04 13:07:56              0   \n",
       "4             32                2017-10-21 2018-12-18 16:41:38             93   \n",
       "..           ...                       ...                 ...            ...   \n",
       "117          567                2019-01-13 2019-02-10 16:40:41              0   \n",
       "118          592                2019-01-20 2019-02-11 05:38:13              1   \n",
       "119          594                2019-01-21 2019-04-28 19:22:05              4   \n",
       "120          599                2019-01-23 2019-04-27 17:24:41              5   \n",
       "121          629                2019-02-01 2019-02-23 02:54:50             14   \n",
       "\n",
       "                 Segment First Name Billing Account Account Status  \\\n",
       "0    Marketing Segment 3   Garfield        AX#48539      cancelled   \n",
       "1    Marketing Segment 3      Jenny        AX#32025      cancelled   \n",
       "2    Marketing Segment 2    Susanna        AX#47437      cancelled   \n",
       "3    Marketing Segment 3    Marlena        AX#63705      cancelled   \n",
       "4    Marketing Segment 2     Desire        AX#23324      cancelled   \n",
       "..                   ...        ...             ...            ...   \n",
       "117  Marketing Segment 3       Reva        AX#78755      cancelled   \n",
       "118  Marketing Segment 2   Sherrill        AX#22339      cancelled   \n",
       "119  Marketing Segment 3     Joeann        AX#46289      cancelled   \n",
       "120  Marketing Segment 1    Abraham        AX#88573      cancelled   \n",
       "121  Marketing Segment 2    Delinda        AX#67693      cancelled   \n",
       "\n",
       "    Upgraded Account Created Date Upgraded Account Cancelled Date  \\\n",
       "0                      2018-04-09                      2018-08-22   \n",
       "1                      2018-04-24                      2018-12-10   \n",
       "2                      2018-04-09                      2018-10-30   \n",
       "3                      2018-04-09                      2018-08-29   \n",
       "4                      2018-04-09                      2018-12-19   \n",
       "..                            ...                             ...   \n",
       "117                    2019-01-15                      2019-02-10   \n",
       "118                    2019-02-10                      2019-05-13   \n",
       "119                    2019-02-17                      2019-02-22   \n",
       "120                    2019-01-23                      2019-03-19   \n",
       "121                    2019-02-17                      2019-02-23   \n",
       "\n",
       "     Total Charges Upgraded Time Price change  \\\n",
       "0      1107.000000   V1 Released            0   \n",
       "1       529.000000   V2 Released            0   \n",
       "2      1373.600000   V2 Released            0   \n",
       "3       923.000000   V2 Released            0   \n",
       "4       499.533333   V2 Released            0   \n",
       "..             ...           ...          ...   \n",
       "117     246.133333   V3 Released            1   \n",
       "118     637.866667   V3 Released            1   \n",
       "119      17.833333   V3 Released            1   \n",
       "120     458.333333   V3 Released            1   \n",
       "121      31.000000   V3 Released            1   \n",
       "\n",
       "     Distance Upgraded from Create Free  \n",
       "0                                   316  \n",
       "1                                   252  \n",
       "2                                   176  \n",
       "3                                   174  \n",
       "4                                   170  \n",
       "..                                  ...  \n",
       "117                                   2  \n",
       "118                                  21  \n",
       "119                                  27  \n",
       "120                                   0  \n",
       "121                                  16  \n",
       "\n",
       "[121 rows x 14 columns]"
      ]
     },
     "execution_count": 373,
     "metadata": {},
     "output_type": "execute_result"
    }
   ],
   "source": [
    "df_cancelled"
   ]
  },
  {
   "cell_type": "code",
   "execution_count": 374,
   "metadata": {},
   "outputs": [
    {
     "data": {
      "text/html": [
       "<div>\n",
       "<style scoped>\n",
       "    .dataframe tbody tr th:only-of-type {\n",
       "        vertical-align: middle;\n",
       "    }\n",
       "\n",
       "    .dataframe tbody tr th {\n",
       "        vertical-align: top;\n",
       "    }\n",
       "\n",
       "    .dataframe thead th {\n",
       "        text-align: right;\n",
       "    }\n",
       "</style>\n",
       "<table border=\"1\" class=\"dataframe\">\n",
       "  <thead>\n",
       "    <tr style=\"text-align: right;\">\n",
       "      <th></th>\n",
       "      <th>Customer ID</th>\n",
       "      <th>Free Account Created Date</th>\n",
       "      <th>Last Seen</th>\n",
       "      <th>Session Count</th>\n",
       "      <th>Segment</th>\n",
       "      <th>First Name</th>\n",
       "      <th>Billing Account</th>\n",
       "      <th>Account Status</th>\n",
       "      <th>Upgraded Account Created Date</th>\n",
       "      <th>Upgraded Account Cancelled Date</th>\n",
       "      <th>Total Charges</th>\n",
       "      <th>Upgraded Time</th>\n",
       "      <th>Price change</th>\n",
       "      <th>Distance Upgraded from Create Free</th>\n",
       "      <th>Distance Time Cancel from Upgraded</th>\n",
       "    </tr>\n",
       "  </thead>\n",
       "  <tbody>\n",
       "    <tr>\n",
       "      <th>0</th>\n",
       "      <td>9</td>\n",
       "      <td>2017-05-28</td>\n",
       "      <td>2017-12-18 15:19:31</td>\n",
       "      <td>18</td>\n",
       "      <td>Marketing Segment 3</td>\n",
       "      <td>Garfield</td>\n",
       "      <td>AX#48539</td>\n",
       "      <td>cancelled</td>\n",
       "      <td>2018-04-09</td>\n",
       "      <td>2018-08-22</td>\n",
       "      <td>1107.000000</td>\n",
       "      <td>V1 Released</td>\n",
       "      <td>0</td>\n",
       "      <td>316</td>\n",
       "      <td>135</td>\n",
       "    </tr>\n",
       "    <tr>\n",
       "      <th>1</th>\n",
       "      <td>21</td>\n",
       "      <td>2017-08-15</td>\n",
       "      <td>2019-04-24 11:07:32</td>\n",
       "      <td>26</td>\n",
       "      <td>Marketing Segment 3</td>\n",
       "      <td>Jenny</td>\n",
       "      <td>AX#32025</td>\n",
       "      <td>cancelled</td>\n",
       "      <td>2018-04-24</td>\n",
       "      <td>2018-12-10</td>\n",
       "      <td>529.000000</td>\n",
       "      <td>V2 Released</td>\n",
       "      <td>0</td>\n",
       "      <td>252</td>\n",
       "      <td>230</td>\n",
       "    </tr>\n",
       "    <tr>\n",
       "      <th>2</th>\n",
       "      <td>26</td>\n",
       "      <td>2017-10-15</td>\n",
       "      <td>2018-12-29 12:04:00</td>\n",
       "      <td>85</td>\n",
       "      <td>Marketing Segment 2</td>\n",
       "      <td>Susanna</td>\n",
       "      <td>AX#47437</td>\n",
       "      <td>cancelled</td>\n",
       "      <td>2018-04-09</td>\n",
       "      <td>2018-10-30</td>\n",
       "      <td>1373.600000</td>\n",
       "      <td>V2 Released</td>\n",
       "      <td>0</td>\n",
       "      <td>176</td>\n",
       "      <td>204</td>\n",
       "    </tr>\n",
       "    <tr>\n",
       "      <th>3</th>\n",
       "      <td>28</td>\n",
       "      <td>2017-10-17</td>\n",
       "      <td>2018-02-04 13:07:56</td>\n",
       "      <td>0</td>\n",
       "      <td>Marketing Segment 3</td>\n",
       "      <td>Marlena</td>\n",
       "      <td>AX#63705</td>\n",
       "      <td>cancelled</td>\n",
       "      <td>2018-04-09</td>\n",
       "      <td>2018-08-29</td>\n",
       "      <td>923.000000</td>\n",
       "      <td>V2 Released</td>\n",
       "      <td>0</td>\n",
       "      <td>174</td>\n",
       "      <td>142</td>\n",
       "    </tr>\n",
       "    <tr>\n",
       "      <th>4</th>\n",
       "      <td>32</td>\n",
       "      <td>2017-10-21</td>\n",
       "      <td>2018-12-18 16:41:38</td>\n",
       "      <td>93</td>\n",
       "      <td>Marketing Segment 2</td>\n",
       "      <td>Desire</td>\n",
       "      <td>AX#23324</td>\n",
       "      <td>cancelled</td>\n",
       "      <td>2018-04-09</td>\n",
       "      <td>2018-12-19</td>\n",
       "      <td>499.533333</td>\n",
       "      <td>V2 Released</td>\n",
       "      <td>0</td>\n",
       "      <td>170</td>\n",
       "      <td>254</td>\n",
       "    </tr>\n",
       "    <tr>\n",
       "      <th>...</th>\n",
       "      <td>...</td>\n",
       "      <td>...</td>\n",
       "      <td>...</td>\n",
       "      <td>...</td>\n",
       "      <td>...</td>\n",
       "      <td>...</td>\n",
       "      <td>...</td>\n",
       "      <td>...</td>\n",
       "      <td>...</td>\n",
       "      <td>...</td>\n",
       "      <td>...</td>\n",
       "      <td>...</td>\n",
       "      <td>...</td>\n",
       "      <td>...</td>\n",
       "      <td>...</td>\n",
       "    </tr>\n",
       "    <tr>\n",
       "      <th>117</th>\n",
       "      <td>567</td>\n",
       "      <td>2019-01-13</td>\n",
       "      <td>2019-02-10 16:40:41</td>\n",
       "      <td>0</td>\n",
       "      <td>Marketing Segment 3</td>\n",
       "      <td>Reva</td>\n",
       "      <td>AX#78755</td>\n",
       "      <td>cancelled</td>\n",
       "      <td>2019-01-15</td>\n",
       "      <td>2019-02-10</td>\n",
       "      <td>246.133333</td>\n",
       "      <td>V3 Released</td>\n",
       "      <td>1</td>\n",
       "      <td>2</td>\n",
       "      <td>26</td>\n",
       "    </tr>\n",
       "    <tr>\n",
       "      <th>118</th>\n",
       "      <td>592</td>\n",
       "      <td>2019-01-20</td>\n",
       "      <td>2019-02-11 05:38:13</td>\n",
       "      <td>1</td>\n",
       "      <td>Marketing Segment 2</td>\n",
       "      <td>Sherrill</td>\n",
       "      <td>AX#22339</td>\n",
       "      <td>cancelled</td>\n",
       "      <td>2019-02-10</td>\n",
       "      <td>2019-05-13</td>\n",
       "      <td>637.866667</td>\n",
       "      <td>V3 Released</td>\n",
       "      <td>1</td>\n",
       "      <td>21</td>\n",
       "      <td>92</td>\n",
       "    </tr>\n",
       "    <tr>\n",
       "      <th>119</th>\n",
       "      <td>594</td>\n",
       "      <td>2019-01-21</td>\n",
       "      <td>2019-04-28 19:22:05</td>\n",
       "      <td>4</td>\n",
       "      <td>Marketing Segment 3</td>\n",
       "      <td>Joeann</td>\n",
       "      <td>AX#46289</td>\n",
       "      <td>cancelled</td>\n",
       "      <td>2019-02-17</td>\n",
       "      <td>2019-02-22</td>\n",
       "      <td>17.833333</td>\n",
       "      <td>V3 Released</td>\n",
       "      <td>1</td>\n",
       "      <td>27</td>\n",
       "      <td>5</td>\n",
       "    </tr>\n",
       "    <tr>\n",
       "      <th>120</th>\n",
       "      <td>599</td>\n",
       "      <td>2019-01-23</td>\n",
       "      <td>2019-04-27 17:24:41</td>\n",
       "      <td>5</td>\n",
       "      <td>Marketing Segment 1</td>\n",
       "      <td>Abraham</td>\n",
       "      <td>AX#88573</td>\n",
       "      <td>cancelled</td>\n",
       "      <td>2019-01-23</td>\n",
       "      <td>2019-03-19</td>\n",
       "      <td>458.333333</td>\n",
       "      <td>V3 Released</td>\n",
       "      <td>1</td>\n",
       "      <td>0</td>\n",
       "      <td>55</td>\n",
       "    </tr>\n",
       "    <tr>\n",
       "      <th>121</th>\n",
       "      <td>629</td>\n",
       "      <td>2019-02-01</td>\n",
       "      <td>2019-02-23 02:54:50</td>\n",
       "      <td>14</td>\n",
       "      <td>Marketing Segment 2</td>\n",
       "      <td>Delinda</td>\n",
       "      <td>AX#67693</td>\n",
       "      <td>cancelled</td>\n",
       "      <td>2019-02-17</td>\n",
       "      <td>2019-02-23</td>\n",
       "      <td>31.000000</td>\n",
       "      <td>V3 Released</td>\n",
       "      <td>1</td>\n",
       "      <td>16</td>\n",
       "      <td>6</td>\n",
       "    </tr>\n",
       "  </tbody>\n",
       "</table>\n",
       "<p>121 rows × 15 columns</p>\n",
       "</div>"
      ],
      "text/plain": [
       "     Customer ID Free Account Created Date           Last Seen  Session Count  \\\n",
       "0              9                2017-05-28 2017-12-18 15:19:31             18   \n",
       "1             21                2017-08-15 2019-04-24 11:07:32             26   \n",
       "2             26                2017-10-15 2018-12-29 12:04:00             85   \n",
       "3             28                2017-10-17 2018-02-04 13:07:56              0   \n",
       "4             32                2017-10-21 2018-12-18 16:41:38             93   \n",
       "..           ...                       ...                 ...            ...   \n",
       "117          567                2019-01-13 2019-02-10 16:40:41              0   \n",
       "118          592                2019-01-20 2019-02-11 05:38:13              1   \n",
       "119          594                2019-01-21 2019-04-28 19:22:05              4   \n",
       "120          599                2019-01-23 2019-04-27 17:24:41              5   \n",
       "121          629                2019-02-01 2019-02-23 02:54:50             14   \n",
       "\n",
       "                 Segment First Name Billing Account Account Status  \\\n",
       "0    Marketing Segment 3   Garfield        AX#48539      cancelled   \n",
       "1    Marketing Segment 3      Jenny        AX#32025      cancelled   \n",
       "2    Marketing Segment 2    Susanna        AX#47437      cancelled   \n",
       "3    Marketing Segment 3    Marlena        AX#63705      cancelled   \n",
       "4    Marketing Segment 2     Desire        AX#23324      cancelled   \n",
       "..                   ...        ...             ...            ...   \n",
       "117  Marketing Segment 3       Reva        AX#78755      cancelled   \n",
       "118  Marketing Segment 2   Sherrill        AX#22339      cancelled   \n",
       "119  Marketing Segment 3     Joeann        AX#46289      cancelled   \n",
       "120  Marketing Segment 1    Abraham        AX#88573      cancelled   \n",
       "121  Marketing Segment 2    Delinda        AX#67693      cancelled   \n",
       "\n",
       "    Upgraded Account Created Date Upgraded Account Cancelled Date  \\\n",
       "0                      2018-04-09                      2018-08-22   \n",
       "1                      2018-04-24                      2018-12-10   \n",
       "2                      2018-04-09                      2018-10-30   \n",
       "3                      2018-04-09                      2018-08-29   \n",
       "4                      2018-04-09                      2018-12-19   \n",
       "..                            ...                             ...   \n",
       "117                    2019-01-15                      2019-02-10   \n",
       "118                    2019-02-10                      2019-05-13   \n",
       "119                    2019-02-17                      2019-02-22   \n",
       "120                    2019-01-23                      2019-03-19   \n",
       "121                    2019-02-17                      2019-02-23   \n",
       "\n",
       "     Total Charges Upgraded Time Price change  \\\n",
       "0      1107.000000   V1 Released            0   \n",
       "1       529.000000   V2 Released            0   \n",
       "2      1373.600000   V2 Released            0   \n",
       "3       923.000000   V2 Released            0   \n",
       "4       499.533333   V2 Released            0   \n",
       "..             ...           ...          ...   \n",
       "117     246.133333   V3 Released            1   \n",
       "118     637.866667   V3 Released            1   \n",
       "119      17.833333   V3 Released            1   \n",
       "120     458.333333   V3 Released            1   \n",
       "121      31.000000   V3 Released            1   \n",
       "\n",
       "     Distance Upgraded from Create Free  Distance Time Cancel from Upgraded  \n",
       "0                                   316                                 135  \n",
       "1                                   252                                 230  \n",
       "2                                   176                                 204  \n",
       "3                                   174                                 142  \n",
       "4                                   170                                 254  \n",
       "..                                  ...                                 ...  \n",
       "117                                   2                                  26  \n",
       "118                                  21                                  92  \n",
       "119                                  27                                   5  \n",
       "120                                   0                                  55  \n",
       "121                                  16                                   6  \n",
       "\n",
       "[121 rows x 15 columns]"
      ]
     },
     "execution_count": 374,
     "metadata": {},
     "output_type": "execute_result"
    }
   ],
   "source": [
    "df_cancelled['Distance Time Cancel from Upgraded']=(df_cancelled['Upgraded Account Cancelled Date']-df_cancelled['Upgraded Account Created Date']).dt.days\n",
    "df_cancelled.astype({'Distance Time Cancel from Upgraded':'int'})\n",
    "df_cancelled\n"
   ]
  },
  {
   "cell_type": "code",
   "execution_count": 377,
   "metadata": {},
   "outputs": [
    {
     "data": {
      "application/vnd.plotly.v1+json": {
       "config": {
        "plotlyServerURL": "https://plot.ly"
       },
       "data": [
        {
         "customdata": [
          [
           "cancelled"
          ],
          [
           "cancelled"
          ],
          [
           "cancelled"
          ],
          [
           "cancelled"
          ],
          [
           "cancelled"
          ],
          [
           "cancelled"
          ],
          [
           "cancelled"
          ],
          [
           "cancelled"
          ],
          [
           "cancelled"
          ],
          [
           "cancelled"
          ],
          [
           "cancelled"
          ],
          [
           "cancelled"
          ],
          [
           "cancelled"
          ],
          [
           "cancelled"
          ],
          [
           "cancelled"
          ],
          [
           "cancelled"
          ],
          [
           "cancelled"
          ],
          [
           "cancelled"
          ],
          [
           "cancelled"
          ],
          [
           "cancelled"
          ],
          [
           "cancelled"
          ],
          [
           "cancelled"
          ],
          [
           "cancelled"
          ],
          [
           "cancelled"
          ],
          [
           "cancelled"
          ],
          [
           "cancelled"
          ],
          [
           "cancelled"
          ],
          [
           "cancelled"
          ],
          [
           "cancelled"
          ],
          [
           "cancelled"
          ],
          [
           "cancelled"
          ],
          [
           "cancelled"
          ],
          [
           "cancelled"
          ],
          [
           "cancelled"
          ],
          [
           "cancelled"
          ],
          [
           "cancelled"
          ],
          [
           "cancelled"
          ],
          [
           "cancelled"
          ],
          [
           "cancelled"
          ],
          [
           "cancelled"
          ],
          [
           "cancelled"
          ],
          [
           "cancelled"
          ],
          [
           "cancelled"
          ],
          [
           "cancelled"
          ],
          [
           "cancelled"
          ],
          [
           "cancelled"
          ],
          [
           "cancelled"
          ],
          [
           "cancelled"
          ],
          [
           "cancelled"
          ],
          [
           "cancelled"
          ],
          [
           "cancelled"
          ],
          [
           "cancelled"
          ],
          [
           "cancelled"
          ],
          [
           "cancelled"
          ],
          [
           "cancelled"
          ],
          [
           "cancelled"
          ],
          [
           "cancelled"
          ],
          [
           "cancelled"
          ],
          [
           "cancelled"
          ],
          [
           "cancelled"
          ],
          [
           "cancelled"
          ],
          [
           "cancelled"
          ],
          [
           "cancelled"
          ],
          [
           "cancelled"
          ],
          [
           "cancelled"
          ],
          [
           "cancelled"
          ],
          [
           "cancelled"
          ],
          [
           "cancelled"
          ],
          [
           "cancelled"
          ],
          [
           "cancelled"
          ],
          [
           "cancelled"
          ],
          [
           "cancelled"
          ],
          [
           "cancelled"
          ],
          [
           "cancelled"
          ],
          [
           "cancelled"
          ],
          [
           "cancelled"
          ],
          [
           "cancelled"
          ],
          [
           "cancelled"
          ],
          [
           "cancelled"
          ],
          [
           "cancelled"
          ],
          [
           "cancelled"
          ],
          [
           "cancelled"
          ],
          [
           "cancelled"
          ],
          [
           "cancelled"
          ],
          [
           "cancelled"
          ],
          [
           "cancelled"
          ],
          [
           "cancelled"
          ],
          [
           "cancelled"
          ],
          [
           "cancelled"
          ],
          [
           "cancelled"
          ],
          [
           "cancelled"
          ],
          [
           "cancelled"
          ],
          [
           "cancelled"
          ],
          [
           "cancelled"
          ],
          [
           "cancelled"
          ],
          [
           "cancelled"
          ],
          [
           "cancelled"
          ],
          [
           "cancelled"
          ],
          [
           "cancelled"
          ],
          [
           "cancelled"
          ],
          [
           "cancelled"
          ],
          [
           "cancelled"
          ],
          [
           "cancelled"
          ],
          [
           "cancelled"
          ],
          [
           "cancelled"
          ],
          [
           "cancelled"
          ],
          [
           "cancelled"
          ],
          [
           "cancelled"
          ],
          [
           "cancelled"
          ],
          [
           "cancelled"
          ],
          [
           "cancelled"
          ],
          [
           "cancelled"
          ],
          [
           "cancelled"
          ],
          [
           "cancelled"
          ],
          [
           "cancelled"
          ],
          [
           "cancelled"
          ],
          [
           "cancelled"
          ],
          [
           "cancelled"
          ],
          [
           "cancelled"
          ],
          [
           "cancelled"
          ],
          [
           "cancelled"
          ]
         ],
         "hovertemplate": "Account Status=%{customdata[0]}<br>Distance Time Cancel from Upgraded=%{x}<br>index=%{y}<extra></extra>",
         "legendgroup": "cancelled",
         "marker": {
          "color": "#636efa",
          "symbol": "circle"
         },
         "mode": "markers",
         "name": "cancelled",
         "orientation": "h",
         "showlegend": true,
         "type": "scatter",
         "x": [
          135,
          230,
          204,
          142,
          254,
          446,
          260,
          0,
          181,
          211,
          323,
          214,
          294,
          280,
          0,
          221,
          180,
          7,
          198,
          7,
          317,
          39,
          343,
          61,
          106,
          296,
          148,
          150,
          168,
          83,
          67,
          67,
          303,
          125,
          17,
          40,
          83,
          294,
          30,
          85,
          28,
          28,
          41,
          133,
          111,
          28,
          28,
          192,
          93,
          95,
          3,
          28,
          31,
          119,
          53,
          141,
          25,
          28,
          28,
          28,
          28,
          173,
          178,
          155,
          28,
          61,
          7,
          28,
          86,
          137,
          38,
          101,
          28,
          8,
          213,
          39,
          52,
          62,
          28,
          3,
          55,
          106,
          20,
          1,
          19,
          92,
          117,
          58,
          28,
          114,
          31,
          49,
          78,
          28,
          28,
          7,
          21,
          28,
          28,
          27,
          16,
          1,
          20,
          19,
          24,
          24,
          10,
          58,
          17,
          39,
          50,
          8,
          27,
          60,
          31,
          57,
          26,
          92,
          5,
          55,
          6
         ],
         "xaxis": "x",
         "y": [
          0,
          1,
          2,
          3,
          4,
          5,
          6,
          7,
          8,
          9,
          10,
          11,
          12,
          13,
          14,
          15,
          16,
          17,
          18,
          19,
          20,
          21,
          22,
          23,
          24,
          25,
          26,
          27,
          28,
          29,
          30,
          31,
          32,
          33,
          34,
          35,
          36,
          37,
          38,
          39,
          40,
          41,
          42,
          43,
          44,
          45,
          46,
          47,
          48,
          49,
          50,
          51,
          52,
          53,
          54,
          55,
          56,
          57,
          58,
          59,
          60,
          61,
          62,
          63,
          64,
          65,
          66,
          67,
          68,
          69,
          70,
          71,
          72,
          73,
          74,
          75,
          76,
          77,
          79,
          80,
          81,
          82,
          83,
          84,
          85,
          86,
          87,
          88,
          89,
          90,
          91,
          92,
          93,
          94,
          95,
          96,
          97,
          98,
          99,
          100,
          101,
          102,
          103,
          104,
          105,
          106,
          107,
          108,
          109,
          110,
          111,
          112,
          113,
          114,
          115,
          116,
          117,
          118,
          119,
          120,
          121
         ],
         "yaxis": "y"
        }
       ],
       "layout": {
        "legend": {
         "title": {
          "text": "Account Status"
         },
         "tracegroupgap": 0
        },
        "margin": {
         "t": 60
        },
        "template": {
         "data": {
          "bar": [
           {
            "error_x": {
             "color": "#2a3f5f"
            },
            "error_y": {
             "color": "#2a3f5f"
            },
            "marker": {
             "line": {
              "color": "#E5ECF6",
              "width": 0.5
             },
             "pattern": {
              "fillmode": "overlay",
              "size": 10,
              "solidity": 0.2
             }
            },
            "type": "bar"
           }
          ],
          "barpolar": [
           {
            "marker": {
             "line": {
              "color": "#E5ECF6",
              "width": 0.5
             },
             "pattern": {
              "fillmode": "overlay",
              "size": 10,
              "solidity": 0.2
             }
            },
            "type": "barpolar"
           }
          ],
          "carpet": [
           {
            "aaxis": {
             "endlinecolor": "#2a3f5f",
             "gridcolor": "white",
             "linecolor": "white",
             "minorgridcolor": "white",
             "startlinecolor": "#2a3f5f"
            },
            "baxis": {
             "endlinecolor": "#2a3f5f",
             "gridcolor": "white",
             "linecolor": "white",
             "minorgridcolor": "white",
             "startlinecolor": "#2a3f5f"
            },
            "type": "carpet"
           }
          ],
          "choropleth": [
           {
            "colorbar": {
             "outlinewidth": 0,
             "ticks": ""
            },
            "type": "choropleth"
           }
          ],
          "contour": [
           {
            "colorbar": {
             "outlinewidth": 0,
             "ticks": ""
            },
            "colorscale": [
             [
              0,
              "#0d0887"
             ],
             [
              0.1111111111111111,
              "#46039f"
             ],
             [
              0.2222222222222222,
              "#7201a8"
             ],
             [
              0.3333333333333333,
              "#9c179e"
             ],
             [
              0.4444444444444444,
              "#bd3786"
             ],
             [
              0.5555555555555556,
              "#d8576b"
             ],
             [
              0.6666666666666666,
              "#ed7953"
             ],
             [
              0.7777777777777778,
              "#fb9f3a"
             ],
             [
              0.8888888888888888,
              "#fdca26"
             ],
             [
              1,
              "#f0f921"
             ]
            ],
            "type": "contour"
           }
          ],
          "contourcarpet": [
           {
            "colorbar": {
             "outlinewidth": 0,
             "ticks": ""
            },
            "type": "contourcarpet"
           }
          ],
          "heatmap": [
           {
            "colorbar": {
             "outlinewidth": 0,
             "ticks": ""
            },
            "colorscale": [
             [
              0,
              "#0d0887"
             ],
             [
              0.1111111111111111,
              "#46039f"
             ],
             [
              0.2222222222222222,
              "#7201a8"
             ],
             [
              0.3333333333333333,
              "#9c179e"
             ],
             [
              0.4444444444444444,
              "#bd3786"
             ],
             [
              0.5555555555555556,
              "#d8576b"
             ],
             [
              0.6666666666666666,
              "#ed7953"
             ],
             [
              0.7777777777777778,
              "#fb9f3a"
             ],
             [
              0.8888888888888888,
              "#fdca26"
             ],
             [
              1,
              "#f0f921"
             ]
            ],
            "type": "heatmap"
           }
          ],
          "heatmapgl": [
           {
            "colorbar": {
             "outlinewidth": 0,
             "ticks": ""
            },
            "colorscale": [
             [
              0,
              "#0d0887"
             ],
             [
              0.1111111111111111,
              "#46039f"
             ],
             [
              0.2222222222222222,
              "#7201a8"
             ],
             [
              0.3333333333333333,
              "#9c179e"
             ],
             [
              0.4444444444444444,
              "#bd3786"
             ],
             [
              0.5555555555555556,
              "#d8576b"
             ],
             [
              0.6666666666666666,
              "#ed7953"
             ],
             [
              0.7777777777777778,
              "#fb9f3a"
             ],
             [
              0.8888888888888888,
              "#fdca26"
             ],
             [
              1,
              "#f0f921"
             ]
            ],
            "type": "heatmapgl"
           }
          ],
          "histogram": [
           {
            "marker": {
             "pattern": {
              "fillmode": "overlay",
              "size": 10,
              "solidity": 0.2
             }
            },
            "type": "histogram"
           }
          ],
          "histogram2d": [
           {
            "colorbar": {
             "outlinewidth": 0,
             "ticks": ""
            },
            "colorscale": [
             [
              0,
              "#0d0887"
             ],
             [
              0.1111111111111111,
              "#46039f"
             ],
             [
              0.2222222222222222,
              "#7201a8"
             ],
             [
              0.3333333333333333,
              "#9c179e"
             ],
             [
              0.4444444444444444,
              "#bd3786"
             ],
             [
              0.5555555555555556,
              "#d8576b"
             ],
             [
              0.6666666666666666,
              "#ed7953"
             ],
             [
              0.7777777777777778,
              "#fb9f3a"
             ],
             [
              0.8888888888888888,
              "#fdca26"
             ],
             [
              1,
              "#f0f921"
             ]
            ],
            "type": "histogram2d"
           }
          ],
          "histogram2dcontour": [
           {
            "colorbar": {
             "outlinewidth": 0,
             "ticks": ""
            },
            "colorscale": [
             [
              0,
              "#0d0887"
             ],
             [
              0.1111111111111111,
              "#46039f"
             ],
             [
              0.2222222222222222,
              "#7201a8"
             ],
             [
              0.3333333333333333,
              "#9c179e"
             ],
             [
              0.4444444444444444,
              "#bd3786"
             ],
             [
              0.5555555555555556,
              "#d8576b"
             ],
             [
              0.6666666666666666,
              "#ed7953"
             ],
             [
              0.7777777777777778,
              "#fb9f3a"
             ],
             [
              0.8888888888888888,
              "#fdca26"
             ],
             [
              1,
              "#f0f921"
             ]
            ],
            "type": "histogram2dcontour"
           }
          ],
          "mesh3d": [
           {
            "colorbar": {
             "outlinewidth": 0,
             "ticks": ""
            },
            "type": "mesh3d"
           }
          ],
          "parcoords": [
           {
            "line": {
             "colorbar": {
              "outlinewidth": 0,
              "ticks": ""
             }
            },
            "type": "parcoords"
           }
          ],
          "pie": [
           {
            "automargin": true,
            "type": "pie"
           }
          ],
          "scatter": [
           {
            "marker": {
             "colorbar": {
              "outlinewidth": 0,
              "ticks": ""
             }
            },
            "type": "scatter"
           }
          ],
          "scatter3d": [
           {
            "line": {
             "colorbar": {
              "outlinewidth": 0,
              "ticks": ""
             }
            },
            "marker": {
             "colorbar": {
              "outlinewidth": 0,
              "ticks": ""
             }
            },
            "type": "scatter3d"
           }
          ],
          "scattercarpet": [
           {
            "marker": {
             "colorbar": {
              "outlinewidth": 0,
              "ticks": ""
             }
            },
            "type": "scattercarpet"
           }
          ],
          "scattergeo": [
           {
            "marker": {
             "colorbar": {
              "outlinewidth": 0,
              "ticks": ""
             }
            },
            "type": "scattergeo"
           }
          ],
          "scattergl": [
           {
            "marker": {
             "colorbar": {
              "outlinewidth": 0,
              "ticks": ""
             }
            },
            "type": "scattergl"
           }
          ],
          "scattermapbox": [
           {
            "marker": {
             "colorbar": {
              "outlinewidth": 0,
              "ticks": ""
             }
            },
            "type": "scattermapbox"
           }
          ],
          "scatterpolar": [
           {
            "marker": {
             "colorbar": {
              "outlinewidth": 0,
              "ticks": ""
             }
            },
            "type": "scatterpolar"
           }
          ],
          "scatterpolargl": [
           {
            "marker": {
             "colorbar": {
              "outlinewidth": 0,
              "ticks": ""
             }
            },
            "type": "scatterpolargl"
           }
          ],
          "scatterternary": [
           {
            "marker": {
             "colorbar": {
              "outlinewidth": 0,
              "ticks": ""
             }
            },
            "type": "scatterternary"
           }
          ],
          "surface": [
           {
            "colorbar": {
             "outlinewidth": 0,
             "ticks": ""
            },
            "colorscale": [
             [
              0,
              "#0d0887"
             ],
             [
              0.1111111111111111,
              "#46039f"
             ],
             [
              0.2222222222222222,
              "#7201a8"
             ],
             [
              0.3333333333333333,
              "#9c179e"
             ],
             [
              0.4444444444444444,
              "#bd3786"
             ],
             [
              0.5555555555555556,
              "#d8576b"
             ],
             [
              0.6666666666666666,
              "#ed7953"
             ],
             [
              0.7777777777777778,
              "#fb9f3a"
             ],
             [
              0.8888888888888888,
              "#fdca26"
             ],
             [
              1,
              "#f0f921"
             ]
            ],
            "type": "surface"
           }
          ],
          "table": [
           {
            "cells": {
             "fill": {
              "color": "#EBF0F8"
             },
             "line": {
              "color": "white"
             }
            },
            "header": {
             "fill": {
              "color": "#C8D4E3"
             },
             "line": {
              "color": "white"
             }
            },
            "type": "table"
           }
          ]
         },
         "layout": {
          "annotationdefaults": {
           "arrowcolor": "#2a3f5f",
           "arrowhead": 0,
           "arrowwidth": 1
          },
          "autotypenumbers": "strict",
          "coloraxis": {
           "colorbar": {
            "outlinewidth": 0,
            "ticks": ""
           }
          },
          "colorscale": {
           "diverging": [
            [
             0,
             "#8e0152"
            ],
            [
             0.1,
             "#c51b7d"
            ],
            [
             0.2,
             "#de77ae"
            ],
            [
             0.3,
             "#f1b6da"
            ],
            [
             0.4,
             "#fde0ef"
            ],
            [
             0.5,
             "#f7f7f7"
            ],
            [
             0.6,
             "#e6f5d0"
            ],
            [
             0.7,
             "#b8e186"
            ],
            [
             0.8,
             "#7fbc41"
            ],
            [
             0.9,
             "#4d9221"
            ],
            [
             1,
             "#276419"
            ]
           ],
           "sequential": [
            [
             0,
             "#0d0887"
            ],
            [
             0.1111111111111111,
             "#46039f"
            ],
            [
             0.2222222222222222,
             "#7201a8"
            ],
            [
             0.3333333333333333,
             "#9c179e"
            ],
            [
             0.4444444444444444,
             "#bd3786"
            ],
            [
             0.5555555555555556,
             "#d8576b"
            ],
            [
             0.6666666666666666,
             "#ed7953"
            ],
            [
             0.7777777777777778,
             "#fb9f3a"
            ],
            [
             0.8888888888888888,
             "#fdca26"
            ],
            [
             1,
             "#f0f921"
            ]
           ],
           "sequentialminus": [
            [
             0,
             "#0d0887"
            ],
            [
             0.1111111111111111,
             "#46039f"
            ],
            [
             0.2222222222222222,
             "#7201a8"
            ],
            [
             0.3333333333333333,
             "#9c179e"
            ],
            [
             0.4444444444444444,
             "#bd3786"
            ],
            [
             0.5555555555555556,
             "#d8576b"
            ],
            [
             0.6666666666666666,
             "#ed7953"
            ],
            [
             0.7777777777777778,
             "#fb9f3a"
            ],
            [
             0.8888888888888888,
             "#fdca26"
            ],
            [
             1,
             "#f0f921"
            ]
           ]
          },
          "colorway": [
           "#636efa",
           "#EF553B",
           "#00cc96",
           "#ab63fa",
           "#FFA15A",
           "#19d3f3",
           "#FF6692",
           "#B6E880",
           "#FF97FF",
           "#FECB52"
          ],
          "font": {
           "color": "#2a3f5f"
          },
          "geo": {
           "bgcolor": "white",
           "lakecolor": "white",
           "landcolor": "#E5ECF6",
           "showlakes": true,
           "showland": true,
           "subunitcolor": "white"
          },
          "hoverlabel": {
           "align": "left"
          },
          "hovermode": "closest",
          "mapbox": {
           "style": "light"
          },
          "paper_bgcolor": "white",
          "plot_bgcolor": "#E5ECF6",
          "polar": {
           "angularaxis": {
            "gridcolor": "white",
            "linecolor": "white",
            "ticks": ""
           },
           "bgcolor": "#E5ECF6",
           "radialaxis": {
            "gridcolor": "white",
            "linecolor": "white",
            "ticks": ""
           }
          },
          "scene": {
           "xaxis": {
            "backgroundcolor": "#E5ECF6",
            "gridcolor": "white",
            "gridwidth": 2,
            "linecolor": "white",
            "showbackground": true,
            "ticks": "",
            "zerolinecolor": "white"
           },
           "yaxis": {
            "backgroundcolor": "#E5ECF6",
            "gridcolor": "white",
            "gridwidth": 2,
            "linecolor": "white",
            "showbackground": true,
            "ticks": "",
            "zerolinecolor": "white"
           },
           "zaxis": {
            "backgroundcolor": "#E5ECF6",
            "gridcolor": "white",
            "gridwidth": 2,
            "linecolor": "white",
            "showbackground": true,
            "ticks": "",
            "zerolinecolor": "white"
           }
          },
          "shapedefaults": {
           "line": {
            "color": "#2a3f5f"
           }
          },
          "ternary": {
           "aaxis": {
            "gridcolor": "white",
            "linecolor": "white",
            "ticks": ""
           },
           "baxis": {
            "gridcolor": "white",
            "linecolor": "white",
            "ticks": ""
           },
           "bgcolor": "#E5ECF6",
           "caxis": {
            "gridcolor": "white",
            "linecolor": "white",
            "ticks": ""
           }
          },
          "title": {
           "x": 0.05
          },
          "xaxis": {
           "automargin": true,
           "gridcolor": "white",
           "linecolor": "white",
           "ticks": "",
           "title": {
            "standoff": 15
           },
           "zerolinecolor": "white",
           "zerolinewidth": 2
          },
          "yaxis": {
           "automargin": true,
           "gridcolor": "white",
           "linecolor": "white",
           "ticks": "",
           "title": {
            "standoff": 15
           },
           "zerolinecolor": "white",
           "zerolinewidth": 2
          }
         }
        },
        "title": {
         "text": "Distance Time From Upgraded Customer Cancelled "
        },
        "xaxis": {
         "anchor": "y",
         "domain": [
          0,
          1
         ],
         "title": {
          "text": "Distance Time Cancel from Upgraded"
         }
        },
        "yaxis": {
         "anchor": "x",
         "domain": [
          0,
          1
         ],
         "title": {
          "text": "index"
         }
        }
       }
      }
     },
     "metadata": {},
     "output_type": "display_data"
    }
   ],
   "source": [
    "import plotly.express as px\n",
    "fig = px.scatter(df_cancelled, x=\"Distance Time Cancel from Upgraded\",color='Account Status',\n",
    "                  hover_data=['Account Status'])\n",
    "                  \n",
    "fig.update_layout(title_text='Distance Time From Upgraded Customer Cancelled ')\n",
    "fig.show()"
   ]
  },
  {
   "cell_type": "markdown",
   "metadata": {},
   "source": [
    "Sau khi Upgraded Account những khách hàng cancelled nhiều trong khoảng thấp hơn 100 kể từ ngày Upgraded."
   ]
  },
  {
   "cell_type": "code",
   "execution_count": 382,
   "metadata": {},
   "outputs": [
    {
     "data": {
      "text/html": [
       "<div>\n",
       "<style scoped>\n",
       "    .dataframe tbody tr th:only-of-type {\n",
       "        vertical-align: middle;\n",
       "    }\n",
       "\n",
       "    .dataframe tbody tr th {\n",
       "        vertical-align: top;\n",
       "    }\n",
       "\n",
       "    .dataframe thead th {\n",
       "        text-align: right;\n",
       "    }\n",
       "</style>\n",
       "<table border=\"1\" class=\"dataframe\">\n",
       "  <thead>\n",
       "    <tr style=\"text-align: right;\">\n",
       "      <th></th>\n",
       "      <th>Customer ID</th>\n",
       "      <th>Free Account Created Date</th>\n",
       "      <th>Last Seen</th>\n",
       "      <th>Session Count</th>\n",
       "      <th>Segment</th>\n",
       "      <th>First Name</th>\n",
       "      <th>Billing Account</th>\n",
       "      <th>Account Status</th>\n",
       "      <th>Upgraded Account Created Date</th>\n",
       "      <th>Upgraded Account Cancelled Date</th>\n",
       "      <th>Total Charges</th>\n",
       "      <th>Upgraded Time</th>\n",
       "      <th>Price change</th>\n",
       "      <th>Distance Upgraded from Create Free</th>\n",
       "    </tr>\n",
       "  </thead>\n",
       "  <tbody>\n",
       "    <tr>\n",
       "      <th>0</th>\n",
       "      <td>1</td>\n",
       "      <td>2017-05-29</td>\n",
       "      <td>2019-04-05 08:02:32</td>\n",
       "      <td>1379</td>\n",
       "      <td>Marketing Segment 2</td>\n",
       "      <td>Joshua</td>\n",
       "      <td>AX#93195</td>\n",
       "      <td>paying</td>\n",
       "      <td>2019-04-02</td>\n",
       "      <td>NaT</td>\n",
       "      <td>145.600000</td>\n",
       "      <td>V1 Released</td>\n",
       "      <td>0</td>\n",
       "      <td>673</td>\n",
       "    </tr>\n",
       "    <tr>\n",
       "      <th>1</th>\n",
       "      <td>2</td>\n",
       "      <td>2017-12-17</td>\n",
       "      <td>2019-04-27 13:23:56</td>\n",
       "      <td>531</td>\n",
       "      <td>Marketing Segment 1</td>\n",
       "      <td>Ka</td>\n",
       "      <td>AX#20438</td>\n",
       "      <td>paying</td>\n",
       "      <td>2018-11-11</td>\n",
       "      <td>NaT</td>\n",
       "      <td>728.000000</td>\n",
       "      <td>V2 Released</td>\n",
       "      <td>0</td>\n",
       "      <td>329</td>\n",
       "    </tr>\n",
       "    <tr>\n",
       "      <th>2</th>\n",
       "      <td>3</td>\n",
       "      <td>2017-01-30</td>\n",
       "      <td>2019-04-22 15:38:09</td>\n",
       "      <td>317</td>\n",
       "      <td>Marketing Segment 1</td>\n",
       "      <td>Clint</td>\n",
       "      <td>AX#60779</td>\n",
       "      <td>paying</td>\n",
       "      <td>2019-03-15</td>\n",
       "      <td>NaT</td>\n",
       "      <td>277.200000</td>\n",
       "      <td>V1 Released</td>\n",
       "      <td>0</td>\n",
       "      <td>774</td>\n",
       "    </tr>\n",
       "    <tr>\n",
       "      <th>3</th>\n",
       "      <td>4</td>\n",
       "      <td>2017-02-03</td>\n",
       "      <td>2019-04-23 16:30:46</td>\n",
       "      <td>349</td>\n",
       "      <td>Marketing Segment 1</td>\n",
       "      <td>Hong</td>\n",
       "      <td>AX#91209</td>\n",
       "      <td>paying</td>\n",
       "      <td>2019-03-24</td>\n",
       "      <td>NaT</td>\n",
       "      <td>292.833333</td>\n",
       "      <td>V1 Released</td>\n",
       "      <td>0</td>\n",
       "      <td>779</td>\n",
       "    </tr>\n",
       "    <tr>\n",
       "      <th>4</th>\n",
       "      <td>5</td>\n",
       "      <td>2017-03-18</td>\n",
       "      <td>2019-04-05 13:16:33</td>\n",
       "      <td>1158</td>\n",
       "      <td>Marketing Segment 2</td>\n",
       "      <td>Kate</td>\n",
       "      <td>AX#57000</td>\n",
       "      <td>paying</td>\n",
       "      <td>2018-10-12</td>\n",
       "      <td>NaT</td>\n",
       "      <td>462.000000</td>\n",
       "      <td>V1 Released</td>\n",
       "      <td>0</td>\n",
       "      <td>573</td>\n",
       "    </tr>\n",
       "  </tbody>\n",
       "</table>\n",
       "</div>"
      ],
      "text/plain": [
       "   Customer ID Free Account Created Date           Last Seen  Session Count  \\\n",
       "0            1                2017-05-29 2019-04-05 08:02:32           1379   \n",
       "1            2                2017-12-17 2019-04-27 13:23:56            531   \n",
       "2            3                2017-01-30 2019-04-22 15:38:09            317   \n",
       "3            4                2017-02-03 2019-04-23 16:30:46            349   \n",
       "4            5                2017-03-18 2019-04-05 13:16:33           1158   \n",
       "\n",
       "               Segment First Name Billing Account Account Status  \\\n",
       "0  Marketing Segment 2     Joshua        AX#93195         paying   \n",
       "1  Marketing Segment 1         Ka        AX#20438         paying   \n",
       "2  Marketing Segment 1      Clint        AX#60779         paying   \n",
       "3  Marketing Segment 1       Hong        AX#91209         paying   \n",
       "4  Marketing Segment 2       Kate        AX#57000         paying   \n",
       "\n",
       "  Upgraded Account Created Date Upgraded Account Cancelled Date  \\\n",
       "0                    2019-04-02                             NaT   \n",
       "1                    2018-11-11                             NaT   \n",
       "2                    2019-03-15                             NaT   \n",
       "3                    2019-03-24                             NaT   \n",
       "4                    2018-10-12                             NaT   \n",
       "\n",
       "   Total Charges Upgraded Time Price change  \\\n",
       "0     145.600000   V1 Released            0   \n",
       "1     728.000000   V2 Released            0   \n",
       "2     277.200000   V1 Released            0   \n",
       "3     292.833333   V1 Released            0   \n",
       "4     462.000000   V1 Released            0   \n",
       "\n",
       "   Distance Upgraded from Create Free  \n",
       "0                                 673  \n",
       "1                                 329  \n",
       "2                                 774  \n",
       "3                                 779  \n",
       "4                                 573  "
      ]
     },
     "execution_count": 382,
     "metadata": {},
     "output_type": "execute_result"
    }
   ],
   "source": [
    "df.head()"
   ]
  },
  {
   "cell_type": "code",
   "execution_count": 391,
   "metadata": {},
   "outputs": [
    {
     "data": {
      "text/html": [
       "<div>\n",
       "<style scoped>\n",
       "    .dataframe tbody tr th:only-of-type {\n",
       "        vertical-align: middle;\n",
       "    }\n",
       "\n",
       "    .dataframe tbody tr th {\n",
       "        vertical-align: top;\n",
       "    }\n",
       "\n",
       "    .dataframe thead th {\n",
       "        text-align: right;\n",
       "    }\n",
       "</style>\n",
       "<table border=\"1\" class=\"dataframe\">\n",
       "  <thead>\n",
       "    <tr style=\"text-align: right;\">\n",
       "      <th></th>\n",
       "      <th>Segment</th>\n",
       "      <th>Total Charges</th>\n",
       "    </tr>\n",
       "  </thead>\n",
       "  <tbody>\n",
       "    <tr>\n",
       "      <th>0</th>\n",
       "      <td>Marketing Segment 1</td>\n",
       "      <td>165752.800000</td>\n",
       "    </tr>\n",
       "    <tr>\n",
       "      <th>1</th>\n",
       "      <td>Marketing Segment 2</td>\n",
       "      <td>204805.366667</td>\n",
       "    </tr>\n",
       "    <tr>\n",
       "      <th>2</th>\n",
       "      <td>Marketing Segment 3</td>\n",
       "      <td>141076.500000</td>\n",
       "    </tr>\n",
       "  </tbody>\n",
       "</table>\n",
       "</div>"
      ],
      "text/plain": [
       "               Segment  Total Charges\n",
       "0  Marketing Segment 1  165752.800000\n",
       "1  Marketing Segment 2  204805.366667\n",
       "2  Marketing Segment 3  141076.500000"
      ]
     },
     "execution_count": 391,
     "metadata": {},
     "output_type": "execute_result"
    }
   ],
   "source": [
    "df_paying=df[df['Account Status']=='paying']\n",
    "df_total_segment= df_paying.groupby(['Segment'])['Total Charges'].sum().reset_index()\n",
    "df_total_segment"
   ]
  },
  {
   "cell_type": "code",
   "execution_count": 396,
   "metadata": {},
   "outputs": [
    {
     "data": {
      "application/vnd.plotly.v1+json": {
       "config": {
        "plotlyServerURL": "https://plot.ly"
       },
       "data": [
        {
         "labels": [
          "Marketing Segment 1",
          "Marketing Segment 2",
          "Marketing Segment 3"
         ],
         "textinfo": "percent",
         "type": "pie",
         "values": [
          165752.8,
          204805.36666666644,
          141076.50000000006
         ]
        }
       ],
       "layout": {
        "template": {
         "data": {
          "bar": [
           {
            "error_x": {
             "color": "#2a3f5f"
            },
            "error_y": {
             "color": "#2a3f5f"
            },
            "marker": {
             "line": {
              "color": "#E5ECF6",
              "width": 0.5
             },
             "pattern": {
              "fillmode": "overlay",
              "size": 10,
              "solidity": 0.2
             }
            },
            "type": "bar"
           }
          ],
          "barpolar": [
           {
            "marker": {
             "line": {
              "color": "#E5ECF6",
              "width": 0.5
             },
             "pattern": {
              "fillmode": "overlay",
              "size": 10,
              "solidity": 0.2
             }
            },
            "type": "barpolar"
           }
          ],
          "carpet": [
           {
            "aaxis": {
             "endlinecolor": "#2a3f5f",
             "gridcolor": "white",
             "linecolor": "white",
             "minorgridcolor": "white",
             "startlinecolor": "#2a3f5f"
            },
            "baxis": {
             "endlinecolor": "#2a3f5f",
             "gridcolor": "white",
             "linecolor": "white",
             "minorgridcolor": "white",
             "startlinecolor": "#2a3f5f"
            },
            "type": "carpet"
           }
          ],
          "choropleth": [
           {
            "colorbar": {
             "outlinewidth": 0,
             "ticks": ""
            },
            "type": "choropleth"
           }
          ],
          "contour": [
           {
            "colorbar": {
             "outlinewidth": 0,
             "ticks": ""
            },
            "colorscale": [
             [
              0,
              "#0d0887"
             ],
             [
              0.1111111111111111,
              "#46039f"
             ],
             [
              0.2222222222222222,
              "#7201a8"
             ],
             [
              0.3333333333333333,
              "#9c179e"
             ],
             [
              0.4444444444444444,
              "#bd3786"
             ],
             [
              0.5555555555555556,
              "#d8576b"
             ],
             [
              0.6666666666666666,
              "#ed7953"
             ],
             [
              0.7777777777777778,
              "#fb9f3a"
             ],
             [
              0.8888888888888888,
              "#fdca26"
             ],
             [
              1,
              "#f0f921"
             ]
            ],
            "type": "contour"
           }
          ],
          "contourcarpet": [
           {
            "colorbar": {
             "outlinewidth": 0,
             "ticks": ""
            },
            "type": "contourcarpet"
           }
          ],
          "heatmap": [
           {
            "colorbar": {
             "outlinewidth": 0,
             "ticks": ""
            },
            "colorscale": [
             [
              0,
              "#0d0887"
             ],
             [
              0.1111111111111111,
              "#46039f"
             ],
             [
              0.2222222222222222,
              "#7201a8"
             ],
             [
              0.3333333333333333,
              "#9c179e"
             ],
             [
              0.4444444444444444,
              "#bd3786"
             ],
             [
              0.5555555555555556,
              "#d8576b"
             ],
             [
              0.6666666666666666,
              "#ed7953"
             ],
             [
              0.7777777777777778,
              "#fb9f3a"
             ],
             [
              0.8888888888888888,
              "#fdca26"
             ],
             [
              1,
              "#f0f921"
             ]
            ],
            "type": "heatmap"
           }
          ],
          "heatmapgl": [
           {
            "colorbar": {
             "outlinewidth": 0,
             "ticks": ""
            },
            "colorscale": [
             [
              0,
              "#0d0887"
             ],
             [
              0.1111111111111111,
              "#46039f"
             ],
             [
              0.2222222222222222,
              "#7201a8"
             ],
             [
              0.3333333333333333,
              "#9c179e"
             ],
             [
              0.4444444444444444,
              "#bd3786"
             ],
             [
              0.5555555555555556,
              "#d8576b"
             ],
             [
              0.6666666666666666,
              "#ed7953"
             ],
             [
              0.7777777777777778,
              "#fb9f3a"
             ],
             [
              0.8888888888888888,
              "#fdca26"
             ],
             [
              1,
              "#f0f921"
             ]
            ],
            "type": "heatmapgl"
           }
          ],
          "histogram": [
           {
            "marker": {
             "pattern": {
              "fillmode": "overlay",
              "size": 10,
              "solidity": 0.2
             }
            },
            "type": "histogram"
           }
          ],
          "histogram2d": [
           {
            "colorbar": {
             "outlinewidth": 0,
             "ticks": ""
            },
            "colorscale": [
             [
              0,
              "#0d0887"
             ],
             [
              0.1111111111111111,
              "#46039f"
             ],
             [
              0.2222222222222222,
              "#7201a8"
             ],
             [
              0.3333333333333333,
              "#9c179e"
             ],
             [
              0.4444444444444444,
              "#bd3786"
             ],
             [
              0.5555555555555556,
              "#d8576b"
             ],
             [
              0.6666666666666666,
              "#ed7953"
             ],
             [
              0.7777777777777778,
              "#fb9f3a"
             ],
             [
              0.8888888888888888,
              "#fdca26"
             ],
             [
              1,
              "#f0f921"
             ]
            ],
            "type": "histogram2d"
           }
          ],
          "histogram2dcontour": [
           {
            "colorbar": {
             "outlinewidth": 0,
             "ticks": ""
            },
            "colorscale": [
             [
              0,
              "#0d0887"
             ],
             [
              0.1111111111111111,
              "#46039f"
             ],
             [
              0.2222222222222222,
              "#7201a8"
             ],
             [
              0.3333333333333333,
              "#9c179e"
             ],
             [
              0.4444444444444444,
              "#bd3786"
             ],
             [
              0.5555555555555556,
              "#d8576b"
             ],
             [
              0.6666666666666666,
              "#ed7953"
             ],
             [
              0.7777777777777778,
              "#fb9f3a"
             ],
             [
              0.8888888888888888,
              "#fdca26"
             ],
             [
              1,
              "#f0f921"
             ]
            ],
            "type": "histogram2dcontour"
           }
          ],
          "mesh3d": [
           {
            "colorbar": {
             "outlinewidth": 0,
             "ticks": ""
            },
            "type": "mesh3d"
           }
          ],
          "parcoords": [
           {
            "line": {
             "colorbar": {
              "outlinewidth": 0,
              "ticks": ""
             }
            },
            "type": "parcoords"
           }
          ],
          "pie": [
           {
            "automargin": true,
            "type": "pie"
           }
          ],
          "scatter": [
           {
            "marker": {
             "colorbar": {
              "outlinewidth": 0,
              "ticks": ""
             }
            },
            "type": "scatter"
           }
          ],
          "scatter3d": [
           {
            "line": {
             "colorbar": {
              "outlinewidth": 0,
              "ticks": ""
             }
            },
            "marker": {
             "colorbar": {
              "outlinewidth": 0,
              "ticks": ""
             }
            },
            "type": "scatter3d"
           }
          ],
          "scattercarpet": [
           {
            "marker": {
             "colorbar": {
              "outlinewidth": 0,
              "ticks": ""
             }
            },
            "type": "scattercarpet"
           }
          ],
          "scattergeo": [
           {
            "marker": {
             "colorbar": {
              "outlinewidth": 0,
              "ticks": ""
             }
            },
            "type": "scattergeo"
           }
          ],
          "scattergl": [
           {
            "marker": {
             "colorbar": {
              "outlinewidth": 0,
              "ticks": ""
             }
            },
            "type": "scattergl"
           }
          ],
          "scattermapbox": [
           {
            "marker": {
             "colorbar": {
              "outlinewidth": 0,
              "ticks": ""
             }
            },
            "type": "scattermapbox"
           }
          ],
          "scatterpolar": [
           {
            "marker": {
             "colorbar": {
              "outlinewidth": 0,
              "ticks": ""
             }
            },
            "type": "scatterpolar"
           }
          ],
          "scatterpolargl": [
           {
            "marker": {
             "colorbar": {
              "outlinewidth": 0,
              "ticks": ""
             }
            },
            "type": "scatterpolargl"
           }
          ],
          "scatterternary": [
           {
            "marker": {
             "colorbar": {
              "outlinewidth": 0,
              "ticks": ""
             }
            },
            "type": "scatterternary"
           }
          ],
          "surface": [
           {
            "colorbar": {
             "outlinewidth": 0,
             "ticks": ""
            },
            "colorscale": [
             [
              0,
              "#0d0887"
             ],
             [
              0.1111111111111111,
              "#46039f"
             ],
             [
              0.2222222222222222,
              "#7201a8"
             ],
             [
              0.3333333333333333,
              "#9c179e"
             ],
             [
              0.4444444444444444,
              "#bd3786"
             ],
             [
              0.5555555555555556,
              "#d8576b"
             ],
             [
              0.6666666666666666,
              "#ed7953"
             ],
             [
              0.7777777777777778,
              "#fb9f3a"
             ],
             [
              0.8888888888888888,
              "#fdca26"
             ],
             [
              1,
              "#f0f921"
             ]
            ],
            "type": "surface"
           }
          ],
          "table": [
           {
            "cells": {
             "fill": {
              "color": "#EBF0F8"
             },
             "line": {
              "color": "white"
             }
            },
            "header": {
             "fill": {
              "color": "#C8D4E3"
             },
             "line": {
              "color": "white"
             }
            },
            "type": "table"
           }
          ]
         },
         "layout": {
          "annotationdefaults": {
           "arrowcolor": "#2a3f5f",
           "arrowhead": 0,
           "arrowwidth": 1
          },
          "autotypenumbers": "strict",
          "coloraxis": {
           "colorbar": {
            "outlinewidth": 0,
            "ticks": ""
           }
          },
          "colorscale": {
           "diverging": [
            [
             0,
             "#8e0152"
            ],
            [
             0.1,
             "#c51b7d"
            ],
            [
             0.2,
             "#de77ae"
            ],
            [
             0.3,
             "#f1b6da"
            ],
            [
             0.4,
             "#fde0ef"
            ],
            [
             0.5,
             "#f7f7f7"
            ],
            [
             0.6,
             "#e6f5d0"
            ],
            [
             0.7,
             "#b8e186"
            ],
            [
             0.8,
             "#7fbc41"
            ],
            [
             0.9,
             "#4d9221"
            ],
            [
             1,
             "#276419"
            ]
           ],
           "sequential": [
            [
             0,
             "#0d0887"
            ],
            [
             0.1111111111111111,
             "#46039f"
            ],
            [
             0.2222222222222222,
             "#7201a8"
            ],
            [
             0.3333333333333333,
             "#9c179e"
            ],
            [
             0.4444444444444444,
             "#bd3786"
            ],
            [
             0.5555555555555556,
             "#d8576b"
            ],
            [
             0.6666666666666666,
             "#ed7953"
            ],
            [
             0.7777777777777778,
             "#fb9f3a"
            ],
            [
             0.8888888888888888,
             "#fdca26"
            ],
            [
             1,
             "#f0f921"
            ]
           ],
           "sequentialminus": [
            [
             0,
             "#0d0887"
            ],
            [
             0.1111111111111111,
             "#46039f"
            ],
            [
             0.2222222222222222,
             "#7201a8"
            ],
            [
             0.3333333333333333,
             "#9c179e"
            ],
            [
             0.4444444444444444,
             "#bd3786"
            ],
            [
             0.5555555555555556,
             "#d8576b"
            ],
            [
             0.6666666666666666,
             "#ed7953"
            ],
            [
             0.7777777777777778,
             "#fb9f3a"
            ],
            [
             0.8888888888888888,
             "#fdca26"
            ],
            [
             1,
             "#f0f921"
            ]
           ]
          },
          "colorway": [
           "#636efa",
           "#EF553B",
           "#00cc96",
           "#ab63fa",
           "#FFA15A",
           "#19d3f3",
           "#FF6692",
           "#B6E880",
           "#FF97FF",
           "#FECB52"
          ],
          "font": {
           "color": "#2a3f5f"
          },
          "geo": {
           "bgcolor": "white",
           "lakecolor": "white",
           "landcolor": "#E5ECF6",
           "showlakes": true,
           "showland": true,
           "subunitcolor": "white"
          },
          "hoverlabel": {
           "align": "left"
          },
          "hovermode": "closest",
          "mapbox": {
           "style": "light"
          },
          "paper_bgcolor": "white",
          "plot_bgcolor": "#E5ECF6",
          "polar": {
           "angularaxis": {
            "gridcolor": "white",
            "linecolor": "white",
            "ticks": ""
           },
           "bgcolor": "#E5ECF6",
           "radialaxis": {
            "gridcolor": "white",
            "linecolor": "white",
            "ticks": ""
           }
          },
          "scene": {
           "xaxis": {
            "backgroundcolor": "#E5ECF6",
            "gridcolor": "white",
            "gridwidth": 2,
            "linecolor": "white",
            "showbackground": true,
            "ticks": "",
            "zerolinecolor": "white"
           },
           "yaxis": {
            "backgroundcolor": "#E5ECF6",
            "gridcolor": "white",
            "gridwidth": 2,
            "linecolor": "white",
            "showbackground": true,
            "ticks": "",
            "zerolinecolor": "white"
           },
           "zaxis": {
            "backgroundcolor": "#E5ECF6",
            "gridcolor": "white",
            "gridwidth": 2,
            "linecolor": "white",
            "showbackground": true,
            "ticks": "",
            "zerolinecolor": "white"
           }
          },
          "shapedefaults": {
           "line": {
            "color": "#2a3f5f"
           }
          },
          "ternary": {
           "aaxis": {
            "gridcolor": "white",
            "linecolor": "white",
            "ticks": ""
           },
           "baxis": {
            "gridcolor": "white",
            "linecolor": "white",
            "ticks": ""
           },
           "bgcolor": "#E5ECF6",
           "caxis": {
            "gridcolor": "white",
            "linecolor": "white",
            "ticks": ""
           }
          },
          "title": {
           "x": 0.05
          },
          "xaxis": {
           "automargin": true,
           "gridcolor": "white",
           "linecolor": "white",
           "ticks": "",
           "title": {
            "standoff": 15
           },
           "zerolinecolor": "white",
           "zerolinewidth": 2
          },
          "yaxis": {
           "automargin": true,
           "gridcolor": "white",
           "linecolor": "white",
           "ticks": "",
           "title": {
            "standoff": 15
           },
           "zerolinecolor": "white",
           "zerolinewidth": 2
          }
         }
        },
        "title": {
         "text": "Percent paying in total charges of segment"
        }
       }
      }
     },
     "metadata": {},
     "output_type": "display_data"
    }
   ],
   "source": [
    "import plotly.graph_objects as go\n",
    "labels = df_total_segment['Segment'].values\n",
    "values = df_paying.groupby(['Segment'])['Total Charges'].sum()\n",
    "fig = go.Figure(data=[go.Pie(labels=labels, values=values, textinfo='percent'\n",
    "                            )])\n",
    "fig.update_layout(title_text='Percent paying in total charges of segment')\n",
    "fig.show()"
   ]
  },
  {
   "cell_type": "markdown",
   "metadata": {},
   "source": [
    "Bộ phận Marketing 2 có doanh số Total Charges cao nhất chiếm 40% với tổng doanh số là 204805,3$, theo sau  là Marketing 1 chiếm 32,4% với tổng doanh số 165752,8$ cuối cùng là Marketing 3 chiếm 27,6% với tổng doanh số 141076,5$"
   ]
  },
  {
   "cell_type": "code",
   "execution_count": 439,
   "metadata": {},
   "outputs": [
    {
     "data": {
      "text/html": [
       "<div>\n",
       "<style scoped>\n",
       "    .dataframe tbody tr th:only-of-type {\n",
       "        vertical-align: middle;\n",
       "    }\n",
       "\n",
       "    .dataframe tbody tr th {\n",
       "        vertical-align: top;\n",
       "    }\n",
       "\n",
       "    .dataframe thead th {\n",
       "        text-align: right;\n",
       "    }\n",
       "</style>\n",
       "<table border=\"1\" class=\"dataframe\">\n",
       "  <thead>\n",
       "    <tr style=\"text-align: right;\">\n",
       "      <th></th>\n",
       "      <th>Segment</th>\n",
       "      <th>Account Status</th>\n",
       "      <th>Total Charges</th>\n",
       "    </tr>\n",
       "  </thead>\n",
       "  <tbody>\n",
       "    <tr>\n",
       "      <th>0</th>\n",
       "      <td>Marketing Segment 1</td>\n",
       "      <td>cancelled</td>\n",
       "      <td>7104.566667</td>\n",
       "    </tr>\n",
       "    <tr>\n",
       "      <th>1</th>\n",
       "      <td>Marketing Segment 1</td>\n",
       "      <td>paying</td>\n",
       "      <td>165752.800000</td>\n",
       "    </tr>\n",
       "    <tr>\n",
       "      <th>2</th>\n",
       "      <td>Marketing Segment 2</td>\n",
       "      <td>cancelled</td>\n",
       "      <td>25536.000000</td>\n",
       "    </tr>\n",
       "    <tr>\n",
       "      <th>3</th>\n",
       "      <td>Marketing Segment 2</td>\n",
       "      <td>paying</td>\n",
       "      <td>204805.366667</td>\n",
       "    </tr>\n",
       "    <tr>\n",
       "      <th>4</th>\n",
       "      <td>Marketing Segment 3</td>\n",
       "      <td>cancelled</td>\n",
       "      <td>24423.533333</td>\n",
       "    </tr>\n",
       "    <tr>\n",
       "      <th>5</th>\n",
       "      <td>Marketing Segment 3</td>\n",
       "      <td>paying</td>\n",
       "      <td>141076.500000</td>\n",
       "    </tr>\n",
       "  </tbody>\n",
       "</table>\n",
       "</div>"
      ],
      "text/plain": [
       "               Segment Account Status  Total Charges\n",
       "0  Marketing Segment 1      cancelled    7104.566667\n",
       "1  Marketing Segment 1         paying  165752.800000\n",
       "2  Marketing Segment 2      cancelled   25536.000000\n",
       "3  Marketing Segment 2         paying  204805.366667\n",
       "4  Marketing Segment 3      cancelled   24423.533333\n",
       "5  Marketing Segment 3         paying  141076.500000"
      ]
     },
     "execution_count": 439,
     "metadata": {},
     "output_type": "execute_result"
    }
   ],
   "source": [
    "df_segment_total_charges=df.groupby(['Segment','Account Status'])['Total Charges'].sum().reset_index()\n",
    "df_segment_total_charges=df_segment_total_charges.sort_values(by='Segment')\n",
    "df_segment_total_charges"
   ]
  },
  {
   "cell_type": "code",
   "execution_count": 441,
   "metadata": {},
   "outputs": [
    {
     "data": {
      "application/vnd.plotly.v1+json": {
       "config": {
        "plotlyServerURL": "https://plot.ly"
       },
       "data": [
        {
         "alignmentgroup": "True",
         "hovertemplate": "Account Status=cancelled<br>Total Charges=%{x}<br>Segment=%{y}<extra></extra>",
         "legendgroup": "cancelled",
         "marker": {
          "color": "red",
          "pattern": {
           "shape": ""
          }
         },
         "name": "cancelled",
         "offsetgroup": "cancelled",
         "orientation": "h",
         "showlegend": true,
         "textposition": "auto",
         "type": "bar",
         "x": [
          7104.566666666667,
          25535.99999999998,
          24423.533333333336
         ],
         "xaxis": "x",
         "y": [
          "Marketing Segment 1",
          "Marketing Segment 2",
          "Marketing Segment 3"
         ],
         "yaxis": "y"
        },
        {
         "alignmentgroup": "True",
         "hovertemplate": "Account Status=paying<br>Total Charges=%{x}<br>Segment=%{y}<extra></extra>",
         "legendgroup": "paying",
         "marker": {
          "color": "green",
          "pattern": {
           "shape": ""
          }
         },
         "name": "paying",
         "offsetgroup": "paying",
         "orientation": "h",
         "showlegend": true,
         "textposition": "auto",
         "type": "bar",
         "x": [
          165752.8,
          204805.36666666644,
          141076.50000000006
         ],
         "xaxis": "x",
         "y": [
          "Marketing Segment 1",
          "Marketing Segment 2",
          "Marketing Segment 3"
         ],
         "yaxis": "y"
        }
       ],
       "layout": {
        "barmode": "relative",
        "legend": {
         "title": {
          "text": "Account Status"
         },
         "tracegroupgap": 0
        },
        "margin": {
         "t": 60
        },
        "template": {
         "data": {
          "bar": [
           {
            "error_x": {
             "color": "#2a3f5f"
            },
            "error_y": {
             "color": "#2a3f5f"
            },
            "marker": {
             "line": {
              "color": "#E5ECF6",
              "width": 0.5
             },
             "pattern": {
              "fillmode": "overlay",
              "size": 10,
              "solidity": 0.2
             }
            },
            "type": "bar"
           }
          ],
          "barpolar": [
           {
            "marker": {
             "line": {
              "color": "#E5ECF6",
              "width": 0.5
             },
             "pattern": {
              "fillmode": "overlay",
              "size": 10,
              "solidity": 0.2
             }
            },
            "type": "barpolar"
           }
          ],
          "carpet": [
           {
            "aaxis": {
             "endlinecolor": "#2a3f5f",
             "gridcolor": "white",
             "linecolor": "white",
             "minorgridcolor": "white",
             "startlinecolor": "#2a3f5f"
            },
            "baxis": {
             "endlinecolor": "#2a3f5f",
             "gridcolor": "white",
             "linecolor": "white",
             "minorgridcolor": "white",
             "startlinecolor": "#2a3f5f"
            },
            "type": "carpet"
           }
          ],
          "choropleth": [
           {
            "colorbar": {
             "outlinewidth": 0,
             "ticks": ""
            },
            "type": "choropleth"
           }
          ],
          "contour": [
           {
            "colorbar": {
             "outlinewidth": 0,
             "ticks": ""
            },
            "colorscale": [
             [
              0,
              "#0d0887"
             ],
             [
              0.1111111111111111,
              "#46039f"
             ],
             [
              0.2222222222222222,
              "#7201a8"
             ],
             [
              0.3333333333333333,
              "#9c179e"
             ],
             [
              0.4444444444444444,
              "#bd3786"
             ],
             [
              0.5555555555555556,
              "#d8576b"
             ],
             [
              0.6666666666666666,
              "#ed7953"
             ],
             [
              0.7777777777777778,
              "#fb9f3a"
             ],
             [
              0.8888888888888888,
              "#fdca26"
             ],
             [
              1,
              "#f0f921"
             ]
            ],
            "type": "contour"
           }
          ],
          "contourcarpet": [
           {
            "colorbar": {
             "outlinewidth": 0,
             "ticks": ""
            },
            "type": "contourcarpet"
           }
          ],
          "heatmap": [
           {
            "colorbar": {
             "outlinewidth": 0,
             "ticks": ""
            },
            "colorscale": [
             [
              0,
              "#0d0887"
             ],
             [
              0.1111111111111111,
              "#46039f"
             ],
             [
              0.2222222222222222,
              "#7201a8"
             ],
             [
              0.3333333333333333,
              "#9c179e"
             ],
             [
              0.4444444444444444,
              "#bd3786"
             ],
             [
              0.5555555555555556,
              "#d8576b"
             ],
             [
              0.6666666666666666,
              "#ed7953"
             ],
             [
              0.7777777777777778,
              "#fb9f3a"
             ],
             [
              0.8888888888888888,
              "#fdca26"
             ],
             [
              1,
              "#f0f921"
             ]
            ],
            "type": "heatmap"
           }
          ],
          "heatmapgl": [
           {
            "colorbar": {
             "outlinewidth": 0,
             "ticks": ""
            },
            "colorscale": [
             [
              0,
              "#0d0887"
             ],
             [
              0.1111111111111111,
              "#46039f"
             ],
             [
              0.2222222222222222,
              "#7201a8"
             ],
             [
              0.3333333333333333,
              "#9c179e"
             ],
             [
              0.4444444444444444,
              "#bd3786"
             ],
             [
              0.5555555555555556,
              "#d8576b"
             ],
             [
              0.6666666666666666,
              "#ed7953"
             ],
             [
              0.7777777777777778,
              "#fb9f3a"
             ],
             [
              0.8888888888888888,
              "#fdca26"
             ],
             [
              1,
              "#f0f921"
             ]
            ],
            "type": "heatmapgl"
           }
          ],
          "histogram": [
           {
            "marker": {
             "pattern": {
              "fillmode": "overlay",
              "size": 10,
              "solidity": 0.2
             }
            },
            "type": "histogram"
           }
          ],
          "histogram2d": [
           {
            "colorbar": {
             "outlinewidth": 0,
             "ticks": ""
            },
            "colorscale": [
             [
              0,
              "#0d0887"
             ],
             [
              0.1111111111111111,
              "#46039f"
             ],
             [
              0.2222222222222222,
              "#7201a8"
             ],
             [
              0.3333333333333333,
              "#9c179e"
             ],
             [
              0.4444444444444444,
              "#bd3786"
             ],
             [
              0.5555555555555556,
              "#d8576b"
             ],
             [
              0.6666666666666666,
              "#ed7953"
             ],
             [
              0.7777777777777778,
              "#fb9f3a"
             ],
             [
              0.8888888888888888,
              "#fdca26"
             ],
             [
              1,
              "#f0f921"
             ]
            ],
            "type": "histogram2d"
           }
          ],
          "histogram2dcontour": [
           {
            "colorbar": {
             "outlinewidth": 0,
             "ticks": ""
            },
            "colorscale": [
             [
              0,
              "#0d0887"
             ],
             [
              0.1111111111111111,
              "#46039f"
             ],
             [
              0.2222222222222222,
              "#7201a8"
             ],
             [
              0.3333333333333333,
              "#9c179e"
             ],
             [
              0.4444444444444444,
              "#bd3786"
             ],
             [
              0.5555555555555556,
              "#d8576b"
             ],
             [
              0.6666666666666666,
              "#ed7953"
             ],
             [
              0.7777777777777778,
              "#fb9f3a"
             ],
             [
              0.8888888888888888,
              "#fdca26"
             ],
             [
              1,
              "#f0f921"
             ]
            ],
            "type": "histogram2dcontour"
           }
          ],
          "mesh3d": [
           {
            "colorbar": {
             "outlinewidth": 0,
             "ticks": ""
            },
            "type": "mesh3d"
           }
          ],
          "parcoords": [
           {
            "line": {
             "colorbar": {
              "outlinewidth": 0,
              "ticks": ""
             }
            },
            "type": "parcoords"
           }
          ],
          "pie": [
           {
            "automargin": true,
            "type": "pie"
           }
          ],
          "scatter": [
           {
            "marker": {
             "colorbar": {
              "outlinewidth": 0,
              "ticks": ""
             }
            },
            "type": "scatter"
           }
          ],
          "scatter3d": [
           {
            "line": {
             "colorbar": {
              "outlinewidth": 0,
              "ticks": ""
             }
            },
            "marker": {
             "colorbar": {
              "outlinewidth": 0,
              "ticks": ""
             }
            },
            "type": "scatter3d"
           }
          ],
          "scattercarpet": [
           {
            "marker": {
             "colorbar": {
              "outlinewidth": 0,
              "ticks": ""
             }
            },
            "type": "scattercarpet"
           }
          ],
          "scattergeo": [
           {
            "marker": {
             "colorbar": {
              "outlinewidth": 0,
              "ticks": ""
             }
            },
            "type": "scattergeo"
           }
          ],
          "scattergl": [
           {
            "marker": {
             "colorbar": {
              "outlinewidth": 0,
              "ticks": ""
             }
            },
            "type": "scattergl"
           }
          ],
          "scattermapbox": [
           {
            "marker": {
             "colorbar": {
              "outlinewidth": 0,
              "ticks": ""
             }
            },
            "type": "scattermapbox"
           }
          ],
          "scatterpolar": [
           {
            "marker": {
             "colorbar": {
              "outlinewidth": 0,
              "ticks": ""
             }
            },
            "type": "scatterpolar"
           }
          ],
          "scatterpolargl": [
           {
            "marker": {
             "colorbar": {
              "outlinewidth": 0,
              "ticks": ""
             }
            },
            "type": "scatterpolargl"
           }
          ],
          "scatterternary": [
           {
            "marker": {
             "colorbar": {
              "outlinewidth": 0,
              "ticks": ""
             }
            },
            "type": "scatterternary"
           }
          ],
          "surface": [
           {
            "colorbar": {
             "outlinewidth": 0,
             "ticks": ""
            },
            "colorscale": [
             [
              0,
              "#0d0887"
             ],
             [
              0.1111111111111111,
              "#46039f"
             ],
             [
              0.2222222222222222,
              "#7201a8"
             ],
             [
              0.3333333333333333,
              "#9c179e"
             ],
             [
              0.4444444444444444,
              "#bd3786"
             ],
             [
              0.5555555555555556,
              "#d8576b"
             ],
             [
              0.6666666666666666,
              "#ed7953"
             ],
             [
              0.7777777777777778,
              "#fb9f3a"
             ],
             [
              0.8888888888888888,
              "#fdca26"
             ],
             [
              1,
              "#f0f921"
             ]
            ],
            "type": "surface"
           }
          ],
          "table": [
           {
            "cells": {
             "fill": {
              "color": "#EBF0F8"
             },
             "line": {
              "color": "white"
             }
            },
            "header": {
             "fill": {
              "color": "#C8D4E3"
             },
             "line": {
              "color": "white"
             }
            },
            "type": "table"
           }
          ]
         },
         "layout": {
          "annotationdefaults": {
           "arrowcolor": "#2a3f5f",
           "arrowhead": 0,
           "arrowwidth": 1
          },
          "autotypenumbers": "strict",
          "coloraxis": {
           "colorbar": {
            "outlinewidth": 0,
            "ticks": ""
           }
          },
          "colorscale": {
           "diverging": [
            [
             0,
             "#8e0152"
            ],
            [
             0.1,
             "#c51b7d"
            ],
            [
             0.2,
             "#de77ae"
            ],
            [
             0.3,
             "#f1b6da"
            ],
            [
             0.4,
             "#fde0ef"
            ],
            [
             0.5,
             "#f7f7f7"
            ],
            [
             0.6,
             "#e6f5d0"
            ],
            [
             0.7,
             "#b8e186"
            ],
            [
             0.8,
             "#7fbc41"
            ],
            [
             0.9,
             "#4d9221"
            ],
            [
             1,
             "#276419"
            ]
           ],
           "sequential": [
            [
             0,
             "#0d0887"
            ],
            [
             0.1111111111111111,
             "#46039f"
            ],
            [
             0.2222222222222222,
             "#7201a8"
            ],
            [
             0.3333333333333333,
             "#9c179e"
            ],
            [
             0.4444444444444444,
             "#bd3786"
            ],
            [
             0.5555555555555556,
             "#d8576b"
            ],
            [
             0.6666666666666666,
             "#ed7953"
            ],
            [
             0.7777777777777778,
             "#fb9f3a"
            ],
            [
             0.8888888888888888,
             "#fdca26"
            ],
            [
             1,
             "#f0f921"
            ]
           ],
           "sequentialminus": [
            [
             0,
             "#0d0887"
            ],
            [
             0.1111111111111111,
             "#46039f"
            ],
            [
             0.2222222222222222,
             "#7201a8"
            ],
            [
             0.3333333333333333,
             "#9c179e"
            ],
            [
             0.4444444444444444,
             "#bd3786"
            ],
            [
             0.5555555555555556,
             "#d8576b"
            ],
            [
             0.6666666666666666,
             "#ed7953"
            ],
            [
             0.7777777777777778,
             "#fb9f3a"
            ],
            [
             0.8888888888888888,
             "#fdca26"
            ],
            [
             1,
             "#f0f921"
            ]
           ]
          },
          "colorway": [
           "#636efa",
           "#EF553B",
           "#00cc96",
           "#ab63fa",
           "#FFA15A",
           "#19d3f3",
           "#FF6692",
           "#B6E880",
           "#FF97FF",
           "#FECB52"
          ],
          "font": {
           "color": "#2a3f5f"
          },
          "geo": {
           "bgcolor": "white",
           "lakecolor": "white",
           "landcolor": "#E5ECF6",
           "showlakes": true,
           "showland": true,
           "subunitcolor": "white"
          },
          "hoverlabel": {
           "align": "left"
          },
          "hovermode": "closest",
          "mapbox": {
           "style": "light"
          },
          "paper_bgcolor": "white",
          "plot_bgcolor": "#E5ECF6",
          "polar": {
           "angularaxis": {
            "gridcolor": "white",
            "linecolor": "white",
            "ticks": ""
           },
           "bgcolor": "#E5ECF6",
           "radialaxis": {
            "gridcolor": "white",
            "linecolor": "white",
            "ticks": ""
           }
          },
          "scene": {
           "xaxis": {
            "backgroundcolor": "#E5ECF6",
            "gridcolor": "white",
            "gridwidth": 2,
            "linecolor": "white",
            "showbackground": true,
            "ticks": "",
            "zerolinecolor": "white"
           },
           "yaxis": {
            "backgroundcolor": "#E5ECF6",
            "gridcolor": "white",
            "gridwidth": 2,
            "linecolor": "white",
            "showbackground": true,
            "ticks": "",
            "zerolinecolor": "white"
           },
           "zaxis": {
            "backgroundcolor": "#E5ECF6",
            "gridcolor": "white",
            "gridwidth": 2,
            "linecolor": "white",
            "showbackground": true,
            "ticks": "",
            "zerolinecolor": "white"
           }
          },
          "shapedefaults": {
           "line": {
            "color": "#2a3f5f"
           }
          },
          "ternary": {
           "aaxis": {
            "gridcolor": "white",
            "linecolor": "white",
            "ticks": ""
           },
           "baxis": {
            "gridcolor": "white",
            "linecolor": "white",
            "ticks": ""
           },
           "bgcolor": "#E5ECF6",
           "caxis": {
            "gridcolor": "white",
            "linecolor": "white",
            "ticks": ""
           }
          },
          "title": {
           "x": 0.05
          },
          "xaxis": {
           "automargin": true,
           "gridcolor": "white",
           "linecolor": "white",
           "ticks": "",
           "title": {
            "standoff": 15
           },
           "zerolinecolor": "white",
           "zerolinewidth": 2
          },
          "yaxis": {
           "automargin": true,
           "gridcolor": "white",
           "linecolor": "white",
           "ticks": "",
           "title": {
            "standoff": 15
           },
           "zerolinecolor": "white",
           "zerolinewidth": 2
          }
         }
        },
        "title": {
         "text": "Total Charges Cancelled and Paying by Segment"
        },
        "xaxis": {
         "anchor": "y",
         "domain": [
          0,
          1
         ],
         "title": {
          "text": "Total Charges"
         }
        },
        "yaxis": {
         "anchor": "x",
         "domain": [
          0,
          1
         ],
         "title": {
          "text": "Segment"
         }
        }
       }
      }
     },
     "metadata": {},
     "output_type": "display_data"
    }
   ],
   "source": [
    "fig = px.bar(df_segment_total_charges, x=\"Total Charges\", y=\"Segment\", color=\"Account Status\",color_discrete_map={\"paying\": \"green\",  \"cancelled\": \"red\"})\n",
    "fig.update_layout( title_text='Total Charges Cancelled and Paying by Segment')\n",
    "fig.show()"
   ]
  },
  {
   "cell_type": "markdown",
   "metadata": {},
   "source": [
    "Bộ phận Marketing 2,3 có Total Charges khá nhiều so với Marketing 1."
   ]
  },
  {
   "cell_type": "code",
   "execution_count": 422,
   "metadata": {},
   "outputs": [
    {
     "data": {
      "text/html": [
       "<div>\n",
       "<style scoped>\n",
       "    .dataframe tbody tr th:only-of-type {\n",
       "        vertical-align: middle;\n",
       "    }\n",
       "\n",
       "    .dataframe tbody tr th {\n",
       "        vertical-align: top;\n",
       "    }\n",
       "\n",
       "    .dataframe thead th {\n",
       "        text-align: right;\n",
       "    }\n",
       "</style>\n",
       "<table border=\"1\" class=\"dataframe\">\n",
       "  <thead>\n",
       "    <tr style=\"text-align: right;\">\n",
       "      <th></th>\n",
       "      <th>Segment</th>\n",
       "      <th>Account Status</th>\n",
       "      <th>Customer ID</th>\n",
       "    </tr>\n",
       "  </thead>\n",
       "  <tbody>\n",
       "    <tr>\n",
       "      <th>4</th>\n",
       "      <td>Marketing Segment 3</td>\n",
       "      <td>cancelled</td>\n",
       "      <td>48</td>\n",
       "    </tr>\n",
       "    <tr>\n",
       "      <th>5</th>\n",
       "      <td>Marketing Segment 3</td>\n",
       "      <td>paying</td>\n",
       "      <td>301</td>\n",
       "    </tr>\n",
       "    <tr>\n",
       "      <th>2</th>\n",
       "      <td>Marketing Segment 2</td>\n",
       "      <td>cancelled</td>\n",
       "      <td>57</td>\n",
       "    </tr>\n",
       "    <tr>\n",
       "      <th>3</th>\n",
       "      <td>Marketing Segment 2</td>\n",
       "      <td>paying</td>\n",
       "      <td>350</td>\n",
       "    </tr>\n",
       "    <tr>\n",
       "      <th>0</th>\n",
       "      <td>Marketing Segment 1</td>\n",
       "      <td>cancelled</td>\n",
       "      <td>18</td>\n",
       "    </tr>\n",
       "    <tr>\n",
       "      <th>1</th>\n",
       "      <td>Marketing Segment 1</td>\n",
       "      <td>paying</td>\n",
       "      <td>240</td>\n",
       "    </tr>\n",
       "  </tbody>\n",
       "</table>\n",
       "</div>"
      ],
      "text/plain": [
       "               Segment Account Status  Customer ID\n",
       "4  Marketing Segment 3      cancelled           48\n",
       "5  Marketing Segment 3         paying          301\n",
       "2  Marketing Segment 2      cancelled           57\n",
       "3  Marketing Segment 2         paying          350\n",
       "0  Marketing Segment 1      cancelled           18\n",
       "1  Marketing Segment 1         paying          240"
      ]
     },
     "execution_count": 422,
     "metadata": {},
     "output_type": "execute_result"
    }
   ],
   "source": [
    "df_segment_account_status=df.groupby(['Segment','Account Status'])['Customer ID'].count().reset_index()\n",
    "df_segment_account_status=df_segment_account_status.sort_values(by='Segment', ascending=False)\n",
    "df_segment_account_status"
   ]
  },
  {
   "cell_type": "code",
   "execution_count": 442,
   "metadata": {},
   "outputs": [
    {
     "data": {
      "application/vnd.plotly.v1+json": {
       "config": {
        "plotlyServerURL": "https://plot.ly"
       },
       "data": [
        {
         "alignmentgroup": "True",
         "hovertemplate": "Account Status=cancelled<br>Customer ID=%{x}<br>Segment=%{y}<extra></extra>",
         "legendgroup": "cancelled",
         "marker": {
          "color": "red",
          "pattern": {
           "shape": ""
          }
         },
         "name": "cancelled",
         "offsetgroup": "cancelled",
         "orientation": "h",
         "showlegend": true,
         "textposition": "auto",
         "type": "bar",
         "x": [
          48,
          57,
          18
         ],
         "xaxis": "x",
         "y": [
          "Marketing Segment 3",
          "Marketing Segment 2",
          "Marketing Segment 1"
         ],
         "yaxis": "y"
        },
        {
         "alignmentgroup": "True",
         "hovertemplate": "Account Status=paying<br>Customer ID=%{x}<br>Segment=%{y}<extra></extra>",
         "legendgroup": "paying",
         "marker": {
          "color": "green",
          "pattern": {
           "shape": ""
          }
         },
         "name": "paying",
         "offsetgroup": "paying",
         "orientation": "h",
         "showlegend": true,
         "textposition": "auto",
         "type": "bar",
         "x": [
          301,
          350,
          240
         ],
         "xaxis": "x",
         "y": [
          "Marketing Segment 3",
          "Marketing Segment 2",
          "Marketing Segment 1"
         ],
         "yaxis": "y"
        }
       ],
       "layout": {
        "barmode": "relative",
        "legend": {
         "title": {
          "text": "Account Status"
         },
         "tracegroupgap": 0
        },
        "margin": {
         "t": 60
        },
        "template": {
         "data": {
          "bar": [
           {
            "error_x": {
             "color": "#2a3f5f"
            },
            "error_y": {
             "color": "#2a3f5f"
            },
            "marker": {
             "line": {
              "color": "#E5ECF6",
              "width": 0.5
             },
             "pattern": {
              "fillmode": "overlay",
              "size": 10,
              "solidity": 0.2
             }
            },
            "type": "bar"
           }
          ],
          "barpolar": [
           {
            "marker": {
             "line": {
              "color": "#E5ECF6",
              "width": 0.5
             },
             "pattern": {
              "fillmode": "overlay",
              "size": 10,
              "solidity": 0.2
             }
            },
            "type": "barpolar"
           }
          ],
          "carpet": [
           {
            "aaxis": {
             "endlinecolor": "#2a3f5f",
             "gridcolor": "white",
             "linecolor": "white",
             "minorgridcolor": "white",
             "startlinecolor": "#2a3f5f"
            },
            "baxis": {
             "endlinecolor": "#2a3f5f",
             "gridcolor": "white",
             "linecolor": "white",
             "minorgridcolor": "white",
             "startlinecolor": "#2a3f5f"
            },
            "type": "carpet"
           }
          ],
          "choropleth": [
           {
            "colorbar": {
             "outlinewidth": 0,
             "ticks": ""
            },
            "type": "choropleth"
           }
          ],
          "contour": [
           {
            "colorbar": {
             "outlinewidth": 0,
             "ticks": ""
            },
            "colorscale": [
             [
              0,
              "#0d0887"
             ],
             [
              0.1111111111111111,
              "#46039f"
             ],
             [
              0.2222222222222222,
              "#7201a8"
             ],
             [
              0.3333333333333333,
              "#9c179e"
             ],
             [
              0.4444444444444444,
              "#bd3786"
             ],
             [
              0.5555555555555556,
              "#d8576b"
             ],
             [
              0.6666666666666666,
              "#ed7953"
             ],
             [
              0.7777777777777778,
              "#fb9f3a"
             ],
             [
              0.8888888888888888,
              "#fdca26"
             ],
             [
              1,
              "#f0f921"
             ]
            ],
            "type": "contour"
           }
          ],
          "contourcarpet": [
           {
            "colorbar": {
             "outlinewidth": 0,
             "ticks": ""
            },
            "type": "contourcarpet"
           }
          ],
          "heatmap": [
           {
            "colorbar": {
             "outlinewidth": 0,
             "ticks": ""
            },
            "colorscale": [
             [
              0,
              "#0d0887"
             ],
             [
              0.1111111111111111,
              "#46039f"
             ],
             [
              0.2222222222222222,
              "#7201a8"
             ],
             [
              0.3333333333333333,
              "#9c179e"
             ],
             [
              0.4444444444444444,
              "#bd3786"
             ],
             [
              0.5555555555555556,
              "#d8576b"
             ],
             [
              0.6666666666666666,
              "#ed7953"
             ],
             [
              0.7777777777777778,
              "#fb9f3a"
             ],
             [
              0.8888888888888888,
              "#fdca26"
             ],
             [
              1,
              "#f0f921"
             ]
            ],
            "type": "heatmap"
           }
          ],
          "heatmapgl": [
           {
            "colorbar": {
             "outlinewidth": 0,
             "ticks": ""
            },
            "colorscale": [
             [
              0,
              "#0d0887"
             ],
             [
              0.1111111111111111,
              "#46039f"
             ],
             [
              0.2222222222222222,
              "#7201a8"
             ],
             [
              0.3333333333333333,
              "#9c179e"
             ],
             [
              0.4444444444444444,
              "#bd3786"
             ],
             [
              0.5555555555555556,
              "#d8576b"
             ],
             [
              0.6666666666666666,
              "#ed7953"
             ],
             [
              0.7777777777777778,
              "#fb9f3a"
             ],
             [
              0.8888888888888888,
              "#fdca26"
             ],
             [
              1,
              "#f0f921"
             ]
            ],
            "type": "heatmapgl"
           }
          ],
          "histogram": [
           {
            "marker": {
             "pattern": {
              "fillmode": "overlay",
              "size": 10,
              "solidity": 0.2
             }
            },
            "type": "histogram"
           }
          ],
          "histogram2d": [
           {
            "colorbar": {
             "outlinewidth": 0,
             "ticks": ""
            },
            "colorscale": [
             [
              0,
              "#0d0887"
             ],
             [
              0.1111111111111111,
              "#46039f"
             ],
             [
              0.2222222222222222,
              "#7201a8"
             ],
             [
              0.3333333333333333,
              "#9c179e"
             ],
             [
              0.4444444444444444,
              "#bd3786"
             ],
             [
              0.5555555555555556,
              "#d8576b"
             ],
             [
              0.6666666666666666,
              "#ed7953"
             ],
             [
              0.7777777777777778,
              "#fb9f3a"
             ],
             [
              0.8888888888888888,
              "#fdca26"
             ],
             [
              1,
              "#f0f921"
             ]
            ],
            "type": "histogram2d"
           }
          ],
          "histogram2dcontour": [
           {
            "colorbar": {
             "outlinewidth": 0,
             "ticks": ""
            },
            "colorscale": [
             [
              0,
              "#0d0887"
             ],
             [
              0.1111111111111111,
              "#46039f"
             ],
             [
              0.2222222222222222,
              "#7201a8"
             ],
             [
              0.3333333333333333,
              "#9c179e"
             ],
             [
              0.4444444444444444,
              "#bd3786"
             ],
             [
              0.5555555555555556,
              "#d8576b"
             ],
             [
              0.6666666666666666,
              "#ed7953"
             ],
             [
              0.7777777777777778,
              "#fb9f3a"
             ],
             [
              0.8888888888888888,
              "#fdca26"
             ],
             [
              1,
              "#f0f921"
             ]
            ],
            "type": "histogram2dcontour"
           }
          ],
          "mesh3d": [
           {
            "colorbar": {
             "outlinewidth": 0,
             "ticks": ""
            },
            "type": "mesh3d"
           }
          ],
          "parcoords": [
           {
            "line": {
             "colorbar": {
              "outlinewidth": 0,
              "ticks": ""
             }
            },
            "type": "parcoords"
           }
          ],
          "pie": [
           {
            "automargin": true,
            "type": "pie"
           }
          ],
          "scatter": [
           {
            "marker": {
             "colorbar": {
              "outlinewidth": 0,
              "ticks": ""
             }
            },
            "type": "scatter"
           }
          ],
          "scatter3d": [
           {
            "line": {
             "colorbar": {
              "outlinewidth": 0,
              "ticks": ""
             }
            },
            "marker": {
             "colorbar": {
              "outlinewidth": 0,
              "ticks": ""
             }
            },
            "type": "scatter3d"
           }
          ],
          "scattercarpet": [
           {
            "marker": {
             "colorbar": {
              "outlinewidth": 0,
              "ticks": ""
             }
            },
            "type": "scattercarpet"
           }
          ],
          "scattergeo": [
           {
            "marker": {
             "colorbar": {
              "outlinewidth": 0,
              "ticks": ""
             }
            },
            "type": "scattergeo"
           }
          ],
          "scattergl": [
           {
            "marker": {
             "colorbar": {
              "outlinewidth": 0,
              "ticks": ""
             }
            },
            "type": "scattergl"
           }
          ],
          "scattermapbox": [
           {
            "marker": {
             "colorbar": {
              "outlinewidth": 0,
              "ticks": ""
             }
            },
            "type": "scattermapbox"
           }
          ],
          "scatterpolar": [
           {
            "marker": {
             "colorbar": {
              "outlinewidth": 0,
              "ticks": ""
             }
            },
            "type": "scatterpolar"
           }
          ],
          "scatterpolargl": [
           {
            "marker": {
             "colorbar": {
              "outlinewidth": 0,
              "ticks": ""
             }
            },
            "type": "scatterpolargl"
           }
          ],
          "scatterternary": [
           {
            "marker": {
             "colorbar": {
              "outlinewidth": 0,
              "ticks": ""
             }
            },
            "type": "scatterternary"
           }
          ],
          "surface": [
           {
            "colorbar": {
             "outlinewidth": 0,
             "ticks": ""
            },
            "colorscale": [
             [
              0,
              "#0d0887"
             ],
             [
              0.1111111111111111,
              "#46039f"
             ],
             [
              0.2222222222222222,
              "#7201a8"
             ],
             [
              0.3333333333333333,
              "#9c179e"
             ],
             [
              0.4444444444444444,
              "#bd3786"
             ],
             [
              0.5555555555555556,
              "#d8576b"
             ],
             [
              0.6666666666666666,
              "#ed7953"
             ],
             [
              0.7777777777777778,
              "#fb9f3a"
             ],
             [
              0.8888888888888888,
              "#fdca26"
             ],
             [
              1,
              "#f0f921"
             ]
            ],
            "type": "surface"
           }
          ],
          "table": [
           {
            "cells": {
             "fill": {
              "color": "#EBF0F8"
             },
             "line": {
              "color": "white"
             }
            },
            "header": {
             "fill": {
              "color": "#C8D4E3"
             },
             "line": {
              "color": "white"
             }
            },
            "type": "table"
           }
          ]
         },
         "layout": {
          "annotationdefaults": {
           "arrowcolor": "#2a3f5f",
           "arrowhead": 0,
           "arrowwidth": 1
          },
          "autotypenumbers": "strict",
          "coloraxis": {
           "colorbar": {
            "outlinewidth": 0,
            "ticks": ""
           }
          },
          "colorscale": {
           "diverging": [
            [
             0,
             "#8e0152"
            ],
            [
             0.1,
             "#c51b7d"
            ],
            [
             0.2,
             "#de77ae"
            ],
            [
             0.3,
             "#f1b6da"
            ],
            [
             0.4,
             "#fde0ef"
            ],
            [
             0.5,
             "#f7f7f7"
            ],
            [
             0.6,
             "#e6f5d0"
            ],
            [
             0.7,
             "#b8e186"
            ],
            [
             0.8,
             "#7fbc41"
            ],
            [
             0.9,
             "#4d9221"
            ],
            [
             1,
             "#276419"
            ]
           ],
           "sequential": [
            [
             0,
             "#0d0887"
            ],
            [
             0.1111111111111111,
             "#46039f"
            ],
            [
             0.2222222222222222,
             "#7201a8"
            ],
            [
             0.3333333333333333,
             "#9c179e"
            ],
            [
             0.4444444444444444,
             "#bd3786"
            ],
            [
             0.5555555555555556,
             "#d8576b"
            ],
            [
             0.6666666666666666,
             "#ed7953"
            ],
            [
             0.7777777777777778,
             "#fb9f3a"
            ],
            [
             0.8888888888888888,
             "#fdca26"
            ],
            [
             1,
             "#f0f921"
            ]
           ],
           "sequentialminus": [
            [
             0,
             "#0d0887"
            ],
            [
             0.1111111111111111,
             "#46039f"
            ],
            [
             0.2222222222222222,
             "#7201a8"
            ],
            [
             0.3333333333333333,
             "#9c179e"
            ],
            [
             0.4444444444444444,
             "#bd3786"
            ],
            [
             0.5555555555555556,
             "#d8576b"
            ],
            [
             0.6666666666666666,
             "#ed7953"
            ],
            [
             0.7777777777777778,
             "#fb9f3a"
            ],
            [
             0.8888888888888888,
             "#fdca26"
            ],
            [
             1,
             "#f0f921"
            ]
           ]
          },
          "colorway": [
           "#636efa",
           "#EF553B",
           "#00cc96",
           "#ab63fa",
           "#FFA15A",
           "#19d3f3",
           "#FF6692",
           "#B6E880",
           "#FF97FF",
           "#FECB52"
          ],
          "font": {
           "color": "#2a3f5f"
          },
          "geo": {
           "bgcolor": "white",
           "lakecolor": "white",
           "landcolor": "#E5ECF6",
           "showlakes": true,
           "showland": true,
           "subunitcolor": "white"
          },
          "hoverlabel": {
           "align": "left"
          },
          "hovermode": "closest",
          "mapbox": {
           "style": "light"
          },
          "paper_bgcolor": "white",
          "plot_bgcolor": "#E5ECF6",
          "polar": {
           "angularaxis": {
            "gridcolor": "white",
            "linecolor": "white",
            "ticks": ""
           },
           "bgcolor": "#E5ECF6",
           "radialaxis": {
            "gridcolor": "white",
            "linecolor": "white",
            "ticks": ""
           }
          },
          "scene": {
           "xaxis": {
            "backgroundcolor": "#E5ECF6",
            "gridcolor": "white",
            "gridwidth": 2,
            "linecolor": "white",
            "showbackground": true,
            "ticks": "",
            "zerolinecolor": "white"
           },
           "yaxis": {
            "backgroundcolor": "#E5ECF6",
            "gridcolor": "white",
            "gridwidth": 2,
            "linecolor": "white",
            "showbackground": true,
            "ticks": "",
            "zerolinecolor": "white"
           },
           "zaxis": {
            "backgroundcolor": "#E5ECF6",
            "gridcolor": "white",
            "gridwidth": 2,
            "linecolor": "white",
            "showbackground": true,
            "ticks": "",
            "zerolinecolor": "white"
           }
          },
          "shapedefaults": {
           "line": {
            "color": "#2a3f5f"
           }
          },
          "ternary": {
           "aaxis": {
            "gridcolor": "white",
            "linecolor": "white",
            "ticks": ""
           },
           "baxis": {
            "gridcolor": "white",
            "linecolor": "white",
            "ticks": ""
           },
           "bgcolor": "#E5ECF6",
           "caxis": {
            "gridcolor": "white",
            "linecolor": "white",
            "ticks": ""
           }
          },
          "title": {
           "x": 0.05
          },
          "xaxis": {
           "automargin": true,
           "gridcolor": "white",
           "linecolor": "white",
           "ticks": "",
           "title": {
            "standoff": 15
           },
           "zerolinecolor": "white",
           "zerolinewidth": 2
          },
          "yaxis": {
           "automargin": true,
           "gridcolor": "white",
           "linecolor": "white",
           "ticks": "",
           "title": {
            "standoff": 15
           },
           "zerolinecolor": "white",
           "zerolinewidth": 2
          }
         }
        },
        "title": {
         "text": "Total Customer Cancelled and Paying by Segment"
        },
        "xaxis": {
         "anchor": "y",
         "domain": [
          0,
          1
         ],
         "title": {
          "text": "Customer ID"
         }
        },
        "yaxis": {
         "anchor": "x",
         "domain": [
          0,
          1
         ],
         "title": {
          "text": "Segment"
         }
        }
       }
      }
     },
     "metadata": {},
     "output_type": "display_data"
    }
   ],
   "source": [
    "fig = px.bar(df_segment_account_status, x=\"Customer ID\", y=\"Segment\", color=\"Account Status\",color_discrete_map={\"paying\": \"green\",  \"cancelled\": \"red\"})\n",
    "fig.update_layout( title_text='Total Customer Cancelled and Paying by Segment')\n",
    "fig.show()"
   ]
  },
  {
   "cell_type": "markdown",
   "metadata": {},
   "source": [
    "Qua biểu đồ ta có thể thấy được bộ phận Marketing 1 làm việc ổn nhất tuy có số khách hàng và Total Charges không cao nhất nhưng tỷ lệ giữ chân khách hàng tốt nhất cũng như có doanh số ổn định. Còn đối với Marketing 3 thì khá tệ vì cả tỷ lệ doanh thu Total Charges thấp nhất và tỷ lệ khách hàng cancelled khá cao."
   ]
  },
  {
   "cell_type": "code",
   "execution_count": 443,
   "metadata": {},
   "outputs": [
    {
     "data": {
      "text/html": [
       "<div>\n",
       "<style scoped>\n",
       "    .dataframe tbody tr th:only-of-type {\n",
       "        vertical-align: middle;\n",
       "    }\n",
       "\n",
       "    .dataframe tbody tr th {\n",
       "        vertical-align: top;\n",
       "    }\n",
       "\n",
       "    .dataframe thead th {\n",
       "        text-align: right;\n",
       "    }\n",
       "</style>\n",
       "<table border=\"1\" class=\"dataframe\">\n",
       "  <thead>\n",
       "    <tr style=\"text-align: right;\">\n",
       "      <th></th>\n",
       "      <th>Customer ID</th>\n",
       "      <th>Free Account Created Date</th>\n",
       "      <th>Last Seen</th>\n",
       "      <th>Session Count</th>\n",
       "      <th>Segment</th>\n",
       "      <th>First Name</th>\n",
       "      <th>Billing Account</th>\n",
       "      <th>Account Status</th>\n",
       "      <th>Upgraded Account Created Date</th>\n",
       "      <th>Upgraded Account Cancelled Date</th>\n",
       "      <th>Total Charges</th>\n",
       "      <th>Upgraded Time</th>\n",
       "      <th>Price change</th>\n",
       "      <th>Distance Upgraded from Create Free</th>\n",
       "    </tr>\n",
       "  </thead>\n",
       "  <tbody>\n",
       "    <tr>\n",
       "      <th>0</th>\n",
       "      <td>1</td>\n",
       "      <td>2017-05-29</td>\n",
       "      <td>2019-04-05 08:02:32</td>\n",
       "      <td>1379</td>\n",
       "      <td>Marketing Segment 2</td>\n",
       "      <td>Joshua</td>\n",
       "      <td>AX#93195</td>\n",
       "      <td>paying</td>\n",
       "      <td>2019-04-02</td>\n",
       "      <td>NaT</td>\n",
       "      <td>145.600000</td>\n",
       "      <td>V1 Released</td>\n",
       "      <td>0</td>\n",
       "      <td>673</td>\n",
       "    </tr>\n",
       "    <tr>\n",
       "      <th>1</th>\n",
       "      <td>2</td>\n",
       "      <td>2017-12-17</td>\n",
       "      <td>2019-04-27 13:23:56</td>\n",
       "      <td>531</td>\n",
       "      <td>Marketing Segment 1</td>\n",
       "      <td>Ka</td>\n",
       "      <td>AX#20438</td>\n",
       "      <td>paying</td>\n",
       "      <td>2018-11-11</td>\n",
       "      <td>NaT</td>\n",
       "      <td>728.000000</td>\n",
       "      <td>V2 Released</td>\n",
       "      <td>0</td>\n",
       "      <td>329</td>\n",
       "    </tr>\n",
       "    <tr>\n",
       "      <th>2</th>\n",
       "      <td>3</td>\n",
       "      <td>2017-01-30</td>\n",
       "      <td>2019-04-22 15:38:09</td>\n",
       "      <td>317</td>\n",
       "      <td>Marketing Segment 1</td>\n",
       "      <td>Clint</td>\n",
       "      <td>AX#60779</td>\n",
       "      <td>paying</td>\n",
       "      <td>2019-03-15</td>\n",
       "      <td>NaT</td>\n",
       "      <td>277.200000</td>\n",
       "      <td>V1 Released</td>\n",
       "      <td>0</td>\n",
       "      <td>774</td>\n",
       "    </tr>\n",
       "    <tr>\n",
       "      <th>3</th>\n",
       "      <td>4</td>\n",
       "      <td>2017-02-03</td>\n",
       "      <td>2019-04-23 16:30:46</td>\n",
       "      <td>349</td>\n",
       "      <td>Marketing Segment 1</td>\n",
       "      <td>Hong</td>\n",
       "      <td>AX#91209</td>\n",
       "      <td>paying</td>\n",
       "      <td>2019-03-24</td>\n",
       "      <td>NaT</td>\n",
       "      <td>292.833333</td>\n",
       "      <td>V1 Released</td>\n",
       "      <td>0</td>\n",
       "      <td>779</td>\n",
       "    </tr>\n",
       "    <tr>\n",
       "      <th>4</th>\n",
       "      <td>5</td>\n",
       "      <td>2017-03-18</td>\n",
       "      <td>2019-04-05 13:16:33</td>\n",
       "      <td>1158</td>\n",
       "      <td>Marketing Segment 2</td>\n",
       "      <td>Kate</td>\n",
       "      <td>AX#57000</td>\n",
       "      <td>paying</td>\n",
       "      <td>2018-10-12</td>\n",
       "      <td>NaT</td>\n",
       "      <td>462.000000</td>\n",
       "      <td>V1 Released</td>\n",
       "      <td>0</td>\n",
       "      <td>573</td>\n",
       "    </tr>\n",
       "  </tbody>\n",
       "</table>\n",
       "</div>"
      ],
      "text/plain": [
       "   Customer ID Free Account Created Date           Last Seen  Session Count  \\\n",
       "0            1                2017-05-29 2019-04-05 08:02:32           1379   \n",
       "1            2                2017-12-17 2019-04-27 13:23:56            531   \n",
       "2            3                2017-01-30 2019-04-22 15:38:09            317   \n",
       "3            4                2017-02-03 2019-04-23 16:30:46            349   \n",
       "4            5                2017-03-18 2019-04-05 13:16:33           1158   \n",
       "\n",
       "               Segment First Name Billing Account Account Status  \\\n",
       "0  Marketing Segment 2     Joshua        AX#93195         paying   \n",
       "1  Marketing Segment 1         Ka        AX#20438         paying   \n",
       "2  Marketing Segment 1      Clint        AX#60779         paying   \n",
       "3  Marketing Segment 1       Hong        AX#91209         paying   \n",
       "4  Marketing Segment 2       Kate        AX#57000         paying   \n",
       "\n",
       "  Upgraded Account Created Date Upgraded Account Cancelled Date  \\\n",
       "0                    2019-04-02                             NaT   \n",
       "1                    2018-11-11                             NaT   \n",
       "2                    2019-03-15                             NaT   \n",
       "3                    2019-03-24                             NaT   \n",
       "4                    2018-10-12                             NaT   \n",
       "\n",
       "   Total Charges Upgraded Time Price change  \\\n",
       "0     145.600000   V1 Released            0   \n",
       "1     728.000000   V2 Released            0   \n",
       "2     277.200000   V1 Released            0   \n",
       "3     292.833333   V1 Released            0   \n",
       "4     462.000000   V1 Released            0   \n",
       "\n",
       "   Distance Upgraded from Create Free  \n",
       "0                                 673  \n",
       "1                                 329  \n",
       "2                                 774  \n",
       "3                                 779  \n",
       "4                                 573  "
      ]
     },
     "execution_count": 443,
     "metadata": {},
     "output_type": "execute_result"
    }
   ],
   "source": [
    "df.head()"
   ]
  },
  {
   "cell_type": "code",
   "execution_count": 450,
   "metadata": {},
   "outputs": [
    {
     "data": {
      "text/html": [
       "<div>\n",
       "<style scoped>\n",
       "    .dataframe tbody tr th:only-of-type {\n",
       "        vertical-align: middle;\n",
       "    }\n",
       "\n",
       "    .dataframe tbody tr th {\n",
       "        vertical-align: top;\n",
       "    }\n",
       "\n",
       "    .dataframe thead th {\n",
       "        text-align: right;\n",
       "    }\n",
       "</style>\n",
       "<table border=\"1\" class=\"dataframe\">\n",
       "  <thead>\n",
       "    <tr style=\"text-align: right;\">\n",
       "      <th></th>\n",
       "      <th>Customer ID</th>\n",
       "      <th>Free Account Created Date</th>\n",
       "      <th>Last Seen</th>\n",
       "      <th>Session Count</th>\n",
       "      <th>Segment</th>\n",
       "      <th>First Name</th>\n",
       "      <th>Billing Account</th>\n",
       "      <th>Account Status</th>\n",
       "      <th>Upgraded Account Created Date</th>\n",
       "      <th>Upgraded Account Cancelled Date</th>\n",
       "      <th>Total Charges</th>\n",
       "      <th>Upgraded Time</th>\n",
       "      <th>Price change</th>\n",
       "      <th>Distance Upgraded from Create Free</th>\n",
       "      <th>Year_paying</th>\n",
       "    </tr>\n",
       "  </thead>\n",
       "  <tbody>\n",
       "    <tr>\n",
       "      <th>0</th>\n",
       "      <td>1</td>\n",
       "      <td>2017-05-29</td>\n",
       "      <td>2019-04-05 08:02:32</td>\n",
       "      <td>1379</td>\n",
       "      <td>Marketing Segment 2</td>\n",
       "      <td>Joshua</td>\n",
       "      <td>AX#93195</td>\n",
       "      <td>paying</td>\n",
       "      <td>2019-04-02</td>\n",
       "      <td>NaT</td>\n",
       "      <td>145.600000</td>\n",
       "      <td>V1 Released</td>\n",
       "      <td>0</td>\n",
       "      <td>673</td>\n",
       "      <td>2019</td>\n",
       "    </tr>\n",
       "    <tr>\n",
       "      <th>1</th>\n",
       "      <td>2</td>\n",
       "      <td>2017-12-17</td>\n",
       "      <td>2019-04-27 13:23:56</td>\n",
       "      <td>531</td>\n",
       "      <td>Marketing Segment 1</td>\n",
       "      <td>Ka</td>\n",
       "      <td>AX#20438</td>\n",
       "      <td>paying</td>\n",
       "      <td>2018-11-11</td>\n",
       "      <td>NaT</td>\n",
       "      <td>728.000000</td>\n",
       "      <td>V2 Released</td>\n",
       "      <td>0</td>\n",
       "      <td>329</td>\n",
       "      <td>2018</td>\n",
       "    </tr>\n",
       "    <tr>\n",
       "      <th>2</th>\n",
       "      <td>3</td>\n",
       "      <td>2017-01-30</td>\n",
       "      <td>2019-04-22 15:38:09</td>\n",
       "      <td>317</td>\n",
       "      <td>Marketing Segment 1</td>\n",
       "      <td>Clint</td>\n",
       "      <td>AX#60779</td>\n",
       "      <td>paying</td>\n",
       "      <td>2019-03-15</td>\n",
       "      <td>NaT</td>\n",
       "      <td>277.200000</td>\n",
       "      <td>V1 Released</td>\n",
       "      <td>0</td>\n",
       "      <td>774</td>\n",
       "      <td>2019</td>\n",
       "    </tr>\n",
       "    <tr>\n",
       "      <th>3</th>\n",
       "      <td>4</td>\n",
       "      <td>2017-02-03</td>\n",
       "      <td>2019-04-23 16:30:46</td>\n",
       "      <td>349</td>\n",
       "      <td>Marketing Segment 1</td>\n",
       "      <td>Hong</td>\n",
       "      <td>AX#91209</td>\n",
       "      <td>paying</td>\n",
       "      <td>2019-03-24</td>\n",
       "      <td>NaT</td>\n",
       "      <td>292.833333</td>\n",
       "      <td>V1 Released</td>\n",
       "      <td>0</td>\n",
       "      <td>779</td>\n",
       "      <td>2019</td>\n",
       "    </tr>\n",
       "    <tr>\n",
       "      <th>4</th>\n",
       "      <td>5</td>\n",
       "      <td>2017-03-18</td>\n",
       "      <td>2019-04-05 13:16:33</td>\n",
       "      <td>1158</td>\n",
       "      <td>Marketing Segment 2</td>\n",
       "      <td>Kate</td>\n",
       "      <td>AX#57000</td>\n",
       "      <td>paying</td>\n",
       "      <td>2018-10-12</td>\n",
       "      <td>NaT</td>\n",
       "      <td>462.000000</td>\n",
       "      <td>V1 Released</td>\n",
       "      <td>0</td>\n",
       "      <td>573</td>\n",
       "      <td>2018</td>\n",
       "    </tr>\n",
       "    <tr>\n",
       "      <th>...</th>\n",
       "      <td>...</td>\n",
       "      <td>...</td>\n",
       "      <td>...</td>\n",
       "      <td>...</td>\n",
       "      <td>...</td>\n",
       "      <td>...</td>\n",
       "      <td>...</td>\n",
       "      <td>...</td>\n",
       "      <td>...</td>\n",
       "      <td>...</td>\n",
       "      <td>...</td>\n",
       "      <td>...</td>\n",
       "      <td>...</td>\n",
       "      <td>...</td>\n",
       "      <td>...</td>\n",
       "    </tr>\n",
       "    <tr>\n",
       "      <th>1009</th>\n",
       "      <td>996</td>\n",
       "      <td>2019-04-25</td>\n",
       "      <td>2019-04-28 16:55:00</td>\n",
       "      <td>1</td>\n",
       "      <td>Marketing Segment 2</td>\n",
       "      <td>Garnet</td>\n",
       "      <td>AX#88630</td>\n",
       "      <td>paying</td>\n",
       "      <td>2019-04-25</td>\n",
       "      <td>NaT</td>\n",
       "      <td>21.200000</td>\n",
       "      <td>V3 Released</td>\n",
       "      <td>1</td>\n",
       "      <td>0</td>\n",
       "      <td>2019</td>\n",
       "    </tr>\n",
       "    <tr>\n",
       "      <th>1010</th>\n",
       "      <td>997</td>\n",
       "      <td>2019-04-26</td>\n",
       "      <td>2019-04-26 20:09:02</td>\n",
       "      <td>0</td>\n",
       "      <td>Marketing Segment 2</td>\n",
       "      <td>Claribel</td>\n",
       "      <td>AX#53242</td>\n",
       "      <td>paying</td>\n",
       "      <td>2019-04-27</td>\n",
       "      <td>NaT</td>\n",
       "      <td>6.833333</td>\n",
       "      <td>V3 Released</td>\n",
       "      <td>1</td>\n",
       "      <td>1</td>\n",
       "      <td>2019</td>\n",
       "    </tr>\n",
       "    <tr>\n",
       "      <th>1011</th>\n",
       "      <td>998</td>\n",
       "      <td>2019-04-27</td>\n",
       "      <td>2019-04-27 20:52:36</td>\n",
       "      <td>1</td>\n",
       "      <td>Marketing Segment 3</td>\n",
       "      <td>Porsha</td>\n",
       "      <td>AX#50772</td>\n",
       "      <td>paying</td>\n",
       "      <td>2019-04-27</td>\n",
       "      <td>NaT</td>\n",
       "      <td>4.733333</td>\n",
       "      <td>V3 Released</td>\n",
       "      <td>1</td>\n",
       "      <td>0</td>\n",
       "      <td>2019</td>\n",
       "    </tr>\n",
       "    <tr>\n",
       "      <th>1012</th>\n",
       "      <td>999</td>\n",
       "      <td>2019-04-28</td>\n",
       "      <td>2019-04-28 15:56:51</td>\n",
       "      <td>0</td>\n",
       "      <td>Marketing Segment 1</td>\n",
       "      <td>Emma</td>\n",
       "      <td>AX#75078</td>\n",
       "      <td>paying</td>\n",
       "      <td>2019-04-28</td>\n",
       "      <td>NaT</td>\n",
       "      <td>0.000000</td>\n",
       "      <td>V3 Released</td>\n",
       "      <td>1</td>\n",
       "      <td>0</td>\n",
       "      <td>2019</td>\n",
       "    </tr>\n",
       "    <tr>\n",
       "      <th>1013</th>\n",
       "      <td>1000</td>\n",
       "      <td>2019-04-28</td>\n",
       "      <td>2019-04-28 15:56:51</td>\n",
       "      <td>0</td>\n",
       "      <td>Marketing Segment 2</td>\n",
       "      <td>Kate</td>\n",
       "      <td>AX#89342</td>\n",
       "      <td>paying</td>\n",
       "      <td>2019-04-28</td>\n",
       "      <td>NaT</td>\n",
       "      <td>0.000000</td>\n",
       "      <td>V3 Released</td>\n",
       "      <td>1</td>\n",
       "      <td>0</td>\n",
       "      <td>2019</td>\n",
       "    </tr>\n",
       "  </tbody>\n",
       "</table>\n",
       "<p>891 rows × 15 columns</p>\n",
       "</div>"
      ],
      "text/plain": [
       "      Customer ID Free Account Created Date           Last Seen  \\\n",
       "0               1                2017-05-29 2019-04-05 08:02:32   \n",
       "1               2                2017-12-17 2019-04-27 13:23:56   \n",
       "2               3                2017-01-30 2019-04-22 15:38:09   \n",
       "3               4                2017-02-03 2019-04-23 16:30:46   \n",
       "4               5                2017-03-18 2019-04-05 13:16:33   \n",
       "...           ...                       ...                 ...   \n",
       "1009          996                2019-04-25 2019-04-28 16:55:00   \n",
       "1010          997                2019-04-26 2019-04-26 20:09:02   \n",
       "1011          998                2019-04-27 2019-04-27 20:52:36   \n",
       "1012          999                2019-04-28 2019-04-28 15:56:51   \n",
       "1013         1000                2019-04-28 2019-04-28 15:56:51   \n",
       "\n",
       "      Session Count              Segment First Name Billing Account  \\\n",
       "0              1379  Marketing Segment 2     Joshua        AX#93195   \n",
       "1               531  Marketing Segment 1         Ka        AX#20438   \n",
       "2               317  Marketing Segment 1      Clint        AX#60779   \n",
       "3               349  Marketing Segment 1       Hong        AX#91209   \n",
       "4              1158  Marketing Segment 2       Kate        AX#57000   \n",
       "...             ...                  ...        ...             ...   \n",
       "1009              1  Marketing Segment 2     Garnet        AX#88630   \n",
       "1010              0  Marketing Segment 2   Claribel        AX#53242   \n",
       "1011              1  Marketing Segment 3     Porsha        AX#50772   \n",
       "1012              0  Marketing Segment 1       Emma        AX#75078   \n",
       "1013              0  Marketing Segment 2       Kate        AX#89342   \n",
       "\n",
       "     Account Status Upgraded Account Created Date  \\\n",
       "0            paying                    2019-04-02   \n",
       "1            paying                    2018-11-11   \n",
       "2            paying                    2019-03-15   \n",
       "3            paying                    2019-03-24   \n",
       "4            paying                    2018-10-12   \n",
       "...             ...                           ...   \n",
       "1009         paying                    2019-04-25   \n",
       "1010         paying                    2019-04-27   \n",
       "1011         paying                    2019-04-27   \n",
       "1012         paying                    2019-04-28   \n",
       "1013         paying                    2019-04-28   \n",
       "\n",
       "     Upgraded Account Cancelled Date  Total Charges Upgraded Time  \\\n",
       "0                                NaT     145.600000   V1 Released   \n",
       "1                                NaT     728.000000   V2 Released   \n",
       "2                                NaT     277.200000   V1 Released   \n",
       "3                                NaT     292.833333   V1 Released   \n",
       "4                                NaT     462.000000   V1 Released   \n",
       "...                              ...            ...           ...   \n",
       "1009                             NaT      21.200000   V3 Released   \n",
       "1010                             NaT       6.833333   V3 Released   \n",
       "1011                             NaT       4.733333   V3 Released   \n",
       "1012                             NaT       0.000000   V3 Released   \n",
       "1013                             NaT       0.000000   V3 Released   \n",
       "\n",
       "     Price change  Distance Upgraded from Create Free  Year_paying  \n",
       "0               0                                 673         2019  \n",
       "1               0                                 329         2018  \n",
       "2               0                                 774         2019  \n",
       "3               0                                 779         2019  \n",
       "4               0                                 573         2018  \n",
       "...           ...                                 ...          ...  \n",
       "1009            1                                   0         2019  \n",
       "1010            1                                   1         2019  \n",
       "1011            1                                   0         2019  \n",
       "1012            1                                   0         2019  \n",
       "1013            1                                   0         2019  \n",
       "\n",
       "[891 rows x 15 columns]"
      ]
     },
     "execution_count": 450,
     "metadata": {},
     "output_type": "execute_result"
    }
   ],
   "source": [
    "df_paying['Year_paying']=df_paying['Upgraded Account Created Date'].dt.year\n",
    "df_paying"
   ]
  },
  {
   "cell_type": "code",
   "execution_count": 484,
   "metadata": {},
   "outputs": [
    {
     "data": {
      "text/html": [
       "<div>\n",
       "<style scoped>\n",
       "    .dataframe tbody tr th:only-of-type {\n",
       "        vertical-align: middle;\n",
       "    }\n",
       "\n",
       "    .dataframe tbody tr th {\n",
       "        vertical-align: top;\n",
       "    }\n",
       "\n",
       "    .dataframe thead th {\n",
       "        text-align: right;\n",
       "    }\n",
       "</style>\n",
       "<table border=\"1\" class=\"dataframe\">\n",
       "  <thead>\n",
       "    <tr style=\"text-align: right;\">\n",
       "      <th></th>\n",
       "      <th>Year_paying</th>\n",
       "      <th>Total Charges</th>\n",
       "    </tr>\n",
       "  </thead>\n",
       "  <tbody>\n",
       "    <tr>\n",
       "      <th>0</th>\n",
       "      <td>2017</td>\n",
       "      <td>5</td>\n",
       "    </tr>\n",
       "    <tr>\n",
       "      <th>1</th>\n",
       "      <td>2018</td>\n",
       "      <td>323</td>\n",
       "    </tr>\n",
       "    <tr>\n",
       "      <th>2</th>\n",
       "      <td>2019</td>\n",
       "      <td>563</td>\n",
       "    </tr>\n",
       "  </tbody>\n",
       "</table>\n",
       "</div>"
      ],
      "text/plain": [
       "   Year_paying  Total Charges\n",
       "0         2017              5\n",
       "1         2018            323\n",
       "2         2019            563"
      ]
     },
     "execution_count": 484,
     "metadata": {},
     "output_type": "execute_result"
    }
   ],
   "source": [
    "df_paying.groupby('Year_paying')['Total Charges'].count().reset_index()"
   ]
  },
  {
   "cell_type": "code",
   "execution_count": 471,
   "metadata": {},
   "outputs": [
    {
     "data": {
      "text/html": [
       "<div>\n",
       "<style scoped>\n",
       "    .dataframe tbody tr th:only-of-type {\n",
       "        vertical-align: middle;\n",
       "    }\n",
       "\n",
       "    .dataframe tbody tr th {\n",
       "        vertical-align: top;\n",
       "    }\n",
       "\n",
       "    .dataframe thead th {\n",
       "        text-align: right;\n",
       "    }\n",
       "</style>\n",
       "<table border=\"1\" class=\"dataframe\">\n",
       "  <thead>\n",
       "    <tr style=\"text-align: right;\">\n",
       "      <th></th>\n",
       "      <th>Year_paying</th>\n",
       "      <th>Total Charges</th>\n",
       "    </tr>\n",
       "  </thead>\n",
       "  <tbody>\n",
       "    <tr>\n",
       "      <th>0</th>\n",
       "      <td>2017</td>\n",
       "      <td>15181.53</td>\n",
       "    </tr>\n",
       "    <tr>\n",
       "      <th>1</th>\n",
       "      <td>2018</td>\n",
       "      <td>375710.70</td>\n",
       "    </tr>\n",
       "    <tr>\n",
       "      <th>2</th>\n",
       "      <td>2019</td>\n",
       "      <td>120742.43</td>\n",
       "    </tr>\n",
       "  </tbody>\n",
       "</table>\n",
       "</div>"
      ],
      "text/plain": [
       "   Year_paying  Total Charges\n",
       "0         2017       15181.53\n",
       "1         2018      375710.70\n",
       "2         2019      120742.43"
      ]
     },
     "execution_count": 471,
     "metadata": {},
     "output_type": "execute_result"
    }
   ],
   "source": [
    "df_total_charges_paying=round(df_paying.groupby('Year_paying')['Total Charges'].sum().reset_index(),2)\n",
    "df_total_charges_paying"
   ]
  },
  {
   "cell_type": "code",
   "execution_count": 482,
   "metadata": {},
   "outputs": [
    {
     "data": {
      "image/png": "[encoded data removed]",
      "text/plain": [
       "<Figure size 720x432 with 1 Axes>"
      ]
     },
     "metadata": {
      "needs_background": "light"
     },
     "output_type": "display_data"
    }
   ],
   "source": [
    "plt.figure(figsize=(10,6))\n",
    "height = df_total_charges_paying['Total Charges']\n",
    "bars = df_total_charges_paying['Year_paying']\n",
    "y_pos = np.arange(len(bars))\n",
    "plt.bar(y_pos, height)\n",
    "plt.xticks(y_pos, bars)\n",
    "plt.title('Total Charges by Year')\n",
    "plt.xlabel('Year')\n",
    "plt.ylabel('Total Charges')\n",
    "plt.show()"
   ]
  },
  {
   "cell_type": "markdown",
   "metadata": {},
   "source": [
    "Total Chages 2018 cao nhất tuy lượng khách hàng paying không nhiều bằng năm 2019 nhưng giá trị paying cao hơn vì vậy dẫn đến 2019 có khác nhiều khách hàng paying nhưng charges thấp hơn 2018. "
   ]
  },
  {
   "cell_type": "code",
   "execution_count": null,
   "metadata": {},
   "outputs": [],
   "source": []
  },
  {
   "cell_type": "code",
   "execution_count": null,
   "metadata": {},
   "outputs": [],
   "source": []
  },
  {
   "cell_type": "markdown",
   "metadata": {},
   "source": [
    "Churn Predict Customer "
   ]
  },
  {
   "cell_type": "code",
   "execution_count": 485,
   "metadata": {},
   "outputs": [],
   "source": [
    "feature=df.copy()"
   ]
  },
  {
   "cell_type": "code",
   "execution_count": 490,
   "metadata": {},
   "outputs": [
    {
     "data": {
      "text/html": [
       "<div>\n",
       "<style scoped>\n",
       "    .dataframe tbody tr th:only-of-type {\n",
       "        vertical-align: middle;\n",
       "    }\n",
       "\n",
       "    .dataframe tbody tr th {\n",
       "        vertical-align: top;\n",
       "    }\n",
       "\n",
       "    .dataframe thead th {\n",
       "        text-align: right;\n",
       "    }\n",
       "</style>\n",
       "<table border=\"1\" class=\"dataframe\">\n",
       "  <thead>\n",
       "    <tr style=\"text-align: right;\">\n",
       "      <th></th>\n",
       "      <th>Customer ID</th>\n",
       "      <th>Free Account Created Date</th>\n",
       "      <th>Last Seen</th>\n",
       "      <th>Session Count</th>\n",
       "      <th>Segment</th>\n",
       "      <th>First Name</th>\n",
       "      <th>Billing Account</th>\n",
       "      <th>Account Status</th>\n",
       "      <th>Upgraded Account Created Date</th>\n",
       "      <th>Upgraded Account Cancelled Date</th>\n",
       "      <th>Total Charges</th>\n",
       "      <th>Upgraded Time</th>\n",
       "      <th>Price change</th>\n",
       "      <th>Distance Upgraded from Create Free</th>\n",
       "      <th>Year</th>\n",
       "      <th>cancel</th>\n",
       "    </tr>\n",
       "  </thead>\n",
       "  <tbody>\n",
       "    <tr>\n",
       "      <th>0</th>\n",
       "      <td>1</td>\n",
       "      <td>2017-05-29</td>\n",
       "      <td>2019-04-05 08:02:32</td>\n",
       "      <td>1379</td>\n",
       "      <td>Marketing Segment 2</td>\n",
       "      <td>Joshua</td>\n",
       "      <td>AX#93195</td>\n",
       "      <td>paying</td>\n",
       "      <td>2019-04-02</td>\n",
       "      <td>NaT</td>\n",
       "      <td>145.600000</td>\n",
       "      <td>V1 Released</td>\n",
       "      <td>0</td>\n",
       "      <td>673</td>\n",
       "      <td>2019</td>\n",
       "      <td>1</td>\n",
       "    </tr>\n",
       "    <tr>\n",
       "      <th>1</th>\n",
       "      <td>2</td>\n",
       "      <td>2017-12-17</td>\n",
       "      <td>2019-04-27 13:23:56</td>\n",
       "      <td>531</td>\n",
       "      <td>Marketing Segment 1</td>\n",
       "      <td>Ka</td>\n",
       "      <td>AX#20438</td>\n",
       "      <td>paying</td>\n",
       "      <td>2018-11-11</td>\n",
       "      <td>NaT</td>\n",
       "      <td>728.000000</td>\n",
       "      <td>V2 Released</td>\n",
       "      <td>0</td>\n",
       "      <td>329</td>\n",
       "      <td>2018</td>\n",
       "      <td>1</td>\n",
       "    </tr>\n",
       "    <tr>\n",
       "      <th>2</th>\n",
       "      <td>3</td>\n",
       "      <td>2017-01-30</td>\n",
       "      <td>2019-04-22 15:38:09</td>\n",
       "      <td>317</td>\n",
       "      <td>Marketing Segment 1</td>\n",
       "      <td>Clint</td>\n",
       "      <td>AX#60779</td>\n",
       "      <td>paying</td>\n",
       "      <td>2019-03-15</td>\n",
       "      <td>NaT</td>\n",
       "      <td>277.200000</td>\n",
       "      <td>V1 Released</td>\n",
       "      <td>0</td>\n",
       "      <td>774</td>\n",
       "      <td>2019</td>\n",
       "      <td>1</td>\n",
       "    </tr>\n",
       "    <tr>\n",
       "      <th>3</th>\n",
       "      <td>4</td>\n",
       "      <td>2017-02-03</td>\n",
       "      <td>2019-04-23 16:30:46</td>\n",
       "      <td>349</td>\n",
       "      <td>Marketing Segment 1</td>\n",
       "      <td>Hong</td>\n",
       "      <td>AX#91209</td>\n",
       "      <td>paying</td>\n",
       "      <td>2019-03-24</td>\n",
       "      <td>NaT</td>\n",
       "      <td>292.833333</td>\n",
       "      <td>V1 Released</td>\n",
       "      <td>0</td>\n",
       "      <td>779</td>\n",
       "      <td>2019</td>\n",
       "      <td>1</td>\n",
       "    </tr>\n",
       "    <tr>\n",
       "      <th>4</th>\n",
       "      <td>5</td>\n",
       "      <td>2017-03-18</td>\n",
       "      <td>2019-04-05 13:16:33</td>\n",
       "      <td>1158</td>\n",
       "      <td>Marketing Segment 2</td>\n",
       "      <td>Kate</td>\n",
       "      <td>AX#57000</td>\n",
       "      <td>paying</td>\n",
       "      <td>2018-10-12</td>\n",
       "      <td>NaT</td>\n",
       "      <td>462.000000</td>\n",
       "      <td>V1 Released</td>\n",
       "      <td>0</td>\n",
       "      <td>573</td>\n",
       "      <td>2018</td>\n",
       "      <td>1</td>\n",
       "    </tr>\n",
       "    <tr>\n",
       "      <th>...</th>\n",
       "      <td>...</td>\n",
       "      <td>...</td>\n",
       "      <td>...</td>\n",
       "      <td>...</td>\n",
       "      <td>...</td>\n",
       "      <td>...</td>\n",
       "      <td>...</td>\n",
       "      <td>...</td>\n",
       "      <td>...</td>\n",
       "      <td>...</td>\n",
       "      <td>...</td>\n",
       "      <td>...</td>\n",
       "      <td>...</td>\n",
       "      <td>...</td>\n",
       "      <td>...</td>\n",
       "      <td>...</td>\n",
       "    </tr>\n",
       "    <tr>\n",
       "      <th>1009</th>\n",
       "      <td>996</td>\n",
       "      <td>2019-04-25</td>\n",
       "      <td>2019-04-28 16:55:00</td>\n",
       "      <td>1</td>\n",
       "      <td>Marketing Segment 2</td>\n",
       "      <td>Garnet</td>\n",
       "      <td>AX#88630</td>\n",
       "      <td>paying</td>\n",
       "      <td>2019-04-25</td>\n",
       "      <td>NaT</td>\n",
       "      <td>21.200000</td>\n",
       "      <td>V3 Released</td>\n",
       "      <td>1</td>\n",
       "      <td>0</td>\n",
       "      <td>2019</td>\n",
       "      <td>1</td>\n",
       "    </tr>\n",
       "    <tr>\n",
       "      <th>1010</th>\n",
       "      <td>997</td>\n",
       "      <td>2019-04-26</td>\n",
       "      <td>2019-04-26 20:09:02</td>\n",
       "      <td>0</td>\n",
       "      <td>Marketing Segment 2</td>\n",
       "      <td>Claribel</td>\n",
       "      <td>AX#53242</td>\n",
       "      <td>paying</td>\n",
       "      <td>2019-04-27</td>\n",
       "      <td>NaT</td>\n",
       "      <td>6.833333</td>\n",
       "      <td>V3 Released</td>\n",
       "      <td>1</td>\n",
       "      <td>1</td>\n",
       "      <td>2019</td>\n",
       "      <td>1</td>\n",
       "    </tr>\n",
       "    <tr>\n",
       "      <th>1011</th>\n",
       "      <td>998</td>\n",
       "      <td>2019-04-27</td>\n",
       "      <td>2019-04-27 20:52:36</td>\n",
       "      <td>1</td>\n",
       "      <td>Marketing Segment 3</td>\n",
       "      <td>Porsha</td>\n",
       "      <td>AX#50772</td>\n",
       "      <td>paying</td>\n",
       "      <td>2019-04-27</td>\n",
       "      <td>NaT</td>\n",
       "      <td>4.733333</td>\n",
       "      <td>V3 Released</td>\n",
       "      <td>1</td>\n",
       "      <td>0</td>\n",
       "      <td>2019</td>\n",
       "      <td>1</td>\n",
       "    </tr>\n",
       "    <tr>\n",
       "      <th>1012</th>\n",
       "      <td>999</td>\n",
       "      <td>2019-04-28</td>\n",
       "      <td>2019-04-28 15:56:51</td>\n",
       "      <td>0</td>\n",
       "      <td>Marketing Segment 1</td>\n",
       "      <td>Emma</td>\n",
       "      <td>AX#75078</td>\n",
       "      <td>paying</td>\n",
       "      <td>2019-04-28</td>\n",
       "      <td>NaT</td>\n",
       "      <td>0.000000</td>\n",
       "      <td>V3 Released</td>\n",
       "      <td>1</td>\n",
       "      <td>0</td>\n",
       "      <td>2019</td>\n",
       "      <td>1</td>\n",
       "    </tr>\n",
       "    <tr>\n",
       "      <th>1013</th>\n",
       "      <td>1000</td>\n",
       "      <td>2019-04-28</td>\n",
       "      <td>2019-04-28 15:56:51</td>\n",
       "      <td>0</td>\n",
       "      <td>Marketing Segment 2</td>\n",
       "      <td>Kate</td>\n",
       "      <td>AX#89342</td>\n",
       "      <td>paying</td>\n",
       "      <td>2019-04-28</td>\n",
       "      <td>NaT</td>\n",
       "      <td>0.000000</td>\n",
       "      <td>V3 Released</td>\n",
       "      <td>1</td>\n",
       "      <td>0</td>\n",
       "      <td>2019</td>\n",
       "      <td>1</td>\n",
       "    </tr>\n",
       "  </tbody>\n",
       "</table>\n",
       "<p>1014 rows × 16 columns</p>\n",
       "</div>"
      ],
      "text/plain": [
       "      Customer ID Free Account Created Date           Last Seen  \\\n",
       "0               1                2017-05-29 2019-04-05 08:02:32   \n",
       "1               2                2017-12-17 2019-04-27 13:23:56   \n",
       "2               3                2017-01-30 2019-04-22 15:38:09   \n",
       "3               4                2017-02-03 2019-04-23 16:30:46   \n",
       "4               5                2017-03-18 2019-04-05 13:16:33   \n",
       "...           ...                       ...                 ...   \n",
       "1009          996                2019-04-25 2019-04-28 16:55:00   \n",
       "1010          997                2019-04-26 2019-04-26 20:09:02   \n",
       "1011          998                2019-04-27 2019-04-27 20:52:36   \n",
       "1012          999                2019-04-28 2019-04-28 15:56:51   \n",
       "1013         1000                2019-04-28 2019-04-28 15:56:51   \n",
       "\n",
       "      Session Count              Segment First Name Billing Account  \\\n",
       "0              1379  Marketing Segment 2     Joshua        AX#93195   \n",
       "1               531  Marketing Segment 1         Ka        AX#20438   \n",
       "2               317  Marketing Segment 1      Clint        AX#60779   \n",
       "3               349  Marketing Segment 1       Hong        AX#91209   \n",
       "4              1158  Marketing Segment 2       Kate        AX#57000   \n",
       "...             ...                  ...        ...             ...   \n",
       "1009              1  Marketing Segment 2     Garnet        AX#88630   \n",
       "1010              0  Marketing Segment 2   Claribel        AX#53242   \n",
       "1011              1  Marketing Segment 3     Porsha        AX#50772   \n",
       "1012              0  Marketing Segment 1       Emma        AX#75078   \n",
       "1013              0  Marketing Segment 2       Kate        AX#89342   \n",
       "\n",
       "     Account Status Upgraded Account Created Date  \\\n",
       "0            paying                    2019-04-02   \n",
       "1            paying                    2018-11-11   \n",
       "2            paying                    2019-03-15   \n",
       "3            paying                    2019-03-24   \n",
       "4            paying                    2018-10-12   \n",
       "...             ...                           ...   \n",
       "1009         paying                    2019-04-25   \n",
       "1010         paying                    2019-04-27   \n",
       "1011         paying                    2019-04-27   \n",
       "1012         paying                    2019-04-28   \n",
       "1013         paying                    2019-04-28   \n",
       "\n",
       "     Upgraded Account Cancelled Date  Total Charges Upgraded Time  \\\n",
       "0                                NaT     145.600000   V1 Released   \n",
       "1                                NaT     728.000000   V2 Released   \n",
       "2                                NaT     277.200000   V1 Released   \n",
       "3                                NaT     292.833333   V1 Released   \n",
       "4                                NaT     462.000000   V1 Released   \n",
       "...                              ...            ...           ...   \n",
       "1009                             NaT      21.200000   V3 Released   \n",
       "1010                             NaT       6.833333   V3 Released   \n",
       "1011                             NaT       4.733333   V3 Released   \n",
       "1012                             NaT       0.000000   V3 Released   \n",
       "1013                             NaT       0.000000   V3 Released   \n",
       "\n",
       "     Price change  Distance Upgraded from Create Free  Year  cancel  \n",
       "0               0                                 673  2019       1  \n",
       "1               0                                 329  2018       1  \n",
       "2               0                                 774  2019       1  \n",
       "3               0                                 779  2019       1  \n",
       "4               0                                 573  2018       1  \n",
       "...           ...                                 ...   ...     ...  \n",
       "1009            1                                   0  2019       1  \n",
       "1010            1                                   1  2019       1  \n",
       "1011            1                                   0  2019       1  \n",
       "1012            1                                   0  2019       1  \n",
       "1013            1                                   0  2019       1  \n",
       "\n",
       "[1014 rows x 16 columns]"
      ]
     },
     "execution_count": 490,
     "metadata": {},
     "output_type": "execute_result"
    }
   ],
   "source": [
    "feature"
   ]
  },
  {
   "cell_type": "code",
   "execution_count": 538,
   "metadata": {},
   "outputs": [],
   "source": [
    "feature['cancel']=feature['Account Status'].map({'paying':0, 'cancelled':1})"
   ]
  },
  {
   "cell_type": "code",
   "execution_count": 539,
   "metadata": {},
   "outputs": [
    {
     "data": {
      "text/html": [
       "<div>\n",
       "<style scoped>\n",
       "    .dataframe tbody tr th:only-of-type {\n",
       "        vertical-align: middle;\n",
       "    }\n",
       "\n",
       "    .dataframe tbody tr th {\n",
       "        vertical-align: top;\n",
       "    }\n",
       "\n",
       "    .dataframe thead th {\n",
       "        text-align: right;\n",
       "    }\n",
       "</style>\n",
       "<table border=\"1\" class=\"dataframe\">\n",
       "  <thead>\n",
       "    <tr style=\"text-align: right;\">\n",
       "      <th></th>\n",
       "      <th>Segment_Marketing Segment 1</th>\n",
       "      <th>Segment_Marketing Segment 2</th>\n",
       "      <th>Segment_Marketing Segment 3</th>\n",
       "      <th>Upgraded Time_V1 Released</th>\n",
       "      <th>Upgraded Time_V2 Released</th>\n",
       "      <th>Upgraded Time_V3 Released</th>\n",
       "    </tr>\n",
       "  </thead>\n",
       "  <tbody>\n",
       "    <tr>\n",
       "      <th>0</th>\n",
       "      <td>0</td>\n",
       "      <td>1</td>\n",
       "      <td>0</td>\n",
       "      <td>1</td>\n",
       "      <td>0</td>\n",
       "      <td>0</td>\n",
       "    </tr>\n",
       "    <tr>\n",
       "      <th>1</th>\n",
       "      <td>1</td>\n",
       "      <td>0</td>\n",
       "      <td>0</td>\n",
       "      <td>0</td>\n",
       "      <td>1</td>\n",
       "      <td>0</td>\n",
       "    </tr>\n",
       "    <tr>\n",
       "      <th>2</th>\n",
       "      <td>1</td>\n",
       "      <td>0</td>\n",
       "      <td>0</td>\n",
       "      <td>1</td>\n",
       "      <td>0</td>\n",
       "      <td>0</td>\n",
       "    </tr>\n",
       "    <tr>\n",
       "      <th>3</th>\n",
       "      <td>1</td>\n",
       "      <td>0</td>\n",
       "      <td>0</td>\n",
       "      <td>1</td>\n",
       "      <td>0</td>\n",
       "      <td>0</td>\n",
       "    </tr>\n",
       "    <tr>\n",
       "      <th>4</th>\n",
       "      <td>0</td>\n",
       "      <td>1</td>\n",
       "      <td>0</td>\n",
       "      <td>1</td>\n",
       "      <td>0</td>\n",
       "      <td>0</td>\n",
       "    </tr>\n",
       "  </tbody>\n",
       "</table>\n",
       "</div>"
      ],
      "text/plain": [
       "   Segment_Marketing Segment 1  Segment_Marketing Segment 2  \\\n",
       "0                            0                            1   \n",
       "1                            1                            0   \n",
       "2                            1                            0   \n",
       "3                            1                            0   \n",
       "4                            0                            1   \n",
       "\n",
       "   Segment_Marketing Segment 3  Upgraded Time_V1 Released  \\\n",
       "0                            0                          1   \n",
       "1                            0                          0   \n",
       "2                            0                          1   \n",
       "3                            0                          1   \n",
       "4                            0                          1   \n",
       "\n",
       "   Upgraded Time_V2 Released  Upgraded Time_V3 Released  \n",
       "0                          0                          0  \n",
       "1                          1                          0  \n",
       "2                          0                          0  \n",
       "3                          0                          0  \n",
       "4                          0                          0  "
      ]
     },
     "execution_count": 539,
     "metadata": {},
     "output_type": "execute_result"
    }
   ],
   "source": [
    "feature1=pd.get_dummies(df[['Segment','Upgraded Time']])\n",
    "feature1.head()"
   ]
  },
  {
   "cell_type": "code",
   "execution_count": 540,
   "metadata": {},
   "outputs": [
    {
     "data": {
      "text/html": [
       "<div>\n",
       "<style scoped>\n",
       "    .dataframe tbody tr th:only-of-type {\n",
       "        vertical-align: middle;\n",
       "    }\n",
       "\n",
       "    .dataframe tbody tr th {\n",
       "        vertical-align: top;\n",
       "    }\n",
       "\n",
       "    .dataframe thead th {\n",
       "        text-align: right;\n",
       "    }\n",
       "</style>\n",
       "<table border=\"1\" class=\"dataframe\">\n",
       "  <thead>\n",
       "    <tr style=\"text-align: right;\">\n",
       "      <th></th>\n",
       "      <th>Segment_Marketing Segment 1</th>\n",
       "      <th>Segment_Marketing Segment 2</th>\n",
       "      <th>Segment_Marketing Segment 3</th>\n",
       "      <th>Upgraded Time_V1 Released</th>\n",
       "      <th>Upgraded Time_V2 Released</th>\n",
       "      <th>Upgraded Time_V3 Released</th>\n",
       "      <th>Total Charges</th>\n",
       "      <th>Session Count</th>\n",
       "      <th>Price change</th>\n",
       "      <th>Distance Upgraded from Create Free</th>\n",
       "      <th>cancel</th>\n",
       "    </tr>\n",
       "  </thead>\n",
       "  <tbody>\n",
       "    <tr>\n",
       "      <th>0</th>\n",
       "      <td>0</td>\n",
       "      <td>1</td>\n",
       "      <td>0</td>\n",
       "      <td>1</td>\n",
       "      <td>0</td>\n",
       "      <td>0</td>\n",
       "      <td>145.600000</td>\n",
       "      <td>1379</td>\n",
       "      <td>0</td>\n",
       "      <td>673</td>\n",
       "      <td>0</td>\n",
       "    </tr>\n",
       "    <tr>\n",
       "      <th>1</th>\n",
       "      <td>1</td>\n",
       "      <td>0</td>\n",
       "      <td>0</td>\n",
       "      <td>0</td>\n",
       "      <td>1</td>\n",
       "      <td>0</td>\n",
       "      <td>728.000000</td>\n",
       "      <td>531</td>\n",
       "      <td>0</td>\n",
       "      <td>329</td>\n",
       "      <td>0</td>\n",
       "    </tr>\n",
       "    <tr>\n",
       "      <th>2</th>\n",
       "      <td>1</td>\n",
       "      <td>0</td>\n",
       "      <td>0</td>\n",
       "      <td>1</td>\n",
       "      <td>0</td>\n",
       "      <td>0</td>\n",
       "      <td>277.200000</td>\n",
       "      <td>317</td>\n",
       "      <td>0</td>\n",
       "      <td>774</td>\n",
       "      <td>0</td>\n",
       "    </tr>\n",
       "    <tr>\n",
       "      <th>3</th>\n",
       "      <td>1</td>\n",
       "      <td>0</td>\n",
       "      <td>0</td>\n",
       "      <td>1</td>\n",
       "      <td>0</td>\n",
       "      <td>0</td>\n",
       "      <td>292.833333</td>\n",
       "      <td>349</td>\n",
       "      <td>0</td>\n",
       "      <td>779</td>\n",
       "      <td>0</td>\n",
       "    </tr>\n",
       "    <tr>\n",
       "      <th>4</th>\n",
       "      <td>0</td>\n",
       "      <td>1</td>\n",
       "      <td>0</td>\n",
       "      <td>1</td>\n",
       "      <td>0</td>\n",
       "      <td>0</td>\n",
       "      <td>462.000000</td>\n",
       "      <td>1158</td>\n",
       "      <td>0</td>\n",
       "      <td>573</td>\n",
       "      <td>0</td>\n",
       "    </tr>\n",
       "    <tr>\n",
       "      <th>...</th>\n",
       "      <td>...</td>\n",
       "      <td>...</td>\n",
       "      <td>...</td>\n",
       "      <td>...</td>\n",
       "      <td>...</td>\n",
       "      <td>...</td>\n",
       "      <td>...</td>\n",
       "      <td>...</td>\n",
       "      <td>...</td>\n",
       "      <td>...</td>\n",
       "      <td>...</td>\n",
       "    </tr>\n",
       "    <tr>\n",
       "      <th>1009</th>\n",
       "      <td>0</td>\n",
       "      <td>1</td>\n",
       "      <td>0</td>\n",
       "      <td>0</td>\n",
       "      <td>0</td>\n",
       "      <td>1</td>\n",
       "      <td>21.200000</td>\n",
       "      <td>1</td>\n",
       "      <td>1</td>\n",
       "      <td>0</td>\n",
       "      <td>0</td>\n",
       "    </tr>\n",
       "    <tr>\n",
       "      <th>1010</th>\n",
       "      <td>0</td>\n",
       "      <td>1</td>\n",
       "      <td>0</td>\n",
       "      <td>0</td>\n",
       "      <td>0</td>\n",
       "      <td>1</td>\n",
       "      <td>6.833333</td>\n",
       "      <td>0</td>\n",
       "      <td>1</td>\n",
       "      <td>1</td>\n",
       "      <td>0</td>\n",
       "    </tr>\n",
       "    <tr>\n",
       "      <th>1011</th>\n",
       "      <td>0</td>\n",
       "      <td>0</td>\n",
       "      <td>1</td>\n",
       "      <td>0</td>\n",
       "      <td>0</td>\n",
       "      <td>1</td>\n",
       "      <td>4.733333</td>\n",
       "      <td>1</td>\n",
       "      <td>1</td>\n",
       "      <td>0</td>\n",
       "      <td>0</td>\n",
       "    </tr>\n",
       "    <tr>\n",
       "      <th>1012</th>\n",
       "      <td>1</td>\n",
       "      <td>0</td>\n",
       "      <td>0</td>\n",
       "      <td>0</td>\n",
       "      <td>0</td>\n",
       "      <td>1</td>\n",
       "      <td>0.000000</td>\n",
       "      <td>0</td>\n",
       "      <td>1</td>\n",
       "      <td>0</td>\n",
       "      <td>0</td>\n",
       "    </tr>\n",
       "    <tr>\n",
       "      <th>1013</th>\n",
       "      <td>0</td>\n",
       "      <td>1</td>\n",
       "      <td>0</td>\n",
       "      <td>0</td>\n",
       "      <td>0</td>\n",
       "      <td>1</td>\n",
       "      <td>0.000000</td>\n",
       "      <td>0</td>\n",
       "      <td>1</td>\n",
       "      <td>0</td>\n",
       "      <td>0</td>\n",
       "    </tr>\n",
       "  </tbody>\n",
       "</table>\n",
       "<p>1014 rows × 11 columns</p>\n",
       "</div>"
      ],
      "text/plain": [
       "      Segment_Marketing Segment 1  Segment_Marketing Segment 2  \\\n",
       "0                               0                            1   \n",
       "1                               1                            0   \n",
       "2                               1                            0   \n",
       "3                               1                            0   \n",
       "4                               0                            1   \n",
       "...                           ...                          ...   \n",
       "1009                            0                            1   \n",
       "1010                            0                            1   \n",
       "1011                            0                            0   \n",
       "1012                            1                            0   \n",
       "1013                            0                            1   \n",
       "\n",
       "      Segment_Marketing Segment 3  Upgraded Time_V1 Released  \\\n",
       "0                               0                          1   \n",
       "1                               0                          0   \n",
       "2                               0                          1   \n",
       "3                               0                          1   \n",
       "4                               0                          1   \n",
       "...                           ...                        ...   \n",
       "1009                            0                          0   \n",
       "1010                            0                          0   \n",
       "1011                            1                          0   \n",
       "1012                            0                          0   \n",
       "1013                            0                          0   \n",
       "\n",
       "      Upgraded Time_V2 Released  Upgraded Time_V3 Released  Total Charges  \\\n",
       "0                             0                          0     145.600000   \n",
       "1                             1                          0     728.000000   \n",
       "2                             0                          0     277.200000   \n",
       "3                             0                          0     292.833333   \n",
       "4                             0                          0     462.000000   \n",
       "...                         ...                        ...            ...   \n",
       "1009                          0                          1      21.200000   \n",
       "1010                          0                          1       6.833333   \n",
       "1011                          0                          1       4.733333   \n",
       "1012                          0                          1       0.000000   \n",
       "1013                          0                          1       0.000000   \n",
       "\n",
       "      Session Count Price change  Distance Upgraded from Create Free  cancel  \n",
       "0              1379            0                                 673       0  \n",
       "1               531            0                                 329       0  \n",
       "2               317            0                                 774       0  \n",
       "3               349            0                                 779       0  \n",
       "4              1158            0                                 573       0  \n",
       "...             ...          ...                                 ...     ...  \n",
       "1009              1            1                                   0       0  \n",
       "1010              0            1                                   1       0  \n",
       "1011              1            1                                   0       0  \n",
       "1012              0            1                                   0       0  \n",
       "1013              0            1                                   0       0  \n",
       "\n",
       "[1014 rows x 11 columns]"
      ]
     },
     "execution_count": 540,
     "metadata": {},
     "output_type": "execute_result"
    }
   ],
   "source": [
    "feature_final=pd.concat([feature1,feature[['Total Charges','Session Count','Price change','Distance Upgraded from Create Free','cancel']]], axis=1)\n",
    "feature_final"
   ]
  },
  {
   "cell_type": "code",
   "execution_count": 541,
   "metadata": {},
   "outputs": [
    {
     "data": {
      "text/plain": [
       "<matplotlib.axes._subplots.AxesSubplot at 0x2014909be50>"
      ]
     },
     "execution_count": 541,
     "metadata": {},
     "output_type": "execute_result"
    },
    {
     "data": {
      "image/png": "[encoded data removed]",
      "text/plain": [
       "<Figure size 720x432 with 2 Axes>"
      ]
     },
     "metadata": {
      "needs_background": "light"
     },
     "output_type": "display_data"
    }
   ],
   "source": [
    "plt.figure(figsize=(10,6))\n",
    "corr =feature_final.corr()\n",
    "sns.heatmap(corr)"
   ]
  },
  {
   "cell_type": "code",
   "execution_count": 543,
   "metadata": {},
   "outputs": [
    {
     "data": {
      "text/plain": [
       "<matplotlib.legend.Legend at 0x2014d22d400>"
      ]
     },
     "execution_count": 543,
     "metadata": {},
     "output_type": "execute_result"
    },
    {
     "data": {
      "image/png": "[encoded data removed]",
      "text/plain": [
       "<Figure size 432x288 with 1 Axes>"
      ]
     },
     "metadata": {
      "needs_background": "light"
     },
     "output_type": "display_data"
    }
   ],
   "source": [
    "feature_final[feature_final['cancel']==0]['Total Charges'].plot(kind ='hist', alpha =0.5, color='red', label ='paying')\n",
    "feature_final[feature_final['cancel']==1]['Total Charges'].plot(kind='hist', alpha =0.3, color='blue', label='cancelled')\n",
    "plt.xlabel('Total Charges')\n",
    "plt.legend()"
   ]
  },
  {
   "cell_type": "code",
   "execution_count": 546,
   "metadata": {},
   "outputs": [],
   "source": [
    "X= feature_final.drop('cancel', axis=1)\n",
    "y= feature_final['cancel']"
   ]
  },
  {
   "cell_type": "markdown",
   "metadata": {},
   "source": [
    "Chuẩn hóa dữ liệu"
   ]
  },
  {
   "cell_type": "code",
   "execution_count": 547,
   "metadata": {},
   "outputs": [],
   "source": [
    "from sklearn import preprocessing\n",
    "from sklearn.model_selection import train_test_split\n",
    "from sklearn import metrics\n",
    "x = X.values \n",
    "min_max_scaler = preprocessing.MinMaxScaler()\n",
    "x_scaled_train = min_max_scaler.fit_transform(x)\n",
    "df_train = pd.DataFrame(x_scaled_train)"
   ]
  },
  {
   "cell_type": "code",
   "execution_count": 548,
   "metadata": {},
   "outputs": [
    {
     "data": {
      "text/html": [
       "<div>\n",
       "<style scoped>\n",
       "    .dataframe tbody tr th:only-of-type {\n",
       "        vertical-align: middle;\n",
       "    }\n",
       "\n",
       "    .dataframe tbody tr th {\n",
       "        vertical-align: top;\n",
       "    }\n",
       "\n",
       "    .dataframe thead th {\n",
       "        text-align: right;\n",
       "    }\n",
       "</style>\n",
       "<table border=\"1\" class=\"dataframe\">\n",
       "  <thead>\n",
       "    <tr style=\"text-align: right;\">\n",
       "      <th></th>\n",
       "      <th>0</th>\n",
       "      <th>1</th>\n",
       "      <th>2</th>\n",
       "      <th>3</th>\n",
       "      <th>4</th>\n",
       "      <th>5</th>\n",
       "      <th>6</th>\n",
       "      <th>7</th>\n",
       "      <th>8</th>\n",
       "      <th>9</th>\n",
       "    </tr>\n",
       "  </thead>\n",
       "  <tbody>\n",
       "    <tr>\n",
       "      <th>0</th>\n",
       "      <td>0.0</td>\n",
       "      <td>1.0</td>\n",
       "      <td>0.0</td>\n",
       "      <td>1.0</td>\n",
       "      <td>0.0</td>\n",
       "      <td>0.0</td>\n",
       "      <td>0.032865</td>\n",
       "      <td>0.026950</td>\n",
       "      <td>0.0</td>\n",
       "      <td>0.902214</td>\n",
       "    </tr>\n",
       "    <tr>\n",
       "      <th>1</th>\n",
       "      <td>1.0</td>\n",
       "      <td>0.0</td>\n",
       "      <td>0.0</td>\n",
       "      <td>0.0</td>\n",
       "      <td>1.0</td>\n",
       "      <td>0.0</td>\n",
       "      <td>0.164324</td>\n",
       "      <td>0.010377</td>\n",
       "      <td>0.0</td>\n",
       "      <td>0.584871</td>\n",
       "    </tr>\n",
       "    <tr>\n",
       "      <th>2</th>\n",
       "      <td>1.0</td>\n",
       "      <td>0.0</td>\n",
       "      <td>0.0</td>\n",
       "      <td>1.0</td>\n",
       "      <td>0.0</td>\n",
       "      <td>0.0</td>\n",
       "      <td>0.062570</td>\n",
       "      <td>0.006195</td>\n",
       "      <td>0.0</td>\n",
       "      <td>0.995387</td>\n",
       "    </tr>\n",
       "    <tr>\n",
       "      <th>3</th>\n",
       "      <td>1.0</td>\n",
       "      <td>0.0</td>\n",
       "      <td>0.0</td>\n",
       "      <td>1.0</td>\n",
       "      <td>0.0</td>\n",
       "      <td>0.0</td>\n",
       "      <td>0.066098</td>\n",
       "      <td>0.006821</td>\n",
       "      <td>0.0</td>\n",
       "      <td>1.000000</td>\n",
       "    </tr>\n",
       "    <tr>\n",
       "      <th>4</th>\n",
       "      <td>0.0</td>\n",
       "      <td>1.0</td>\n",
       "      <td>0.0</td>\n",
       "      <td>1.0</td>\n",
       "      <td>0.0</td>\n",
       "      <td>0.0</td>\n",
       "      <td>0.104283</td>\n",
       "      <td>0.022631</td>\n",
       "      <td>0.0</td>\n",
       "      <td>0.809963</td>\n",
       "    </tr>\n",
       "    <tr>\n",
       "      <th>...</th>\n",
       "      <td>...</td>\n",
       "      <td>...</td>\n",
       "      <td>...</td>\n",
       "      <td>...</td>\n",
       "      <td>...</td>\n",
       "      <td>...</td>\n",
       "      <td>...</td>\n",
       "      <td>...</td>\n",
       "      <td>...</td>\n",
       "      <td>...</td>\n",
       "    </tr>\n",
       "    <tr>\n",
       "      <th>1009</th>\n",
       "      <td>0.0</td>\n",
       "      <td>1.0</td>\n",
       "      <td>0.0</td>\n",
       "      <td>0.0</td>\n",
       "      <td>0.0</td>\n",
       "      <td>1.0</td>\n",
       "      <td>0.004785</td>\n",
       "      <td>0.000020</td>\n",
       "      <td>1.0</td>\n",
       "      <td>0.281365</td>\n",
       "    </tr>\n",
       "    <tr>\n",
       "      <th>1010</th>\n",
       "      <td>0.0</td>\n",
       "      <td>1.0</td>\n",
       "      <td>0.0</td>\n",
       "      <td>0.0</td>\n",
       "      <td>0.0</td>\n",
       "      <td>1.0</td>\n",
       "      <td>0.001542</td>\n",
       "      <td>0.000000</td>\n",
       "      <td>1.0</td>\n",
       "      <td>0.282288</td>\n",
       "    </tr>\n",
       "    <tr>\n",
       "      <th>1011</th>\n",
       "      <td>0.0</td>\n",
       "      <td>0.0</td>\n",
       "      <td>1.0</td>\n",
       "      <td>0.0</td>\n",
       "      <td>0.0</td>\n",
       "      <td>1.0</td>\n",
       "      <td>0.001068</td>\n",
       "      <td>0.000020</td>\n",
       "      <td>1.0</td>\n",
       "      <td>0.281365</td>\n",
       "    </tr>\n",
       "    <tr>\n",
       "      <th>1012</th>\n",
       "      <td>1.0</td>\n",
       "      <td>0.0</td>\n",
       "      <td>0.0</td>\n",
       "      <td>0.0</td>\n",
       "      <td>0.0</td>\n",
       "      <td>1.0</td>\n",
       "      <td>0.000000</td>\n",
       "      <td>0.000000</td>\n",
       "      <td>1.0</td>\n",
       "      <td>0.281365</td>\n",
       "    </tr>\n",
       "    <tr>\n",
       "      <th>1013</th>\n",
       "      <td>0.0</td>\n",
       "      <td>1.0</td>\n",
       "      <td>0.0</td>\n",
       "      <td>0.0</td>\n",
       "      <td>0.0</td>\n",
       "      <td>1.0</td>\n",
       "      <td>0.000000</td>\n",
       "      <td>0.000000</td>\n",
       "      <td>1.0</td>\n",
       "      <td>0.281365</td>\n",
       "    </tr>\n",
       "  </tbody>\n",
       "</table>\n",
       "<p>1014 rows × 10 columns</p>\n",
       "</div>"
      ],
      "text/plain": [
       "        0    1    2    3    4    5         6         7    8         9\n",
       "0     0.0  1.0  0.0  1.0  0.0  0.0  0.032865  0.026950  0.0  0.902214\n",
       "1     1.0  0.0  0.0  0.0  1.0  0.0  0.164324  0.010377  0.0  0.584871\n",
       "2     1.0  0.0  0.0  1.0  0.0  0.0  0.062570  0.006195  0.0  0.995387\n",
       "3     1.0  0.0  0.0  1.0  0.0  0.0  0.066098  0.006821  0.0  1.000000\n",
       "4     0.0  1.0  0.0  1.0  0.0  0.0  0.104283  0.022631  0.0  0.809963\n",
       "...   ...  ...  ...  ...  ...  ...       ...       ...  ...       ...\n",
       "1009  0.0  1.0  0.0  0.0  0.0  1.0  0.004785  0.000020  1.0  0.281365\n",
       "1010  0.0  1.0  0.0  0.0  0.0  1.0  0.001542  0.000000  1.0  0.282288\n",
       "1011  0.0  0.0  1.0  0.0  0.0  1.0  0.001068  0.000020  1.0  0.281365\n",
       "1012  1.0  0.0  0.0  0.0  0.0  1.0  0.000000  0.000000  1.0  0.281365\n",
       "1013  0.0  1.0  0.0  0.0  0.0  1.0  0.000000  0.000000  1.0  0.281365\n",
       "\n",
       "[1014 rows x 10 columns]"
      ]
     },
     "execution_count": 548,
     "metadata": {},
     "output_type": "execute_result"
    }
   ],
   "source": [
    "df_train"
   ]
  },
  {
   "cell_type": "markdown",
   "metadata": {},
   "source": [
    "Chia du lieu train test"
   ]
  },
  {
   "cell_type": "code",
   "execution_count": 559,
   "metadata": {},
   "outputs": [],
   "source": [
    "X_train, X_test, y_train, y_test = train_test_split(df_train,y, test_size=.2, random_state=42)"
   ]
  },
  {
   "cell_type": "code",
   "execution_count": 560,
   "metadata": {},
   "outputs": [
    {
     "data": {
      "text/html": [
       "<div>\n",
       "<style scoped>\n",
       "    .dataframe tbody tr th:only-of-type {\n",
       "        vertical-align: middle;\n",
       "    }\n",
       "\n",
       "    .dataframe tbody tr th {\n",
       "        vertical-align: top;\n",
       "    }\n",
       "\n",
       "    .dataframe thead th {\n",
       "        text-align: right;\n",
       "    }\n",
       "</style>\n",
       "<table border=\"1\" class=\"dataframe\">\n",
       "  <thead>\n",
       "    <tr style=\"text-align: right;\">\n",
       "      <th></th>\n",
       "      <th>0</th>\n",
       "      <th>1</th>\n",
       "      <th>2</th>\n",
       "      <th>3</th>\n",
       "      <th>4</th>\n",
       "      <th>5</th>\n",
       "      <th>6</th>\n",
       "      <th>7</th>\n",
       "      <th>8</th>\n",
       "      <th>9</th>\n",
       "    </tr>\n",
       "  </thead>\n",
       "  <tbody>\n",
       "    <tr>\n",
       "      <th>847</th>\n",
       "      <td>0.0</td>\n",
       "      <td>1.0</td>\n",
       "      <td>0.0</td>\n",
       "      <td>0.0</td>\n",
       "      <td>0.0</td>\n",
       "      <td>1.0</td>\n",
       "      <td>0.042616</td>\n",
       "      <td>0.000547</td>\n",
       "      <td>1.0</td>\n",
       "      <td>0.281365</td>\n",
       "    </tr>\n",
       "    <tr>\n",
       "      <th>332</th>\n",
       "      <td>1.0</td>\n",
       "      <td>0.0</td>\n",
       "      <td>0.0</td>\n",
       "      <td>0.0</td>\n",
       "      <td>1.0</td>\n",
       "      <td>0.0</td>\n",
       "      <td>0.406296</td>\n",
       "      <td>0.000371</td>\n",
       "      <td>0.0</td>\n",
       "      <td>0.285055</td>\n",
       "    </tr>\n",
       "    <tr>\n",
       "      <th>707</th>\n",
       "      <td>0.0</td>\n",
       "      <td>1.0</td>\n",
       "      <td>0.0</td>\n",
       "      <td>0.0</td>\n",
       "      <td>0.0</td>\n",
       "      <td>1.0</td>\n",
       "      <td>0.018780</td>\n",
       "      <td>0.000117</td>\n",
       "      <td>1.0</td>\n",
       "      <td>0.282288</td>\n",
       "    </tr>\n",
       "    <tr>\n",
       "      <th>218</th>\n",
       "      <td>0.0</td>\n",
       "      <td>1.0</td>\n",
       "      <td>0.0</td>\n",
       "      <td>0.0</td>\n",
       "      <td>1.0</td>\n",
       "      <td>0.0</td>\n",
       "      <td>0.012415</td>\n",
       "      <td>0.000176</td>\n",
       "      <td>0.0</td>\n",
       "      <td>0.281365</td>\n",
       "    </tr>\n",
       "    <tr>\n",
       "      <th>425</th>\n",
       "      <td>0.0</td>\n",
       "      <td>1.0</td>\n",
       "      <td>0.0</td>\n",
       "      <td>0.0</td>\n",
       "      <td>0.0</td>\n",
       "      <td>1.0</td>\n",
       "      <td>0.135583</td>\n",
       "      <td>0.001055</td>\n",
       "      <td>1.0</td>\n",
       "      <td>0.344096</td>\n",
       "    </tr>\n",
       "    <tr>\n",
       "      <th>...</th>\n",
       "      <td>...</td>\n",
       "      <td>...</td>\n",
       "      <td>...</td>\n",
       "      <td>...</td>\n",
       "      <td>...</td>\n",
       "      <td>...</td>\n",
       "      <td>...</td>\n",
       "      <td>...</td>\n",
       "      <td>...</td>\n",
       "      <td>...</td>\n",
       "    </tr>\n",
       "    <tr>\n",
       "      <th>106</th>\n",
       "      <td>0.0</td>\n",
       "      <td>1.0</td>\n",
       "      <td>0.0</td>\n",
       "      <td>0.0</td>\n",
       "      <td>1.0</td>\n",
       "      <td>0.0</td>\n",
       "      <td>0.517689</td>\n",
       "      <td>0.000645</td>\n",
       "      <td>0.0</td>\n",
       "      <td>0.281365</td>\n",
       "    </tr>\n",
       "    <tr>\n",
       "      <th>270</th>\n",
       "      <td>0.0</td>\n",
       "      <td>1.0</td>\n",
       "      <td>0.0</td>\n",
       "      <td>0.0</td>\n",
       "      <td>1.0</td>\n",
       "      <td>0.0</td>\n",
       "      <td>0.241219</td>\n",
       "      <td>0.000293</td>\n",
       "      <td>0.0</td>\n",
       "      <td>0.367159</td>\n",
       "    </tr>\n",
       "    <tr>\n",
       "      <th>860</th>\n",
       "      <td>1.0</td>\n",
       "      <td>0.0</td>\n",
       "      <td>0.0</td>\n",
       "      <td>0.0</td>\n",
       "      <td>0.0</td>\n",
       "      <td>1.0</td>\n",
       "      <td>0.041645</td>\n",
       "      <td>0.000000</td>\n",
       "      <td>1.0</td>\n",
       "      <td>0.282288</td>\n",
       "    </tr>\n",
       "    <tr>\n",
       "      <th>435</th>\n",
       "      <td>1.0</td>\n",
       "      <td>0.0</td>\n",
       "      <td>0.0</td>\n",
       "      <td>0.0</td>\n",
       "      <td>0.0</td>\n",
       "      <td>1.0</td>\n",
       "      <td>0.027560</td>\n",
       "      <td>0.000313</td>\n",
       "      <td>1.0</td>\n",
       "      <td>0.388376</td>\n",
       "    </tr>\n",
       "    <tr>\n",
       "      <th>102</th>\n",
       "      <td>1.0</td>\n",
       "      <td>0.0</td>\n",
       "      <td>0.0</td>\n",
       "      <td>0.0</td>\n",
       "      <td>1.0</td>\n",
       "      <td>0.0</td>\n",
       "      <td>0.001106</td>\n",
       "      <td>0.000156</td>\n",
       "      <td>0.0</td>\n",
       "      <td>0.668819</td>\n",
       "    </tr>\n",
       "  </tbody>\n",
       "</table>\n",
       "<p>811 rows × 10 columns</p>\n",
       "</div>"
      ],
      "text/plain": [
       "       0    1    2    3    4    5         6         7    8         9\n",
       "847  0.0  1.0  0.0  0.0  0.0  1.0  0.042616  0.000547  1.0  0.281365\n",
       "332  1.0  0.0  0.0  0.0  1.0  0.0  0.406296  0.000371  0.0  0.285055\n",
       "707  0.0  1.0  0.0  0.0  0.0  1.0  0.018780  0.000117  1.0  0.282288\n",
       "218  0.0  1.0  0.0  0.0  1.0  0.0  0.012415  0.000176  0.0  0.281365\n",
       "425  0.0  1.0  0.0  0.0  0.0  1.0  0.135583  0.001055  1.0  0.344096\n",
       "..   ...  ...  ...  ...  ...  ...       ...       ...  ...       ...\n",
       "106  0.0  1.0  0.0  0.0  1.0  0.0  0.517689  0.000645  0.0  0.281365\n",
       "270  0.0  1.0  0.0  0.0  1.0  0.0  0.241219  0.000293  0.0  0.367159\n",
       "860  1.0  0.0  0.0  0.0  0.0  1.0  0.041645  0.000000  1.0  0.282288\n",
       "435  1.0  0.0  0.0  0.0  0.0  1.0  0.027560  0.000313  1.0  0.388376\n",
       "102  1.0  0.0  0.0  0.0  1.0  0.0  0.001106  0.000156  0.0  0.668819\n",
       "\n",
       "[811 rows x 10 columns]"
      ]
     },
     "execution_count": 560,
     "metadata": {},
     "output_type": "execute_result"
    }
   ],
   "source": [
    "X_train"
   ]
  },
  {
   "cell_type": "code",
   "execution_count": 562,
   "metadata": {},
   "outputs": [],
   "source": [
    "from sklearn.linear_model import LogisticRegression\n",
    "from sklearn import metrics\n",
    "from sklearn.ensemble import RandomForestClassifier\n",
    "from sklearn.tree import DecisionTreeClassifier\n",
    "from sklearn.ensemble import GradientBoostingClassifier\n",
    "from sklearn.neighbors import KNeighborsClassifier\n",
    "from sklearn.model_selection import cross_val_score\n"
   ]
  },
  {
   "cell_type": "code",
   "execution_count": 563,
   "metadata": {},
   "outputs": [],
   "source": [
    "model=[]\n",
    "model.append(('RandomForestClas', RandomForestClassifier()))\n",
    "model.append(('KNN', KNeighborsClassifier()))\n",
    "model.append(('Decision Tree Clas', DecisionTreeClassifier()))\n",
    "model.append(('GBC', GradientBoostingClassifier()))\n",
    "model.append(('Logistic', LogisticRegression()))"
   ]
  },
  {
   "cell_type": "code",
   "execution_count": 564,
   "metadata": {},
   "outputs": [
    {
     "name": "stdout",
     "output_type": "stream",
     "text": [
      " Mean of the RandomForestClas model scores: 0.8954640784275473\n",
      " Mean of the KNN model scores: 0.7838072477198459\n",
      " Mean of the Decision Tree Clas model scores: 0.825513339511291\n",
      " Mean of the GBC model scores: 0.889552748378286\n",
      " Mean of the Logistic model scores: 0.8747695459201094\n"
     ]
    }
   ],
   "source": [
    "model_names=[]\n",
    "scores=[]\n",
    "for name, model in model:\n",
    "    score = cross_val_score(model, X, y, cv=5, scoring='accuracy')\n",
    "    scores.append(score)\n",
    "    model_names.append(name)\n",
    "    print(f\" Mean of the {name} model scores: {score.mean()}\")"
   ]
  },
  {
   "cell_type": "code",
   "execution_count": 565,
   "metadata": {},
   "outputs": [],
   "source": [
    "log= KNeighborsClassifier()\n",
    "log.fit(X_train, y_train)\n",
    "log_y_pred= log.predict(X_test)\n",
    "log_y_pred_train= log.predict(X_train)"
   ]
  },
  {
   "cell_type": "code",
   "execution_count": 566,
   "metadata": {},
   "outputs": [
    {
     "data": {
      "text/plain": [
       "array([0, 0, 0, 0, 0, 0, 0, 1, 0, 0, 0, 0, 0, 0, 0, 1, 0, 0, 0, 0, 0, 0,\n",
       "       0, 0, 0, 0, 0, 0, 0, 0, 0, 0, 1, 0, 0, 0, 0, 0, 0, 0, 0, 0, 0, 0,\n",
       "       0, 0, 0, 0, 0, 0, 0, 0, 0, 0, 0, 0, 0, 0, 0, 0, 0, 0, 0, 0, 0, 0,\n",
       "       0, 0, 0, 0, 0, 0, 0, 0, 0, 0, 0, 0, 0, 0, 0, 0, 1, 1, 0, 0, 0, 0,\n",
       "       0, 0, 0, 0, 0, 0, 0, 0, 0, 0, 0, 0, 1, 0, 0, 0, 0, 0, 0, 0, 0, 0,\n",
       "       0, 0, 0, 1, 0, 0, 0, 0, 0, 0, 0, 0, 0, 0, 0, 0, 0, 1, 0, 0, 1, 0,\n",
       "       0, 0, 1, 0, 0, 0, 0, 0, 0, 0, 0, 0, 0, 0, 0, 0, 0, 0, 0, 0, 0, 0,\n",
       "       0, 0, 0, 0, 0, 0, 0, 0, 0, 0, 0, 0, 0, 0, 0, 0, 0, 0, 0, 0, 0, 0,\n",
       "       0, 0, 0, 0, 0, 1, 0, 0, 0, 0, 0, 0, 0, 0, 0, 0, 0, 0, 0, 0, 0, 0,\n",
       "       0, 1, 0, 0, 0], dtype=int64)"
      ]
     },
     "execution_count": 566,
     "metadata": {},
     "output_type": "execute_result"
    }
   ],
   "source": [
    "log_y_pred"
   ]
  },
  {
   "cell_type": "code",
   "execution_count": 567,
   "metadata": {},
   "outputs": [
    {
     "data": {
      "text/plain": [
       "array([0, 0, 0, 0, 0, 0, 0, 0, 0, 0, 0, 0, 0, 0, 0, 1, 0, 0, 0, 0, 0, 0,\n",
       "       1, 0, 0, 0, 0, 1, 0, 0, 0, 0, 1, 0, 1, 0, 0, 1, 0, 0, 0, 0, 0, 0,\n",
       "       0, 1, 0, 0, 0, 0, 0, 0, 0, 0, 0, 0, 0, 0, 0, 0, 0, 0, 0, 1, 0, 0,\n",
       "       1, 0, 0, 0, 0, 0, 0, 0, 0, 0, 0, 0, 0, 1, 0, 0, 1, 1, 0, 0, 1, 0,\n",
       "       0, 0, 0, 0, 0, 0, 0, 0, 0, 0, 0, 0, 0, 0, 0, 0, 1, 0, 0, 0, 0, 0,\n",
       "       0, 0, 0, 1, 0, 0, 0, 0, 0, 0, 0, 0, 0, 0, 0, 0, 0, 1, 0, 0, 0, 0,\n",
       "       0, 0, 1, 0, 0, 0, 0, 0, 0, 0, 0, 0, 0, 0, 0, 0, 0, 0, 0, 0, 0, 0,\n",
       "       0, 0, 0, 0, 0, 1, 0, 0, 0, 0, 0, 0, 0, 0, 1, 0, 0, 0, 0, 0, 0, 1,\n",
       "       0, 0, 0, 0, 0, 1, 0, 1, 1, 0, 0, 0, 0, 0, 0, 0, 0, 0, 0, 0, 0, 0,\n",
       "       0, 0, 0, 0, 0], dtype=int64)"
      ]
     },
     "execution_count": 567,
     "metadata": {},
     "output_type": "execute_result"
    }
   ],
   "source": [
    "y_test.to_numpy()"
   ]
  },
  {
   "cell_type": "code",
   "execution_count": 568,
   "metadata": {},
   "outputs": [
    {
     "name": "stdout",
     "output_type": "stream",
     "text": [
      "Accuracy score for test data : 0.9064039408866995\n",
      "Accuracy score for train data: 0.9334155363748459\n"
     ]
    }
   ],
   "source": [
    "log_test_as= metrics.accuracy_score(log_y_pred, y_test)\n",
    "log_train_as= metrics.accuracy_score(log_y_pred_train, y_train)\n",
    "print(f\"Accuracy score for test data : {log_test_as}\")\n",
    "print(f\"Accuracy score for train data: {log_train_as}\")"
   ]
  },
  {
   "cell_type": "code",
   "execution_count": 569,
   "metadata": {},
   "outputs": [
    {
     "data": {
      "text/plain": [
       "array([[176,  15],\n",
       "       [  4,   8]], dtype=int64)"
      ]
     },
     "execution_count": 569,
     "metadata": {},
     "output_type": "execute_result"
    }
   ],
   "source": [
    "metrics.confusion_matrix(log_y_pred ,y_test)"
   ]
  },
  {
   "cell_type": "code",
   "execution_count": null,
   "metadata": {},
   "outputs": [],
   "source": [
    "Giá trị dự đoán đúng 176 khách hàng không churn, dự đoán đúng 8 khách hàng churn, churn nhưng dự đoán không churn 15,không churn nhưng dự đoán churn 4"
   ]
  },
  {
   "cell_type": "code",
   "execution_count": 576,
   "metadata": {},
   "outputs": [],
   "source": [
    "log= RandomForestClassifier()\n",
    "log.fit(X_train, y_train)\n",
    "\n",
    "log_y_pred= log.predict(X_test)\n",
    "log_y_pred_train= log.predict(X_train)"
   ]
  },
  {
   "cell_type": "code",
   "execution_count": 577,
   "metadata": {},
   "outputs": [
    {
     "name": "stdout",
     "output_type": "stream",
     "text": [
      "Accuracy score for test data : 0.9113300492610837\n",
      "Accuracy score for train data: 1.0\n"
     ]
    }
   ],
   "source": [
    "log_test_as= metrics.accuracy_score(log_y_pred, y_test)\n",
    "log_train_as= metrics.accuracy_score(log_y_pred_train, y_train)\n",
    "print(f\"Accuracy score for test data : {log_test_as}\")\n",
    "print(f\"Accuracy score for train data: {log_train_as}\")"
   ]
  },
  {
   "cell_type": "code",
   "execution_count": 578,
   "metadata": {},
   "outputs": [
    {
     "data": {
      "text/plain": [
       "array([0, 0, 0, 0, 0, 0, 0, 1, 0, 0, 0, 0, 0, 0, 0, 1, 0, 0, 0, 0, 0, 0,\n",
       "       0, 0, 0, 0, 0, 0, 0, 0, 0, 0, 0, 0, 0, 0, 0, 0, 0, 0, 0, 0, 0, 0,\n",
       "       0, 1, 0, 0, 0, 0, 0, 0, 0, 0, 0, 0, 0, 0, 0, 0, 0, 0, 0, 0, 0, 0,\n",
       "       0, 0, 0, 0, 0, 0, 0, 0, 0, 0, 0, 0, 0, 0, 0, 0, 0, 0, 0, 0, 0, 0,\n",
       "       0, 0, 0, 0, 0, 0, 0, 0, 0, 0, 0, 0, 1, 0, 0, 0, 0, 0, 0, 0, 0, 0,\n",
       "       0, 0, 0, 1, 0, 0, 0, 0, 0, 0, 0, 0, 0, 0, 0, 0, 0, 1, 0, 0, 0, 0,\n",
       "       0, 0, 1, 0, 0, 0, 0, 0, 0, 0, 0, 0, 0, 0, 0, 0, 0, 0, 0, 0, 0, 0,\n",
       "       0, 0, 0, 0, 0, 0, 0, 0, 0, 0, 0, 0, 0, 0, 1, 0, 0, 0, 0, 0, 0, 0,\n",
       "       0, 0, 0, 0, 0, 1, 0, 0, 0, 0, 0, 0, 0, 0, 0, 0, 0, 0, 0, 0, 0, 0,\n",
       "       0, 0, 0, 0, 0], dtype=int64)"
      ]
     },
     "execution_count": 578,
     "metadata": {},
     "output_type": "execute_result"
    }
   ],
   "source": [
    "log_y_pred"
   ]
  },
  {
   "cell_type": "code",
   "execution_count": 579,
   "metadata": {},
   "outputs": [
    {
     "data": {
      "text/plain": [
       "array([0, 0, 0, 0, 0, 0, 0, 0, 0, 0, 0, 0, 0, 0, 0, 1, 0, 0, 0, 0, 0, 0,\n",
       "       1, 0, 0, 0, 0, 1, 0, 0, 0, 0, 1, 0, 1, 0, 0, 1, 0, 0, 0, 0, 0, 0,\n",
       "       0, 1, 0, 0, 0, 0, 0, 0, 0, 0, 0, 0, 0, 0, 0, 0, 0, 0, 0, 1, 0, 0,\n",
       "       1, 0, 0, 0, 0, 0, 0, 0, 0, 0, 0, 0, 0, 1, 0, 0, 1, 1, 0, 0, 1, 0,\n",
       "       0, 0, 0, 0, 0, 0, 0, 0, 0, 0, 0, 0, 0, 0, 0, 0, 1, 0, 0, 0, 0, 0,\n",
       "       0, 0, 0, 1, 0, 0, 0, 0, 0, 0, 0, 0, 0, 0, 0, 0, 0, 1, 0, 0, 0, 0,\n",
       "       0, 0, 1, 0, 0, 0, 0, 0, 0, 0, 0, 0, 0, 0, 0, 0, 0, 0, 0, 0, 0, 0,\n",
       "       0, 0, 0, 0, 0, 1, 0, 0, 0, 0, 0, 0, 0, 0, 1, 0, 0, 0, 0, 0, 0, 1,\n",
       "       0, 0, 0, 0, 0, 1, 0, 1, 1, 0, 0, 0, 0, 0, 0, 0, 0, 0, 0, 0, 0, 0,\n",
       "       0, 0, 0, 0, 0], dtype=int64)"
      ]
     },
     "execution_count": 579,
     "metadata": {},
     "output_type": "execute_result"
    }
   ],
   "source": [
    "y_test.to_numpy()"
   ]
  },
  {
   "cell_type": "code",
   "execution_count": 580,
   "metadata": {},
   "outputs": [
    {
     "data": {
      "text/plain": [
       "array([[178,  16],\n",
       "       [  2,   7]], dtype=int64)"
      ]
     },
     "execution_count": 580,
     "metadata": {},
     "output_type": "execute_result"
    }
   ],
   "source": [
    "metrics.confusion_matrix(log_y_pred ,y_test)"
   ]
  },
  {
   "cell_type": "code",
   "execution_count": null,
   "metadata": {},
   "outputs": [],
   "source": [
    "Mô hình RandomForestClassifier có độ chính xác hơn KNN."
   ]
  },
  {
   "cell_type": "code",
   "execution_count": null,
   "metadata": {},
   "outputs": [],
   "source": []
  }
 ],
 "metadata": {
  "interpreter": {
   "hash": "67928e357576a6107ebd5c6439f134e883ec1d6d5611f5608004b97b9d38745a"
  },
  "kernelspec": {
   "display_name": "Python 3",
   "language": "python",
   "name": "python3"
  },
  "language_info": {
   "codemirror_mode": {
    "name": "ipython",
    "version": 3
   },
   "file_extension": ".py",
   "mimetype": "text/x-python",
   "name": "python",
   "nbconvert_exporter": "python",
   "pygments_lexer": "ipython3",
   "version": "3.8.3"
  }
 },
 "nbformat": 4,
 "nbformat_minor": 4
}
